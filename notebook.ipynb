{
 "cells": [
  {
   "attachments": {},
   "cell_type": "markdown",
   "metadata": {},
   "source": [
    "# Duplicate Real Estate Listings "
   ]
  },
  {
   "cell_type": "code",
   "execution_count": 54,
   "metadata": {},
   "outputs": [],
   "source": [
    "import pandas as pd\n",
    "import numpy as np\n",
    "import seaborn as sns\n",
    "import json\n",
    "from tqdm import tqdm\n",
    "import os\n",
    "import uuid\n",
    "import matplotlib.pyplot as plt\n",
    "import hashlib\n",
    "from PIL import Image\n",
    "import requests\n",
    "from io import BytesIO\n",
    "import glob\n",
    "from rich.console import Console\n",
    "from rich.theme import Theme\n",
    "\n",
    "custom_theme = Theme({\n",
    "    \"valid\": \"bold green encircle\",\n",
    "    \"info\": \"dim cyan\",\n",
    "    \"warning\": \"magenta\",\n",
    "    \"danger\": \"bold red\"\n",
    "})\n",
    "test_theme={\n",
    "    True:\"valid\",\n",
    "    False:\"danger\",\n",
    "}\n",
    "console = Console(theme=custom_theme)\n",
    "\n",
    "\n",
    "pd.options.display.max_rows=50\n",
    "pd.options.display.max_columns=90\n",
    "df = pd.read_csv(\"data/Dataset - Ads _ Levallois-Perret - 2019-08 - export-ads-levallois-perret-2019-08-27.csv\")"
   ]
  },
  {
   "attachments": {},
   "cell_type": "markdown",
   "metadata": {},
   "source": [
    "## EDA : Explaratory Data Analysis\n",
    "\n",
    "### i. Data exploration"
   ]
  },
  {
   "cell_type": "code",
   "execution_count": 55,
   "metadata": {},
   "outputs": [
    {
     "data": {
      "text/html": [
       "<pre style=\"white-space:pre;overflow-x:auto;line-height:normal;font-family:Menlo,'DejaVu Sans Mono',consolas,'Courier New',monospace\">\n",
       "<span style=\"font-weight: bold\">Data type</span> : object \n",
       "<span style=\"font-weight: bold\">Columns</span> : <span style=\"font-weight: bold\">[</span><span style=\"color: #008000; text-decoration-color: #008000\">'ID'</span>, <span style=\"color: #008000; text-decoration-color: #008000\">'URL'</span>, <span style=\"color: #008000; text-decoration-color: #008000\">'CRAWL_SOURCE'</span>, <span style=\"color: #008000; text-decoration-color: #008000\">'PROPERTY_TYPE'</span>, <span style=\"color: #008000; text-decoration-color: #008000\">'NEW_BUILD'</span>, <span style=\"color: #008000; text-decoration-color: #008000\">'DESCRIPTION'</span>, <span style=\"color: #008000; text-decoration-color: #008000\">'IMAGES'</span>, <span style=\"color: #008000; text-decoration-color: #008000\">'FURNISHED'</span>, \n",
       "<span style=\"color: #008000; text-decoration-color: #008000\">'HEATING_TYPES'</span>, <span style=\"color: #008000; text-decoration-color: #008000\">'HEATING_MODE'</span>, <span style=\"color: #008000; text-decoration-color: #008000\">'ELEVATOR'</span>, <span style=\"color: #008000; text-decoration-color: #008000\">'CARETAKER'</span>, <span style=\"color: #008000; text-decoration-color: #008000\">'MARKETING_TYPE'</span>, <span style=\"color: #008000; text-decoration-color: #008000\">'PRICE_EVENTS'</span>, \n",
       "<span style=\"color: #008000; text-decoration-color: #008000\">'RENTAL_EXPENSES_INCLUDED'</span>, <span style=\"color: #008000; text-decoration-color: #008000\">'FEES_INCLUDED'</span>, <span style=\"color: #008000; text-decoration-color: #008000\">'AGENCIES_UNWANTED'</span>, <span style=\"color: #008000; text-decoration-color: #008000\">'OCCUPIED'</span>, <span style=\"color: #008000; text-decoration-color: #008000\">'DEALER_NAME'</span>, <span style=\"color: #008000; text-decoration-color: #008000\">'DEALER_TYPE'</span>, <span style=\"color: #008000; text-decoration-color: #008000\">'CITY'</span>,\n",
       "<span style=\"color: #008000; text-decoration-color: #008000\">'PUBLICATION_START_DATE'</span>, <span style=\"color: #008000; text-decoration-color: #008000\">'LAST_CRAWL_DATE'</span>, <span style=\"color: #008000; text-decoration-color: #008000\">'LAST_PRICE_DECREASE_DATE'</span><span style=\"font-weight: bold\">]</span> \n",
       "\n",
       "</pre>\n"
      ],
      "text/plain": [
       "\n",
       "\u001b[1mData type\u001b[0m : object \n",
       "\u001b[1mColumns\u001b[0m : \u001b[1m[\u001b[0m\u001b[32m'ID'\u001b[0m, \u001b[32m'URL'\u001b[0m, \u001b[32m'CRAWL_SOURCE'\u001b[0m, \u001b[32m'PROPERTY_TYPE'\u001b[0m, \u001b[32m'NEW_BUILD'\u001b[0m, \u001b[32m'DESCRIPTION'\u001b[0m, \u001b[32m'IMAGES'\u001b[0m, \u001b[32m'FURNISHED'\u001b[0m, \n",
       "\u001b[32m'HEATING_TYPES'\u001b[0m, \u001b[32m'HEATING_MODE'\u001b[0m, \u001b[32m'ELEVATOR'\u001b[0m, \u001b[32m'CARETAKER'\u001b[0m, \u001b[32m'MARKETING_TYPE'\u001b[0m, \u001b[32m'PRICE_EVENTS'\u001b[0m, \n",
       "\u001b[32m'RENTAL_EXPENSES_INCLUDED'\u001b[0m, \u001b[32m'FEES_INCLUDED'\u001b[0m, \u001b[32m'AGENCIES_UNWANTED'\u001b[0m, \u001b[32m'OCCUPIED'\u001b[0m, \u001b[32m'DEALER_NAME'\u001b[0m, \u001b[32m'DEALER_TYPE'\u001b[0m, \u001b[32m'CITY'\u001b[0m,\n",
       "\u001b[32m'PUBLICATION_START_DATE'\u001b[0m, \u001b[32m'LAST_CRAWL_DATE'\u001b[0m, \u001b[32m'LAST_PRICE_DECREASE_DATE'\u001b[0m\u001b[1m]\u001b[0m \n",
       "\n"
      ]
     },
     "metadata": {},
     "output_type": "display_data"
    },
    {
     "data": {
      "text/html": [
       "<pre style=\"white-space:pre;overflow-x:auto;line-height:normal;font-family:Menlo,'DejaVu Sans Mono',consolas,'Courier New',monospace\">\n",
       "<span style=\"font-weight: bold\">Data type</span> : float64 \n",
       "<span style=\"font-weight: bold\">Columns</span> : <span style=\"font-weight: bold\">[</span><span style=\"color: #008000; text-decoration-color: #008000\">'SURFACE'</span>, <span style=\"color: #008000; text-decoration-color: #008000\">'LAND_SURFACE'</span>, <span style=\"color: #008000; text-decoration-color: #008000\">'BALCONY_SURFACE'</span>, <span style=\"color: #008000; text-decoration-color: #008000\">'TERRACE_SURFACE'</span>, <span style=\"color: #008000; text-decoration-color: #008000\">'ROOM_COUNT'</span>, <span style=\"color: #008000; text-decoration-color: #008000\">'BEDROOM_COUNT'</span>, \n",
       "<span style=\"color: #008000; text-decoration-color: #008000\">'BATHROOM_COUNT'</span>, <span style=\"color: #008000; text-decoration-color: #008000\">'LUNCHROOM_COUNT'</span>, <span style=\"color: #008000; text-decoration-color: #008000\">'TOILET_COUNT'</span>, <span style=\"color: #008000; text-decoration-color: #008000\">'FIREPLACE'</span>, <span style=\"color: #008000; text-decoration-color: #008000\">'AIR_CONDITIONING'</span>, <span style=\"color: #008000; text-decoration-color: #008000\">'GARDEN'</span>, <span style=\"color: #008000; text-decoration-color: #008000\">'SWIMMING_POOL'</span>, \n",
       "<span style=\"color: #008000; text-decoration-color: #008000\">'BALCONY'</span>, <span style=\"color: #008000; text-decoration-color: #008000\">'TERRACE'</span>, <span style=\"color: #008000; text-decoration-color: #008000\">'CELLAR'</span>, <span style=\"color: #008000; text-decoration-color: #008000\">'PARKING_COUNT'</span>, <span style=\"color: #008000; text-decoration-color: #008000\">'FLOOR'</span>, <span style=\"color: #008000; text-decoration-color: #008000\">'FLOOR_COUNT'</span>, <span style=\"color: #008000; text-decoration-color: #008000\">'CONSTRUCTION_YEAR'</span>, <span style=\"color: #008000; text-decoration-color: #008000\">'ENERGY_CONSUMPTION'</span>,\n",
       "<span style=\"color: #008000; text-decoration-color: #008000\">'GREENHOUSE_GAS_CONSUMPTION'</span>, <span style=\"color: #008000; text-decoration-color: #008000\">'PRICE'</span>, <span style=\"color: #008000; text-decoration-color: #008000\">'PRICE_M2'</span>, <span style=\"color: #008000; text-decoration-color: #008000\">'RENTAL_EXPENSES'</span>, <span style=\"color: #008000; text-decoration-color: #008000\">'DEPOSIT'</span>, <span style=\"color: #008000; text-decoration-color: #008000\">'FEES'</span>, <span style=\"color: #008000; text-decoration-color: #008000\">'ZIP_CODE'</span>, \n",
       "<span style=\"color: #008000; text-decoration-color: #008000\">'PUBLICATION_END_DATE'</span><span style=\"font-weight: bold\">]</span> \n",
       "\n",
       "</pre>\n"
      ],
      "text/plain": [
       "\n",
       "\u001b[1mData type\u001b[0m : float64 \n",
       "\u001b[1mColumns\u001b[0m : \u001b[1m[\u001b[0m\u001b[32m'SURFACE'\u001b[0m, \u001b[32m'LAND_SURFACE'\u001b[0m, \u001b[32m'BALCONY_SURFACE'\u001b[0m, \u001b[32m'TERRACE_SURFACE'\u001b[0m, \u001b[32m'ROOM_COUNT'\u001b[0m, \u001b[32m'BEDROOM_COUNT'\u001b[0m, \n",
       "\u001b[32m'BATHROOM_COUNT'\u001b[0m, \u001b[32m'LUNCHROOM_COUNT'\u001b[0m, \u001b[32m'TOILET_COUNT'\u001b[0m, \u001b[32m'FIREPLACE'\u001b[0m, \u001b[32m'AIR_CONDITIONING'\u001b[0m, \u001b[32m'GARDEN'\u001b[0m, \u001b[32m'SWIMMING_POOL'\u001b[0m, \n",
       "\u001b[32m'BALCONY'\u001b[0m, \u001b[32m'TERRACE'\u001b[0m, \u001b[32m'CELLAR'\u001b[0m, \u001b[32m'PARKING_COUNT'\u001b[0m, \u001b[32m'FLOOR'\u001b[0m, \u001b[32m'FLOOR_COUNT'\u001b[0m, \u001b[32m'CONSTRUCTION_YEAR'\u001b[0m, \u001b[32m'ENERGY_CONSUMPTION'\u001b[0m,\n",
       "\u001b[32m'GREENHOUSE_GAS_CONSUMPTION'\u001b[0m, \u001b[32m'PRICE'\u001b[0m, \u001b[32m'PRICE_M2'\u001b[0m, \u001b[32m'RENTAL_EXPENSES'\u001b[0m, \u001b[32m'DEPOSIT'\u001b[0m, \u001b[32m'FEES'\u001b[0m, \u001b[32m'ZIP_CODE'\u001b[0m, \n",
       "\u001b[32m'PUBLICATION_END_DATE'\u001b[0m\u001b[1m]\u001b[0m \n",
       "\n"
      ]
     },
     "metadata": {},
     "output_type": "display_data"
    },
    {
     "data": {
      "text/html": [
       "<pre style=\"white-space:pre;overflow-x:auto;line-height:normal;font-family:Menlo,'DejaVu Sans Mono',consolas,'Courier New',monospace\">\n",
       "<span style=\"font-weight: bold\">Data type</span> : bool \n",
       "<span style=\"font-weight: bold\">Columns</span> : <span style=\"font-weight: bold\">[</span><span style=\"color: #008000; text-decoration-color: #008000\">'PARKING'</span>, <span style=\"color: #008000; text-decoration-color: #008000\">'EXCLUSIVE_MANDATE'</span><span style=\"font-weight: bold\">]</span> \n",
       "\n",
       "</pre>\n"
      ],
      "text/plain": [
       "\n",
       "\u001b[1mData type\u001b[0m : bool \n",
       "\u001b[1mColumns\u001b[0m : \u001b[1m[\u001b[0m\u001b[32m'PARKING'\u001b[0m, \u001b[32m'EXCLUSIVE_MANDATE'\u001b[0m\u001b[1m]\u001b[0m \n",
       "\n"
      ]
     },
     "metadata": {},
     "output_type": "display_data"
    },
    {
     "data": {
      "text/html": [
       "<pre style=\"white-space:pre;overflow-x:auto;line-height:normal;font-family:Menlo,'DejaVu Sans Mono',consolas,'Courier New',monospace\">\n",
       "<span style=\"font-weight: bold\">Data type</span> : int64 \n",
       "<span style=\"font-weight: bold\">Columns</span> : <span style=\"font-weight: bold\">[</span><span style=\"color: #008000; text-decoration-color: #008000\">'CITY_ID'</span>, <span style=\"color: #008000; text-decoration-color: #008000\">'DEPT_CODE'</span><span style=\"font-weight: bold\">]</span> \n",
       "\n",
       "</pre>\n"
      ],
      "text/plain": [
       "\n",
       "\u001b[1mData type\u001b[0m : int64 \n",
       "\u001b[1mColumns\u001b[0m : \u001b[1m[\u001b[0m\u001b[32m'CITY_ID'\u001b[0m, \u001b[32m'DEPT_CODE'\u001b[0m\u001b[1m]\u001b[0m \n",
       "\n"
      ]
     },
     "metadata": {},
     "output_type": "display_data"
    }
   ],
   "source": [
    "for type in df.dtypes.unique():\n",
    "    same_dtype_columns = df.select_dtypes(include=type).columns\n",
    "    console.print(f\"\\n[bold]Data type[/bold] : {type} \\n[bold]Columns[/bold] : {list(same_dtype_columns)} \\n\")"
   ]
  },
  {
   "cell_type": "code",
   "execution_count": 56,
   "metadata": {},
   "outputs": [
    {
     "data": {
      "text/html": [
       "<style type=\"text/css\">\n",
       "#T_e8698_row0_col0, #T_e8698_row1_col0, #T_e8698_row2_col0, #T_e8698_row3_col0, #T_e8698_row4_col0, #T_e8698_row5_col0, #T_e8698_row6_col0, #T_e8698_row7_col0, #T_e8698_row8_col0, #T_e8698_row9_col0, #T_e8698_row10_col0 {\n",
       "  background-color: #ff0000;\n",
       "  color: #f1f1f1;\n",
       "  color: black;\n",
       "}\n",
       "#T_e8698_row11_col0, #T_e8698_row12_col0 {\n",
       "  background-color: #ff0000;\n",
       "  color: #f1f1f1;\n",
       "}\n",
       "#T_e8698_row13_col0 {\n",
       "  background-color: #ff0101;\n",
       "  color: #f1f1f1;\n",
       "}\n",
       "#T_e8698_row14_col0 {\n",
       "  background-color: #ff0202;\n",
       "  color: #f1f1f1;\n",
       "}\n",
       "#T_e8698_row15_col0 {\n",
       "  background-color: #ff0606;\n",
       "  color: #f1f1f1;\n",
       "}\n",
       "#T_e8698_row16_col0 {\n",
       "  background-color: #ff0909;\n",
       "  color: #f1f1f1;\n",
       "}\n",
       "#T_e8698_row17_col0 {\n",
       "  background-color: #fe0a0a;\n",
       "  color: #f1f1f1;\n",
       "}\n",
       "#T_e8698_row18_col0 {\n",
       "  background-color: #fe1111;\n",
       "  color: #f1f1f1;\n",
       "}\n",
       "#T_e8698_row19_col0 {\n",
       "  background-color: #fe1616;\n",
       "  color: #f1f1f1;\n",
       "}\n",
       "#T_e8698_row20_col0 {\n",
       "  background-color: #fe1b1b;\n",
       "  color: #f1f1f1;\n",
       "}\n",
       "#T_e8698_row21_col0 {\n",
       "  background-color: #fd2626;\n",
       "  color: #f1f1f1;\n",
       "}\n",
       "#T_e8698_row22_col0 {\n",
       "  background-color: #fd3131;\n",
       "  color: #f1f1f1;\n",
       "}\n",
       "#T_e8698_row23_col0, #T_e8698_row24_col0 {\n",
       "  background-color: #fc3434;\n",
       "  color: #f1f1f1;\n",
       "}\n",
       "#T_e8698_row25_col0, #T_e8698_row26_col0 {\n",
       "  background-color: #fc3838;\n",
       "  color: #f1f1f1;\n",
       "}\n",
       "#T_e8698_row27_col0 {\n",
       "  background-color: #fc3d3d;\n",
       "  color: #f1f1f1;\n",
       "}\n",
       "#T_e8698_row28_col0 {\n",
       "  background-color: #fc4343;\n",
       "  color: #f1f1f1;\n",
       "}\n",
       "#T_e8698_row29_col0 {\n",
       "  background-color: #fb4848;\n",
       "  color: #f1f1f1;\n",
       "}\n",
       "#T_e8698_row30_col0 {\n",
       "  background-color: #fb4949;\n",
       "  color: #f1f1f1;\n",
       "}\n",
       "#T_e8698_row31_col0 {\n",
       "  background-color: #fb4d4d;\n",
       "  color: #f1f1f1;\n",
       "}\n",
       "#T_e8698_row32_col0 {\n",
       "  background-color: #f88787;\n",
       "  color: #f1f1f1;\n",
       "}\n",
       "#T_e8698_row33_col0 {\n",
       "  background-color: #f5cccc;\n",
       "  color: #000000;\n",
       "}\n",
       "#T_e8698_row34_col0 {\n",
       "  background-color: #f4dbdb;\n",
       "  color: #000000;\n",
       "}\n",
       "#T_e8698_row35_col0 {\n",
       "  background-color: #f4dddd;\n",
       "  color: #000000;\n",
       "}\n",
       "#T_e8698_row36_col0 {\n",
       "  background-color: #f3e4e4;\n",
       "  color: #000000;\n",
       "}\n",
       "#T_e8698_row37_col0 {\n",
       "  background-color: #f3e7e7;\n",
       "  color: #000000;\n",
       "}\n",
       "#T_e8698_row38_col0 {\n",
       "  background-color: #f3eaea;\n",
       "  color: #000000;\n",
       "}\n",
       "#T_e8698_row39_col0, #T_e8698_row40_col0 {\n",
       "  background-color: #f3f0f0;\n",
       "  color: #000000;\n",
       "}\n",
       "</style>\n",
       "<table id=\"T_e8698\">\n",
       "  <caption>Pourcentage of missing values for each Feauture in the dataset</caption>\n",
       "  <thead>\n",
       "    <tr>\n",
       "      <th class=\"blank level0\" >&nbsp;</th>\n",
       "      <th id=\"T_e8698_level0_col0\" class=\"col_heading level0 col0\" >Missing_Values</th>\n",
       "    </tr>\n",
       "    <tr>\n",
       "      <th class=\"index_name level0\" >Feature</th>\n",
       "      <th class=\"blank col0\" >&nbsp;</th>\n",
       "    </tr>\n",
       "  </thead>\n",
       "  <tbody>\n",
       "    <tr>\n",
       "      <th id=\"T_e8698_level0_row0\" class=\"row_heading level0 row0\" >TOILET_COUNT</th>\n",
       "      <td id=\"T_e8698_row0_col0\" class=\"data row0 col0\" >100.000000</td>\n",
       "    </tr>\n",
       "    <tr>\n",
       "      <th id=\"T_e8698_level0_row1\" class=\"row_heading level0 row1\" >GREENHOUSE_GAS_CONSUMPTION</th>\n",
       "      <td id=\"T_e8698_row1_col0\" class=\"data row1 col0\" >100.000000</td>\n",
       "    </tr>\n",
       "    <tr>\n",
       "      <th id=\"T_e8698_level0_row2\" class=\"row_heading level0 row2\" >PUBLICATION_END_DATE</th>\n",
       "      <td id=\"T_e8698_row2_col0\" class=\"data row2 col0\" >100.000000</td>\n",
       "    </tr>\n",
       "    <tr>\n",
       "      <th id=\"T_e8698_level0_row3\" class=\"row_heading level0 row3\" >AIR_CONDITIONING</th>\n",
       "      <td id=\"T_e8698_row3_col0\" class=\"data row3 col0\" >100.000000</td>\n",
       "    </tr>\n",
       "    <tr>\n",
       "      <th id=\"T_e8698_level0_row4\" class=\"row_heading level0 row4\" >FIREPLACE</th>\n",
       "      <td id=\"T_e8698_row4_col0\" class=\"data row4 col0\" >100.000000</td>\n",
       "    </tr>\n",
       "    <tr>\n",
       "      <th id=\"T_e8698_level0_row5\" class=\"row_heading level0 row5\" >CELLAR</th>\n",
       "      <td id=\"T_e8698_row5_col0\" class=\"data row5 col0\" >100.000000</td>\n",
       "    </tr>\n",
       "    <tr>\n",
       "      <th id=\"T_e8698_level0_row6\" class=\"row_heading level0 row6\" >LUNCHROOM_COUNT</th>\n",
       "      <td id=\"T_e8698_row6_col0\" class=\"data row6 col0\" >100.000000</td>\n",
       "    </tr>\n",
       "    <tr>\n",
       "      <th id=\"T_e8698_level0_row7\" class=\"row_heading level0 row7\" >BATHROOM_COUNT</th>\n",
       "      <td id=\"T_e8698_row7_col0\" class=\"data row7 col0\" >100.000000</td>\n",
       "    </tr>\n",
       "    <tr>\n",
       "      <th id=\"T_e8698_level0_row8\" class=\"row_heading level0 row8\" >BALCONY_SURFACE</th>\n",
       "      <td id=\"T_e8698_row8_col0\" class=\"data row8 col0\" >100.000000</td>\n",
       "    </tr>\n",
       "    <tr>\n",
       "      <th id=\"T_e8698_level0_row9\" class=\"row_heading level0 row9\" >BALCONY</th>\n",
       "      <td id=\"T_e8698_row9_col0\" class=\"data row9 col0\" >100.000000</td>\n",
       "    </tr>\n",
       "    <tr>\n",
       "      <th id=\"T_e8698_level0_row10\" class=\"row_heading level0 row10\" >ENERGY_CONSUMPTION</th>\n",
       "      <td id=\"T_e8698_row10_col0\" class=\"data row10 col0\" >100.000000</td>\n",
       "    </tr>\n",
       "    <tr>\n",
       "      <th id=\"T_e8698_level0_row11\" class=\"row_heading level0 row11\" >LAND_SURFACE</th>\n",
       "      <td id=\"T_e8698_row11_col0\" class=\"data row11 col0\" >99.860000</td>\n",
       "    </tr>\n",
       "    <tr>\n",
       "      <th id=\"T_e8698_level0_row12\" class=\"row_heading level0 row12\" >SWIMMING_POOL</th>\n",
       "      <td id=\"T_e8698_row12_col0\" class=\"data row12 col0\" >99.720000</td>\n",
       "    </tr>\n",
       "    <tr>\n",
       "      <th id=\"T_e8698_level0_row13\" class=\"row_heading level0 row13\" >GARDEN</th>\n",
       "      <td id=\"T_e8698_row13_col0\" class=\"data row13 col0\" >99.350000</td>\n",
       "    </tr>\n",
       "    <tr>\n",
       "      <th id=\"T_e8698_level0_row14\" class=\"row_heading level0 row14\" >TERRACE_SURFACE</th>\n",
       "      <td id=\"T_e8698_row14_col0\" class=\"data row14 col0\" >98.840000</td>\n",
       "    </tr>\n",
       "    <tr>\n",
       "      <th id=\"T_e8698_level0_row15\" class=\"row_heading level0 row15\" >DEPOSIT</th>\n",
       "      <td id=\"T_e8698_row15_col0\" class=\"data row15 col0\" >97.460000</td>\n",
       "    </tr>\n",
       "    <tr>\n",
       "      <th id=\"T_e8698_level0_row16\" class=\"row_heading level0 row16\" >TERRACE</th>\n",
       "      <td id=\"T_e8698_row16_col0\" class=\"data row16 col0\" >96.030000</td>\n",
       "    </tr>\n",
       "    <tr>\n",
       "      <th id=\"T_e8698_level0_row17\" class=\"row_heading level0 row17\" >FEES</th>\n",
       "      <td id=\"T_e8698_row17_col0\" class=\"data row17 col0\" >95.660000</td>\n",
       "    </tr>\n",
       "    <tr>\n",
       "      <th id=\"T_e8698_level0_row18\" class=\"row_heading level0 row18\" >PARKING_COUNT</th>\n",
       "      <td id=\"T_e8698_row18_col0\" class=\"data row18 col0\" >92.740000</td>\n",
       "    </tr>\n",
       "    <tr>\n",
       "      <th id=\"T_e8698_level0_row19\" class=\"row_heading level0 row19\" >AGENCIES_UNWANTED</th>\n",
       "      <td id=\"T_e8698_row19_col0\" class=\"data row19 col0\" >90.710000</td>\n",
       "    </tr>\n",
       "    <tr>\n",
       "      <th id=\"T_e8698_level0_row20\" class=\"row_heading level0 row20\" >CARETAKER</th>\n",
       "      <td id=\"T_e8698_row20_col0\" class=\"data row20 col0\" >88.590000</td>\n",
       "    </tr>\n",
       "    <tr>\n",
       "      <th id=\"T_e8698_level0_row21\" class=\"row_heading level0 row21\" >LAST_PRICE_DECREASE_DATE</th>\n",
       "      <td id=\"T_e8698_row21_col0\" class=\"data row21 col0\" >84.290000</td>\n",
       "    </tr>\n",
       "    <tr>\n",
       "      <th id=\"T_e8698_level0_row22\" class=\"row_heading level0 row22\" >RENTAL_EXPENSES</th>\n",
       "      <td id=\"T_e8698_row22_col0\" class=\"data row22 col0\" >79.620000</td>\n",
       "    </tr>\n",
       "    <tr>\n",
       "      <th id=\"T_e8698_level0_row23\" class=\"row_heading level0 row23\" >FLOOR_COUNT</th>\n",
       "      <td id=\"T_e8698_row23_col0\" class=\"data row23 col0\" >78.510000</td>\n",
       "    </tr>\n",
       "    <tr>\n",
       "      <th id=\"T_e8698_level0_row24\" class=\"row_heading level0 row24\" >FURNISHED</th>\n",
       "      <td id=\"T_e8698_row24_col0\" class=\"data row24 col0\" >78.420000</td>\n",
       "    </tr>\n",
       "    <tr>\n",
       "      <th id=\"T_e8698_level0_row25\" class=\"row_heading level0 row25\" >CONSTRUCTION_YEAR</th>\n",
       "      <td id=\"T_e8698_row25_col0\" class=\"data row25 col0\" >76.760000</td>\n",
       "    </tr>\n",
       "    <tr>\n",
       "      <th id=\"T_e8698_level0_row26\" class=\"row_heading level0 row26\" >FEES_INCLUDED</th>\n",
       "      <td id=\"T_e8698_row26_col0\" class=\"data row26 col0\" >76.390000</td>\n",
       "    </tr>\n",
       "    <tr>\n",
       "      <th id=\"T_e8698_level0_row27\" class=\"row_heading level0 row27\" >ELEVATOR</th>\n",
       "      <td id=\"T_e8698_row27_col0\" class=\"data row27 col0\" >74.490000</td>\n",
       "    </tr>\n",
       "    <tr>\n",
       "      <th id=\"T_e8698_level0_row28\" class=\"row_heading level0 row28\" >RENTAL_EXPENSES_INCLUDED</th>\n",
       "      <td id=\"T_e8698_row28_col0\" class=\"data row28 col0\" >72.270000</td>\n",
       "    </tr>\n",
       "    <tr>\n",
       "      <th id=\"T_e8698_level0_row29\" class=\"row_heading level0 row29\" >HEATING_MODE</th>\n",
       "      <td id=\"T_e8698_row29_col0\" class=\"data row29 col0\" >69.820000</td>\n",
       "    </tr>\n",
       "    <tr>\n",
       "      <th id=\"T_e8698_level0_row30\" class=\"row_heading level0 row30\" >FLOOR</th>\n",
       "      <td id=\"T_e8698_row30_col0\" class=\"data row30 col0\" >69.500000</td>\n",
       "    </tr>\n",
       "    <tr>\n",
       "      <th id=\"T_e8698_level0_row31\" class=\"row_heading level0 row31\" >BEDROOM_COUNT</th>\n",
       "      <td id=\"T_e8698_row31_col0\" class=\"data row31 col0\" >67.840000</td>\n",
       "    </tr>\n",
       "    <tr>\n",
       "      <th id=\"T_e8698_level0_row32\" class=\"row_heading level0 row32\" >OCCUPIED</th>\n",
       "      <td id=\"T_e8698_row32_col0\" class=\"data row32 col0\" >44.130000</td>\n",
       "    </tr>\n",
       "    <tr>\n",
       "      <th id=\"T_e8698_level0_row33\" class=\"row_heading level0 row33\" >ROOM_COUNT</th>\n",
       "      <td id=\"T_e8698_row33_col0\" class=\"data row33 col0\" >15.200000</td>\n",
       "    </tr>\n",
       "    <tr>\n",
       "      <th id=\"T_e8698_level0_row34\" class=\"row_heading level0 row34\" >NEW_BUILD</th>\n",
       "      <td id=\"T_e8698_row34_col0\" class=\"data row34 col0\" >8.830000</td>\n",
       "    </tr>\n",
       "    <tr>\n",
       "      <th id=\"T_e8698_level0_row35\" class=\"row_heading level0 row35\" >PRICE_M2</th>\n",
       "      <td id=\"T_e8698_row35_col0\" class=\"data row35 col0\" >7.990000</td>\n",
       "    </tr>\n",
       "    <tr>\n",
       "      <th id=\"T_e8698_level0_row36\" class=\"row_heading level0 row36\" >SURFACE</th>\n",
       "      <td id=\"T_e8698_row36_col0\" class=\"data row36 col0\" >5.270000</td>\n",
       "    </tr>\n",
       "    <tr>\n",
       "      <th id=\"T_e8698_level0_row37\" class=\"row_heading level0 row37\" >DEALER_NAME</th>\n",
       "      <td id=\"T_e8698_row37_col0\" class=\"data row37 col0\" >4.020000</td>\n",
       "    </tr>\n",
       "    <tr>\n",
       "      <th id=\"T_e8698_level0_row38\" class=\"row_heading level0 row38\" >PRICE</th>\n",
       "      <td id=\"T_e8698_row38_col0\" class=\"data row38 col0\" >2.770000</td>\n",
       "    </tr>\n",
       "    <tr>\n",
       "      <th id=\"T_e8698_level0_row39\" class=\"row_heading level0 row39\" >DESCRIPTION</th>\n",
       "      <td id=\"T_e8698_row39_col0\" class=\"data row39 col0\" >0.180000</td>\n",
       "    </tr>\n",
       "    <tr>\n",
       "      <th id=\"T_e8698_level0_row40\" class=\"row_heading level0 row40\" >ZIP_CODE</th>\n",
       "      <td id=\"T_e8698_row40_col0\" class=\"data row40 col0\" >0.050000</td>\n",
       "    </tr>\n",
       "  </tbody>\n",
       "</table>\n"
      ],
      "text/plain": [
       "<pandas.io.formats.style.Styler at 0x7f4753844850>"
      ]
     },
     "execution_count": 56,
     "metadata": {},
     "output_type": "execute_result"
    }
   ],
   "source": [
    "def style_max(v, props=''):\n",
    "    return props if v==100 else None\n",
    "\n",
    "def show_na(df):\n",
    "    na_cols = (pd.Series(df.isna().sum()/len(df.index)*100).reset_index().\n",
    "        rename(columns={'index':'Feature',0:'Missing_Values'}).\n",
    "        sort_values(by=['Missing_Values'], ascending=[False]))\n",
    "    na_cols[\"Missing_Values\"] = na_cols.apply(lambda row: round(row[\"Missing_Values\"],2), axis=1)\n",
    "    na_cols=na_cols[na_cols[\"Missing_Values\"]>0]\n",
    "    na_cols = na_cols.set_index('Feature')\n",
    "\n",
    "    return na_cols\n",
    "\n",
    "cm = sns.light_palette(\"red\", as_cmap=True)\n",
    "\n",
    "nas_stat = show_na(df)\n",
    "nas_stat.style.set_caption(\"Pourcentage of missing values for each Feauture in the dataset\")\\\n",
    "              .background_gradient(cmap=cm).applymap(style_max, props='color:black;')\n"
   ]
  },
  {
   "cell_type": "code",
   "execution_count": 57,
   "metadata": {},
   "outputs": [],
   "source": [
    "empty_columns = nas_stat[nas_stat[\"Missing_Values\"]==100].index\n",
    "df.drop(columns=empty_columns, inplace=True)"
   ]
  },
  {
   "cell_type": "code",
   "execution_count": 58,
   "metadata": {
    "scrolled": true
   },
   "outputs": [
    {
     "data": {
      "text/html": [
       "<style type=\"text/css\">\n",
       "#T_ff2ad_row0_col0, #T_ff2ad_row1_col0, #T_ff2ad_row2_col0 {\n",
       "  background-color: green;\n",
       "  color: white;\n",
       "}\n",
       "#T_ff2ad_row43_col0, #T_ff2ad_row44_col0, #T_ff2ad_row45_col0 {\n",
       "  background-color: red;\n",
       "  color: white;\n",
       "}\n",
       "</style>\n",
       "<table id=\"T_ff2ad\">\n",
       "  <caption>Cardinality of each feature in the dataset</caption>\n",
       "  <thead>\n",
       "    <tr>\n",
       "      <th class=\"blank level0\" >&nbsp;</th>\n",
       "      <th id=\"T_ff2ad_level0_col0\" class=\"col_heading level0 col0\" >Cardinality</th>\n",
       "    </tr>\n",
       "    <tr>\n",
       "      <th class=\"index_name level0\" >Feature</th>\n",
       "      <th class=\"blank col0\" >&nbsp;</th>\n",
       "    </tr>\n",
       "  </thead>\n",
       "  <tbody>\n",
       "    <tr>\n",
       "      <th id=\"T_ff2ad_level0_row0\" class=\"row_heading level0 row0\" >ID</th>\n",
       "      <td id=\"T_ff2ad_row0_col0\" class=\"data row0 col0\" >2164</td>\n",
       "    </tr>\n",
       "    <tr>\n",
       "      <th id=\"T_ff2ad_level0_row1\" class=\"row_heading level0 row1\" >URL</th>\n",
       "      <td id=\"T_ff2ad_row1_col0\" class=\"data row1 col0\" >2164</td>\n",
       "    </tr>\n",
       "    <tr>\n",
       "      <th id=\"T_ff2ad_level0_row2\" class=\"row_heading level0 row2\" >LAST_CRAWL_DATE</th>\n",
       "      <td id=\"T_ff2ad_row2_col0\" class=\"data row2 col0\" >2164</td>\n",
       "    </tr>\n",
       "    <tr>\n",
       "      <th id=\"T_ff2ad_level0_row3\" class=\"row_heading level0 row3\" >PUBLICATION_START_DATE</th>\n",
       "      <td id=\"T_ff2ad_row3_col0\" class=\"data row3 col0\" >2103</td>\n",
       "    </tr>\n",
       "    <tr>\n",
       "      <th id=\"T_ff2ad_level0_row4\" class=\"row_heading level0 row4\" >IMAGES</th>\n",
       "      <td id=\"T_ff2ad_row4_col0\" class=\"data row4 col0\" >1947</td>\n",
       "    </tr>\n",
       "    <tr>\n",
       "      <th id=\"T_ff2ad_level0_row5\" class=\"row_heading level0 row5\" >DESCRIPTION</th>\n",
       "      <td id=\"T_ff2ad_row5_col0\" class=\"data row5 col0\" >1915</td>\n",
       "    </tr>\n",
       "    <tr>\n",
       "      <th id=\"T_ff2ad_level0_row6\" class=\"row_heading level0 row6\" >PRICE_EVENTS</th>\n",
       "      <td id=\"T_ff2ad_row6_col0\" class=\"data row6 col0\" >1733</td>\n",
       "    </tr>\n",
       "    <tr>\n",
       "      <th id=\"T_ff2ad_level0_row7\" class=\"row_heading level0 row7\" >PRICE_M2</th>\n",
       "      <td id=\"T_ff2ad_row7_col0\" class=\"data row7 col0\" >998</td>\n",
       "    </tr>\n",
       "    <tr>\n",
       "      <th id=\"T_ff2ad_level0_row8\" class=\"row_heading level0 row8\" >PRICE</th>\n",
       "      <td id=\"T_ff2ad_row8_col0\" class=\"data row8 col0\" >765</td>\n",
       "    </tr>\n",
       "    <tr>\n",
       "      <th id=\"T_ff2ad_level0_row9\" class=\"row_heading level0 row9\" >DEALER_NAME</th>\n",
       "      <td id=\"T_ff2ad_row9_col0\" class=\"data row9 col0\" >554</td>\n",
       "    </tr>\n",
       "    <tr>\n",
       "      <th id=\"T_ff2ad_level0_row10\" class=\"row_heading level0 row10\" >SURFACE</th>\n",
       "      <td id=\"T_ff2ad_row10_col0\" class=\"data row10 col0\" >455</td>\n",
       "    </tr>\n",
       "    <tr>\n",
       "      <th id=\"T_ff2ad_level0_row11\" class=\"row_heading level0 row11\" >LAST_PRICE_DECREASE_DATE</th>\n",
       "      <td id=\"T_ff2ad_row11_col0\" class=\"data row11 col0\" >146</td>\n",
       "    </tr>\n",
       "    <tr>\n",
       "      <th id=\"T_ff2ad_level0_row12\" class=\"row_heading level0 row12\" >RENTAL_EXPENSES</th>\n",
       "      <td id=\"T_ff2ad_row12_col0\" class=\"data row12 col0\" >130</td>\n",
       "    </tr>\n",
       "    <tr>\n",
       "      <th id=\"T_ff2ad_level0_row13\" class=\"row_heading level0 row13\" >FEES</th>\n",
       "      <td id=\"T_ff2ad_row13_col0\" class=\"data row13 col0\" >72</td>\n",
       "    </tr>\n",
       "    <tr>\n",
       "      <th id=\"T_ff2ad_level0_row14\" class=\"row_heading level0 row14\" >CONSTRUCTION_YEAR</th>\n",
       "      <td id=\"T_ff2ad_row14_col0\" class=\"data row14 col0\" >49</td>\n",
       "    </tr>\n",
       "    <tr>\n",
       "      <th id=\"T_ff2ad_level0_row15\" class=\"row_heading level0 row15\" >DEPOSIT</th>\n",
       "      <td id=\"T_ff2ad_row15_col0\" class=\"data row15 col0\" >45</td>\n",
       "    </tr>\n",
       "    <tr>\n",
       "      <th id=\"T_ff2ad_level0_row16\" class=\"row_heading level0 row16\" >TERRACE_SURFACE</th>\n",
       "      <td id=\"T_ff2ad_row16_col0\" class=\"data row16 col0\" >19</td>\n",
       "    </tr>\n",
       "    <tr>\n",
       "      <th id=\"T_ff2ad_level0_row17\" class=\"row_heading level0 row17\" >FLOOR_COUNT</th>\n",
       "      <td id=\"T_ff2ad_row17_col0\" class=\"data row17 col0\" >17</td>\n",
       "    </tr>\n",
       "    <tr>\n",
       "      <th id=\"T_ff2ad_level0_row18\" class=\"row_heading level0 row18\" >FLOOR</th>\n",
       "      <td id=\"T_ff2ad_row18_col0\" class=\"data row18 col0\" >13</td>\n",
       "    </tr>\n",
       "    <tr>\n",
       "      <th id=\"T_ff2ad_level0_row19\" class=\"row_heading level0 row19\" >CRAWL_SOURCE</th>\n",
       "      <td id=\"T_ff2ad_row19_col0\" class=\"data row19 col0\" >13</td>\n",
       "    </tr>\n",
       "    <tr>\n",
       "      <th id=\"T_ff2ad_level0_row20\" class=\"row_heading level0 row20\" >ROOM_COUNT</th>\n",
       "      <td id=\"T_ff2ad_row20_col0\" class=\"data row20 col0\" >12</td>\n",
       "    </tr>\n",
       "    <tr>\n",
       "      <th id=\"T_ff2ad_level0_row21\" class=\"row_heading level0 row21\" >PARKING_COUNT</th>\n",
       "      <td id=\"T_ff2ad_row21_col0\" class=\"data row21 col0\" >9</td>\n",
       "    </tr>\n",
       "    <tr>\n",
       "      <th id=\"T_ff2ad_level0_row22\" class=\"row_heading level0 row22\" >BEDROOM_COUNT</th>\n",
       "      <td id=\"T_ff2ad_row22_col0\" class=\"data row22 col0\" >8</td>\n",
       "    </tr>\n",
       "    <tr>\n",
       "      <th id=\"T_ff2ad_level0_row23\" class=\"row_heading level0 row23\" >HEATING_TYPES</th>\n",
       "      <td id=\"T_ff2ad_row23_col0\" class=\"data row23 col0\" >5</td>\n",
       "    </tr>\n",
       "    <tr>\n",
       "      <th id=\"T_ff2ad_level0_row24\" class=\"row_heading level0 row24\" >PROPERTY_TYPE</th>\n",
       "      <td id=\"T_ff2ad_row24_col0\" class=\"data row24 col0\" >5</td>\n",
       "    </tr>\n",
       "    <tr>\n",
       "      <th id=\"T_ff2ad_level0_row25\" class=\"row_heading level0 row25\" >HEATING_MODE</th>\n",
       "      <td id=\"T_ff2ad_row25_col0\" class=\"data row25 col0\" >4</td>\n",
       "    </tr>\n",
       "    <tr>\n",
       "      <th id=\"T_ff2ad_level0_row26\" class=\"row_heading level0 row26\" >NEW_BUILD</th>\n",
       "      <td id=\"T_ff2ad_row26_col0\" class=\"data row26 col0\" >3</td>\n",
       "    </tr>\n",
       "    <tr>\n",
       "      <th id=\"T_ff2ad_level0_row27\" class=\"row_heading level0 row27\" >OCCUPIED</th>\n",
       "      <td id=\"T_ff2ad_row27_col0\" class=\"data row27 col0\" >3</td>\n",
       "    </tr>\n",
       "    <tr>\n",
       "      <th id=\"T_ff2ad_level0_row28\" class=\"row_heading level0 row28\" >DEALER_TYPE</th>\n",
       "      <td id=\"T_ff2ad_row28_col0\" class=\"data row28 col0\" >3</td>\n",
       "    </tr>\n",
       "    <tr>\n",
       "      <th id=\"T_ff2ad_level0_row29\" class=\"row_heading level0 row29\" >AGENCIES_UNWANTED</th>\n",
       "      <td id=\"T_ff2ad_row29_col0\" class=\"data row29 col0\" >3</td>\n",
       "    </tr>\n",
       "    <tr>\n",
       "      <th id=\"T_ff2ad_level0_row30\" class=\"row_heading level0 row30\" >FEES_INCLUDED</th>\n",
       "      <td id=\"T_ff2ad_row30_col0\" class=\"data row30 col0\" >3</td>\n",
       "    </tr>\n",
       "    <tr>\n",
       "      <th id=\"T_ff2ad_level0_row31\" class=\"row_heading level0 row31\" >FURNISHED</th>\n",
       "      <td id=\"T_ff2ad_row31_col0\" class=\"data row31 col0\" >3</td>\n",
       "    </tr>\n",
       "    <tr>\n",
       "      <th id=\"T_ff2ad_level0_row32\" class=\"row_heading level0 row32\" >RENTAL_EXPENSES_INCLUDED</th>\n",
       "      <td id=\"T_ff2ad_row32_col0\" class=\"data row32 col0\" >3</td>\n",
       "    </tr>\n",
       "    <tr>\n",
       "      <th id=\"T_ff2ad_level0_row33\" class=\"row_heading level0 row33\" >LAND_SURFACE</th>\n",
       "      <td id=\"T_ff2ad_row33_col0\" class=\"data row33 col0\" >3</td>\n",
       "    </tr>\n",
       "    <tr>\n",
       "      <th id=\"T_ff2ad_level0_row34\" class=\"row_heading level0 row34\" >CARETAKER</th>\n",
       "      <td id=\"T_ff2ad_row34_col0\" class=\"data row34 col0\" >3</td>\n",
       "    </tr>\n",
       "    <tr>\n",
       "      <th id=\"T_ff2ad_level0_row35\" class=\"row_heading level0 row35\" >ELEVATOR</th>\n",
       "      <td id=\"T_ff2ad_row35_col0\" class=\"data row35 col0\" >3</td>\n",
       "    </tr>\n",
       "    <tr>\n",
       "      <th id=\"T_ff2ad_level0_row36\" class=\"row_heading level0 row36\" >GARDEN</th>\n",
       "      <td id=\"T_ff2ad_row36_col0\" class=\"data row36 col0\" >2</td>\n",
       "    </tr>\n",
       "    <tr>\n",
       "      <th id=\"T_ff2ad_level0_row37\" class=\"row_heading level0 row37\" >EXCLUSIVE_MANDATE</th>\n",
       "      <td id=\"T_ff2ad_row37_col0\" class=\"data row37 col0\" >2</td>\n",
       "    </tr>\n",
       "    <tr>\n",
       "      <th id=\"T_ff2ad_level0_row38\" class=\"row_heading level0 row38\" >MARKETING_TYPE</th>\n",
       "      <td id=\"T_ff2ad_row38_col0\" class=\"data row38 col0\" >2</td>\n",
       "    </tr>\n",
       "    <tr>\n",
       "      <th id=\"T_ff2ad_level0_row39\" class=\"row_heading level0 row39\" >PARKING</th>\n",
       "      <td id=\"T_ff2ad_row39_col0\" class=\"data row39 col0\" >2</td>\n",
       "    </tr>\n",
       "    <tr>\n",
       "      <th id=\"T_ff2ad_level0_row40\" class=\"row_heading level0 row40\" >ZIP_CODE</th>\n",
       "      <td id=\"T_ff2ad_row40_col0\" class=\"data row40 col0\" >2</td>\n",
       "    </tr>\n",
       "    <tr>\n",
       "      <th id=\"T_ff2ad_level0_row41\" class=\"row_heading level0 row41\" >TERRACE</th>\n",
       "      <td id=\"T_ff2ad_row41_col0\" class=\"data row41 col0\" >2</td>\n",
       "    </tr>\n",
       "    <tr>\n",
       "      <th id=\"T_ff2ad_level0_row42\" class=\"row_heading level0 row42\" >SWIMMING_POOL</th>\n",
       "      <td id=\"T_ff2ad_row42_col0\" class=\"data row42 col0\" >2</td>\n",
       "    </tr>\n",
       "    <tr>\n",
       "      <th id=\"T_ff2ad_level0_row43\" class=\"row_heading level0 row43\" >CITY_ID</th>\n",
       "      <td id=\"T_ff2ad_row43_col0\" class=\"data row43 col0\" >1</td>\n",
       "    </tr>\n",
       "    <tr>\n",
       "      <th id=\"T_ff2ad_level0_row44\" class=\"row_heading level0 row44\" >CITY</th>\n",
       "      <td id=\"T_ff2ad_row44_col0\" class=\"data row44 col0\" >1</td>\n",
       "    </tr>\n",
       "    <tr>\n",
       "      <th id=\"T_ff2ad_level0_row45\" class=\"row_heading level0 row45\" >DEPT_CODE</th>\n",
       "      <td id=\"T_ff2ad_row45_col0\" class=\"data row45 col0\" >1</td>\n",
       "    </tr>\n",
       "  </tbody>\n",
       "</table>\n"
      ],
      "text/plain": [
       "<pandas.io.formats.style.Styler at 0x7f47880b8130>"
      ]
     },
     "execution_count": 58,
     "metadata": {},
     "output_type": "execute_result"
    }
   ],
   "source": [
    "\n",
    "def style_unique(v, props='', n=2164):\n",
    "    return props if v==n else None\n",
    "\n",
    "def style_constant(v, props=''):\n",
    "    return props if v==1 else None\n",
    "\n",
    "def show_card(df):\n",
    "    df = (pd.Series({feature: len(df[feature].unique()) for feature in df.columns})\n",
    "                        .reset_index().rename(columns={'index':'Feature',0:'Cardinality'}))\n",
    "    df =df.set_index('Feature')\n",
    "    return df.sort_values(by ='Cardinality', ascending=False )\n",
    "\n",
    "card_stat = show_card(df)\n",
    "card_stat.style.set_caption(\"Cardinality of each feature in the dataset\").applymap(style_constant, props='background-color:red;color:white')\\\n",
    "    .applymap(style_unique, props='background-color:green;color:white', n=len(df))"
   ]
  },
  {
   "cell_type": "code",
   "execution_count": 59,
   "metadata": {},
   "outputs": [],
   "source": [
    "def download_image(url):\n",
    "    response = requests.get(url)\n",
    "    img = Image.open(BytesIO(response.content))\n",
    "    return img"
   ]
  },
  {
   "cell_type": "code",
   "execution_count": 60,
   "metadata": {},
   "outputs": [],
   "source": [
    "def generate_unique_identifier(input_string):\n",
    "    # Using SHA256 as the hashing algorithm\n",
    "    hash_object = hashlib.sha256(input_string.encode())\n",
    "    unique_identifier = hash_object.hexdigest()\n",
    "    return unique_identifier\n",
    "\n",
    "def download_df_images_locally(df, images_column_name = \"IMAGES\", id_column_name = \"ID\", export_path =\"data/images/\" ):\n",
    "\n",
    "    for i, row in tqdm(df.iterrows(), total=df.shape[0]):\n",
    "\n",
    "        # parsing the array\n",
    "        array_urls = json.loads(row[images_column_name])\n",
    "\n",
    "\n",
    "        directory = f\"{export_path}{row[id_column_name]}\"\n",
    "\n",
    "        if not os.path.exists(directory):\n",
    "            os.makedirs(directory)\n",
    "\n",
    "        # downloading the images\n",
    "        for j, url in enumerate(array_urls):\n",
    "            try : \n",
    "                img_name = generate_unique_identifier(url)\n",
    "                save_image_path = f\"{directory}/{img_name}.png\"\n",
    "                if os.path.exists(save_image_path):\n",
    "                    continue\n",
    "                else:\n",
    "                    img = download_image(url)\n",
    "                    img.save(save_image_path)                \n",
    "            except Exception as e :\n",
    "                continue\n",
    "    \n",
    "\n"
   ]
  },
  {
   "cell_type": "code",
   "execution_count": 61,
   "metadata": {},
   "outputs": [],
   "source": [
    "# download_df_images_locally(df)"
   ]
  },
  {
   "attachments": {},
   "cell_type": "markdown",
   "metadata": {},
   "source": [
    "### ii. dataset cleaning"
   ]
  },
  {
   "cell_type": "code",
   "execution_count": 62,
   "metadata": {},
   "outputs": [],
   "source": [
    "## Droping constant columns : "
   ]
  },
  {
   "cell_type": "code",
   "execution_count": 63,
   "metadata": {},
   "outputs": [],
   "source": [
    "df.drop(columns = [\"CITY_ID\", \"CITY\", \"DEPT_CODE\"], axis=1, inplace=True)"
   ]
  },
  {
   "cell_type": "code",
   "execution_count": 64,
   "metadata": {},
   "outputs": [],
   "source": [
    "## Parsing Heating Types"
   ]
  },
  {
   "cell_type": "code",
   "execution_count": 65,
   "metadata": {},
   "outputs": [
    {
     "name": "stdout",
     "output_type": "stream",
     "text": [
      "Unique Heating Types are :  ['ELECTRIC', 'GAS', 'ELECTRIC', 'UNDERFLOOR', 'FUEL']\n"
     ]
    }
   ],
   "source": [
    "heating_types = []\n",
    "for value in df[\"HEATING_TYPES\"].unique():\n",
    "    heating_array = json.loads(value)\n",
    "    heating_types.extend(heating_array)\n",
    "print(\"Unique Heating Types are : \", heating_types)\n",
    "def parse_heating_type(row, heating_types):\n",
    "    for heating_type in heating_types:\n",
    "        if heating_type in row[\"HEATING_TYPES\"]:\n",
    "            row[heating_type]=1\n",
    "        else:\n",
    "            row[heating_type]=0\n",
    "    return row\n",
    "df = df.apply(lambda row : parse_heating_type(row, heating_types=heating_types), axis=1)"
   ]
  },
  {
   "cell_type": "code",
   "execution_count": 66,
   "metadata": {},
   "outputs": [],
   "source": [
    "## Adding the number of listed images and number of downloaded images"
   ]
  },
  {
   "cell_type": "code",
   "execution_count": 67,
   "metadata": {},
   "outputs": [],
   "source": [
    "def count_urls(urls):\n",
    "    array_urls = json.loads(urls)\n",
    "    return len(array_urls)\n",
    "\n",
    "def count_images(id, data_path = \"data/images/\"):\n",
    "    \n",
    "    list_images = glob.glob( f\"{data_path}{id}/*png\")\n",
    "    return len(list_images)\n",
    "\n",
    "df[\"NUMBER_URL_IMAGES\"]=df.apply(lambda row : count_urls(row[\"IMAGES\"]), axis = 1)\n",
    "df[\"NUMBER_VALID_IMAGES\"]=df.apply(lambda row : count_images(row[\"ID\"]), axis = 1)"
   ]
  },
  {
   "cell_type": "code",
   "execution_count": 68,
   "metadata": {},
   "outputs": [
    {
     "data": {
      "text/html": [
       "<pre style=\"white-space:pre;overflow-x:auto;line-height:normal;font-family:Menlo,'DejaVu Sans Mono',consolas,'Courier New',monospace\">Unique Values for    <span style=\"color: #008080; text-decoration-color: #008080; font-weight: bold\">SWIMMING_POOL</span> :  <span style=\"font-weight: bold\">[</span>nan  <span style=\"color: #008080; text-decoration-color: #008080; font-weight: bold\">1</span>.<span style=\"font-weight: bold\">]</span>\n",
       "</pre>\n"
      ],
      "text/plain": [
       "Unique Values for    \u001b[1;36mSWIMMING_POOL\u001b[0m :  \u001b[1m[\u001b[0mnan  \u001b[1;36m1\u001b[0m.\u001b[1m]\u001b[0m\n"
      ]
     },
     "metadata": {},
     "output_type": "display_data"
    },
    {
     "data": {
      "text/html": [
       "<pre style=\"white-space:pre;overflow-x:auto;line-height:normal;font-family:Menlo,'DejaVu Sans Mono',consolas,'Courier New',monospace\">Number of offers with <span style=\"color: #008080; text-decoration-color: #008080; font-weight: bold\">SWIMMING_POOL</span> :  <span style=\"color: #008080; text-decoration-color: #008080; font-weight: bold\">6.0</span>\n",
       "</pre>\n"
      ],
      "text/plain": [
       "Number of offers with \u001b[1;36mSWIMMING_POOL\u001b[0m :  \u001b[1;36m6.0\u001b[0m\n"
      ]
     },
     "metadata": {},
     "output_type": "display_data"
    },
    {
     "data": {
      "text/html": [
       "<pre style=\"white-space:pre;overflow-x:auto;line-height:normal;font-family:Menlo,'DejaVu Sans Mono',consolas,'Courier New',monospace\">Unique Values for    <span style=\"color: #008080; text-decoration-color: #008080; font-weight: bold\">NEW_BUILD</span> :  <span style=\"font-weight: bold\">[</span><span style=\"color: #ff0000; text-decoration-color: #ff0000; font-style: italic\">False</span> nan <span style=\"color: #00ff00; text-decoration-color: #00ff00; font-style: italic\">True</span><span style=\"font-weight: bold\">]</span>\n",
       "</pre>\n"
      ],
      "text/plain": [
       "Unique Values for    \u001b[1;36mNEW_BUILD\u001b[0m :  \u001b[1m[\u001b[0m\u001b[3;91mFalse\u001b[0m nan \u001b[3;92mTrue\u001b[0m\u001b[1m]\u001b[0m\n"
      ]
     },
     "metadata": {},
     "output_type": "display_data"
    },
    {
     "data": {
      "text/html": [
       "<pre style=\"white-space:pre;overflow-x:auto;line-height:normal;font-family:Menlo,'DejaVu Sans Mono',consolas,'Courier New',monospace\">Number of offers with <span style=\"color: #008080; text-decoration-color: #008080; font-weight: bold\">NEW_BUILD</span> :  <span style=\"color: #008080; text-decoration-color: #008080; font-weight: bold\">103</span>\n",
       "</pre>\n"
      ],
      "text/plain": [
       "Number of offers with \u001b[1;36mNEW_BUILD\u001b[0m :  \u001b[1;36m103\u001b[0m\n"
      ]
     },
     "metadata": {},
     "output_type": "display_data"
    },
    {
     "data": {
      "text/html": [
       "<pre style=\"white-space:pre;overflow-x:auto;line-height:normal;font-family:Menlo,'DejaVu Sans Mono',consolas,'Courier New',monospace\">Unique Values for    <span style=\"color: #008080; text-decoration-color: #008080; font-weight: bold\">FURNISHED</span> :  <span style=\"font-weight: bold\">[</span><span style=\"color: #ff0000; text-decoration-color: #ff0000; font-style: italic\">False</span> nan <span style=\"color: #00ff00; text-decoration-color: #00ff00; font-style: italic\">True</span><span style=\"font-weight: bold\">]</span>\n",
       "</pre>\n"
      ],
      "text/plain": [
       "Unique Values for    \u001b[1;36mFURNISHED\u001b[0m :  \u001b[1m[\u001b[0m\u001b[3;91mFalse\u001b[0m nan \u001b[3;92mTrue\u001b[0m\u001b[1m]\u001b[0m\n"
      ]
     },
     "metadata": {},
     "output_type": "display_data"
    },
    {
     "data": {
      "text/html": [
       "<pre style=\"white-space:pre;overflow-x:auto;line-height:normal;font-family:Menlo,'DejaVu Sans Mono',consolas,'Courier New',monospace\">Number of offers with <span style=\"color: #008080; text-decoration-color: #008080; font-weight: bold\">FURNISHED</span> :  <span style=\"color: #008080; text-decoration-color: #008080; font-weight: bold\">213</span>\n",
       "</pre>\n"
      ],
      "text/plain": [
       "Number of offers with \u001b[1;36mFURNISHED\u001b[0m :  \u001b[1;36m213\u001b[0m\n"
      ]
     },
     "metadata": {},
     "output_type": "display_data"
    },
    {
     "data": {
      "text/html": [
       "<pre style=\"white-space:pre;overflow-x:auto;line-height:normal;font-family:Menlo,'DejaVu Sans Mono',consolas,'Courier New',monospace\">Unique Values for    <span style=\"color: #008080; text-decoration-color: #008080; font-weight: bold\">GARDEN</span> :  <span style=\"font-weight: bold\">[</span>nan  <span style=\"color: #008080; text-decoration-color: #008080; font-weight: bold\">1</span>.<span style=\"font-weight: bold\">]</span>\n",
       "</pre>\n"
      ],
      "text/plain": [
       "Unique Values for    \u001b[1;36mGARDEN\u001b[0m :  \u001b[1m[\u001b[0mnan  \u001b[1;36m1\u001b[0m.\u001b[1m]\u001b[0m\n"
      ]
     },
     "metadata": {},
     "output_type": "display_data"
    },
    {
     "data": {
      "text/html": [
       "<pre style=\"white-space:pre;overflow-x:auto;line-height:normal;font-family:Menlo,'DejaVu Sans Mono',consolas,'Courier New',monospace\">Number of offers with <span style=\"color: #008080; text-decoration-color: #008080; font-weight: bold\">GARDEN</span> :  <span style=\"color: #008080; text-decoration-color: #008080; font-weight: bold\">14.0</span>\n",
       "</pre>\n"
      ],
      "text/plain": [
       "Number of offers with \u001b[1;36mGARDEN\u001b[0m :  \u001b[1;36m14.0\u001b[0m\n"
      ]
     },
     "metadata": {},
     "output_type": "display_data"
    },
    {
     "data": {
      "text/html": [
       "<pre style=\"white-space:pre;overflow-x:auto;line-height:normal;font-family:Menlo,'DejaVu Sans Mono',consolas,'Courier New',monospace\">Unique Values for    <span style=\"color: #008080; text-decoration-color: #008080; font-weight: bold\">PARKING</span> :  <span style=\"font-weight: bold\">[</span> <span style=\"color: #00ff00; text-decoration-color: #00ff00; font-style: italic\">True</span> <span style=\"color: #ff0000; text-decoration-color: #ff0000; font-style: italic\">False</span><span style=\"font-weight: bold\">]</span>\n",
       "</pre>\n"
      ],
      "text/plain": [
       "Unique Values for    \u001b[1;36mPARKING\u001b[0m :  \u001b[1m[\u001b[0m \u001b[3;92mTrue\u001b[0m \u001b[3;91mFalse\u001b[0m\u001b[1m]\u001b[0m\n"
      ]
     },
     "metadata": {},
     "output_type": "display_data"
    },
    {
     "data": {
      "text/html": [
       "<pre style=\"white-space:pre;overflow-x:auto;line-height:normal;font-family:Menlo,'DejaVu Sans Mono',consolas,'Courier New',monospace\">Number of offers with <span style=\"color: #008080; text-decoration-color: #008080; font-weight: bold\">PARKING</span> :  <span style=\"color: #008080; text-decoration-color: #008080; font-weight: bold\">157</span>\n",
       "</pre>\n"
      ],
      "text/plain": [
       "Number of offers with \u001b[1;36mPARKING\u001b[0m :  \u001b[1;36m157\u001b[0m\n"
      ]
     },
     "metadata": {},
     "output_type": "display_data"
    },
    {
     "data": {
      "text/html": [
       "<pre style=\"white-space:pre;overflow-x:auto;line-height:normal;font-family:Menlo,'DejaVu Sans Mono',consolas,'Courier New',monospace\">Unique Values for    <span style=\"color: #008080; text-decoration-color: #008080; font-weight: bold\">TERRACE</span> :  <span style=\"font-weight: bold\">[</span>nan  <span style=\"color: #008080; text-decoration-color: #008080; font-weight: bold\">1</span>.<span style=\"font-weight: bold\">]</span>\n",
       "</pre>\n"
      ],
      "text/plain": [
       "Unique Values for    \u001b[1;36mTERRACE\u001b[0m :  \u001b[1m[\u001b[0mnan  \u001b[1;36m1\u001b[0m.\u001b[1m]\u001b[0m\n"
      ]
     },
     "metadata": {},
     "output_type": "display_data"
    },
    {
     "data": {
      "text/html": [
       "<pre style=\"white-space:pre;overflow-x:auto;line-height:normal;font-family:Menlo,'DejaVu Sans Mono',consolas,'Courier New',monospace\">Number of offers with <span style=\"color: #008080; text-decoration-color: #008080; font-weight: bold\">TERRACE</span> :  <span style=\"color: #008080; text-decoration-color: #008080; font-weight: bold\">86.0</span>\n",
       "</pre>\n"
      ],
      "text/plain": [
       "Number of offers with \u001b[1;36mTERRACE\u001b[0m :  \u001b[1;36m86.0\u001b[0m\n"
      ]
     },
     "metadata": {},
     "output_type": "display_data"
    },
    {
     "data": {
      "text/html": [
       "<pre style=\"white-space:pre;overflow-x:auto;line-height:normal;font-family:Menlo,'DejaVu Sans Mono',consolas,'Courier New',monospace\">Unique Values for    <span style=\"color: #008080; text-decoration-color: #008080; font-weight: bold\">PARKING</span> :  <span style=\"font-weight: bold\">[</span> <span style=\"color: #00ff00; text-decoration-color: #00ff00; font-style: italic\">True</span> <span style=\"color: #ff0000; text-decoration-color: #ff0000; font-style: italic\">False</span><span style=\"font-weight: bold\">]</span>\n",
       "</pre>\n"
      ],
      "text/plain": [
       "Unique Values for    \u001b[1;36mPARKING\u001b[0m :  \u001b[1m[\u001b[0m \u001b[3;92mTrue\u001b[0m \u001b[3;91mFalse\u001b[0m\u001b[1m]\u001b[0m\n"
      ]
     },
     "metadata": {},
     "output_type": "display_data"
    },
    {
     "data": {
      "text/html": [
       "<pre style=\"white-space:pre;overflow-x:auto;line-height:normal;font-family:Menlo,'DejaVu Sans Mono',consolas,'Courier New',monospace\">Number of offers with <span style=\"color: #008080; text-decoration-color: #008080; font-weight: bold\">PARKING</span> :  <span style=\"color: #008080; text-decoration-color: #008080; font-weight: bold\">157</span>\n",
       "</pre>\n"
      ],
      "text/plain": [
       "Number of offers with \u001b[1;36mPARKING\u001b[0m :  \u001b[1;36m157\u001b[0m\n"
      ]
     },
     "metadata": {},
     "output_type": "display_data"
    },
    {
     "data": {
      "text/html": [
       "<pre style=\"white-space:pre;overflow-x:auto;line-height:normal;font-family:Menlo,'DejaVu Sans Mono',consolas,'Courier New',monospace\">Unique Values for    <span style=\"color: #008080; text-decoration-color: #008080; font-weight: bold\">ELEVATOR</span> :  <span style=\"font-weight: bold\">[</span><span style=\"color: #00ff00; text-decoration-color: #00ff00; font-style: italic\">True</span> nan <span style=\"color: #ff0000; text-decoration-color: #ff0000; font-style: italic\">False</span><span style=\"font-weight: bold\">]</span>\n",
       "</pre>\n"
      ],
      "text/plain": [
       "Unique Values for    \u001b[1;36mELEVATOR\u001b[0m :  \u001b[1m[\u001b[0m\u001b[3;92mTrue\u001b[0m nan \u001b[3;91mFalse\u001b[0m\u001b[1m]\u001b[0m\n"
      ]
     },
     "metadata": {},
     "output_type": "display_data"
    },
    {
     "data": {
      "text/html": [
       "<pre style=\"white-space:pre;overflow-x:auto;line-height:normal;font-family:Menlo,'DejaVu Sans Mono',consolas,'Courier New',monospace\">Number of offers with <span style=\"color: #008080; text-decoration-color: #008080; font-weight: bold\">ELEVATOR</span> :  <span style=\"color: #008080; text-decoration-color: #008080; font-weight: bold\">507</span>\n",
       "</pre>\n"
      ],
      "text/plain": [
       "Number of offers with \u001b[1;36mELEVATOR\u001b[0m :  \u001b[1;36m507\u001b[0m\n"
      ]
     },
     "metadata": {},
     "output_type": "display_data"
    },
    {
     "data": {
      "text/html": [
       "<pre style=\"white-space:pre;overflow-x:auto;line-height:normal;font-family:Menlo,'DejaVu Sans Mono',consolas,'Courier New',monospace\">Unique Values for    <span style=\"color: #008080; text-decoration-color: #008080; font-weight: bold\">CARETAKER</span> :  <span style=\"font-weight: bold\">[</span>nan <span style=\"color: #ff0000; text-decoration-color: #ff0000; font-style: italic\">False</span> <span style=\"color: #00ff00; text-decoration-color: #00ff00; font-style: italic\">True</span><span style=\"font-weight: bold\">]</span>\n",
       "</pre>\n"
      ],
      "text/plain": [
       "Unique Values for    \u001b[1;36mCARETAKER\u001b[0m :  \u001b[1m[\u001b[0mnan \u001b[3;91mFalse\u001b[0m \u001b[3;92mTrue\u001b[0m\u001b[1m]\u001b[0m\n"
      ]
     },
     "metadata": {},
     "output_type": "display_data"
    },
    {
     "data": {
      "text/html": [
       "<pre style=\"white-space:pre;overflow-x:auto;line-height:normal;font-family:Menlo,'DejaVu Sans Mono',consolas,'Courier New',monospace\">Number of offers with <span style=\"color: #008080; text-decoration-color: #008080; font-weight: bold\">CARETAKER</span> :  <span style=\"color: #008080; text-decoration-color: #008080; font-weight: bold\">147</span>\n",
       "</pre>\n"
      ],
      "text/plain": [
       "Number of offers with \u001b[1;36mCARETAKER\u001b[0m :  \u001b[1;36m147\u001b[0m\n"
      ]
     },
     "metadata": {},
     "output_type": "display_data"
    },
    {
     "data": {
      "text/html": [
       "<pre style=\"white-space:pre;overflow-x:auto;line-height:normal;font-family:Menlo,'DejaVu Sans Mono',consolas,'Courier New',monospace\">Unique Values for    <span style=\"color: #008080; text-decoration-color: #008080; font-weight: bold\">RENTAL_EXPENSES_INCLUDED</span> :  <span style=\"font-weight: bold\">[</span><span style=\"color: #00ff00; text-decoration-color: #00ff00; font-style: italic\">True</span> nan <span style=\"color: #ff0000; text-decoration-color: #ff0000; font-style: italic\">False</span><span style=\"font-weight: bold\">]</span>\n",
       "</pre>\n"
      ],
      "text/plain": [
       "Unique Values for    \u001b[1;36mRENTAL_EXPENSES_INCLUDED\u001b[0m :  \u001b[1m[\u001b[0m\u001b[3;92mTrue\u001b[0m nan \u001b[3;91mFalse\u001b[0m\u001b[1m]\u001b[0m\n"
      ]
     },
     "metadata": {},
     "output_type": "display_data"
    },
    {
     "data": {
      "text/html": [
       "<pre style=\"white-space:pre;overflow-x:auto;line-height:normal;font-family:Menlo,'DejaVu Sans Mono',consolas,'Courier New',monospace\">Number of offers with <span style=\"color: #008080; text-decoration-color: #008080; font-weight: bold\">RENTAL_EXPENSES_INCLUDED</span> :  <span style=\"color: #008080; text-decoration-color: #008080; font-weight: bold\">578</span>\n",
       "</pre>\n"
      ],
      "text/plain": [
       "Number of offers with \u001b[1;36mRENTAL_EXPENSES_INCLUDED\u001b[0m :  \u001b[1;36m578\u001b[0m\n"
      ]
     },
     "metadata": {},
     "output_type": "display_data"
    },
    {
     "data": {
      "text/html": [
       "<pre style=\"white-space:pre;overflow-x:auto;line-height:normal;font-family:Menlo,'DejaVu Sans Mono',consolas,'Courier New',monospace\">Unique Values for    <span style=\"color: #008080; text-decoration-color: #008080; font-weight: bold\">EXCLUSIVE_MANDATE</span> :  <span style=\"font-weight: bold\">[</span><span style=\"color: #ff0000; text-decoration-color: #ff0000; font-style: italic\">False</span>  <span style=\"color: #00ff00; text-decoration-color: #00ff00; font-style: italic\">True</span><span style=\"font-weight: bold\">]</span>\n",
       "</pre>\n"
      ],
      "text/plain": [
       "Unique Values for    \u001b[1;36mEXCLUSIVE_MANDATE\u001b[0m :  \u001b[1m[\u001b[0m\u001b[3;91mFalse\u001b[0m  \u001b[3;92mTrue\u001b[0m\u001b[1m]\u001b[0m\n"
      ]
     },
     "metadata": {},
     "output_type": "display_data"
    },
    {
     "data": {
      "text/html": [
       "<pre style=\"white-space:pre;overflow-x:auto;line-height:normal;font-family:Menlo,'DejaVu Sans Mono',consolas,'Courier New',monospace\">Number of offers with <span style=\"color: #008080; text-decoration-color: #008080; font-weight: bold\">EXCLUSIVE_MANDATE</span> :  <span style=\"color: #008080; text-decoration-color: #008080; font-weight: bold\">167</span>\n",
       "</pre>\n"
      ],
      "text/plain": [
       "Number of offers with \u001b[1;36mEXCLUSIVE_MANDATE\u001b[0m :  \u001b[1;36m167\u001b[0m\n"
      ]
     },
     "metadata": {},
     "output_type": "display_data"
    },
    {
     "data": {
      "text/html": [
       "<pre style=\"white-space:pre;overflow-x:auto;line-height:normal;font-family:Menlo,'DejaVu Sans Mono',consolas,'Courier New',monospace\">Unique Values for    <span style=\"color: #008080; text-decoration-color: #008080; font-weight: bold\">AGENCIES_UNWANTED</span> :  <span style=\"font-weight: bold\">[</span>nan <span style=\"color: #ff0000; text-decoration-color: #ff0000; font-style: italic\">False</span> <span style=\"color: #00ff00; text-decoration-color: #00ff00; font-style: italic\">True</span><span style=\"font-weight: bold\">]</span>\n",
       "</pre>\n"
      ],
      "text/plain": [
       "Unique Values for    \u001b[1;36mAGENCIES_UNWANTED\u001b[0m :  \u001b[1m[\u001b[0mnan \u001b[3;91mFalse\u001b[0m \u001b[3;92mTrue\u001b[0m\u001b[1m]\u001b[0m\n"
      ]
     },
     "metadata": {},
     "output_type": "display_data"
    },
    {
     "data": {
      "text/html": [
       "<pre style=\"white-space:pre;overflow-x:auto;line-height:normal;font-family:Menlo,'DejaVu Sans Mono',consolas,'Courier New',monospace\">Number of offers with <span style=\"color: #008080; text-decoration-color: #008080; font-weight: bold\">AGENCIES_UNWANTED</span> :  <span style=\"color: #008080; text-decoration-color: #008080; font-weight: bold\">12</span>\n",
       "</pre>\n"
      ],
      "text/plain": [
       "Number of offers with \u001b[1;36mAGENCIES_UNWANTED\u001b[0m :  \u001b[1;36m12\u001b[0m\n"
      ]
     },
     "metadata": {},
     "output_type": "display_data"
    },
    {
     "data": {
      "text/html": [
       "<pre style=\"white-space:pre;overflow-x:auto;line-height:normal;font-family:Menlo,'DejaVu Sans Mono',consolas,'Courier New',monospace\">Unique Values for    <span style=\"color: #008080; text-decoration-color: #008080; font-weight: bold\">OCCUPIED</span> :  <span style=\"font-weight: bold\">[</span>nan <span style=\"color: #ff0000; text-decoration-color: #ff0000; font-style: italic\">False</span> <span style=\"color: #00ff00; text-decoration-color: #00ff00; font-style: italic\">True</span><span style=\"font-weight: bold\">]</span>\n",
       "</pre>\n"
      ],
      "text/plain": [
       "Unique Values for    \u001b[1;36mOCCUPIED\u001b[0m :  \u001b[1m[\u001b[0mnan \u001b[3;91mFalse\u001b[0m \u001b[3;92mTrue\u001b[0m\u001b[1m]\u001b[0m\n"
      ]
     },
     "metadata": {},
     "output_type": "display_data"
    },
    {
     "data": {
      "text/html": [
       "<pre style=\"white-space:pre;overflow-x:auto;line-height:normal;font-family:Menlo,'DejaVu Sans Mono',consolas,'Courier New',monospace\">Number of offers with <span style=\"color: #008080; text-decoration-color: #008080; font-weight: bold\">OCCUPIED</span> :  <span style=\"color: #008080; text-decoration-color: #008080; font-weight: bold\">20</span>\n",
       "</pre>\n"
      ],
      "text/plain": [
       "Number of offers with \u001b[1;36mOCCUPIED\u001b[0m :  \u001b[1;36m20\u001b[0m\n"
      ]
     },
     "metadata": {},
     "output_type": "display_data"
    }
   ],
   "source": [
    "## Fixing bad datatypes\n",
    "def describe_features(df, features):\n",
    "    for feature in features :\n",
    "        console.print(f\"Unique Values for    [bold cyan]{feature}[/ bold cyan] : \", df[feature].unique())\n",
    "        console.print(f\"Number of offers with [bold cyan]{feature}[/ bold cyan] : \", df[feature].sum())\n",
    "bool_columns = [\"SWIMMING_POOL\", \"NEW_BUILD\", \"FURNISHED\", \"GARDEN\", \"PARKING\", \"TERRACE\", \"PARKING\", \"ELEVATOR\", \"CARETAKER\", \"RENTAL_EXPENSES_INCLUDED\", \"EXCLUSIVE_MANDATE\", \"AGENCIES_UNWANTED\", \"OCCUPIED\"]\n",
    "\n",
    "describe_features(df,bool_columns)\n",
    "# To note : TERRACE, SWIMMING_POOL & GARDEN only have nan, and 1 as unique values"
   ]
  },
  {
   "cell_type": "code",
   "execution_count": 69,
   "metadata": {},
   "outputs": [],
   "source": [
    "## Replacing NaN value with -1\n",
    "df = df.fillna(-1)"
   ]
  },
  {
   "cell_type": "code",
   "execution_count": 70,
   "metadata": {},
   "outputs": [],
   "source": [
    "# Casting bool columns to integer\n",
    "for col in bool_columns:\n",
    "    df[col]=df[col].astype(int)"
   ]
  },
  {
   "cell_type": "code",
   "execution_count": 71,
   "metadata": {},
   "outputs": [
    {
     "data": {
      "text/html": [
       "<pre style=\"white-space:pre;overflow-x:auto;line-height:normal;font-family:Menlo,'DejaVu Sans Mono',consolas,'Courier New',monospace\">Unique values for : LAST_PRICE_DECREASE_DATE <span style=\"font-weight: bold\">[</span><span style=\"color: #008080; text-decoration-color: #008080; font-weight: bold\">-1</span> <span style=\"color: #008000; text-decoration-color: #008000\">'2018-09-25'</span> <span style=\"color: #008000; text-decoration-color: #008000\">'2019-06-14'</span> <span style=\"color: #008000; text-decoration-color: #008000\">'2019-07-10'</span> <span style=\"color: #008000; text-decoration-color: #008000\">'2019-07-13'</span> <span style=\"color: #008000; text-decoration-color: #008000\">'2019-07-17'</span>\n",
       " <span style=\"color: #008000; text-decoration-color: #008000\">'2017-05-04'</span> <span style=\"color: #008000; text-decoration-color: #008000\">'2019-07-18'</span> <span style=\"color: #008000; text-decoration-color: #008000\">'2019-07-19'</span> <span style=\"color: #008000; text-decoration-color: #008000\">'2019-07-31'</span> <span style=\"color: #008000; text-decoration-color: #008000\">'2019-04-30'</span>\n",
       " <span style=\"color: #008000; text-decoration-color: #008000\">'2019-06-29'</span> <span style=\"color: #008000; text-decoration-color: #008000\">'2019-07-30'</span> <span style=\"color: #008000; text-decoration-color: #008000\">'2019-06-17'</span> <span style=\"color: #008000; text-decoration-color: #008000\">'2018-01-30'</span> <span style=\"color: #008000; text-decoration-color: #008000\">'2019-07-15'</span>\n",
       " <span style=\"color: #008000; text-decoration-color: #008000\">'2019-08-09'</span> <span style=\"color: #008000; text-decoration-color: #008000\">'2019-03-17'</span> <span style=\"color: #008000; text-decoration-color: #008000\">'2019-06-13'</span> <span style=\"color: #008000; text-decoration-color: #008000\">'2019-04-25'</span> <span style=\"color: #008000; text-decoration-color: #008000\">'2019-06-15'</span>\n",
       " <span style=\"color: #008000; text-decoration-color: #008000\">'2019-07-12'</span> <span style=\"color: #008000; text-decoration-color: #008000\">'2019-08-17'</span> <span style=\"color: #008000; text-decoration-color: #008000\">'2019-06-26'</span> <span style=\"color: #008000; text-decoration-color: #008000\">'2019-06-28'</span> <span style=\"color: #008000; text-decoration-color: #008000\">'2019-03-29'</span>\n",
       " <span style=\"color: #008000; text-decoration-color: #008000\">'2019-07-23'</span> <span style=\"color: #008000; text-decoration-color: #008000\">'2019-07-08'</span> <span style=\"color: #008000; text-decoration-color: #008000\">'2019-04-02'</span> <span style=\"color: #008000; text-decoration-color: #008000\">'2019-05-30'</span> <span style=\"color: #008000; text-decoration-color: #008000\">'2019-02-14'</span>\n",
       " <span style=\"color: #008000; text-decoration-color: #008000\">'2019-06-21'</span> <span style=\"color: #008000; text-decoration-color: #008000\">'2019-08-21'</span> <span style=\"color: #008000; text-decoration-color: #008000\">'2019-04-16'</span> <span style=\"color: #008000; text-decoration-color: #008000\">'2019-06-20'</span> <span style=\"color: #008000; text-decoration-color: #008000\">'2019-06-04'</span>\n",
       " <span style=\"color: #008000; text-decoration-color: #008000\">'2019-07-20'</span> <span style=\"color: #008000; text-decoration-color: #008000\">'2019-08-25'</span> <span style=\"color: #008000; text-decoration-color: #008000\">'2019-05-11'</span> <span style=\"color: #008000; text-decoration-color: #008000\">'2019-05-21'</span> <span style=\"color: #008000; text-decoration-color: #008000\">'2019-05-08'</span>\n",
       " <span style=\"color: #008000; text-decoration-color: #008000\">'2019-05-29'</span> <span style=\"color: #008000; text-decoration-color: #008000\">'2019-07-27'</span> <span style=\"color: #008000; text-decoration-color: #008000\">'2019-07-07'</span> <span style=\"color: #008000; text-decoration-color: #008000\">'2019-02-28'</span> <span style=\"color: #008000; text-decoration-color: #008000\">'2019-06-23'</span>\n",
       " <span style=\"color: #008000; text-decoration-color: #008000\">'2017-05-19'</span> <span style=\"color: #008000; text-decoration-color: #008000\">'2019-05-19'</span> <span style=\"color: #008000; text-decoration-color: #008000\">'2019-05-06'</span> <span style=\"color: #008000; text-decoration-color: #008000\">'2019-06-27'</span> <span style=\"color: #008000; text-decoration-color: #008000\">'2019-01-02'</span>\n",
       " <span style=\"color: #008000; text-decoration-color: #008000\">'2018-12-18'</span> <span style=\"color: #008000; text-decoration-color: #008000\">'2019-07-01'</span> <span style=\"color: #008000; text-decoration-color: #008000\">'2019-03-20'</span> <span style=\"color: #008000; text-decoration-color: #008000\">'2019-07-03'</span> <span style=\"color: #008000; text-decoration-color: #008000\">'2019-08-14'</span>\n",
       " <span style=\"color: #008000; text-decoration-color: #008000\">'2019-08-15'</span> <span style=\"color: #008000; text-decoration-color: #008000\">'2019-06-10'</span> <span style=\"color: #008000; text-decoration-color: #008000\">'2019-08-08'</span> <span style=\"color: #008000; text-decoration-color: #008000\">'2019-07-14'</span> <span style=\"color: #008000; text-decoration-color: #008000\">'2019-06-07'</span>\n",
       " <span style=\"color: #008000; text-decoration-color: #008000\">'2019-04-21'</span> <span style=\"color: #008000; text-decoration-color: #008000\">'2017-12-27'</span> <span style=\"color: #008000; text-decoration-color: #008000\">'2019-06-22'</span> <span style=\"color: #008000; text-decoration-color: #008000\">'2019-08-24'</span> <span style=\"color: #008000; text-decoration-color: #008000\">'2019-06-24'</span>\n",
       " <span style=\"color: #008000; text-decoration-color: #008000\">'2019-06-25'</span> <span style=\"color: #008000; text-decoration-color: #008000\">'2019-04-07'</span> <span style=\"color: #008000; text-decoration-color: #008000\">'2019-08-07'</span> <span style=\"color: #008000; text-decoration-color: #008000\">'2019-08-23'</span> <span style=\"color: #008000; text-decoration-color: #008000\">'2019-07-05'</span>\n",
       " <span style=\"color: #008000; text-decoration-color: #008000\">'2019-04-04'</span> <span style=\"color: #008000; text-decoration-color: #008000\">'2019-05-24'</span> <span style=\"color: #008000; text-decoration-color: #008000\">'2019-04-23'</span> <span style=\"color: #008000; text-decoration-color: #008000\">'2019-08-05'</span> <span style=\"color: #008000; text-decoration-color: #008000\">'2019-04-29'</span>\n",
       " <span style=\"color: #008000; text-decoration-color: #008000\">'2019-06-30'</span> <span style=\"color: #008000; text-decoration-color: #008000\">'2017-04-11'</span> <span style=\"color: #008000; text-decoration-color: #008000\">'2017-11-20'</span> <span style=\"color: #008000; text-decoration-color: #008000\">'2017-03-22'</span> <span style=\"color: #008000; text-decoration-color: #008000\">'2019-05-27'</span>\n",
       " <span style=\"color: #008000; text-decoration-color: #008000\">'2019-06-05'</span> <span style=\"color: #008000; text-decoration-color: #008000\">'2019-04-01'</span> <span style=\"color: #008000; text-decoration-color: #008000\">'2019-03-13'</span> <span style=\"color: #008000; text-decoration-color: #008000\">'2018-10-27'</span> <span style=\"color: #008000; text-decoration-color: #008000\">'2017-06-02'</span>\n",
       " <span style=\"color: #008000; text-decoration-color: #008000\">'2018-08-31'</span> <span style=\"color: #008000; text-decoration-color: #008000\">'2019-04-20'</span> <span style=\"color: #008000; text-decoration-color: #008000\">'2019-06-08'</span> <span style=\"color: #008000; text-decoration-color: #008000\">'2019-02-01'</span> <span style=\"color: #008000; text-decoration-color: #008000\">'2019-01-08'</span>\n",
       " <span style=\"color: #008000; text-decoration-color: #008000\">'2019-07-06'</span> <span style=\"color: #008000; text-decoration-color: #008000\">'2019-07-22'</span> <span style=\"color: #008000; text-decoration-color: #008000\">'2019-07-24'</span> <span style=\"color: #008000; text-decoration-color: #008000\">'2019-03-19'</span> <span style=\"color: #008000; text-decoration-color: #008000\">'2019-07-09'</span>\n",
       " <span style=\"color: #008000; text-decoration-color: #008000\">'2019-04-09'</span> <span style=\"color: #008000; text-decoration-color: #008000\">'2019-06-18'</span> <span style=\"color: #008000; text-decoration-color: #008000\">'2019-04-05'</span> <span style=\"color: #008000; text-decoration-color: #008000\">'2019-07-25'</span> <span style=\"color: #008000; text-decoration-color: #008000\">'2019-05-09'</span>\n",
       " <span style=\"color: #008000; text-decoration-color: #008000\">'2019-01-09'</span> <span style=\"color: #008000; text-decoration-color: #008000\">'2019-08-27'</span> <span style=\"color: #008000; text-decoration-color: #008000\">'2019-07-29'</span> <span style=\"color: #008000; text-decoration-color: #008000\">'2018-03-23'</span> <span style=\"color: #008000; text-decoration-color: #008000\">'2019-04-26'</span>\n",
       " <span style=\"color: #008000; text-decoration-color: #008000\">'2018-04-29'</span> <span style=\"color: #008000; text-decoration-color: #008000\">'2018-03-17'</span> <span style=\"color: #008000; text-decoration-color: #008000\">'2019-05-07'</span> <span style=\"color: #008000; text-decoration-color: #008000\">'2019-05-22'</span> <span style=\"color: #008000; text-decoration-color: #008000\">'2019-08-10'</span>\n",
       " <span style=\"color: #008000; text-decoration-color: #008000\">'2019-04-11'</span> <span style=\"color: #008000; text-decoration-color: #008000\">'2019-05-28'</span> <span style=\"color: #008000; text-decoration-color: #008000\">'2019-07-21'</span> <span style=\"color: #008000; text-decoration-color: #008000\">'2019-04-17'</span> <span style=\"color: #008000; text-decoration-color: #008000\">'2018-11-06'</span>\n",
       " <span style=\"color: #008000; text-decoration-color: #008000\">'2019-07-02'</span> <span style=\"color: #008000; text-decoration-color: #008000\">'2019-07-11'</span> <span style=\"color: #008000; text-decoration-color: #008000\">'2019-08-02'</span> <span style=\"color: #008000; text-decoration-color: #008000\">'2019-01-24'</span> <span style=\"color: #008000; text-decoration-color: #008000\">'2019-04-06'</span>\n",
       " <span style=\"color: #008000; text-decoration-color: #008000\">'2019-06-11'</span> <span style=\"color: #008000; text-decoration-color: #008000\">'2018-06-01'</span> <span style=\"color: #008000; text-decoration-color: #008000\">'2018-10-17'</span> <span style=\"color: #008000; text-decoration-color: #008000\">'2019-02-19'</span> <span style=\"color: #008000; text-decoration-color: #008000\">'2017-03-09'</span>\n",
       " <span style=\"color: #008000; text-decoration-color: #008000\">'2019-06-06'</span> <span style=\"color: #008000; text-decoration-color: #008000\">'2017-02-03'</span> <span style=\"color: #008000; text-decoration-color: #008000\">'2019-04-12'</span> <span style=\"color: #008000; text-decoration-color: #008000\">'2017-07-27'</span> <span style=\"color: #008000; text-decoration-color: #008000\">'2019-05-15'</span>\n",
       " <span style=\"color: #008000; text-decoration-color: #008000\">'2018-05-22'</span> <span style=\"color: #008000; text-decoration-color: #008000\">'2019-08-13'</span> <span style=\"color: #008000; text-decoration-color: #008000\">'2018-07-19'</span> <span style=\"color: #008000; text-decoration-color: #008000\">'2019-06-12'</span> <span style=\"color: #008000; text-decoration-color: #008000\">'2019-08-22'</span>\n",
       " <span style=\"color: #008000; text-decoration-color: #008000\">'2018-11-26'</span> <span style=\"color: #008000; text-decoration-color: #008000\">'2018-12-19'</span> <span style=\"color: #008000; text-decoration-color: #008000\">'2019-07-26'</span> <span style=\"color: #008000; text-decoration-color: #008000\">'2019-03-21'</span> <span style=\"color: #008000; text-decoration-color: #008000\">'2019-05-04'</span>\n",
       " <span style=\"color: #008000; text-decoration-color: #008000\">'2019-07-16'</span> <span style=\"color: #008000; text-decoration-color: #008000\">'2019-08-06'</span> <span style=\"color: #008000; text-decoration-color: #008000\">'2019-03-22'</span> <span style=\"color: #008000; text-decoration-color: #008000\">'2018-01-12'</span> <span style=\"color: #008000; text-decoration-color: #008000\">'2019-08-03'</span><span style=\"font-weight: bold\">]</span>\n",
       "</pre>\n"
      ],
      "text/plain": [
       "Unique values for : LAST_PRICE_DECREASE_DATE \u001b[1m[\u001b[0m\u001b[1;36m-1\u001b[0m \u001b[32m'2018-09-25'\u001b[0m \u001b[32m'2019-06-14'\u001b[0m \u001b[32m'2019-07-10'\u001b[0m \u001b[32m'2019-07-13'\u001b[0m \u001b[32m'2019-07-17'\u001b[0m\n",
       " \u001b[32m'2017-05-04'\u001b[0m \u001b[32m'2019-07-18'\u001b[0m \u001b[32m'2019-07-19'\u001b[0m \u001b[32m'2019-07-31'\u001b[0m \u001b[32m'2019-04-30'\u001b[0m\n",
       " \u001b[32m'2019-06-29'\u001b[0m \u001b[32m'2019-07-30'\u001b[0m \u001b[32m'2019-06-17'\u001b[0m \u001b[32m'2018-01-30'\u001b[0m \u001b[32m'2019-07-15'\u001b[0m\n",
       " \u001b[32m'2019-08-09'\u001b[0m \u001b[32m'2019-03-17'\u001b[0m \u001b[32m'2019-06-13'\u001b[0m \u001b[32m'2019-04-25'\u001b[0m \u001b[32m'2019-06-15'\u001b[0m\n",
       " \u001b[32m'2019-07-12'\u001b[0m \u001b[32m'2019-08-17'\u001b[0m \u001b[32m'2019-06-26'\u001b[0m \u001b[32m'2019-06-28'\u001b[0m \u001b[32m'2019-03-29'\u001b[0m\n",
       " \u001b[32m'2019-07-23'\u001b[0m \u001b[32m'2019-07-08'\u001b[0m \u001b[32m'2019-04-02'\u001b[0m \u001b[32m'2019-05-30'\u001b[0m \u001b[32m'2019-02-14'\u001b[0m\n",
       " \u001b[32m'2019-06-21'\u001b[0m \u001b[32m'2019-08-21'\u001b[0m \u001b[32m'2019-04-16'\u001b[0m \u001b[32m'2019-06-20'\u001b[0m \u001b[32m'2019-06-04'\u001b[0m\n",
       " \u001b[32m'2019-07-20'\u001b[0m \u001b[32m'2019-08-25'\u001b[0m \u001b[32m'2019-05-11'\u001b[0m \u001b[32m'2019-05-21'\u001b[0m \u001b[32m'2019-05-08'\u001b[0m\n",
       " \u001b[32m'2019-05-29'\u001b[0m \u001b[32m'2019-07-27'\u001b[0m \u001b[32m'2019-07-07'\u001b[0m \u001b[32m'2019-02-28'\u001b[0m \u001b[32m'2019-06-23'\u001b[0m\n",
       " \u001b[32m'2017-05-19'\u001b[0m \u001b[32m'2019-05-19'\u001b[0m \u001b[32m'2019-05-06'\u001b[0m \u001b[32m'2019-06-27'\u001b[0m \u001b[32m'2019-01-02'\u001b[0m\n",
       " \u001b[32m'2018-12-18'\u001b[0m \u001b[32m'2019-07-01'\u001b[0m \u001b[32m'2019-03-20'\u001b[0m \u001b[32m'2019-07-03'\u001b[0m \u001b[32m'2019-08-14'\u001b[0m\n",
       " \u001b[32m'2019-08-15'\u001b[0m \u001b[32m'2019-06-10'\u001b[0m \u001b[32m'2019-08-08'\u001b[0m \u001b[32m'2019-07-14'\u001b[0m \u001b[32m'2019-06-07'\u001b[0m\n",
       " \u001b[32m'2019-04-21'\u001b[0m \u001b[32m'2017-12-27'\u001b[0m \u001b[32m'2019-06-22'\u001b[0m \u001b[32m'2019-08-24'\u001b[0m \u001b[32m'2019-06-24'\u001b[0m\n",
       " \u001b[32m'2019-06-25'\u001b[0m \u001b[32m'2019-04-07'\u001b[0m \u001b[32m'2019-08-07'\u001b[0m \u001b[32m'2019-08-23'\u001b[0m \u001b[32m'2019-07-05'\u001b[0m\n",
       " \u001b[32m'2019-04-04'\u001b[0m \u001b[32m'2019-05-24'\u001b[0m \u001b[32m'2019-04-23'\u001b[0m \u001b[32m'2019-08-05'\u001b[0m \u001b[32m'2019-04-29'\u001b[0m\n",
       " \u001b[32m'2019-06-30'\u001b[0m \u001b[32m'2017-04-11'\u001b[0m \u001b[32m'2017-11-20'\u001b[0m \u001b[32m'2017-03-22'\u001b[0m \u001b[32m'2019-05-27'\u001b[0m\n",
       " \u001b[32m'2019-06-05'\u001b[0m \u001b[32m'2019-04-01'\u001b[0m \u001b[32m'2019-03-13'\u001b[0m \u001b[32m'2018-10-27'\u001b[0m \u001b[32m'2017-06-02'\u001b[0m\n",
       " \u001b[32m'2018-08-31'\u001b[0m \u001b[32m'2019-04-20'\u001b[0m \u001b[32m'2019-06-08'\u001b[0m \u001b[32m'2019-02-01'\u001b[0m \u001b[32m'2019-01-08'\u001b[0m\n",
       " \u001b[32m'2019-07-06'\u001b[0m \u001b[32m'2019-07-22'\u001b[0m \u001b[32m'2019-07-24'\u001b[0m \u001b[32m'2019-03-19'\u001b[0m \u001b[32m'2019-07-09'\u001b[0m\n",
       " \u001b[32m'2019-04-09'\u001b[0m \u001b[32m'2019-06-18'\u001b[0m \u001b[32m'2019-04-05'\u001b[0m \u001b[32m'2019-07-25'\u001b[0m \u001b[32m'2019-05-09'\u001b[0m\n",
       " \u001b[32m'2019-01-09'\u001b[0m \u001b[32m'2019-08-27'\u001b[0m \u001b[32m'2019-07-29'\u001b[0m \u001b[32m'2018-03-23'\u001b[0m \u001b[32m'2019-04-26'\u001b[0m\n",
       " \u001b[32m'2018-04-29'\u001b[0m \u001b[32m'2018-03-17'\u001b[0m \u001b[32m'2019-05-07'\u001b[0m \u001b[32m'2019-05-22'\u001b[0m \u001b[32m'2019-08-10'\u001b[0m\n",
       " \u001b[32m'2019-04-11'\u001b[0m \u001b[32m'2019-05-28'\u001b[0m \u001b[32m'2019-07-21'\u001b[0m \u001b[32m'2019-04-17'\u001b[0m \u001b[32m'2018-11-06'\u001b[0m\n",
       " \u001b[32m'2019-07-02'\u001b[0m \u001b[32m'2019-07-11'\u001b[0m \u001b[32m'2019-08-02'\u001b[0m \u001b[32m'2019-01-24'\u001b[0m \u001b[32m'2019-04-06'\u001b[0m\n",
       " \u001b[32m'2019-06-11'\u001b[0m \u001b[32m'2018-06-01'\u001b[0m \u001b[32m'2018-10-17'\u001b[0m \u001b[32m'2019-02-19'\u001b[0m \u001b[32m'2017-03-09'\u001b[0m\n",
       " \u001b[32m'2019-06-06'\u001b[0m \u001b[32m'2017-02-03'\u001b[0m \u001b[32m'2019-04-12'\u001b[0m \u001b[32m'2017-07-27'\u001b[0m \u001b[32m'2019-05-15'\u001b[0m\n",
       " \u001b[32m'2018-05-22'\u001b[0m \u001b[32m'2019-08-13'\u001b[0m \u001b[32m'2018-07-19'\u001b[0m \u001b[32m'2019-06-12'\u001b[0m \u001b[32m'2019-08-22'\u001b[0m\n",
       " \u001b[32m'2018-11-26'\u001b[0m \u001b[32m'2018-12-19'\u001b[0m \u001b[32m'2019-07-26'\u001b[0m \u001b[32m'2019-03-21'\u001b[0m \u001b[32m'2019-05-04'\u001b[0m\n",
       " \u001b[32m'2019-07-16'\u001b[0m \u001b[32m'2019-08-06'\u001b[0m \u001b[32m'2019-03-22'\u001b[0m \u001b[32m'2018-01-12'\u001b[0m \u001b[32m'2019-08-03'\u001b[0m\u001b[1m]\u001b[0m\n"
      ]
     },
     "metadata": {},
     "output_type": "display_data"
    },
    {
     "data": {
      "text/html": [
       "<pre style=\"white-space:pre;overflow-x:auto;line-height:normal;font-family:Menlo,'DejaVu Sans Mono',consolas,'Courier New',monospace\">Dtype is <span style=\"color: #000080; text-decoration-color: #000080\">object  </span>\n",
       "</pre>\n"
      ],
      "text/plain": [
       "Dtype is \u001b[34mobject  \u001b[0m\n"
      ]
     },
     "metadata": {},
     "output_type": "display_data"
    }
   ],
   "source": [
    "console.print(\"Unique values for : LAST_PRICE_DECREASE_DATE\", df['LAST_PRICE_DECREASE_DATE'].unique())\n",
    "console.print(f\"Dtype is [blue]{df['LAST_PRICE_DECREASE_DATE'].dtype}  [/blue]\")"
   ]
  },
  {
   "cell_type": "code",
   "execution_count": 72,
   "metadata": {},
   "outputs": [
    {
     "data": {
      "text/plain": [
       "0   1969-12-31 23:59:59.999999999\n",
       "1   2018-09-25 00:00:00.000000000\n",
       "Name: LAST_PRICE_DECREASE_DATE, dtype: datetime64[ns]"
      ]
     },
     "execution_count": 72,
     "metadata": {},
     "output_type": "execute_result"
    }
   ],
   "source": [
    "# Convert string to a date format\n",
    "df['LAST_PRICE_DECREASE_DATE'] = pd.to_datetime(df['LAST_PRICE_DECREASE_DATE'])\n",
    "df['LAST_CRAWL_DATE'] = pd.to_datetime(df['LAST_CRAWL_DATE'], format='mixed')\n",
    "df['PUBLICATION_START_DATE'] = pd.to_datetime(df['PUBLICATION_START_DATE'], format='mixed')\n",
    "\n",
    "df['LAST_PRICE_DECREASE_DATE'].head(2)\n",
    "# Note : 1969-12-31 23:59:59.999999999 Stands for NaN"
   ]
  },
  {
   "cell_type": "code",
   "execution_count": 73,
   "metadata": {},
   "outputs": [],
   "source": [
    "# replacing -1 with None for string columns\n",
    "string_columns = [\"CRAWL_SOURCE\", \"PROPERTY_TYPE\", \"DESCRIPTION\", \"HEATING_TYPES\", \"HEATING_MODE\", \"MARKETING_TYPE\", \"DEALER_NAME\", \"DEALER_TYPE\"]\n",
    "for col in string_columns:\n",
    "    df[col]=df[col].replace(-1, \"None\")"
   ]
  },
  {
   "cell_type": "code",
   "execution_count": 74,
   "metadata": {},
   "outputs": [
    {
     "data": {
      "text/plain": [
       "ID                                  object\n",
       "URL                                 object\n",
       "CRAWL_SOURCE                        object\n",
       "PROPERTY_TYPE                       object\n",
       "NEW_BUILD                            int64\n",
       "DESCRIPTION                         object\n",
       "IMAGES                              object\n",
       "SURFACE                            float64\n",
       "LAND_SURFACE                       float64\n",
       "TERRACE_SURFACE                    float64\n",
       "ROOM_COUNT                         float64\n",
       "BEDROOM_COUNT                      float64\n",
       "FURNISHED                            int64\n",
       "GARDEN                               int64\n",
       "SWIMMING_POOL                        int64\n",
       "TERRACE                              int64\n",
       "PARKING                              int64\n",
       "PARKING_COUNT                      float64\n",
       "HEATING_TYPES                       object\n",
       "HEATING_MODE                        object\n",
       "FLOOR                              float64\n",
       "FLOOR_COUNT                        float64\n",
       "CONSTRUCTION_YEAR                  float64\n",
       "ELEVATOR                             int64\n",
       "CARETAKER                            int64\n",
       "MARKETING_TYPE                      object\n",
       "PRICE                              float64\n",
       "PRICE_M2                           float64\n",
       "PRICE_EVENTS                        object\n",
       "RENTAL_EXPENSES                    float64\n",
       "RENTAL_EXPENSES_INCLUDED             int64\n",
       "DEPOSIT                            float64\n",
       "FEES                               float64\n",
       "FEES_INCLUDED                       object\n",
       "EXCLUSIVE_MANDATE                    int64\n",
       "AGENCIES_UNWANTED                    int64\n",
       "OCCUPIED                             int64\n",
       "DEALER_NAME                         object\n",
       "DEALER_TYPE                         object\n",
       "ZIP_CODE                           float64\n",
       "PUBLICATION_START_DATE      datetime64[ns]\n",
       "LAST_CRAWL_DATE             datetime64[ns]\n",
       "LAST_PRICE_DECREASE_DATE    datetime64[ns]\n",
       "ELECTRIC                             int64\n",
       "GAS                                  int64\n",
       "UNDERFLOOR                           int64\n",
       "FUEL                                 int64\n",
       "NUMBER_URL_IMAGES                    int64\n",
       "NUMBER_VALID_IMAGES                  int64\n",
       "dtype: object"
      ]
     },
     "execution_count": 74,
     "metadata": {},
     "output_type": "execute_result"
    }
   ],
   "source": [
    "df.dtypes"
   ]
  },
  {
   "attachments": {},
   "cell_type": "markdown",
   "metadata": {},
   "source": [
    "### iii. Dataset validation"
   ]
  },
  {
   "cell_type": "code",
   "execution_count": 75,
   "metadata": {},
   "outputs": [],
   "source": [
    "import pytest \n",
    "import ipytest \n",
    "ipytest.config.rewrite_asserts=True \n",
    "__file___='notebook.ipynb'"
   ]
  },
  {
   "cell_type": "code",
   "execution_count": 76,
   "metadata": {},
   "outputs": [],
   "source": [
    "df_test = df.copy()\n",
    "\n",
    "\n",
    "@pytest.mark.parametrize(\"df\", [df_test])\n",
    "def test_df_empty_rows(df):\n",
    "    value=df.isna().all(axis=1).sum()\n",
    "    console.print(f\"There are : {value} empty rows\",style=test_theme[value==0] )\n",
    "    assert value==0\n",
    "\n",
    "@pytest.mark.parametrize(\"df\", [df_test])\n",
    "def test_df_uniqueess(df):\n",
    "    df[\"IMAGES\"]=df[\"IMAGES\"].apply(lambda v:str(v))\n",
    "    value = df.duplicated().sum()\n",
    "    console.print(f\"There are : {value} duplicate rows\", style=test_theme[value==0] )\n",
    "    assert value==0\n",
    "\n",
    "@pytest.mark.parametrize(\"df\", [df_test])\n",
    "def test_url_uniqueness(df):\n",
    "    value = len(df[\"URL\"].unique())/len(df)\n",
    "    console.print(f\"There are : {len(df)-len(df['URL'].unique())} duplicate offer URLS\", style=test_theme[value==1] )\n",
    "    assert value ==1\n",
    "\n",
    "@pytest.mark.parametrize(\"df\", [df_test])\n",
    "def test_id_uniqueness(df):\n",
    "    value = len(df[\"ID\"].unique())/len(df)\n",
    "    console.print(f\"There are : {len(df)-len(df['ID'].unique())} duplicate IDS\",style=test_theme[value==1] )\n",
    "    assert value==1\n",
    "\n",
    "@pytest.mark.parametrize(\"df\", [df_test])\n",
    "def test_duplicate_descriptions(df):\n",
    "    value = df[\"DESCRIPTION\"].duplicated().sum()\n",
    "    console.print(f\"There are : {df['DESCRIPTION'].duplicated().sum()} duplicate Descriptions\", style=test_theme[value==0] )\n",
    "    assert value==0\n",
    "\n",
    "@pytest.mark.parametrize(\"df\", [df_test])\n",
    "def test_duplicate_price_events(df):\n",
    "    value = df[\"PRICE_EVENTS\"].duplicated().sum()\n",
    "    console.print(f\"There are : {df['PRICE_EVENTS'].duplicated().sum()} duplicate PRICE_EVENTS\",style=test_theme[value==0] )\n",
    "    assert value==0\n",
    "    \n",
    "@pytest.mark.parametrize(\"df\", [df_test])\n",
    "def test_duplicate_publication_start_date(df):\n",
    "    value = df['PUBLICATION_START_DATE'].duplicated().sum()\n",
    "    console.print(f\"There are : {value} duplicate PUBLICATION_START_DATE\" ,style=test_theme[value==0] )\n",
    "    assert value==0\n",
    "    \n",
    "@pytest.mark.parametrize(\"df\", [df_test])\n",
    "def test_duplicate_images_url_same_rows(df):\n",
    "    # Create an empty list to store duplicated URLs\n",
    "    duplicated_urls = []\n",
    "\n",
    "    # Iterate over each row in the dataframe\n",
    "    for index, row in df.iterrows():\n",
    "        # Extract the list of URLs from the row\n",
    "        url_list = json.loads(row['IMAGES'])\n",
    "\n",
    "        # Check for duplicate URLs within the list\n",
    "        if len(url_list) != len(set(url_list)):\n",
    "\n",
    "            # Append the row index to the duplicated_urls list\n",
    "            duplicated_urls.append(index)\n",
    "            \n",
    "    value = len(duplicated_urls)\n",
    "    console.print(f\"There are {value} with duplicate instances of images url\",style=test_theme[value==0] )\n",
    "    assert value==0\n",
    "\n",
    "@pytest.mark.parametrize(\"df\", [df_test])\n",
    "def test_url_validity(df):\n",
    "    invalid = df[\"NUMBER_URL_IMAGES\"].sum()-df[\"NUMBER_VALID_IMAGES\"].sum()\n",
    "    percent=100*invalid/df[\"NUMBER_URL_IMAGES\"].sum()\n",
    "    console.print(f\"There are : {invalid} invalid Image URLS ({percent:.2f}%)\" )\n",
    "    assert invalid==0\n"
   ]
  },
  {
   "cell_type": "code",
   "execution_count": null,
   "metadata": {},
   "outputs": [
    {
     "name": "stdout",
     "output_type": "stream",
     "text": [
      "\u001b[1m======================================= test session starts ========================================\u001b[0m\n",
      "platform linux -- Python 3.8.16, pytest-7.3.2, pluggy-1.0.0 -- /home/odeck/miniconda3/envs/duplicate/bin/python\n",
      "cachedir: .pytest_cache\n",
      "rootdir: /home/odeck/Desktop/duplicate-ads\n",
      "plugins: anyio-3.5.0\n",
      "\u001b[1mcollecting ... \u001b[0mcollected 9 items\n",
      "\n",
      "t_93ccc1307dc44ec79b9accb47c4f78e6.py::test_df_empty_rows[df0] "
     ]
    },
    {
     "data": {
      "text/html": [
       "<pre style=\"white-space:pre;overflow-x:auto;line-height:normal;font-family:Menlo,'DejaVu Sans Mono',consolas,'Courier New',monospace\"><span style=\"color: #008000; text-decoration-color: #008000; font-weight: bold\">There are : </span><span style=\"color: #008080; text-decoration-color: #008080; font-weight: bold\">0</span><span style=\"color: #008000; text-decoration-color: #008000; font-weight: bold\"> empty rows</span>\n",
       "</pre>\n"
      ],
      "text/plain": [
       "\u001b[1;52;32mThere are : \u001b[0m\u001b[1;52;36m0\u001b[0m\u001b[1;52;32m empty rows\u001b[0m\n"
      ]
     },
     "metadata": {},
     "output_type": "display_data"
    },
    {
     "name": "stdout",
     "output_type": "stream",
     "text": [
      "\u001b[32mPASSED\u001b[0m\n",
      "t_93ccc1307dc44ec79b9accb47c4f78e6.py::test_df_uniqueess[df0] "
     ]
    },
    {
     "data": {
      "text/html": [
       "<pre style=\"white-space:pre;overflow-x:auto;line-height:normal;font-family:Menlo,'DejaVu Sans Mono',consolas,'Courier New',monospace\"><span style=\"color: #008000; text-decoration-color: #008000; font-weight: bold\">There are : </span><span style=\"color: #008080; text-decoration-color: #008080; font-weight: bold\">0</span><span style=\"color: #008000; text-decoration-color: #008000; font-weight: bold\"> duplicate rows</span>\n",
       "</pre>\n"
      ],
      "text/plain": [
       "\u001b[1;52;32mThere are : \u001b[0m\u001b[1;52;36m0\u001b[0m\u001b[1;52;32m duplicate rows\u001b[0m\n"
      ]
     },
     "metadata": {},
     "output_type": "display_data"
    },
    {
     "name": "stdout",
     "output_type": "stream",
     "text": [
      "\u001b[32mPASSED\u001b[0m\n",
      "t_93ccc1307dc44ec79b9accb47c4f78e6.py::test_url_uniqueness[df0] "
     ]
    },
    {
     "data": {
      "text/html": [
       "<pre style=\"white-space:pre;overflow-x:auto;line-height:normal;font-family:Menlo,'DejaVu Sans Mono',consolas,'Courier New',monospace\"><span style=\"color: #008000; text-decoration-color: #008000; font-weight: bold\">There are : </span><span style=\"color: #008080; text-decoration-color: #008080; font-weight: bold\">0</span><span style=\"color: #008000; text-decoration-color: #008000; font-weight: bold\"> duplicate offer URLS</span>\n",
       "</pre>\n"
      ],
      "text/plain": [
       "\u001b[1;52;32mThere are : \u001b[0m\u001b[1;52;36m0\u001b[0m\u001b[1;52;32m duplicate offer URLS\u001b[0m\n"
      ]
     },
     "metadata": {},
     "output_type": "display_data"
    },
    {
     "name": "stdout",
     "output_type": "stream",
     "text": [
      "\u001b[32mPASSED\u001b[0m\n",
      "t_93ccc1307dc44ec79b9accb47c4f78e6.py::test_id_uniqueness[df0] "
     ]
    },
    {
     "data": {
      "text/html": [
       "<pre style=\"white-space:pre;overflow-x:auto;line-height:normal;font-family:Menlo,'DejaVu Sans Mono',consolas,'Courier New',monospace\"><span style=\"color: #008000; text-decoration-color: #008000; font-weight: bold\">There are : </span><span style=\"color: #008080; text-decoration-color: #008080; font-weight: bold\">0</span><span style=\"color: #008000; text-decoration-color: #008000; font-weight: bold\"> duplicate IDS</span>\n",
       "</pre>\n"
      ],
      "text/plain": [
       "\u001b[1;52;32mThere are : \u001b[0m\u001b[1;52;36m0\u001b[0m\u001b[1;52;32m duplicate IDS\u001b[0m\n"
      ]
     },
     "metadata": {},
     "output_type": "display_data"
    },
    {
     "name": "stdout",
     "output_type": "stream",
     "text": [
      "\u001b[32mPASSED\u001b[0m\n",
      "t_93ccc1307dc44ec79b9accb47c4f78e6.py::test_duplicate_descriptions[df0] "
     ]
    },
    {
     "data": {
      "text/html": [
       "<pre style=\"white-space:pre;overflow-x:auto;line-height:normal;font-family:Menlo,'DejaVu Sans Mono',consolas,'Courier New',monospace\"><span style=\"color: #800000; text-decoration-color: #800000; font-weight: bold\">There are : </span><span style=\"color: #008080; text-decoration-color: #008080; font-weight: bold\">249</span><span style=\"color: #800000; text-decoration-color: #800000; font-weight: bold\"> duplicate Descriptions</span>\n",
       "</pre>\n"
      ],
      "text/plain": [
       "\u001b[1;31mThere are : \u001b[0m\u001b[1;36m249\u001b[0m\u001b[1;31m duplicate Descriptions\u001b[0m\n"
      ]
     },
     "metadata": {},
     "output_type": "display_data"
    },
    {
     "name": "stdout",
     "output_type": "stream",
     "text": [
      "\u001b[31mFAILED\u001b[0m\n",
      "t_93ccc1307dc44ec79b9accb47c4f78e6.py::test_duplicate_price_events[df0] "
     ]
    },
    {
     "data": {
      "text/html": [
       "<pre style=\"white-space:pre;overflow-x:auto;line-height:normal;font-family:Menlo,'DejaVu Sans Mono',consolas,'Courier New',monospace\"><span style=\"color: #800000; text-decoration-color: #800000; font-weight: bold\">There are : </span><span style=\"color: #008080; text-decoration-color: #008080; font-weight: bold\">431</span><span style=\"color: #800000; text-decoration-color: #800000; font-weight: bold\"> duplicate PRICE_EVENTS</span>\n",
       "</pre>\n"
      ],
      "text/plain": [
       "\u001b[1;31mThere are : \u001b[0m\u001b[1;36m431\u001b[0m\u001b[1;31m duplicate PRICE_EVENTS\u001b[0m\n"
      ]
     },
     "metadata": {},
     "output_type": "display_data"
    },
    {
     "name": "stdout",
     "output_type": "stream",
     "text": [
      "\u001b[31mFAILED\u001b[0m\n",
      "t_93ccc1307dc44ec79b9accb47c4f78e6.py::test_duplicate_publication_start_date[df0] "
     ]
    },
    {
     "data": {
      "text/html": [
       "<pre style=\"white-space:pre;overflow-x:auto;line-height:normal;font-family:Menlo,'DejaVu Sans Mono',consolas,'Courier New',monospace\"><span style=\"color: #800000; text-decoration-color: #800000; font-weight: bold\">There are : </span><span style=\"color: #008080; text-decoration-color: #008080; font-weight: bold\">61</span><span style=\"color: #800000; text-decoration-color: #800000; font-weight: bold\"> duplicate PUBLICATION_START_DATE</span>\n",
       "</pre>\n"
      ],
      "text/plain": [
       "\u001b[1;31mThere are : \u001b[0m\u001b[1;36m61\u001b[0m\u001b[1;31m duplicate PUBLICATION_START_DATE\u001b[0m\n"
      ]
     },
     "metadata": {},
     "output_type": "display_data"
    },
    {
     "name": "stdout",
     "output_type": "stream",
     "text": [
      "\u001b[31mFAILED\u001b[0m\n",
      "t_93ccc1307dc44ec79b9accb47c4f78e6.py::test_duplicate_images_url_same_rows[df0] "
     ]
    },
    {
     "data": {
      "text/html": [
       "<pre style=\"white-space:pre;overflow-x:auto;line-height:normal;font-family:Menlo,'DejaVu Sans Mono',consolas,'Courier New',monospace\"><span style=\"color: #800000; text-decoration-color: #800000; font-weight: bold\">There are </span><span style=\"color: #008080; text-decoration-color: #008080; font-weight: bold\">16</span><span style=\"color: #800000; text-decoration-color: #800000; font-weight: bold\"> with duplicate instances of images url</span>\n",
       "</pre>\n"
      ],
      "text/plain": [
       "\u001b[1;31mThere are \u001b[0m\u001b[1;36m16\u001b[0m\u001b[1;31m with duplicate instances of images url\u001b[0m\n"
      ]
     },
     "metadata": {},
     "output_type": "display_data"
    },
    {
     "name": "stdout",
     "output_type": "stream",
     "text": [
      "\u001b[31mFAILED\u001b[0m\n",
      "t_93ccc1307dc44ec79b9accb47c4f78e6.py::test_url_validity[df0] "
     ]
    },
    {
     "data": {
      "text/html": [
       "<pre style=\"white-space:pre;overflow-x:auto;line-height:normal;font-family:Menlo,'DejaVu Sans Mono',consolas,'Courier New',monospace\">There are : <span style=\"color: #008080; text-decoration-color: #008080; font-weight: bold\">3902</span> invalid Image URLS <span style=\"font-weight: bold\">(</span><span style=\"color: #008080; text-decoration-color: #008080; font-weight: bold\">31.01</span>%<span style=\"font-weight: bold\">)</span>\n",
       "</pre>\n"
      ],
      "text/plain": [
       "There are : \u001b[1;36m3902\u001b[0m invalid Image URLS \u001b[1m(\u001b[0m\u001b[1;36m31.01\u001b[0m%\u001b[1m)\u001b[0m\n"
      ]
     },
     "metadata": {},
     "output_type": "display_data"
    },
    {
     "name": "stdout",
     "output_type": "stream",
     "text": [
      "\u001b[31mFAILED\u001b[0m\n",
      "\n",
      "\u001b[33m========================================= warnings summary =========================================\u001b[0m\n",
      "../../miniconda3/envs/duplicate/lib/python3.8/site-packages/_pytest/cacheprovider.py:433\n",
      "  /home/odeck/miniconda3/envs/duplicate/lib/python3.8/site-packages/_pytest/cacheprovider.py:433: PytestCacheWarning: cache could not write path /home/odeck/Desktop/duplicate-ads/.pytest_cache/v/cache/nodeids\n",
      "    config.cache.set(\"cache/nodeids\", sorted(self.cached_nodeids))\n",
      "\n",
      "../../miniconda3/envs/duplicate/lib/python3.8/site-packages/_pytest/cacheprovider.py:387\n",
      "  /home/odeck/miniconda3/envs/duplicate/lib/python3.8/site-packages/_pytest/cacheprovider.py:387: PytestCacheWarning: cache could not write path /home/odeck/Desktop/duplicate-ads/.pytest_cache/v/cache/lastfailed\n",
      "    config.cache.set(\"cache/lastfailed\", self.lastfailed)\n",
      "\n",
      "../../miniconda3/envs/duplicate/lib/python3.8/site-packages/_pytest/stepwise.py:56\n",
      "  /home/odeck/miniconda3/envs/duplicate/lib/python3.8/site-packages/_pytest/stepwise.py:56: PytestCacheWarning: cache could not write path /home/odeck/Desktop/duplicate-ads/.pytest_cache/v/cache/stepwise\n",
      "    session.config.cache.set(STEPWISE_CACHE_DIR, [])\n",
      "\n",
      "-- Docs: https://docs.pytest.org/en/stable/how-to/capture-warnings.html\n",
      "\u001b[36m\u001b[1m===================================== short test summary info ======================================\u001b[0m\n",
      "\u001b[31mFAILED\u001b[0m t_93ccc1307dc44ec79b9accb47c4f78e6.py::\u001b[1mtest_duplicate_descriptions[df0]\u001b[0m - AssertionError\n",
      "\u001b[31mFAILED\u001b[0m t_93ccc1307dc44ec79b9accb47c4f78e6.py::\u001b[1mtest_duplicate_price_events[df0]\u001b[0m - AssertionError\n",
      "\u001b[31mFAILED\u001b[0m t_93ccc1307dc44ec79b9accb47c4f78e6.py::\u001b[1mtest_duplicate_publication_start_date[df0]\u001b[0m - AssertionError\n",
      "\u001b[31mFAILED\u001b[0m t_93ccc1307dc44ec79b9accb47c4f78e6.py::\u001b[1mtest_duplicate_images_url_same_rows[df0]\u001b[0m - AssertionError\n",
      "\u001b[31mFAILED\u001b[0m t_93ccc1307dc44ec79b9accb47c4f78e6.py::\u001b[1mtest_url_validity[df0]\u001b[0m - AssertionError\n",
      "\u001b[31m============================= \u001b[31m\u001b[1m5 failed\u001b[0m, \u001b[32m4 passed\u001b[0m, \u001b[33m3 warnings\u001b[0m\u001b[31m in 0.16s\u001b[0m\u001b[31m ==============================\u001b[0m\n"
     ]
    },
    {
     "data": {
      "text/plain": [
       "<ExitCode.TESTS_FAILED: 1>"
      ]
     },
     "execution_count": 22,
     "metadata": {},
     "output_type": "execute_result"
    }
   ],
   "source": [
    "ipytest.run(\"-s\", \"--capture=no\", \"--tb=no\", \"-v\")"
   ]
  },
  {
   "cell_type": "code",
   "execution_count": null,
   "metadata": {},
   "outputs": [],
   "source": [
    "# Droping unused/non-useful columns "
   ]
  },
  {
   "cell_type": "code",
   "execution_count": 77,
   "metadata": {},
   "outputs": [],
   "source": [
    "drop_columns = [\"URL\", \"IMAGES\", \"HEATING_TYPES\", \"ZIP_CODE\"] # There is only one row with NaN ZIP Code\n",
    "df.drop(columns = drop_columns, inplace=True)"
   ]
  },
  {
   "attachments": {},
   "cell_type": "markdown",
   "metadata": {},
   "source": [
    "## 1. preparing the dataset :"
   ]
  },
  {
   "attachments": {},
   "cell_type": "markdown",
   "metadata": {},
   "source": [
    "A perfect solution to this problem would be to embed each offer into a an abstract space where each point or instance is a numerical representation of an offer. Then we can define a distance over such space. Duplicate offers or ads are the instances that have a `distance = 0` between each other. The main issue here is that two duplicate offers can have a `distance > 0`. For example, a user can post the same offer on two sites `bienici` and `leboncoin`. But post different number of pictures, or slightly change the description, add more info, etc between each site.\n",
    "\n",
    "To solve this issue we'll try to solve this problem by two methods :\n",
    "\n",
    "- Textual representation\n",
    "- Image embeddings\n",
    "\n",
    "\n",
    "####  Edge cases to look out for :\n",
    "\n",
    "- Duplicate images of logos / Empty images / Floor plans\n",
    "- Offer for rent and offer for sale at the same time can be counted as duplicates\n",
    "- Information mismatch between duplicate offers in two different sites or posts"
   ]
  },
  {
   "cell_type": "code",
   "execution_count": 101,
   "metadata": {},
   "outputs": [],
   "source": [
    "import fiftyone as fo\n",
    "from tqdm import tqdm\n",
    "import pandas as pd\n",
    "import glob\n",
    "import fiftyone.brain as fob\n",
    "import fiftyone.core.utils as fou\n",
    "from collections import Counter\n",
    "from fiftyone import ViewField as F\n",
    "from fiftyone.core.plots.views import * "
   ]
  },
  {
   "cell_type": "code",
   "execution_count": 79,
   "metadata": {},
   "outputs": [],
   "source": [
    "def prepare_fiftyone_dataset(df):\n",
    "\n",
    "    # Create samples for our data\n",
    "    samples = []\n",
    "    for i, row in tqdm(df.iterrows(), total=len(df)):\n",
    "\n",
    "        id_annonce= row[\"ID\"]\n",
    "        filepaths = glob.glob(f\"data/images/{id_annonce}/*.png\")\n",
    "\n",
    "        # Instances that have images \n",
    "        if(len(filepaths)>0):\n",
    "            for j,filepath in enumerate(filepaths) :\n",
    "                sample = fo.Sample(filepath=filepath)\n",
    "\n",
    "                # computing hash for individual images\n",
    "                sample[\"file_hash\"] = fou.compute_filehash(sample.filepath)\n",
    "\n",
    "                for key in row.keys():\n",
    "                    sample[key]=row[key]\n",
    "\n",
    "                samples.append(sample)\n",
    "    return samples\n"
   ]
  },
  {
   "cell_type": "code",
   "execution_count": 80,
   "metadata": {},
   "outputs": [
    {
     "name": "stderr",
     "output_type": "stream",
     "text": [
      "100%|██████████| 2164/2164 [00:05<00:00, 412.46it/s]\n"
     ]
    }
   ],
   "source": [
    "samples = prepare_fiftyone_dataset(df)"
   ]
  },
  {
   "cell_type": "code",
   "execution_count": 81,
   "metadata": {},
   "outputs": [
    {
     "name": "stdout",
     "output_type": "stream",
     "text": [
      " 100% |███████████████| 8682/8682 [4.9s elapsed, 0s remaining, 2.1K samples/s]        \n",
      "Computing metadata...\n",
      " 100% |███████████████| 8682/8682 [1.1m elapsed, 0s remaining, 271.4 samples/s]      \n"
     ]
    }
   ],
   "source": [
    "dataset = fo.Dataset(\"Dataset-sms\")\n",
    "dataset.add_samples(samples)\n",
    "dataset.compute_metadata()"
   ]
  },
  {
   "cell_type": "code",
   "execution_count": 83,
   "metadata": {},
   "outputs": [
    {
     "data": {
      "text/plain": [
       "Name:        Dataset-sms\n",
       "Media type:  image\n",
       "Num samples: 8682\n",
       "Persistent:  False\n",
       "Tags:        []\n",
       "Sample fields:\n",
       "    id:                       fiftyone.core.fields.ObjectIdField\n",
       "    filepath:                 fiftyone.core.fields.StringField\n",
       "    tags:                     fiftyone.core.fields.ListField(fiftyone.core.fields.StringField)\n",
       "    metadata:                 fiftyone.core.fields.EmbeddedDocumentField(fiftyone.core.metadata.ImageMetadata)\n",
       "    file_hash:                fiftyone.core.fields.IntField\n",
       "    ID:                       fiftyone.core.fields.StringField\n",
       "    CRAWL_SOURCE:             fiftyone.core.fields.StringField\n",
       "    PROPERTY_TYPE:            fiftyone.core.fields.StringField\n",
       "    NEW_BUILD:                fiftyone.core.fields.IntField\n",
       "    DESCRIPTION:              fiftyone.core.fields.StringField\n",
       "    SURFACE:                  fiftyone.core.fields.FloatField\n",
       "    LAND_SURFACE:             fiftyone.core.fields.FloatField\n",
       "    TERRACE_SURFACE:          fiftyone.core.fields.FloatField\n",
       "    ROOM_COUNT:               fiftyone.core.fields.FloatField\n",
       "    BEDROOM_COUNT:            fiftyone.core.fields.FloatField\n",
       "    FURNISHED:                fiftyone.core.fields.IntField\n",
       "    GARDEN:                   fiftyone.core.fields.IntField\n",
       "    SWIMMING_POOL:            fiftyone.core.fields.IntField\n",
       "    TERRACE:                  fiftyone.core.fields.IntField\n",
       "    PARKING:                  fiftyone.core.fields.IntField\n",
       "    PARKING_COUNT:            fiftyone.core.fields.FloatField\n",
       "    HEATING_MODE:             fiftyone.core.fields.StringField\n",
       "    FLOOR:                    fiftyone.core.fields.FloatField\n",
       "    FLOOR_COUNT:              fiftyone.core.fields.FloatField\n",
       "    CONSTRUCTION_YEAR:        fiftyone.core.fields.FloatField\n",
       "    ELEVATOR:                 fiftyone.core.fields.IntField\n",
       "    CARETAKER:                fiftyone.core.fields.IntField\n",
       "    MARKETING_TYPE:           fiftyone.core.fields.StringField\n",
       "    PRICE:                    fiftyone.core.fields.FloatField\n",
       "    PRICE_M2:                 fiftyone.core.fields.FloatField\n",
       "    PRICE_EVENTS:             fiftyone.core.fields.StringField\n",
       "    RENTAL_EXPENSES:          fiftyone.core.fields.FloatField\n",
       "    RENTAL_EXPENSES_INCLUDED: fiftyone.core.fields.IntField\n",
       "    DEPOSIT:                  fiftyone.core.fields.FloatField\n",
       "    FEES:                     fiftyone.core.fields.FloatField\n",
       "    FEES_INCLUDED:            fiftyone.core.fields.IntField\n",
       "    EXCLUSIVE_MANDATE:        fiftyone.core.fields.IntField\n",
       "    AGENCIES_UNWANTED:        fiftyone.core.fields.IntField\n",
       "    OCCUPIED:                 fiftyone.core.fields.IntField\n",
       "    DEALER_NAME:              fiftyone.core.fields.StringField\n",
       "    DEALER_TYPE:              fiftyone.core.fields.StringField\n",
       "    PUBLICATION_START_DATE:   fiftyone.core.fields.DateTimeField\n",
       "    LAST_CRAWL_DATE:          fiftyone.core.fields.DateTimeField\n",
       "    LAST_PRICE_DECREASE_DATE: fiftyone.core.fields.DateTimeField\n",
       "    ELECTRIC:                 fiftyone.core.fields.IntField\n",
       "    GAS:                      fiftyone.core.fields.IntField\n",
       "    UNDERFLOOR:               fiftyone.core.fields.IntField\n",
       "    FUEL:                     fiftyone.core.fields.IntField\n",
       "    NUMBER_URL_IMAGES:        fiftyone.core.fields.IntField\n",
       "    NUMBER_VALID_IMAGES:      fiftyone.core.fields.IntField"
      ]
     },
     "execution_count": 83,
     "metadata": {},
     "output_type": "execute_result"
    }
   ],
   "source": [
    "dataset"
   ]
  },
  {
   "cell_type": "code",
   "execution_count": 126,
   "metadata": {},
   "outputs": [],
   "source": [
    "# Define some interesting plots\n",
    "plot1 = NumericalHistogram(F(\"metadata.size_bytes\"), bins=50, xlabel=\"image size (KB)\")\n",
    "plot2 = fo.CategoricalHistogram(\"PROPERTY_TYPE\", order=\"frequency\")\n",
    "plot3 = fo.CategoricalHistogram(\"DEALER_TYPE\", order=\"frequency\")\n",
    "plot4 = fo.CategoricalHistogram(\"HEATING_MODE\", order=\"frequency\")\n",
    "plot5 = fo.NumericalHistogram(\"PRICE\")\n",
    "plot6 = fo.CategoricalHistogram(\"CRAWL_SOURCE\")\n"
   ]
  },
  {
   "cell_type": "code",
   "execution_count": 130,
   "metadata": {},
   "outputs": [
    {
     "data": {},
     "metadata": {},
     "output_type": "display_data"
    },
    {
     "data": {
      "text/plain": []
     },
     "metadata": {},
     "output_type": "display_data"
    },
    {
     "data": {
      "application/vnd.jupyter.widget-view+json": {
       "model_id": "3f011fd42f3e4f0da442a240f802c4bc",
       "version_major": 2,
       "version_minor": 0
      },
      "text/plain": [
       "FigureWidget({\n",
       "    'data': [{'hovertemplate': ('<b>count: %{y}</b><br>value: [' ... 'omdata[1]:.2f}]<extra></extra>'),\n",
       "              'marker': {'color': '#FF6D04'},\n",
       "              'offset': 0,\n",
       "              'type': 'bar',\n",
       "              'uid': '33fe1fcb-7a4c-43a0-abef-c0dcb896de2c',\n",
       "              'xaxis': 'x',\n",
       "              'yaxis': 'y'},\n",
       "             {'hovertemplate': '<b>PROPERTY_TYPE: %{x}</b><br>count: %{y}<extra></extra>',\n",
       "              'marker': {'color': '#FF6D04'},\n",
       "              'type': 'bar',\n",
       "              'uid': '9c3239c2-b749-4ee9-a0b5-c5dc77e80d05',\n",
       "              'xaxis': 'x2',\n",
       "              'yaxis': 'y2'},\n",
       "             {'hovertemplate': '<b>DEALER_TYPE: %{x}</b><br>count: %{y}<extra></extra>',\n",
       "              'marker': {'color': '#FF6D04'},\n",
       "              'type': 'bar',\n",
       "              'uid': '9a7c352b-024a-4207-91e9-872391bc2318',\n",
       "              'xaxis': 'x3',\n",
       "              'yaxis': 'y3'},\n",
       "             {'hovertemplate': '<b>HEATING_MODE: %{x}</b><br>count: %{y}<extra></extra>',\n",
       "              'marker': {'color': '#FF6D04'},\n",
       "              'type': 'bar',\n",
       "              'uid': '9321a268-f463-4ff2-b446-9d41ba58ef91',\n",
       "              'xaxis': 'x4',\n",
       "              'yaxis': 'y4'},\n",
       "             {'hovertemplate': ('<b>count: %{y}</b><br>PRICE: [' ... 'omdata[1]:.2f}]<extra></extra>'),\n",
       "              'marker': {'color': '#FF6D04'},\n",
       "              'offset': 0,\n",
       "              'type': 'bar',\n",
       "              'uid': '591e9d47-01b7-4542-8639-f0a9b9fce906',\n",
       "              'xaxis': 'x5',\n",
       "              'yaxis': 'y5'},\n",
       "             {'hovertemplate': '<b>CRAWL_SOURCE: %{x}</b><br>count: %{y}<extra></extra>',\n",
       "              'marker': {'color': '#FF6D04'},\n",
       "              'type': 'bar',\n",
       "              'uid': '701d2a96-5231-4b4c-9f58-143acfe2f193',\n",
       "              'xaxis': 'x6',\n",
       "              'yaxis': 'y6'}],\n",
       "    'layout': {'height': 800,\n",
       "               'margin': {'b': 0, 'l': 0, 'r': 0, 't': 30},\n",
       "               'showlegend': False,\n",
       "               'template': '...',\n",
       "               'xaxis': {'anchor': 'y', 'domain': [0.0, 0.2888888888888889], 'title': {'text': 'image size (KB)'}},\n",
       "               'xaxis2': {'anchor': 'y2',\n",
       "                          'domain': [0.35555555555555557, 0.6444444444444445],\n",
       "                          'title': {'text': 'PROPERTY_TYPE'}},\n",
       "               'xaxis3': {'anchor': 'y3', 'domain': [0.7111111111111111, 1.0], 'title': {'text': 'DEALER_TYPE'}},\n",
       "               'xaxis4': {'anchor': 'y4', 'domain': [0.0, 0.2888888888888889], 'title': {'text': 'HEATING_MODE'}},\n",
       "               'xaxis5': {'anchor': 'y5', 'domain': [0.35555555555555557, 0.6444444444444445], 'title': {'text': 'PRICE'}},\n",
       "               'xaxis6': {'anchor': 'y6', 'domain': [0.7111111111111111, 1.0], 'title': {'text': 'CRAWL_SOURCE'}},\n",
       "               'yaxis': {'anchor': 'x', 'domain': [0.575, 1.0], 'title': {'text': 'count'}},\n",
       "               'yaxis2': {'anchor': 'x2', 'domain': [0.575, 1.0], 'title': {'text': 'count'}},\n",
       "               'yaxis3': {'anchor': 'x3', 'domain': [0.575, 1.0], 'title': {'text': 'count'}},\n",
       "               'yaxis4': {'anchor': 'x4', 'domain': [0.0, 0.425], 'title': {'text': 'count'}},\n",
       "               'yaxis5': {'anchor': 'x5', 'domain': [0.0, 0.425], 'title': {'text': 'count'}},\n",
       "               'yaxis6': {'anchor': 'x6', 'domain': [0.0, 0.425], 'title': {'text': 'count'}}}\n",
       "})"
      ]
     },
     "metadata": {},
     "output_type": "display_data"
    }
   ],
   "source": [
    "plots = [plot1, plot2, plot3, plot4, plot5, plot6]\n",
    "plot = fo.ViewGrid(plots)\n",
    "plot.show(height=800)\n",
    "plot.update_view(dataset.view())\n",
    "plot.connect()\n",
    "# plot.save(\"./histogram.jpg\", scale=2.0)\n",
    "\n"
   ]
  },
  {
   "cell_type": "code",
   "execution_count": 90,
   "metadata": {},
   "outputs": [
    {
     "data": {
      "text/html": [
       "\n",
       "        <iframe\n",
       "            width=\"100%\"\n",
       "            height=\"800\"\n",
       "            src=\"http://localhost:5151/?notebook=True&subscription=ae5aee45-d0e8-4620-8553-76505b6da32d\"\n",
       "            frameborder=\"0\"\n",
       "            allowfullscreen\n",
       "            \n",
       "        ></iframe>\n",
       "        "
      ],
      "text/plain": [
       "<IPython.lib.display.IFrame at 0x7f46f3c1cfa0>"
      ]
     },
     "metadata": {},
     "output_type": "display_data"
    }
   ],
   "source": [
    "session = fo.launch_app(dataset)"
   ]
  },
  {
   "cell_type": "code",
   "execution_count": 131,
   "metadata": {},
   "outputs": [
    {
     "name": "stdout",
     "output_type": "stream",
     "text": [
      "Computing embeddings...\n"
     ]
    },
    {
     "name": "stderr",
     "output_type": "stream",
     "text": [
      "/home/odeck/miniconda3/envs/duplicate/lib/python3.8/site-packages/fiftyone/utils/torch.py:691: RuntimeWarning:\n",
      "\n",
      "overflow encountered in exp\n",
      "\n",
      "/home/odeck/miniconda3/envs/duplicate/lib/python3.8/site-packages/fiftyone/utils/torch.py:692: RuntimeWarning:\n",
      "\n",
      "invalid value encountered in divide\n",
      "\n"
     ]
    },
    {
     "name": "stdout",
     "output_type": "stream",
     "text": [
      "Computing uniqueness...\n"
     ]
    }
   ],
   "source": [
    "results = fob.compute_uniqueness(dataset)\n",
    "plot = results.visualize(labels=\"uniqueness\", axis_equal=True)\n",
    "# plot.save(\"./embeddings.png\", height=300, width=800)\n",
    "# figure = results.plot_confusion_matrix(\n",
    "#     classes=classes, backend=\"matplotlib\", figsize=(10, 10)\n",
    "# )\n",
    "# plt.show(block=False)\n"
   ]
  },
  {
   "cell_type": "code",
   "execution_count": null,
   "metadata": {},
   "outputs": [],
   "source": [
    "\n",
    "# loading the images\n",
    "subset = 100\n",
    "size = (200, 200)\n",
    "embeddings = []\n",
    "for f in tqdm(dataset.values(\"filepath\")[:subset]) : \n",
    "    emb =  Image.open(f).resize(size) # resizing the images \n",
    "    embeddings.append(np.array(emb).ravel())\n",
    "\n",
    "embeddings=np.array(embeddings)\n",
    "print(embeddings.shape)\n",
    "\n",
    "# Compute 2D representation\n",
    "results = fob.compute_visualization(\n",
    "    dataset[:subset],\n",
    "    embeddings=embeddings,\n",
    "    num_dims=2,\n",
    "    method=\"umap\", # Uniform Manifold Approximation and Projection for Dimension Reduction\n",
    "    brain_key=\"umap_embeds\",\n",
    "    verbose=True,\n",
    "    seed=51,\n",
    ")\n",
    "\n",
    "# Compute 2D embeddings\n",
    "results = fob.compute_visualization(dataset[:subset], embeddings=embeddings, seed=51)\n",
    "\n",
    "# Visualize embeddings, colored by ground truth label\n",
    "plot = results.visualize() # label = \"\"\n",
    "session.plots.attach(plot)\n",
    "plot.show(height=720)"
   ]
  },
  {
   "cell_type": "code",
   "execution_count": null,
   "metadata": {},
   "outputs": [],
   "source": [
    "session.view = dataset.sort_by(\"uniqueness\").limit(200)"
   ]
  },
  {
   "cell_type": "code",
   "execution_count": null,
   "metadata": {},
   "outputs": [
    {
     "data": {
      "text/plain": [
       "Name:        Dataset-2\n",
       "Media type:  image\n",
       "Num samples: 8682\n",
       "Persistent:  False\n",
       "Tags:        []\n",
       "Sample fields:\n",
       "    id:        fiftyone.core.fields.ObjectIdField\n",
       "    filepath:  fiftyone.core.fields.StringField\n",
       "    tags:      fiftyone.core.fields.ListField(fiftyone.core.fields.StringField)\n",
       "    metadata:  fiftyone.core.fields.EmbeddedDocumentField(fiftyone.core.metadata.ImageMetadata)\n",
       "    file_hash: fiftyone.core.fields.IntField\n",
       "    ID:        fiftyone.core.fields.StringField"
      ]
     },
     "execution_count": 33,
     "metadata": {},
     "output_type": "execute_result"
    }
   ],
   "source": [
    "dataset"
   ]
  },
  {
   "cell_type": "code",
   "execution_count": null,
   "metadata": {},
   "outputs": [
    {
     "ename": "TypeError",
     "evalue": "'int' object is not iterable",
     "output_type": "error",
     "traceback": [
      "\u001b[0;31m---------------------------------------------------------------------------\u001b[0m",
      "\u001b[0;31mTypeError\u001b[0m                                 Traceback (most recent call last)",
      "Cell \u001b[0;32mIn[40], line 1\u001b[0m\n\u001b[0;32m----> 1\u001b[0m dataset\u001b[39m.\u001b[39;49msort_by_similarity(\u001b[39m100\u001b[39;49m)\n",
      "File \u001b[0;32m~/miniconda3/envs/duplicate/lib/python3.8/site-packages/fiftyone/core/collections.py:6163\u001b[0m, in \u001b[0;36mSampleCollection.sort_by_similarity\u001b[0;34m(self, query, k, reverse, dist_field, brain_key)\u001b[0m\n\u001b[1;32m   6090\u001b[0m \u001b[39m@view_stage\u001b[39m\n\u001b[1;32m   6091\u001b[0m \u001b[39mdef\u001b[39;00m \u001b[39msort_by_similarity\u001b[39m(\n\u001b[1;32m   6092\u001b[0m     \u001b[39mself\u001b[39m, query, k\u001b[39m=\u001b[39m\u001b[39mNone\u001b[39;00m, reverse\u001b[39m=\u001b[39m\u001b[39mFalse\u001b[39;00m, dist_field\u001b[39m=\u001b[39m\u001b[39mNone\u001b[39;00m, brain_key\u001b[39m=\u001b[39m\u001b[39mNone\u001b[39;00m\n\u001b[1;32m   6093\u001b[0m ):\n\u001b[1;32m   6094\u001b[0m \u001b[39m    \u001b[39m\u001b[39m\"\"\"Sorts the collection by similiarity to a specified query.\u001b[39;00m\n\u001b[1;32m   6095\u001b[0m \n\u001b[1;32m   6096\u001b[0m \u001b[39m    In order to use this stage, you must first use\u001b[39;00m\n\u001b[0;32m   (...)\u001b[0m\n\u001b[1;32m   6160\u001b[0m \u001b[39m        a :class:`fiftyone.core.view.DatasetView`\u001b[39;00m\n\u001b[1;32m   6161\u001b[0m \u001b[39m    \"\"\"\u001b[39;00m\n\u001b[1;32m   6162\u001b[0m     \u001b[39mreturn\u001b[39;00m \u001b[39mself\u001b[39m\u001b[39m.\u001b[39m_add_view_stage(\n\u001b[0;32m-> 6163\u001b[0m         fos\u001b[39m.\u001b[39;49mSortBySimilarity(\n\u001b[1;32m   6164\u001b[0m             query,\n\u001b[1;32m   6165\u001b[0m             k\u001b[39m=\u001b[39;49mk,\n\u001b[1;32m   6166\u001b[0m             reverse\u001b[39m=\u001b[39;49mreverse,\n\u001b[1;32m   6167\u001b[0m             dist_field\u001b[39m=\u001b[39;49mdist_field,\n\u001b[1;32m   6168\u001b[0m             brain_key\u001b[39m=\u001b[39;49mbrain_key,\n\u001b[1;32m   6169\u001b[0m         )\n\u001b[1;32m   6170\u001b[0m     )\n",
      "File \u001b[0;32m~/miniconda3/envs/duplicate/lib/python3.8/site-packages/fiftyone/core/stages.py:6950\u001b[0m, in \u001b[0;36mSortBySimilarity.__init__\u001b[0;34m(self, query, k, reverse, dist_field, brain_key, _state)\u001b[0m\n\u001b[1;32m   6941\u001b[0m \u001b[39mdef\u001b[39;00m \u001b[39m__init__\u001b[39m(\n\u001b[1;32m   6942\u001b[0m     \u001b[39mself\u001b[39m,\n\u001b[1;32m   6943\u001b[0m     query,\n\u001b[0;32m   (...)\u001b[0m\n\u001b[1;32m   6948\u001b[0m     _state\u001b[39m=\u001b[39m\u001b[39mNone\u001b[39;00m,\n\u001b[1;32m   6949\u001b[0m ):\n\u001b[0;32m-> 6950\u001b[0m     query, query_kwarg, is_prompt \u001b[39m=\u001b[39m _parse_similarity_query(query)\n\u001b[1;32m   6952\u001b[0m     \u001b[39mself\u001b[39m\u001b[39m.\u001b[39m_query \u001b[39m=\u001b[39m query\n\u001b[1;32m   6953\u001b[0m     \u001b[39mself\u001b[39m\u001b[39m.\u001b[39m_query_kwarg \u001b[39m=\u001b[39m query_kwarg\n",
      "File \u001b[0;32m~/miniconda3/envs/duplicate/lib/python3.8/site-packages/fiftyone/core/stages.py:7098\u001b[0m, in \u001b[0;36m_parse_similarity_query\u001b[0;34m(query)\u001b[0m\n\u001b[1;32m   7094\u001b[0m     \u001b[39mreturn\u001b[39;00m query, query_kwarg, \u001b[39mFalse\u001b[39;00m\n\u001b[1;32m   7096\u001b[0m \u001b[39mif\u001b[39;00m \u001b[39mnot\u001b[39;00m etau\u001b[39m.\u001b[39mis_str(query):\n\u001b[1;32m   7097\u001b[0m     \u001b[39m# Query IDs or prompts\u001b[39;00m\n\u001b[0;32m-> 7098\u001b[0m     query \u001b[39m=\u001b[39m \u001b[39mlist\u001b[39;49m(query)\n\u001b[1;32m   7100\u001b[0m     \u001b[39mif\u001b[39;00m query:\n\u001b[1;32m   7101\u001b[0m         \u001b[39mtry\u001b[39;00m:\n\u001b[1;32m   7102\u001b[0m             \u001b[39m# Query IDs\u001b[39;00m\n",
      "\u001b[0;31mTypeError\u001b[0m: 'int' object is not iterable"
     ]
    }
   ],
   "source": [
    "dataset.sort_by_similarity(100)"
   ]
  },
  {
   "cell_type": "code",
   "execution_count": null,
   "metadata": {},
   "outputs": [],
   "source": [
    "def get_id_by_hash(dataset, file_hash):\n",
    "    ids=[]\n",
    "    for sample in dataset :\n",
    "        if sample.file_hash==file_hash:\n",
    "            ids.append(sample.ID)\n",
    "            dataset.remove(sample)\n",
    "    return ids"
   ]
  },
  {
   "cell_type": "code",
   "execution_count": null,
   "metadata": {},
   "outputs": [
    {
     "name": "stderr",
     "output_type": "stream",
     "text": [
      "  0%|          | 0/8682 [00:00<?, ?it/s]"
     ]
    },
    {
     "name": "stderr",
     "output_type": "stream",
     "text": [
      "  0%|          | 16/8682 [00:00<00:09, 885.24it/s]\n"
     ]
    },
    {
     "ename": "AttributeError",
     "evalue": "'Dataset' object has no attribute 'remove'",
     "output_type": "error",
     "traceback": [
      "\u001b[0;31m---------------------------------------------------------------------------\u001b[0m",
      "\u001b[0;31mAttributeError\u001b[0m                            Traceback (most recent call last)",
      "Cell \u001b[0;32mIn[35], line 5\u001b[0m\n\u001b[1;32m      3\u001b[0m file_hash \u001b[39m=\u001b[39m sample\u001b[39m.\u001b[39mfile_hash\n\u001b[1;32m      4\u001b[0m \u001b[39mif\u001b[39;00m file_hash \u001b[39min\u001b[39;00m dup_filehashes:\n\u001b[0;32m----> 5\u001b[0m     ids \u001b[39m=\u001b[39m get_id_by_hash(dataset, file_hash)\n\u001b[1;32m      6\u001b[0m     duplicates\u001b[39m.\u001b[39mappend(\n\u001b[1;32m      7\u001b[0m         {\n\u001b[1;32m      8\u001b[0m             \u001b[39m\"\u001b[39m\u001b[39mID\u001b[39m\u001b[39m\"\u001b[39m:sample\u001b[39m.\u001b[39mID,\n\u001b[0;32m   (...)\u001b[0m\n\u001b[1;32m     11\u001b[0m         }\n\u001b[1;32m     12\u001b[0m     )\n",
      "Cell \u001b[0;32mIn[34], line 6\u001b[0m, in \u001b[0;36mget_id_by_hash\u001b[0;34m(dataset, file_hash)\u001b[0m\n\u001b[1;32m      4\u001b[0m     \u001b[39mif\u001b[39;00m sample\u001b[39m.\u001b[39mfile_hash\u001b[39m==\u001b[39mfile_hash:\n\u001b[1;32m      5\u001b[0m         ids\u001b[39m.\u001b[39mappend(sample\u001b[39m.\u001b[39mID)\n\u001b[0;32m----> 6\u001b[0m         dataset\u001b[39m.\u001b[39;49mremove(sample)\n\u001b[1;32m      7\u001b[0m \u001b[39mreturn\u001b[39;00m ids\n",
      "File \u001b[0;32m~/miniconda3/envs/duplicate/lib/python3.8/site-packages/fiftyone/core/dataset.py:357\u001b[0m, in \u001b[0;36mDataset.__getattribute__\u001b[0;34m(self, name)\u001b[0m\n\u001b[1;32m    354\u001b[0m \u001b[39mif\u001b[39;00m \u001b[39mgetattr\u001b[39m(\u001b[39mself\u001b[39m, \u001b[39m\"\u001b[39m\u001b[39m_deleted\u001b[39m\u001b[39m\"\u001b[39m, \u001b[39mFalse\u001b[39;00m):\n\u001b[1;32m    355\u001b[0m     \u001b[39mraise\u001b[39;00m \u001b[39mValueError\u001b[39;00m(\u001b[39m\"\u001b[39m\u001b[39mDataset \u001b[39m\u001b[39m'\u001b[39m\u001b[39m%s\u001b[39;00m\u001b[39m'\u001b[39m\u001b[39m is deleted\u001b[39m\u001b[39m\"\u001b[39m \u001b[39m%\u001b[39m \u001b[39mself\u001b[39m\u001b[39m.\u001b[39mname)\n\u001b[0;32m--> 357\u001b[0m \u001b[39mreturn\u001b[39;00m \u001b[39msuper\u001b[39;49m()\u001b[39m.\u001b[39;49m\u001b[39m__getattribute__\u001b[39;49m(name)\n",
      "\u001b[0;31mAttributeError\u001b[0m: 'Dataset' object has no attribute 'remove'"
     ]
    }
   ],
   "source": [
    "duplicates=[]\n",
    "for sample in tqdm(dataset):\n",
    "    file_hash = sample.file_hash\n",
    "    if file_hash in dup_filehashes:\n",
    "        ids = get_id_by_hash(dataset, file_hash)\n",
    "        duplicates.append(\n",
    "            {\n",
    "                \"ID\":sample.ID,\n",
    "                \"DUPLICATE_IDS\":ids,\n",
    "                \"N_DUPLICATES\":len(ids)\n",
    "            }\n",
    "        )\n"
   ]
  },
  {
   "cell_type": "code",
   "execution_count": null,
   "metadata": {},
   "outputs": [
    {
     "name": "stdout",
     "output_type": "stream",
     "text": [
      "Number of duplicate file hashes: 791\n",
      "Number of images that have a duplicate: 2055\n",
      "Number of duplicates:  1264\n"
     ]
    },
    {
     "data": {
      "text/html": [
       "\n",
       "        <iframe\n",
       "            width=\"100%\"\n",
       "            height=\"800\"\n",
       "            src=\"http://localhost:5151/?notebook=True&subscription=f0d956a1-ba38-4c07-bcfb-dc55b42e4380\"\n",
       "            frameborder=\"0\"\n",
       "            allowfullscreen\n",
       "            \n",
       "        ></iframe>\n",
       "        "
      ],
      "text/plain": [
       "<IPython.lib.display.IFrame at 0x7f2c9036f1f0>"
      ]
     },
     "metadata": {},
     "output_type": "display_data"
    },
    {
     "ename": "RuntimeError",
     "evalue": "Failed to post event `state_update` to http://localhost:5151/event",
     "output_type": "error",
     "traceback": [
      "\u001b[0;31m---------------------------------------------------------------------------\u001b[0m",
      "\u001b[0;31mRuntimeError\u001b[0m                              Traceback (most recent call last)",
      "Cell \u001b[0;32mIn[34], line 15\u001b[0m\n\u001b[1;32m     13\u001b[0m \u001b[39mprint\u001b[39m(\u001b[39m\"\u001b[39m\u001b[39mNumber of images that have a duplicate:\u001b[39m\u001b[39m\"\u001b[39m, \u001b[39mlen\u001b[39m(dup_view))\n\u001b[1;32m     14\u001b[0m \u001b[39mprint\u001b[39m(\u001b[39m\"\u001b[39m\u001b[39mNumber of duplicates: \u001b[39m\u001b[39m\"\u001b[39m, (\u001b[39mlen\u001b[39m(dup_view) \u001b[39m-\u001b[39m \u001b[39mlen\u001b[39m(dup_filehashes)))\n\u001b[0;32m---> 15\u001b[0m session \u001b[39m=\u001b[39m fo\u001b[39m.\u001b[39;49mlaunch_app()\n\u001b[1;32m     16\u001b[0m session\u001b[39m.\u001b[39mview \u001b[39m=\u001b[39m dup_view\n\u001b[1;32m     18\u001b[0m session\u001b[39m.\u001b[39mwait()\n",
      "File \u001b[0;32m~/miniconda3/envs/duplicate/lib/python3.8/site-packages/fiftyone/core/session/session.py:198\u001b[0m, in \u001b[0;36mlaunch_app\u001b[0;34m(dataset, view, spaces, color_scheme, plots, port, address, remote, desktop, height, auto, config)\u001b[0m\n\u001b[1;32m    186\u001b[0m \u001b[39m#\u001b[39;00m\n\u001b[1;32m    187\u001b[0m \u001b[39m# Note, we always `close_app()` here rather than just calling\u001b[39;00m\n\u001b[1;32m    188\u001b[0m \u001b[39m# `session.open()` if a session already exists, because the app may have\u001b[39;00m\n\u001b[0;32m   (...)\u001b[0m\n\u001b[1;32m    194\u001b[0m \u001b[39m# @todo this can probably be improved\u001b[39;00m\n\u001b[1;32m    195\u001b[0m \u001b[39m#\u001b[39;00m\n\u001b[1;32m    196\u001b[0m close_app()\n\u001b[0;32m--> 198\u001b[0m _session \u001b[39m=\u001b[39m Session(\n\u001b[1;32m    199\u001b[0m     dataset\u001b[39m=\u001b[39;49mdataset,\n\u001b[1;32m    200\u001b[0m     view\u001b[39m=\u001b[39;49mview,\n\u001b[1;32m    201\u001b[0m     spaces\u001b[39m=\u001b[39;49mspaces,\n\u001b[1;32m    202\u001b[0m     color_scheme\u001b[39m=\u001b[39;49mcolor_scheme,\n\u001b[1;32m    203\u001b[0m     plots\u001b[39m=\u001b[39;49mplots,\n\u001b[1;32m    204\u001b[0m     port\u001b[39m=\u001b[39;49mport,\n\u001b[1;32m    205\u001b[0m     address\u001b[39m=\u001b[39;49maddress,\n\u001b[1;32m    206\u001b[0m     remote\u001b[39m=\u001b[39;49mremote,\n\u001b[1;32m    207\u001b[0m     desktop\u001b[39m=\u001b[39;49mdesktop,\n\u001b[1;32m    208\u001b[0m     height\u001b[39m=\u001b[39;49mheight,\n\u001b[1;32m    209\u001b[0m     auto\u001b[39m=\u001b[39;49mauto,\n\u001b[1;32m    210\u001b[0m     config\u001b[39m=\u001b[39;49mconfig,\n\u001b[1;32m    211\u001b[0m )\n\u001b[1;32m    213\u001b[0m \u001b[39mif\u001b[39;00m _session\u001b[39m.\u001b[39mremote:\n\u001b[1;32m    214\u001b[0m     logger\u001b[39m.\u001b[39minfo(_REMOTE_INSTRUCTIONS\u001b[39m.\u001b[39mstrip()\u001b[39m.\u001b[39mformat(_session\u001b[39m.\u001b[39mserver_port))\n",
      "File \u001b[0;32m~/miniconda3/envs/duplicate/lib/python3.8/site-packages/fiftyone/core/session/session.py:431\u001b[0m, in \u001b[0;36mSession.__init__\u001b[0;34m(self, dataset, view, view_name, spaces, color_scheme, plots, port, address, remote, desktop, height, auto, config)\u001b[0m\n\u001b[1;32m    428\u001b[0m _register_session(\u001b[39mself\u001b[39m)\n\u001b[1;32m    430\u001b[0m \u001b[39mif\u001b[39;00m \u001b[39mself\u001b[39m\u001b[39m.\u001b[39mauto \u001b[39mand\u001b[39;00m focx\u001b[39m.\u001b[39mis_notebook_context():\n\u001b[0;32m--> 431\u001b[0m     \u001b[39mself\u001b[39;49m\u001b[39m.\u001b[39;49mshow(height\u001b[39m=\u001b[39;49mconfig\u001b[39m.\u001b[39;49mnotebook_height)\n\u001b[1;32m    433\u001b[0m \u001b[39mif\u001b[39;00m \u001b[39mself\u001b[39m\u001b[39m.\u001b[39mremote:\n\u001b[1;32m    434\u001b[0m     \u001b[39mif\u001b[39;00m focx\u001b[39m.\u001b[39mis_notebook_context():\n",
      "File \u001b[0;32m~/miniconda3/envs/duplicate/lib/python3.8/site-packages/fiftyone/core/session/session.py:258\u001b[0m, in \u001b[0;36mupdate_state.<locals>.decorator.<locals>.wrapper\u001b[0;34m(session, *args, **kwargs)\u001b[0m\n\u001b[1;32m    256\u001b[0m     session\u001b[39m.\u001b[39mfreeze()\n\u001b[1;32m    257\u001b[0m result \u001b[39m=\u001b[39m func(session, \u001b[39m*\u001b[39margs, \u001b[39m*\u001b[39m\u001b[39m*\u001b[39mkwargs)\n\u001b[0;32m--> 258\u001b[0m session\u001b[39m.\u001b[39;49m_client\u001b[39m.\u001b[39;49msend_event(StateUpdate(state\u001b[39m=\u001b[39;49msession\u001b[39m.\u001b[39;49m_state))\n\u001b[1;32m    259\u001b[0m \u001b[39mif\u001b[39;00m auto_show \u001b[39mand\u001b[39;00m session\u001b[39m.\u001b[39mauto \u001b[39mand\u001b[39;00m focx\u001b[39m.\u001b[39mis_notebook_context():\n\u001b[1;32m    260\u001b[0m     session\u001b[39m.\u001b[39mshow()\n",
      "File \u001b[0;32m~/miniconda3/envs/duplicate/lib/python3.8/site-packages/fiftyone/core/session/client.py:126\u001b[0m, in \u001b[0;36mClient.send_event\u001b[0;34m(self, event)\u001b[0m\n\u001b[1;32m    124\u001b[0m \u001b[39mif\u001b[39;00m \u001b[39mnot\u001b[39;00m \u001b[39mself\u001b[39m\u001b[39m.\u001b[39m_connected:\n\u001b[1;32m    125\u001b[0m     \u001b[39mraise\u001b[39;00m \u001b[39mRuntimeError\u001b[39;00m(\u001b[39m\"\u001b[39m\u001b[39mClient is not connected\u001b[39m\u001b[39m\"\u001b[39m)\n\u001b[0;32m--> 126\u001b[0m \u001b[39mself\u001b[39;49m\u001b[39m.\u001b[39;49m_post_event(event)\n\u001b[1;32m    127\u001b[0m \u001b[39mself\u001b[39m\u001b[39m.\u001b[39m_dispatch_event(event)\n",
      "File \u001b[0;32m~/miniconda3/envs/duplicate/lib/python3.8/site-packages/fiftyone/core/session/client.py:172\u001b[0m, in \u001b[0;36mClient._post_event\u001b[0;34m(self, event)\u001b[0m\n\u001b[1;32m    159\u001b[0m response \u001b[39m=\u001b[39m requests\u001b[39m.\u001b[39mpost(\n\u001b[1;32m    160\u001b[0m     \u001b[39mf\u001b[39m\u001b[39m\"\u001b[39m\u001b[39m{\u001b[39;00m\u001b[39mself\u001b[39m\u001b[39m.\u001b[39morigin\u001b[39m}\u001b[39;00m\u001b[39m/event\u001b[39m\u001b[39m\"\u001b[39m,\n\u001b[1;32m    161\u001b[0m     headers\u001b[39m=\u001b[39m{\u001b[39m\"\u001b[39m\u001b[39mContent-type\u001b[39m\u001b[39m\"\u001b[39m: \u001b[39m\"\u001b[39m\u001b[39mapplication/json\u001b[39m\u001b[39m\"\u001b[39m},\n\u001b[0;32m   (...)\u001b[0m\n\u001b[1;32m    168\u001b[0m     ),\n\u001b[1;32m    169\u001b[0m )\n\u001b[1;32m    171\u001b[0m \u001b[39mif\u001b[39;00m response\u001b[39m.\u001b[39mstatus_code \u001b[39m!=\u001b[39m \u001b[39m200\u001b[39m:\n\u001b[0;32m--> 172\u001b[0m     \u001b[39mraise\u001b[39;00m \u001b[39mRuntimeError\u001b[39;00m(\n\u001b[1;32m    173\u001b[0m         \u001b[39mf\u001b[39m\u001b[39m\"\u001b[39m\u001b[39mFailed to post event `\u001b[39m\u001b[39m{\u001b[39;00mevent\u001b[39m.\u001b[39mget_event_name()\u001b[39m}\u001b[39;00m\u001b[39m` to \u001b[39m\u001b[39m{\u001b[39;00m\u001b[39mself\u001b[39m\u001b[39m.\u001b[39morigin\u001b[39m}\u001b[39;00m\u001b[39m/event\u001b[39m\u001b[39m\"\u001b[39m\n\u001b[1;32m    174\u001b[0m     )\n",
      "\u001b[0;31mRuntimeError\u001b[0m: Failed to post event `state_update` to http://localhost:5151/event"
     ]
    }
   ],
   "source": [
    "\n",
    "\n",
    "print(\"Number of duplicate file hashes: %d\" % len(dup_filehashes))\n",
    "\n",
    "dup_view = (dataset\n",
    "    # Extract samples with duplicate file hashes\n",
    "    .match(F(\"file_hash\").is_in(dup_filehashes))\n",
    "    # Sort by file hash so duplicates will be adjacent\n",
    "    .sort_by(\"file_hash\")\n",
    ")\n",
    "\n",
    "print(\"Number of images that have a duplicate:\", len(dup_view))\n",
    "print(\"Number of duplicates: \", (len(dup_view) - len(dup_filehashes)))\n",
    "session = fo.launch_app()\n",
    "session.view = dup_view\n",
    "\n",
    "session.wait()"
   ]
  }
 ],
 "metadata": {
  "kernelspec": {
   "display_name": "Python 3 (ipykernel)",
   "language": "python",
   "name": "python3"
  },
  "language_info": {
   "codemirror_mode": {
    "name": "ipython",
    "version": 3
   },
   "file_extension": ".py",
   "mimetype": "text/x-python",
   "name": "python",
   "nbconvert_exporter": "python",
   "pygments_lexer": "ipython3",
   "version": "3.8.16"
  }
 },
 "nbformat": 4,
 "nbformat_minor": 2
}
