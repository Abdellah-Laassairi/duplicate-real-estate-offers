{
 "cells": [
  {
   "attachments": {},
   "cell_type": "markdown",
   "metadata": {},
   "source": [
    "# Duplicate Real Estate Listings "
   ]
  },
  {
   "cell_type": "code",
   "execution_count": 54,
   "metadata": {},
   "outputs": [],
   "source": [
    "import pandas as pd\n",
    "import numpy as np\n",
    "import seaborn as sns\n",
    "import json\n",
    "from tqdm import tqdm\n",
    "import os\n",
    "import uuid\n",
    "import matplotlib.pyplot as plt\n",
    "import hashlib\n",
    "from PIL import Image\n",
    "import requests\n",
    "from io import BytesIO\n",
    "import glob\n",
    "from rich.console import Console\n",
    "from rich.theme import Theme\n",
    "\n",
    "custom_theme = Theme({\n",
    "    \"valid\": \"bold green encircle\",\n",
    "    \"info\": \"dim cyan\",\n",
    "    \"warning\": \"magenta\",\n",
    "    \"danger\": \"bold red\"\n",
    "})\n",
    "test_theme={\n",
    "    True:\"valid\",\n",
    "    False:\"danger\",\n",
    "}\n",
    "console = Console(theme=custom_theme)\n",
    "\n",
    "\n",
    "pd.options.display.max_rows=50\n",
    "pd.options.display.max_columns=90\n",
    "df = pd.read_csv(\"data/Dataset - Ads _ Levallois-Perret - 2019-08 - export-ads-levallois-perret-2019-08-27.csv\")"
   ]
  },
  {
   "attachments": {},
   "cell_type": "markdown",
   "metadata": {},
   "source": [
    "## EDA : Explaratory Data Analysis\n",
    "\n",
    "### i. Data exploration"
   ]
  },
  {
   "cell_type": "code",
   "execution_count": 55,
   "metadata": {},
   "outputs": [
    {
     "data": {
      "text/html": [
       "<pre style=\"white-space:pre;overflow-x:auto;line-height:normal;font-family:Menlo,'DejaVu Sans Mono',consolas,'Courier New',monospace\">\n",
       "<span style=\"font-weight: bold\">Data type</span> : object \n",
       "<span style=\"font-weight: bold\">Columns</span> : <span style=\"font-weight: bold\">[</span><span style=\"color: #008000; text-decoration-color: #008000\">'ID'</span>, <span style=\"color: #008000; text-decoration-color: #008000\">'URL'</span>, <span style=\"color: #008000; text-decoration-color: #008000\">'CRAWL_SOURCE'</span>, <span style=\"color: #008000; text-decoration-color: #008000\">'PROPERTY_TYPE'</span>, <span style=\"color: #008000; text-decoration-color: #008000\">'NEW_BUILD'</span>, <span style=\"color: #008000; text-decoration-color: #008000\">'DESCRIPTION'</span>, <span style=\"color: #008000; text-decoration-color: #008000\">'IMAGES'</span>, <span style=\"color: #008000; text-decoration-color: #008000\">'FURNISHED'</span>, \n",
       "<span style=\"color: #008000; text-decoration-color: #008000\">'HEATING_TYPES'</span>, <span style=\"color: #008000; text-decoration-color: #008000\">'HEATING_MODE'</span>, <span style=\"color: #008000; text-decoration-color: #008000\">'ELEVATOR'</span>, <span style=\"color: #008000; text-decoration-color: #008000\">'CARETAKER'</span>, <span style=\"color: #008000; text-decoration-color: #008000\">'MARKETING_TYPE'</span>, <span style=\"color: #008000; text-decoration-color: #008000\">'PRICE_EVENTS'</span>, \n",
       "<span style=\"color: #008000; text-decoration-color: #008000\">'RENTAL_EXPENSES_INCLUDED'</span>, <span style=\"color: #008000; text-decoration-color: #008000\">'FEES_INCLUDED'</span>, <span style=\"color: #008000; text-decoration-color: #008000\">'AGENCIES_UNWANTED'</span>, <span style=\"color: #008000; text-decoration-color: #008000\">'OCCUPIED'</span>, <span style=\"color: #008000; text-decoration-color: #008000\">'DEALER_NAME'</span>, <span style=\"color: #008000; text-decoration-color: #008000\">'DEALER_TYPE'</span>, <span style=\"color: #008000; text-decoration-color: #008000\">'CITY'</span>,\n",
       "<span style=\"color: #008000; text-decoration-color: #008000\">'PUBLICATION_START_DATE'</span>, <span style=\"color: #008000; text-decoration-color: #008000\">'LAST_CRAWL_DATE'</span>, <span style=\"color: #008000; text-decoration-color: #008000\">'LAST_PRICE_DECREASE_DATE'</span><span style=\"font-weight: bold\">]</span> \n",
       "\n",
       "</pre>\n"
      ],
      "text/plain": [
       "\n",
       "\u001b[1mData type\u001b[0m : object \n",
       "\u001b[1mColumns\u001b[0m : \u001b[1m[\u001b[0m\u001b[32m'ID'\u001b[0m, \u001b[32m'URL'\u001b[0m, \u001b[32m'CRAWL_SOURCE'\u001b[0m, \u001b[32m'PROPERTY_TYPE'\u001b[0m, \u001b[32m'NEW_BUILD'\u001b[0m, \u001b[32m'DESCRIPTION'\u001b[0m, \u001b[32m'IMAGES'\u001b[0m, \u001b[32m'FURNISHED'\u001b[0m, \n",
       "\u001b[32m'HEATING_TYPES'\u001b[0m, \u001b[32m'HEATING_MODE'\u001b[0m, \u001b[32m'ELEVATOR'\u001b[0m, \u001b[32m'CARETAKER'\u001b[0m, \u001b[32m'MARKETING_TYPE'\u001b[0m, \u001b[32m'PRICE_EVENTS'\u001b[0m, \n",
       "\u001b[32m'RENTAL_EXPENSES_INCLUDED'\u001b[0m, \u001b[32m'FEES_INCLUDED'\u001b[0m, \u001b[32m'AGENCIES_UNWANTED'\u001b[0m, \u001b[32m'OCCUPIED'\u001b[0m, \u001b[32m'DEALER_NAME'\u001b[0m, \u001b[32m'DEALER_TYPE'\u001b[0m, \u001b[32m'CITY'\u001b[0m,\n",
       "\u001b[32m'PUBLICATION_START_DATE'\u001b[0m, \u001b[32m'LAST_CRAWL_DATE'\u001b[0m, \u001b[32m'LAST_PRICE_DECREASE_DATE'\u001b[0m\u001b[1m]\u001b[0m \n",
       "\n"
      ]
     },
     "metadata": {},
     "output_type": "display_data"
    },
    {
     "data": {
      "text/html": [
       "<pre style=\"white-space:pre;overflow-x:auto;line-height:normal;font-family:Menlo,'DejaVu Sans Mono',consolas,'Courier New',monospace\">\n",
       "<span style=\"font-weight: bold\">Data type</span> : float64 \n",
       "<span style=\"font-weight: bold\">Columns</span> : <span style=\"font-weight: bold\">[</span><span style=\"color: #008000; text-decoration-color: #008000\">'SURFACE'</span>, <span style=\"color: #008000; text-decoration-color: #008000\">'LAND_SURFACE'</span>, <span style=\"color: #008000; text-decoration-color: #008000\">'BALCONY_SURFACE'</span>, <span style=\"color: #008000; text-decoration-color: #008000\">'TERRACE_SURFACE'</span>, <span style=\"color: #008000; text-decoration-color: #008000\">'ROOM_COUNT'</span>, <span style=\"color: #008000; text-decoration-color: #008000\">'BEDROOM_COUNT'</span>, \n",
       "<span style=\"color: #008000; text-decoration-color: #008000\">'BATHROOM_COUNT'</span>, <span style=\"color: #008000; text-decoration-color: #008000\">'LUNCHROOM_COUNT'</span>, <span style=\"color: #008000; text-decoration-color: #008000\">'TOILET_COUNT'</span>, <span style=\"color: #008000; text-decoration-color: #008000\">'FIREPLACE'</span>, <span style=\"color: #008000; text-decoration-color: #008000\">'AIR_CONDITIONING'</span>, <span style=\"color: #008000; text-decoration-color: #008000\">'GARDEN'</span>, <span style=\"color: #008000; text-decoration-color: #008000\">'SWIMMING_POOL'</span>, \n",
       "<span style=\"color: #008000; text-decoration-color: #008000\">'BALCONY'</span>, <span style=\"color: #008000; text-decoration-color: #008000\">'TERRACE'</span>, <span style=\"color: #008000; text-decoration-color: #008000\">'CELLAR'</span>, <span style=\"color: #008000; text-decoration-color: #008000\">'PARKING_COUNT'</span>, <span style=\"color: #008000; text-decoration-color: #008000\">'FLOOR'</span>, <span style=\"color: #008000; text-decoration-color: #008000\">'FLOOR_COUNT'</span>, <span style=\"color: #008000; text-decoration-color: #008000\">'CONSTRUCTION_YEAR'</span>, <span style=\"color: #008000; text-decoration-color: #008000\">'ENERGY_CONSUMPTION'</span>,\n",
       "<span style=\"color: #008000; text-decoration-color: #008000\">'GREENHOUSE_GAS_CONSUMPTION'</span>, <span style=\"color: #008000; text-decoration-color: #008000\">'PRICE'</span>, <span style=\"color: #008000; text-decoration-color: #008000\">'PRICE_M2'</span>, <span style=\"color: #008000; text-decoration-color: #008000\">'RENTAL_EXPENSES'</span>, <span style=\"color: #008000; text-decoration-color: #008000\">'DEPOSIT'</span>, <span style=\"color: #008000; text-decoration-color: #008000\">'FEES'</span>, <span style=\"color: #008000; text-decoration-color: #008000\">'ZIP_CODE'</span>, \n",
       "<span style=\"color: #008000; text-decoration-color: #008000\">'PUBLICATION_END_DATE'</span><span style=\"font-weight: bold\">]</span> \n",
       "\n",
       "</pre>\n"
      ],
      "text/plain": [
       "\n",
       "\u001b[1mData type\u001b[0m : float64 \n",
       "\u001b[1mColumns\u001b[0m : \u001b[1m[\u001b[0m\u001b[32m'SURFACE'\u001b[0m, \u001b[32m'LAND_SURFACE'\u001b[0m, \u001b[32m'BALCONY_SURFACE'\u001b[0m, \u001b[32m'TERRACE_SURFACE'\u001b[0m, \u001b[32m'ROOM_COUNT'\u001b[0m, \u001b[32m'BEDROOM_COUNT'\u001b[0m, \n",
       "\u001b[32m'BATHROOM_COUNT'\u001b[0m, \u001b[32m'LUNCHROOM_COUNT'\u001b[0m, \u001b[32m'TOILET_COUNT'\u001b[0m, \u001b[32m'FIREPLACE'\u001b[0m, \u001b[32m'AIR_CONDITIONING'\u001b[0m, \u001b[32m'GARDEN'\u001b[0m, \u001b[32m'SWIMMING_POOL'\u001b[0m, \n",
       "\u001b[32m'BALCONY'\u001b[0m, \u001b[32m'TERRACE'\u001b[0m, \u001b[32m'CELLAR'\u001b[0m, \u001b[32m'PARKING_COUNT'\u001b[0m, \u001b[32m'FLOOR'\u001b[0m, \u001b[32m'FLOOR_COUNT'\u001b[0m, \u001b[32m'CONSTRUCTION_YEAR'\u001b[0m, \u001b[32m'ENERGY_CONSUMPTION'\u001b[0m,\n",
       "\u001b[32m'GREENHOUSE_GAS_CONSUMPTION'\u001b[0m, \u001b[32m'PRICE'\u001b[0m, \u001b[32m'PRICE_M2'\u001b[0m, \u001b[32m'RENTAL_EXPENSES'\u001b[0m, \u001b[32m'DEPOSIT'\u001b[0m, \u001b[32m'FEES'\u001b[0m, \u001b[32m'ZIP_CODE'\u001b[0m, \n",
       "\u001b[32m'PUBLICATION_END_DATE'\u001b[0m\u001b[1m]\u001b[0m \n",
       "\n"
      ]
     },
     "metadata": {},
     "output_type": "display_data"
    },
    {
     "data": {
      "text/html": [
       "<pre style=\"white-space:pre;overflow-x:auto;line-height:normal;font-family:Menlo,'DejaVu Sans Mono',consolas,'Courier New',monospace\">\n",
       "<span style=\"font-weight: bold\">Data type</span> : bool \n",
       "<span style=\"font-weight: bold\">Columns</span> : <span style=\"font-weight: bold\">[</span><span style=\"color: #008000; text-decoration-color: #008000\">'PARKING'</span>, <span style=\"color: #008000; text-decoration-color: #008000\">'EXCLUSIVE_MANDATE'</span><span style=\"font-weight: bold\">]</span> \n",
       "\n",
       "</pre>\n"
      ],
      "text/plain": [
       "\n",
       "\u001b[1mData type\u001b[0m : bool \n",
       "\u001b[1mColumns\u001b[0m : \u001b[1m[\u001b[0m\u001b[32m'PARKING'\u001b[0m, \u001b[32m'EXCLUSIVE_MANDATE'\u001b[0m\u001b[1m]\u001b[0m \n",
       "\n"
      ]
     },
     "metadata": {},
     "output_type": "display_data"
    },
    {
     "data": {
      "text/html": [
       "<pre style=\"white-space:pre;overflow-x:auto;line-height:normal;font-family:Menlo,'DejaVu Sans Mono',consolas,'Courier New',monospace\">\n",
       "<span style=\"font-weight: bold\">Data type</span> : int64 \n",
       "<span style=\"font-weight: bold\">Columns</span> : <span style=\"font-weight: bold\">[</span><span style=\"color: #008000; text-decoration-color: #008000\">'CITY_ID'</span>, <span style=\"color: #008000; text-decoration-color: #008000\">'DEPT_CODE'</span><span style=\"font-weight: bold\">]</span> \n",
       "\n",
       "</pre>\n"
      ],
      "text/plain": [
       "\n",
       "\u001b[1mData type\u001b[0m : int64 \n",
       "\u001b[1mColumns\u001b[0m : \u001b[1m[\u001b[0m\u001b[32m'CITY_ID'\u001b[0m, \u001b[32m'DEPT_CODE'\u001b[0m\u001b[1m]\u001b[0m \n",
       "\n"
      ]
     },
     "metadata": {},
     "output_type": "display_data"
    }
   ],
   "source": [
    "for type in df.dtypes.unique():\n",
    "    same_dtype_columns = df.select_dtypes(include=type).columns\n",
    "    console.print(f\"\\n[bold]Data type[/bold] : {type} \\n[bold]Columns[/bold] : {list(same_dtype_columns)} \\n\")"
   ]
  },
  {
   "cell_type": "code",
   "execution_count": 56,
   "metadata": {},
   "outputs": [
    {
     "data": {
      "text/html": [
       "<style type=\"text/css\">\n",
       "#T_e8698_row0_col0, #T_e8698_row1_col0, #T_e8698_row2_col0, #T_e8698_row3_col0, #T_e8698_row4_col0, #T_e8698_row5_col0, #T_e8698_row6_col0, #T_e8698_row7_col0, #T_e8698_row8_col0, #T_e8698_row9_col0, #T_e8698_row10_col0 {\n",
       "  background-color: #ff0000;\n",
       "  color: #f1f1f1;\n",
       "  color: black;\n",
       "}\n",
       "#T_e8698_row11_col0, #T_e8698_row12_col0 {\n",
       "  background-color: #ff0000;\n",
       "  color: #f1f1f1;\n",
       "}\n",
       "#T_e8698_row13_col0 {\n",
       "  background-color: #ff0101;\n",
       "  color: #f1f1f1;\n",
       "}\n",
       "#T_e8698_row14_col0 {\n",
       "  background-color: #ff0202;\n",
       "  color: #f1f1f1;\n",
       "}\n",
       "#T_e8698_row15_col0 {\n",
       "  background-color: #ff0606;\n",
       "  color: #f1f1f1;\n",
       "}\n",
       "#T_e8698_row16_col0 {\n",
       "  background-color: #ff0909;\n",
       "  color: #f1f1f1;\n",
       "}\n",
       "#T_e8698_row17_col0 {\n",
       "  background-color: #fe0a0a;\n",
       "  color: #f1f1f1;\n",
       "}\n",
       "#T_e8698_row18_col0 {\n",
       "  background-color: #fe1111;\n",
       "  color: #f1f1f1;\n",
       "}\n",
       "#T_e8698_row19_col0 {\n",
       "  background-color: #fe1616;\n",
       "  color: #f1f1f1;\n",
       "}\n",
       "#T_e8698_row20_col0 {\n",
       "  background-color: #fe1b1b;\n",
       "  color: #f1f1f1;\n",
       "}\n",
       "#T_e8698_row21_col0 {\n",
       "  background-color: #fd2626;\n",
       "  color: #f1f1f1;\n",
       "}\n",
       "#T_e8698_row22_col0 {\n",
       "  background-color: #fd3131;\n",
       "  color: #f1f1f1;\n",
       "}\n",
       "#T_e8698_row23_col0, #T_e8698_row24_col0 {\n",
       "  background-color: #fc3434;\n",
       "  color: #f1f1f1;\n",
       "}\n",
       "#T_e8698_row25_col0, #T_e8698_row26_col0 {\n",
       "  background-color: #fc3838;\n",
       "  color: #f1f1f1;\n",
       "}\n",
       "#T_e8698_row27_col0 {\n",
       "  background-color: #fc3d3d;\n",
       "  color: #f1f1f1;\n",
       "}\n",
       "#T_e8698_row28_col0 {\n",
       "  background-color: #fc4343;\n",
       "  color: #f1f1f1;\n",
       "}\n",
       "#T_e8698_row29_col0 {\n",
       "  background-color: #fb4848;\n",
       "  color: #f1f1f1;\n",
       "}\n",
       "#T_e8698_row30_col0 {\n",
       "  background-color: #fb4949;\n",
       "  color: #f1f1f1;\n",
       "}\n",
       "#T_e8698_row31_col0 {\n",
       "  background-color: #fb4d4d;\n",
       "  color: #f1f1f1;\n",
       "}\n",
       "#T_e8698_row32_col0 {\n",
       "  background-color: #f88787;\n",
       "  color: #f1f1f1;\n",
       "}\n",
       "#T_e8698_row33_col0 {\n",
       "  background-color: #f5cccc;\n",
       "  color: #000000;\n",
       "}\n",
       "#T_e8698_row34_col0 {\n",
       "  background-color: #f4dbdb;\n",
       "  color: #000000;\n",
       "}\n",
       "#T_e8698_row35_col0 {\n",
       "  background-color: #f4dddd;\n",
       "  color: #000000;\n",
       "}\n",
       "#T_e8698_row36_col0 {\n",
       "  background-color: #f3e4e4;\n",
       "  color: #000000;\n",
       "}\n",
       "#T_e8698_row37_col0 {\n",
       "  background-color: #f3e7e7;\n",
       "  color: #000000;\n",
       "}\n",
       "#T_e8698_row38_col0 {\n",
       "  background-color: #f3eaea;\n",
       "  color: #000000;\n",
       "}\n",
       "#T_e8698_row39_col0, #T_e8698_row40_col0 {\n",
       "  background-color: #f3f0f0;\n",
       "  color: #000000;\n",
       "}\n",
       "</style>\n",
       "<table id=\"T_e8698\">\n",
       "  <caption>Pourcentage of missing values for each Feauture in the dataset</caption>\n",
       "  <thead>\n",
       "    <tr>\n",
       "      <th class=\"blank level0\" >&nbsp;</th>\n",
       "      <th id=\"T_e8698_level0_col0\" class=\"col_heading level0 col0\" >Missing_Values</th>\n",
       "    </tr>\n",
       "    <tr>\n",
       "      <th class=\"index_name level0\" >Feature</th>\n",
       "      <th class=\"blank col0\" >&nbsp;</th>\n",
       "    </tr>\n",
       "  </thead>\n",
       "  <tbody>\n",
       "    <tr>\n",
       "      <th id=\"T_e8698_level0_row0\" class=\"row_heading level0 row0\" >TOILET_COUNT</th>\n",
       "      <td id=\"T_e8698_row0_col0\" class=\"data row0 col0\" >100.000000</td>\n",
       "    </tr>\n",
       "    <tr>\n",
       "      <th id=\"T_e8698_level0_row1\" class=\"row_heading level0 row1\" >GREENHOUSE_GAS_CONSUMPTION</th>\n",
       "      <td id=\"T_e8698_row1_col0\" class=\"data row1 col0\" >100.000000</td>\n",
       "    </tr>\n",
       "    <tr>\n",
       "      <th id=\"T_e8698_level0_row2\" class=\"row_heading level0 row2\" >PUBLICATION_END_DATE</th>\n",
       "      <td id=\"T_e8698_row2_col0\" class=\"data row2 col0\" >100.000000</td>\n",
       "    </tr>\n",
       "    <tr>\n",
       "      <th id=\"T_e8698_level0_row3\" class=\"row_heading level0 row3\" >AIR_CONDITIONING</th>\n",
       "      <td id=\"T_e8698_row3_col0\" class=\"data row3 col0\" >100.000000</td>\n",
       "    </tr>\n",
       "    <tr>\n",
       "      <th id=\"T_e8698_level0_row4\" class=\"row_heading level0 row4\" >FIREPLACE</th>\n",
       "      <td id=\"T_e8698_row4_col0\" class=\"data row4 col0\" >100.000000</td>\n",
       "    </tr>\n",
       "    <tr>\n",
       "      <th id=\"T_e8698_level0_row5\" class=\"row_heading level0 row5\" >CELLAR</th>\n",
       "      <td id=\"T_e8698_row5_col0\" class=\"data row5 col0\" >100.000000</td>\n",
       "    </tr>\n",
       "    <tr>\n",
       "      <th id=\"T_e8698_level0_row6\" class=\"row_heading level0 row6\" >LUNCHROOM_COUNT</th>\n",
       "      <td id=\"T_e8698_row6_col0\" class=\"data row6 col0\" >100.000000</td>\n",
       "    </tr>\n",
       "    <tr>\n",
       "      <th id=\"T_e8698_level0_row7\" class=\"row_heading level0 row7\" >BATHROOM_COUNT</th>\n",
       "      <td id=\"T_e8698_row7_col0\" class=\"data row7 col0\" >100.000000</td>\n",
       "    </tr>\n",
       "    <tr>\n",
       "      <th id=\"T_e8698_level0_row8\" class=\"row_heading level0 row8\" >BALCONY_SURFACE</th>\n",
       "      <td id=\"T_e8698_row8_col0\" class=\"data row8 col0\" >100.000000</td>\n",
       "    </tr>\n",
       "    <tr>\n",
       "      <th id=\"T_e8698_level0_row9\" class=\"row_heading level0 row9\" >BALCONY</th>\n",
       "      <td id=\"T_e8698_row9_col0\" class=\"data row9 col0\" >100.000000</td>\n",
       "    </tr>\n",
       "    <tr>\n",
       "      <th id=\"T_e8698_level0_row10\" class=\"row_heading level0 row10\" >ENERGY_CONSUMPTION</th>\n",
       "      <td id=\"T_e8698_row10_col0\" class=\"data row10 col0\" >100.000000</td>\n",
       "    </tr>\n",
       "    <tr>\n",
       "      <th id=\"T_e8698_level0_row11\" class=\"row_heading level0 row11\" >LAND_SURFACE</th>\n",
       "      <td id=\"T_e8698_row11_col0\" class=\"data row11 col0\" >99.860000</td>\n",
       "    </tr>\n",
       "    <tr>\n",
       "      <th id=\"T_e8698_level0_row12\" class=\"row_heading level0 row12\" >SWIMMING_POOL</th>\n",
       "      <td id=\"T_e8698_row12_col0\" class=\"data row12 col0\" >99.720000</td>\n",
       "    </tr>\n",
       "    <tr>\n",
       "      <th id=\"T_e8698_level0_row13\" class=\"row_heading level0 row13\" >GARDEN</th>\n",
       "      <td id=\"T_e8698_row13_col0\" class=\"data row13 col0\" >99.350000</td>\n",
       "    </tr>\n",
       "    <tr>\n",
       "      <th id=\"T_e8698_level0_row14\" class=\"row_heading level0 row14\" >TERRACE_SURFACE</th>\n",
       "      <td id=\"T_e8698_row14_col0\" class=\"data row14 col0\" >98.840000</td>\n",
       "    </tr>\n",
       "    <tr>\n",
       "      <th id=\"T_e8698_level0_row15\" class=\"row_heading level0 row15\" >DEPOSIT</th>\n",
       "      <td id=\"T_e8698_row15_col0\" class=\"data row15 col0\" >97.460000</td>\n",
       "    </tr>\n",
       "    <tr>\n",
       "      <th id=\"T_e8698_level0_row16\" class=\"row_heading level0 row16\" >TERRACE</th>\n",
       "      <td id=\"T_e8698_row16_col0\" class=\"data row16 col0\" >96.030000</td>\n",
       "    </tr>\n",
       "    <tr>\n",
       "      <th id=\"T_e8698_level0_row17\" class=\"row_heading level0 row17\" >FEES</th>\n",
       "      <td id=\"T_e8698_row17_col0\" class=\"data row17 col0\" >95.660000</td>\n",
       "    </tr>\n",
       "    <tr>\n",
       "      <th id=\"T_e8698_level0_row18\" class=\"row_heading level0 row18\" >PARKING_COUNT</th>\n",
       "      <td id=\"T_e8698_row18_col0\" class=\"data row18 col0\" >92.740000</td>\n",
       "    </tr>\n",
       "    <tr>\n",
       "      <th id=\"T_e8698_level0_row19\" class=\"row_heading level0 row19\" >AGENCIES_UNWANTED</th>\n",
       "      <td id=\"T_e8698_row19_col0\" class=\"data row19 col0\" >90.710000</td>\n",
       "    </tr>\n",
       "    <tr>\n",
       "      <th id=\"T_e8698_level0_row20\" class=\"row_heading level0 row20\" >CARETAKER</th>\n",
       "      <td id=\"T_e8698_row20_col0\" class=\"data row20 col0\" >88.590000</td>\n",
       "    </tr>\n",
       "    <tr>\n",
       "      <th id=\"T_e8698_level0_row21\" class=\"row_heading level0 row21\" >LAST_PRICE_DECREASE_DATE</th>\n",
       "      <td id=\"T_e8698_row21_col0\" class=\"data row21 col0\" >84.290000</td>\n",
       "    </tr>\n",
       "    <tr>\n",
       "      <th id=\"T_e8698_level0_row22\" class=\"row_heading level0 row22\" >RENTAL_EXPENSES</th>\n",
       "      <td id=\"T_e8698_row22_col0\" class=\"data row22 col0\" >79.620000</td>\n",
       "    </tr>\n",
       "    <tr>\n",
       "      <th id=\"T_e8698_level0_row23\" class=\"row_heading level0 row23\" >FLOOR_COUNT</th>\n",
       "      <td id=\"T_e8698_row23_col0\" class=\"data row23 col0\" >78.510000</td>\n",
       "    </tr>\n",
       "    <tr>\n",
       "      <th id=\"T_e8698_level0_row24\" class=\"row_heading level0 row24\" >FURNISHED</th>\n",
       "      <td id=\"T_e8698_row24_col0\" class=\"data row24 col0\" >78.420000</td>\n",
       "    </tr>\n",
       "    <tr>\n",
       "      <th id=\"T_e8698_level0_row25\" class=\"row_heading level0 row25\" >CONSTRUCTION_YEAR</th>\n",
       "      <td id=\"T_e8698_row25_col0\" class=\"data row25 col0\" >76.760000</td>\n",
       "    </tr>\n",
       "    <tr>\n",
       "      <th id=\"T_e8698_level0_row26\" class=\"row_heading level0 row26\" >FEES_INCLUDED</th>\n",
       "      <td id=\"T_e8698_row26_col0\" class=\"data row26 col0\" >76.390000</td>\n",
       "    </tr>\n",
       "    <tr>\n",
       "      <th id=\"T_e8698_level0_row27\" class=\"row_heading level0 row27\" >ELEVATOR</th>\n",
       "      <td id=\"T_e8698_row27_col0\" class=\"data row27 col0\" >74.490000</td>\n",
       "    </tr>\n",
       "    <tr>\n",
       "      <th id=\"T_e8698_level0_row28\" class=\"row_heading level0 row28\" >RENTAL_EXPENSES_INCLUDED</th>\n",
       "      <td id=\"T_e8698_row28_col0\" class=\"data row28 col0\" >72.270000</td>\n",
       "    </tr>\n",
       "    <tr>\n",
       "      <th id=\"T_e8698_level0_row29\" class=\"row_heading level0 row29\" >HEATING_MODE</th>\n",
       "      <td id=\"T_e8698_row29_col0\" class=\"data row29 col0\" >69.820000</td>\n",
       "    </tr>\n",
       "    <tr>\n",
       "      <th id=\"T_e8698_level0_row30\" class=\"row_heading level0 row30\" >FLOOR</th>\n",
       "      <td id=\"T_e8698_row30_col0\" class=\"data row30 col0\" >69.500000</td>\n",
       "    </tr>\n",
       "    <tr>\n",
       "      <th id=\"T_e8698_level0_row31\" class=\"row_heading level0 row31\" >BEDROOM_COUNT</th>\n",
       "      <td id=\"T_e8698_row31_col0\" class=\"data row31 col0\" >67.840000</td>\n",
       "    </tr>\n",
       "    <tr>\n",
       "      <th id=\"T_e8698_level0_row32\" class=\"row_heading level0 row32\" >OCCUPIED</th>\n",
       "      <td id=\"T_e8698_row32_col0\" class=\"data row32 col0\" >44.130000</td>\n",
       "    </tr>\n",
       "    <tr>\n",
       "      <th id=\"T_e8698_level0_row33\" class=\"row_heading level0 row33\" >ROOM_COUNT</th>\n",
       "      <td id=\"T_e8698_row33_col0\" class=\"data row33 col0\" >15.200000</td>\n",
       "    </tr>\n",
       "    <tr>\n",
       "      <th id=\"T_e8698_level0_row34\" class=\"row_heading level0 row34\" >NEW_BUILD</th>\n",
       "      <td id=\"T_e8698_row34_col0\" class=\"data row34 col0\" >8.830000</td>\n",
       "    </tr>\n",
       "    <tr>\n",
       "      <th id=\"T_e8698_level0_row35\" class=\"row_heading level0 row35\" >PRICE_M2</th>\n",
       "      <td id=\"T_e8698_row35_col0\" class=\"data row35 col0\" >7.990000</td>\n",
       "    </tr>\n",
       "    <tr>\n",
       "      <th id=\"T_e8698_level0_row36\" class=\"row_heading level0 row36\" >SURFACE</th>\n",
       "      <td id=\"T_e8698_row36_col0\" class=\"data row36 col0\" >5.270000</td>\n",
       "    </tr>\n",
       "    <tr>\n",
       "      <th id=\"T_e8698_level0_row37\" class=\"row_heading level0 row37\" >DEALER_NAME</th>\n",
       "      <td id=\"T_e8698_row37_col0\" class=\"data row37 col0\" >4.020000</td>\n",
       "    </tr>\n",
       "    <tr>\n",
       "      <th id=\"T_e8698_level0_row38\" class=\"row_heading level0 row38\" >PRICE</th>\n",
       "      <td id=\"T_e8698_row38_col0\" class=\"data row38 col0\" >2.770000</td>\n",
       "    </tr>\n",
       "    <tr>\n",
       "      <th id=\"T_e8698_level0_row39\" class=\"row_heading level0 row39\" >DESCRIPTION</th>\n",
       "      <td id=\"T_e8698_row39_col0\" class=\"data row39 col0\" >0.180000</td>\n",
       "    </tr>\n",
       "    <tr>\n",
       "      <th id=\"T_e8698_level0_row40\" class=\"row_heading level0 row40\" >ZIP_CODE</th>\n",
       "      <td id=\"T_e8698_row40_col0\" class=\"data row40 col0\" >0.050000</td>\n",
       "    </tr>\n",
       "  </tbody>\n",
       "</table>\n"
      ],
      "text/plain": [
       "<pandas.io.formats.style.Styler at 0x7f4753844850>"
      ]
     },
     "execution_count": 56,
     "metadata": {},
     "output_type": "execute_result"
    }
   ],
   "source": [
    "def style_max(v, props=''):\n",
    "    return props if v==100 else None\n",
    "\n",
    "def show_na(df):\n",
    "    na_cols = (pd.Series(df.isna().sum()/len(df.index)*100).reset_index().\n",
    "        rename(columns={'index':'Feature',0:'Missing_Values'}).\n",
    "        sort_values(by=['Missing_Values'], ascending=[False]))\n",
    "    na_cols[\"Missing_Values\"] = na_cols.apply(lambda row: round(row[\"Missing_Values\"],2), axis=1)\n",
    "    na_cols=na_cols[na_cols[\"Missing_Values\"]>0]\n",
    "    na_cols = na_cols.set_index('Feature')\n",
    "\n",
    "    return na_cols\n",
    "\n",
    "cm = sns.light_palette(\"red\", as_cmap=True)\n",
    "\n",
    "nas_stat = show_na(df)\n",
    "nas_stat.style.set_caption(\"Pourcentage of missing values for each Feauture in the dataset\")\\\n",
    "              .background_gradient(cmap=cm).applymap(style_max, props='color:black;')\n"
   ]
  },
  {
   "cell_type": "code",
   "execution_count": 57,
   "metadata": {},
   "outputs": [],
   "source": [
    "empty_columns = nas_stat[nas_stat[\"Missing_Values\"]==100].index\n",
    "df.drop(columns=empty_columns, inplace=True)"
   ]
  },
  {
   "cell_type": "code",
   "execution_count": 58,
   "metadata": {
    "scrolled": true
   },
   "outputs": [
    {
     "data": {
      "text/html": [
       "<style type=\"text/css\">\n",
       "#T_ff2ad_row0_col0, #T_ff2ad_row1_col0, #T_ff2ad_row2_col0 {\n",
       "  background-color: green;\n",
       "  color: white;\n",
       "}\n",
       "#T_ff2ad_row43_col0, #T_ff2ad_row44_col0, #T_ff2ad_row45_col0 {\n",
       "  background-color: red;\n",
       "  color: white;\n",
       "}\n",
       "</style>\n",
       "<table id=\"T_ff2ad\">\n",
       "  <caption>Cardinality of each feature in the dataset</caption>\n",
       "  <thead>\n",
       "    <tr>\n",
       "      <th class=\"blank level0\" >&nbsp;</th>\n",
       "      <th id=\"T_ff2ad_level0_col0\" class=\"col_heading level0 col0\" >Cardinality</th>\n",
       "    </tr>\n",
       "    <tr>\n",
       "      <th class=\"index_name level0\" >Feature</th>\n",
       "      <th class=\"blank col0\" >&nbsp;</th>\n",
       "    </tr>\n",
       "  </thead>\n",
       "  <tbody>\n",
       "    <tr>\n",
       "      <th id=\"T_ff2ad_level0_row0\" class=\"row_heading level0 row0\" >ID</th>\n",
       "      <td id=\"T_ff2ad_row0_col0\" class=\"data row0 col0\" >2164</td>\n",
       "    </tr>\n",
       "    <tr>\n",
       "      <th id=\"T_ff2ad_level0_row1\" class=\"row_heading level0 row1\" >URL</th>\n",
       "      <td id=\"T_ff2ad_row1_col0\" class=\"data row1 col0\" >2164</td>\n",
       "    </tr>\n",
       "    <tr>\n",
       "      <th id=\"T_ff2ad_level0_row2\" class=\"row_heading level0 row2\" >LAST_CRAWL_DATE</th>\n",
       "      <td id=\"T_ff2ad_row2_col0\" class=\"data row2 col0\" >2164</td>\n",
       "    </tr>\n",
       "    <tr>\n",
       "      <th id=\"T_ff2ad_level0_row3\" class=\"row_heading level0 row3\" >PUBLICATION_START_DATE</th>\n",
       "      <td id=\"T_ff2ad_row3_col0\" class=\"data row3 col0\" >2103</td>\n",
       "    </tr>\n",
       "    <tr>\n",
       "      <th id=\"T_ff2ad_level0_row4\" class=\"row_heading level0 row4\" >IMAGES</th>\n",
       "      <td id=\"T_ff2ad_row4_col0\" class=\"data row4 col0\" >1947</td>\n",
       "    </tr>\n",
       "    <tr>\n",
       "      <th id=\"T_ff2ad_level0_row5\" class=\"row_heading level0 row5\" >DESCRIPTION</th>\n",
       "      <td id=\"T_ff2ad_row5_col0\" class=\"data row5 col0\" >1915</td>\n",
       "    </tr>\n",
       "    <tr>\n",
       "      <th id=\"T_ff2ad_level0_row6\" class=\"row_heading level0 row6\" >PRICE_EVENTS</th>\n",
       "      <td id=\"T_ff2ad_row6_col0\" class=\"data row6 col0\" >1733</td>\n",
       "    </tr>\n",
       "    <tr>\n",
       "      <th id=\"T_ff2ad_level0_row7\" class=\"row_heading level0 row7\" >PRICE_M2</th>\n",
       "      <td id=\"T_ff2ad_row7_col0\" class=\"data row7 col0\" >998</td>\n",
       "    </tr>\n",
       "    <tr>\n",
       "      <th id=\"T_ff2ad_level0_row8\" class=\"row_heading level0 row8\" >PRICE</th>\n",
       "      <td id=\"T_ff2ad_row8_col0\" class=\"data row8 col0\" >765</td>\n",
       "    </tr>\n",
       "    <tr>\n",
       "      <th id=\"T_ff2ad_level0_row9\" class=\"row_heading level0 row9\" >DEALER_NAME</th>\n",
       "      <td id=\"T_ff2ad_row9_col0\" class=\"data row9 col0\" >554</td>\n",
       "    </tr>\n",
       "    <tr>\n",
       "      <th id=\"T_ff2ad_level0_row10\" class=\"row_heading level0 row10\" >SURFACE</th>\n",
       "      <td id=\"T_ff2ad_row10_col0\" class=\"data row10 col0\" >455</td>\n",
       "    </tr>\n",
       "    <tr>\n",
       "      <th id=\"T_ff2ad_level0_row11\" class=\"row_heading level0 row11\" >LAST_PRICE_DECREASE_DATE</th>\n",
       "      <td id=\"T_ff2ad_row11_col0\" class=\"data row11 col0\" >146</td>\n",
       "    </tr>\n",
       "    <tr>\n",
       "      <th id=\"T_ff2ad_level0_row12\" class=\"row_heading level0 row12\" >RENTAL_EXPENSES</th>\n",
       "      <td id=\"T_ff2ad_row12_col0\" class=\"data row12 col0\" >130</td>\n",
       "    </tr>\n",
       "    <tr>\n",
       "      <th id=\"T_ff2ad_level0_row13\" class=\"row_heading level0 row13\" >FEES</th>\n",
       "      <td id=\"T_ff2ad_row13_col0\" class=\"data row13 col0\" >72</td>\n",
       "    </tr>\n",
       "    <tr>\n",
       "      <th id=\"T_ff2ad_level0_row14\" class=\"row_heading level0 row14\" >CONSTRUCTION_YEAR</th>\n",
       "      <td id=\"T_ff2ad_row14_col0\" class=\"data row14 col0\" >49</td>\n",
       "    </tr>\n",
       "    <tr>\n",
       "      <th id=\"T_ff2ad_level0_row15\" class=\"row_heading level0 row15\" >DEPOSIT</th>\n",
       "      <td id=\"T_ff2ad_row15_col0\" class=\"data row15 col0\" >45</td>\n",
       "    </tr>\n",
       "    <tr>\n",
       "      <th id=\"T_ff2ad_level0_row16\" class=\"row_heading level0 row16\" >TERRACE_SURFACE</th>\n",
       "      <td id=\"T_ff2ad_row16_col0\" class=\"data row16 col0\" >19</td>\n",
       "    </tr>\n",
       "    <tr>\n",
       "      <th id=\"T_ff2ad_level0_row17\" class=\"row_heading level0 row17\" >FLOOR_COUNT</th>\n",
       "      <td id=\"T_ff2ad_row17_col0\" class=\"data row17 col0\" >17</td>\n",
       "    </tr>\n",
       "    <tr>\n",
       "      <th id=\"T_ff2ad_level0_row18\" class=\"row_heading level0 row18\" >FLOOR</th>\n",
       "      <td id=\"T_ff2ad_row18_col0\" class=\"data row18 col0\" >13</td>\n",
       "    </tr>\n",
       "    <tr>\n",
       "      <th id=\"T_ff2ad_level0_row19\" class=\"row_heading level0 row19\" >CRAWL_SOURCE</th>\n",
       "      <td id=\"T_ff2ad_row19_col0\" class=\"data row19 col0\" >13</td>\n",
       "    </tr>\n",
       "    <tr>\n",
       "      <th id=\"T_ff2ad_level0_row20\" class=\"row_heading level0 row20\" >ROOM_COUNT</th>\n",
       "      <td id=\"T_ff2ad_row20_col0\" class=\"data row20 col0\" >12</td>\n",
       "    </tr>\n",
       "    <tr>\n",
       "      <th id=\"T_ff2ad_level0_row21\" class=\"row_heading level0 row21\" >PARKING_COUNT</th>\n",
       "      <td id=\"T_ff2ad_row21_col0\" class=\"data row21 col0\" >9</td>\n",
       "    </tr>\n",
       "    <tr>\n",
       "      <th id=\"T_ff2ad_level0_row22\" class=\"row_heading level0 row22\" >BEDROOM_COUNT</th>\n",
       "      <td id=\"T_ff2ad_row22_col0\" class=\"data row22 col0\" >8</td>\n",
       "    </tr>\n",
       "    <tr>\n",
       "      <th id=\"T_ff2ad_level0_row23\" class=\"row_heading level0 row23\" >HEATING_TYPES</th>\n",
       "      <td id=\"T_ff2ad_row23_col0\" class=\"data row23 col0\" >5</td>\n",
       "    </tr>\n",
       "    <tr>\n",
       "      <th id=\"T_ff2ad_level0_row24\" class=\"row_heading level0 row24\" >PROPERTY_TYPE</th>\n",
       "      <td id=\"T_ff2ad_row24_col0\" class=\"data row24 col0\" >5</td>\n",
       "    </tr>\n",
       "    <tr>\n",
       "      <th id=\"T_ff2ad_level0_row25\" class=\"row_heading level0 row25\" >HEATING_MODE</th>\n",
       "      <td id=\"T_ff2ad_row25_col0\" class=\"data row25 col0\" >4</td>\n",
       "    </tr>\n",
       "    <tr>\n",
       "      <th id=\"T_ff2ad_level0_row26\" class=\"row_heading level0 row26\" >NEW_BUILD</th>\n",
       "      <td id=\"T_ff2ad_row26_col0\" class=\"data row26 col0\" >3</td>\n",
       "    </tr>\n",
       "    <tr>\n",
       "      <th id=\"T_ff2ad_level0_row27\" class=\"row_heading level0 row27\" >OCCUPIED</th>\n",
       "      <td id=\"T_ff2ad_row27_col0\" class=\"data row27 col0\" >3</td>\n",
       "    </tr>\n",
       "    <tr>\n",
       "      <th id=\"T_ff2ad_level0_row28\" class=\"row_heading level0 row28\" >DEALER_TYPE</th>\n",
       "      <td id=\"T_ff2ad_row28_col0\" class=\"data row28 col0\" >3</td>\n",
       "    </tr>\n",
       "    <tr>\n",
       "      <th id=\"T_ff2ad_level0_row29\" class=\"row_heading level0 row29\" >AGENCIES_UNWANTED</th>\n",
       "      <td id=\"T_ff2ad_row29_col0\" class=\"data row29 col0\" >3</td>\n",
       "    </tr>\n",
       "    <tr>\n",
       "      <th id=\"T_ff2ad_level0_row30\" class=\"row_heading level0 row30\" >FEES_INCLUDED</th>\n",
       "      <td id=\"T_ff2ad_row30_col0\" class=\"data row30 col0\" >3</td>\n",
       "    </tr>\n",
       "    <tr>\n",
       "      <th id=\"T_ff2ad_level0_row31\" class=\"row_heading level0 row31\" >FURNISHED</th>\n",
       "      <td id=\"T_ff2ad_row31_col0\" class=\"data row31 col0\" >3</td>\n",
       "    </tr>\n",
       "    <tr>\n",
       "      <th id=\"T_ff2ad_level0_row32\" class=\"row_heading level0 row32\" >RENTAL_EXPENSES_INCLUDED</th>\n",
       "      <td id=\"T_ff2ad_row32_col0\" class=\"data row32 col0\" >3</td>\n",
       "    </tr>\n",
       "    <tr>\n",
       "      <th id=\"T_ff2ad_level0_row33\" class=\"row_heading level0 row33\" >LAND_SURFACE</th>\n",
       "      <td id=\"T_ff2ad_row33_col0\" class=\"data row33 col0\" >3</td>\n",
       "    </tr>\n",
       "    <tr>\n",
       "      <th id=\"T_ff2ad_level0_row34\" class=\"row_heading level0 row34\" >CARETAKER</th>\n",
       "      <td id=\"T_ff2ad_row34_col0\" class=\"data row34 col0\" >3</td>\n",
       "    </tr>\n",
       "    <tr>\n",
       "      <th id=\"T_ff2ad_level0_row35\" class=\"row_heading level0 row35\" >ELEVATOR</th>\n",
       "      <td id=\"T_ff2ad_row35_col0\" class=\"data row35 col0\" >3</td>\n",
       "    </tr>\n",
       "    <tr>\n",
       "      <th id=\"T_ff2ad_level0_row36\" class=\"row_heading level0 row36\" >GARDEN</th>\n",
       "      <td id=\"T_ff2ad_row36_col0\" class=\"data row36 col0\" >2</td>\n",
       "    </tr>\n",
       "    <tr>\n",
       "      <th id=\"T_ff2ad_level0_row37\" class=\"row_heading level0 row37\" >EXCLUSIVE_MANDATE</th>\n",
       "      <td id=\"T_ff2ad_row37_col0\" class=\"data row37 col0\" >2</td>\n",
       "    </tr>\n",
       "    <tr>\n",
       "      <th id=\"T_ff2ad_level0_row38\" class=\"row_heading level0 row38\" >MARKETING_TYPE</th>\n",
       "      <td id=\"T_ff2ad_row38_col0\" class=\"data row38 col0\" >2</td>\n",
       "    </tr>\n",
       "    <tr>\n",
       "      <th id=\"T_ff2ad_level0_row39\" class=\"row_heading level0 row39\" >PARKING</th>\n",
       "      <td id=\"T_ff2ad_row39_col0\" class=\"data row39 col0\" >2</td>\n",
       "    </tr>\n",
       "    <tr>\n",
       "      <th id=\"T_ff2ad_level0_row40\" class=\"row_heading level0 row40\" >ZIP_CODE</th>\n",
       "      <td id=\"T_ff2ad_row40_col0\" class=\"data row40 col0\" >2</td>\n",
       "    </tr>\n",
       "    <tr>\n",
       "      <th id=\"T_ff2ad_level0_row41\" class=\"row_heading level0 row41\" >TERRACE</th>\n",
       "      <td id=\"T_ff2ad_row41_col0\" class=\"data row41 col0\" >2</td>\n",
       "    </tr>\n",
       "    <tr>\n",
       "      <th id=\"T_ff2ad_level0_row42\" class=\"row_heading level0 row42\" >SWIMMING_POOL</th>\n",
       "      <td id=\"T_ff2ad_row42_col0\" class=\"data row42 col0\" >2</td>\n",
       "    </tr>\n",
       "    <tr>\n",
       "      <th id=\"T_ff2ad_level0_row43\" class=\"row_heading level0 row43\" >CITY_ID</th>\n",
       "      <td id=\"T_ff2ad_row43_col0\" class=\"data row43 col0\" >1</td>\n",
       "    </tr>\n",
       "    <tr>\n",
       "      <th id=\"T_ff2ad_level0_row44\" class=\"row_heading level0 row44\" >CITY</th>\n",
       "      <td id=\"T_ff2ad_row44_col0\" class=\"data row44 col0\" >1</td>\n",
       "    </tr>\n",
       "    <tr>\n",
       "      <th id=\"T_ff2ad_level0_row45\" class=\"row_heading level0 row45\" >DEPT_CODE</th>\n",
       "      <td id=\"T_ff2ad_row45_col0\" class=\"data row45 col0\" >1</td>\n",
       "    </tr>\n",
       "  </tbody>\n",
       "</table>\n"
      ],
      "text/plain": [
       "<pandas.io.formats.style.Styler at 0x7f47880b8130>"
      ]
     },
     "execution_count": 58,
     "metadata": {},
     "output_type": "execute_result"
    }
   ],
   "source": [
    "\n",
    "def style_unique(v, props='', n=2164):\n",
    "    return props if v==n else None\n",
    "\n",
    "def style_constant(v, props=''):\n",
    "    return props if v==1 else None\n",
    "\n",
    "def show_card(df):\n",
    "    df = (pd.Series({feature: len(df[feature].unique()) for feature in df.columns})\n",
    "                        .reset_index().rename(columns={'index':'Feature',0:'Cardinality'}))\n",
    "    df =df.set_index('Feature')\n",
    "    return df.sort_values(by ='Cardinality', ascending=False )\n",
    "\n",
    "card_stat = show_card(df)\n",
    "card_stat.style.set_caption(\"Cardinality of each feature in the dataset\").applymap(style_constant, props='background-color:red;color:white')\\\n",
    "    .applymap(style_unique, props='background-color:green;color:white', n=len(df))"
   ]
  },
  {
   "cell_type": "code",
   "execution_count": 59,
   "metadata": {},
   "outputs": [],
   "source": [
    "def download_image(url):\n",
    "    response = requests.get(url)\n",
    "    img = Image.open(BytesIO(response.content))\n",
    "    return img"
   ]
  },
  {
   "cell_type": "code",
   "execution_count": 60,
   "metadata": {},
   "outputs": [],
   "source": [
    "def generate_unique_identifier(input_string):\n",
    "    # Using SHA256 as the hashing algorithm\n",
    "    hash_object = hashlib.sha256(input_string.encode())\n",
    "    unique_identifier = hash_object.hexdigest()\n",
    "    return unique_identifier\n",
    "\n",
    "def download_df_images_locally(df, images_column_name = \"IMAGES\", id_column_name = \"ID\", export_path =\"data/images/\" ):\n",
    "\n",
    "    for i, row in tqdm(df.iterrows(), total=df.shape[0]):\n",
    "\n",
    "        # parsing the array\n",
    "        array_urls = json.loads(row[images_column_name])\n",
    "\n",
    "\n",
    "        directory = f\"{export_path}{row[id_column_name]}\"\n",
    "\n",
    "        if not os.path.exists(directory):\n",
    "            os.makedirs(directory)\n",
    "\n",
    "        # downloading the images\n",
    "        for j, url in enumerate(array_urls):\n",
    "            try : \n",
    "                img_name = generate_unique_identifier(url)\n",
    "                save_image_path = f\"{directory}/{img_name}.png\"\n",
    "                if os.path.exists(save_image_path):\n",
    "                    continue\n",
    "                else:\n",
    "                    img = download_image(url)\n",
    "                    img.save(save_image_path)                \n",
    "            except Exception as e :\n",
    "                continue\n",
    "    \n",
    "\n"
   ]
  },
  {
   "cell_type": "code",
   "execution_count": 61,
   "metadata": {},
   "outputs": [],
   "source": [
    "# download_df_images_locally(df)"
   ]
  },
  {
   "attachments": {},
   "cell_type": "markdown",
   "metadata": {},
   "source": [
    "### ii. dataset cleaning"
   ]
  },
  {
   "cell_type": "code",
   "execution_count": 62,
   "metadata": {},
   "outputs": [],
   "source": [
    "## Droping constant columns : "
   ]
  },
  {
   "cell_type": "code",
   "execution_count": 63,
   "metadata": {},
   "outputs": [],
   "source": [
    "df.drop(columns = [\"CITY_ID\", \"CITY\", \"DEPT_CODE\"], axis=1, inplace=True)"
   ]
  },
  {
   "cell_type": "code",
   "execution_count": 64,
   "metadata": {},
   "outputs": [],
   "source": [
    "## Parsing Heating Types"
   ]
  },
  {
   "cell_type": "code",
   "execution_count": 65,
   "metadata": {},
   "outputs": [
    {
     "name": "stdout",
     "output_type": "stream",
     "text": [
      "Unique Heating Types are :  ['ELECTRIC', 'GAS', 'ELECTRIC', 'UNDERFLOOR', 'FUEL']\n"
     ]
    }
   ],
   "source": [
    "heating_types = []\n",
    "for value in df[\"HEATING_TYPES\"].unique():\n",
    "    heating_array = json.loads(value)\n",
    "    heating_types.extend(heating_array)\n",
    "print(\"Unique Heating Types are : \", heating_types)\n",
    "def parse_heating_type(row, heating_types):\n",
    "    for heating_type in heating_types:\n",
    "        if heating_type in row[\"HEATING_TYPES\"]:\n",
    "            row[heating_type]=1\n",
    "        else:\n",
    "            row[heating_type]=0\n",
    "    return row\n",
    "df = df.apply(lambda row : parse_heating_type(row, heating_types=heating_types), axis=1)"
   ]
  },
  {
   "cell_type": "code",
   "execution_count": 66,
   "metadata": {},
   "outputs": [],
   "source": [
    "## Adding the number of listed images and number of downloaded images"
   ]
  },
  {
   "cell_type": "code",
   "execution_count": 67,
   "metadata": {},
   "outputs": [],
   "source": [
    "def count_urls(urls):\n",
    "    array_urls = json.loads(urls)\n",
    "    return len(array_urls)\n",
    "\n",
    "def count_images(id, data_path = \"data/images/\"):\n",
    "    \n",
    "    list_images = glob.glob( f\"{data_path}{id}/*png\")\n",
    "    return len(list_images)\n",
    "\n",
    "df[\"NUMBER_URL_IMAGES\"]=df.apply(lambda row : count_urls(row[\"IMAGES\"]), axis = 1)\n",
    "df[\"NUMBER_VALID_IMAGES\"]=df.apply(lambda row : count_images(row[\"ID\"]), axis = 1)"
   ]
  },
  {
   "cell_type": "code",
   "execution_count": 68,
   "metadata": {},
   "outputs": [
    {
     "data": {
      "text/html": [
       "<pre style=\"white-space:pre;overflow-x:auto;line-height:normal;font-family:Menlo,'DejaVu Sans Mono',consolas,'Courier New',monospace\">Unique Values for    <span style=\"color: #008080; text-decoration-color: #008080; font-weight: bold\">SWIMMING_POOL</span> :  <span style=\"font-weight: bold\">[</span>nan  <span style=\"color: #008080; text-decoration-color: #008080; font-weight: bold\">1</span>.<span style=\"font-weight: bold\">]</span>\n",
       "</pre>\n"
      ],
      "text/plain": [
       "Unique Values for    \u001b[1;36mSWIMMING_POOL\u001b[0m :  \u001b[1m[\u001b[0mnan  \u001b[1;36m1\u001b[0m.\u001b[1m]\u001b[0m\n"
      ]
     },
     "metadata": {},
     "output_type": "display_data"
    },
    {
     "data": {
      "text/html": [
       "<pre style=\"white-space:pre;overflow-x:auto;line-height:normal;font-family:Menlo,'DejaVu Sans Mono',consolas,'Courier New',monospace\">Number of offers with <span style=\"color: #008080; text-decoration-color: #008080; font-weight: bold\">SWIMMING_POOL</span> :  <span style=\"color: #008080; text-decoration-color: #008080; font-weight: bold\">6.0</span>\n",
       "</pre>\n"
      ],
      "text/plain": [
       "Number of offers with \u001b[1;36mSWIMMING_POOL\u001b[0m :  \u001b[1;36m6.0\u001b[0m\n"
      ]
     },
     "metadata": {},
     "output_type": "display_data"
    },
    {
     "data": {
      "text/html": [
       "<pre style=\"white-space:pre;overflow-x:auto;line-height:normal;font-family:Menlo,'DejaVu Sans Mono',consolas,'Courier New',monospace\">Unique Values for    <span style=\"color: #008080; text-decoration-color: #008080; font-weight: bold\">NEW_BUILD</span> :  <span style=\"font-weight: bold\">[</span><span style=\"color: #ff0000; text-decoration-color: #ff0000; font-style: italic\">False</span> nan <span style=\"color: #00ff00; text-decoration-color: #00ff00; font-style: italic\">True</span><span style=\"font-weight: bold\">]</span>\n",
       "</pre>\n"
      ],
      "text/plain": [
       "Unique Values for    \u001b[1;36mNEW_BUILD\u001b[0m :  \u001b[1m[\u001b[0m\u001b[3;91mFalse\u001b[0m nan \u001b[3;92mTrue\u001b[0m\u001b[1m]\u001b[0m\n"
      ]
     },
     "metadata": {},
     "output_type": "display_data"
    },
    {
     "data": {
      "text/html": [
       "<pre style=\"white-space:pre;overflow-x:auto;line-height:normal;font-family:Menlo,'DejaVu Sans Mono',consolas,'Courier New',monospace\">Number of offers with <span style=\"color: #008080; text-decoration-color: #008080; font-weight: bold\">NEW_BUILD</span> :  <span style=\"color: #008080; text-decoration-color: #008080; font-weight: bold\">103</span>\n",
       "</pre>\n"
      ],
      "text/plain": [
       "Number of offers with \u001b[1;36mNEW_BUILD\u001b[0m :  \u001b[1;36m103\u001b[0m\n"
      ]
     },
     "metadata": {},
     "output_type": "display_data"
    },
    {
     "data": {
      "text/html": [
       "<pre style=\"white-space:pre;overflow-x:auto;line-height:normal;font-family:Menlo,'DejaVu Sans Mono',consolas,'Courier New',monospace\">Unique Values for    <span style=\"color: #008080; text-decoration-color: #008080; font-weight: bold\">FURNISHED</span> :  <span style=\"font-weight: bold\">[</span><span style=\"color: #ff0000; text-decoration-color: #ff0000; font-style: italic\">False</span> nan <span style=\"color: #00ff00; text-decoration-color: #00ff00; font-style: italic\">True</span><span style=\"font-weight: bold\">]</span>\n",
       "</pre>\n"
      ],
      "text/plain": [
       "Unique Values for    \u001b[1;36mFURNISHED\u001b[0m :  \u001b[1m[\u001b[0m\u001b[3;91mFalse\u001b[0m nan \u001b[3;92mTrue\u001b[0m\u001b[1m]\u001b[0m\n"
      ]
     },
     "metadata": {},
     "output_type": "display_data"
    },
    {
     "data": {
      "text/html": [
       "<pre style=\"white-space:pre;overflow-x:auto;line-height:normal;font-family:Menlo,'DejaVu Sans Mono',consolas,'Courier New',monospace\">Number of offers with <span style=\"color: #008080; text-decoration-color: #008080; font-weight: bold\">FURNISHED</span> :  <span style=\"color: #008080; text-decoration-color: #008080; font-weight: bold\">213</span>\n",
       "</pre>\n"
      ],
      "text/plain": [
       "Number of offers with \u001b[1;36mFURNISHED\u001b[0m :  \u001b[1;36m213\u001b[0m\n"
      ]
     },
     "metadata": {},
     "output_type": "display_data"
    },
    {
     "data": {
      "text/html": [
       "<pre style=\"white-space:pre;overflow-x:auto;line-height:normal;font-family:Menlo,'DejaVu Sans Mono',consolas,'Courier New',monospace\">Unique Values for    <span style=\"color: #008080; text-decoration-color: #008080; font-weight: bold\">GARDEN</span> :  <span style=\"font-weight: bold\">[</span>nan  <span style=\"color: #008080; text-decoration-color: #008080; font-weight: bold\">1</span>.<span style=\"font-weight: bold\">]</span>\n",
       "</pre>\n"
      ],
      "text/plain": [
       "Unique Values for    \u001b[1;36mGARDEN\u001b[0m :  \u001b[1m[\u001b[0mnan  \u001b[1;36m1\u001b[0m.\u001b[1m]\u001b[0m\n"
      ]
     },
     "metadata": {},
     "output_type": "display_data"
    },
    {
     "data": {
      "text/html": [
       "<pre style=\"white-space:pre;overflow-x:auto;line-height:normal;font-family:Menlo,'DejaVu Sans Mono',consolas,'Courier New',monospace\">Number of offers with <span style=\"color: #008080; text-decoration-color: #008080; font-weight: bold\">GARDEN</span> :  <span style=\"color: #008080; text-decoration-color: #008080; font-weight: bold\">14.0</span>\n",
       "</pre>\n"
      ],
      "text/plain": [
       "Number of offers with \u001b[1;36mGARDEN\u001b[0m :  \u001b[1;36m14.0\u001b[0m\n"
      ]
     },
     "metadata": {},
     "output_type": "display_data"
    },
    {
     "data": {
      "text/html": [
       "<pre style=\"white-space:pre;overflow-x:auto;line-height:normal;font-family:Menlo,'DejaVu Sans Mono',consolas,'Courier New',monospace\">Unique Values for    <span style=\"color: #008080; text-decoration-color: #008080; font-weight: bold\">PARKING</span> :  <span style=\"font-weight: bold\">[</span> <span style=\"color: #00ff00; text-decoration-color: #00ff00; font-style: italic\">True</span> <span style=\"color: #ff0000; text-decoration-color: #ff0000; font-style: italic\">False</span><span style=\"font-weight: bold\">]</span>\n",
       "</pre>\n"
      ],
      "text/plain": [
       "Unique Values for    \u001b[1;36mPARKING\u001b[0m :  \u001b[1m[\u001b[0m \u001b[3;92mTrue\u001b[0m \u001b[3;91mFalse\u001b[0m\u001b[1m]\u001b[0m\n"
      ]
     },
     "metadata": {},
     "output_type": "display_data"
    },
    {
     "data": {
      "text/html": [
       "<pre style=\"white-space:pre;overflow-x:auto;line-height:normal;font-family:Menlo,'DejaVu Sans Mono',consolas,'Courier New',monospace\">Number of offers with <span style=\"color: #008080; text-decoration-color: #008080; font-weight: bold\">PARKING</span> :  <span style=\"color: #008080; text-decoration-color: #008080; font-weight: bold\">157</span>\n",
       "</pre>\n"
      ],
      "text/plain": [
       "Number of offers with \u001b[1;36mPARKING\u001b[0m :  \u001b[1;36m157\u001b[0m\n"
      ]
     },
     "metadata": {},
     "output_type": "display_data"
    },
    {
     "data": {
      "text/html": [
       "<pre style=\"white-space:pre;overflow-x:auto;line-height:normal;font-family:Menlo,'DejaVu Sans Mono',consolas,'Courier New',monospace\">Unique Values for    <span style=\"color: #008080; text-decoration-color: #008080; font-weight: bold\">TERRACE</span> :  <span style=\"font-weight: bold\">[</span>nan  <span style=\"color: #008080; text-decoration-color: #008080; font-weight: bold\">1</span>.<span style=\"font-weight: bold\">]</span>\n",
       "</pre>\n"
      ],
      "text/plain": [
       "Unique Values for    \u001b[1;36mTERRACE\u001b[0m :  \u001b[1m[\u001b[0mnan  \u001b[1;36m1\u001b[0m.\u001b[1m]\u001b[0m\n"
      ]
     },
     "metadata": {},
     "output_type": "display_data"
    },
    {
     "data": {
      "text/html": [
       "<pre style=\"white-space:pre;overflow-x:auto;line-height:normal;font-family:Menlo,'DejaVu Sans Mono',consolas,'Courier New',monospace\">Number of offers with <span style=\"color: #008080; text-decoration-color: #008080; font-weight: bold\">TERRACE</span> :  <span style=\"color: #008080; text-decoration-color: #008080; font-weight: bold\">86.0</span>\n",
       "</pre>\n"
      ],
      "text/plain": [
       "Number of offers with \u001b[1;36mTERRACE\u001b[0m :  \u001b[1;36m86.0\u001b[0m\n"
      ]
     },
     "metadata": {},
     "output_type": "display_data"
    },
    {
     "data": {
      "text/html": [
       "<pre style=\"white-space:pre;overflow-x:auto;line-height:normal;font-family:Menlo,'DejaVu Sans Mono',consolas,'Courier New',monospace\">Unique Values for    <span style=\"color: #008080; text-decoration-color: #008080; font-weight: bold\">PARKING</span> :  <span style=\"font-weight: bold\">[</span> <span style=\"color: #00ff00; text-decoration-color: #00ff00; font-style: italic\">True</span> <span style=\"color: #ff0000; text-decoration-color: #ff0000; font-style: italic\">False</span><span style=\"font-weight: bold\">]</span>\n",
       "</pre>\n"
      ],
      "text/plain": [
       "Unique Values for    \u001b[1;36mPARKING\u001b[0m :  \u001b[1m[\u001b[0m \u001b[3;92mTrue\u001b[0m \u001b[3;91mFalse\u001b[0m\u001b[1m]\u001b[0m\n"
      ]
     },
     "metadata": {},
     "output_type": "display_data"
    },
    {
     "data": {
      "text/html": [
       "<pre style=\"white-space:pre;overflow-x:auto;line-height:normal;font-family:Menlo,'DejaVu Sans Mono',consolas,'Courier New',monospace\">Number of offers with <span style=\"color: #008080; text-decoration-color: #008080; font-weight: bold\">PARKING</span> :  <span style=\"color: #008080; text-decoration-color: #008080; font-weight: bold\">157</span>\n",
       "</pre>\n"
      ],
      "text/plain": [
       "Number of offers with \u001b[1;36mPARKING\u001b[0m :  \u001b[1;36m157\u001b[0m\n"
      ]
     },
     "metadata": {},
     "output_type": "display_data"
    },
    {
     "data": {
      "text/html": [
       "<pre style=\"white-space:pre;overflow-x:auto;line-height:normal;font-family:Menlo,'DejaVu Sans Mono',consolas,'Courier New',monospace\">Unique Values for    <span style=\"color: #008080; text-decoration-color: #008080; font-weight: bold\">ELEVATOR</span> :  <span style=\"font-weight: bold\">[</span><span style=\"color: #00ff00; text-decoration-color: #00ff00; font-style: italic\">True</span> nan <span style=\"color: #ff0000; text-decoration-color: #ff0000; font-style: italic\">False</span><span style=\"font-weight: bold\">]</span>\n",
       "</pre>\n"
      ],
      "text/plain": [
       "Unique Values for    \u001b[1;36mELEVATOR\u001b[0m :  \u001b[1m[\u001b[0m\u001b[3;92mTrue\u001b[0m nan \u001b[3;91mFalse\u001b[0m\u001b[1m]\u001b[0m\n"
      ]
     },
     "metadata": {},
     "output_type": "display_data"
    },
    {
     "data": {
      "text/html": [
       "<pre style=\"white-space:pre;overflow-x:auto;line-height:normal;font-family:Menlo,'DejaVu Sans Mono',consolas,'Courier New',monospace\">Number of offers with <span style=\"color: #008080; text-decoration-color: #008080; font-weight: bold\">ELEVATOR</span> :  <span style=\"color: #008080; text-decoration-color: #008080; font-weight: bold\">507</span>\n",
       "</pre>\n"
      ],
      "text/plain": [
       "Number of offers with \u001b[1;36mELEVATOR\u001b[0m :  \u001b[1;36m507\u001b[0m\n"
      ]
     },
     "metadata": {},
     "output_type": "display_data"
    },
    {
     "data": {
      "text/html": [
       "<pre style=\"white-space:pre;overflow-x:auto;line-height:normal;font-family:Menlo,'DejaVu Sans Mono',consolas,'Courier New',monospace\">Unique Values for    <span style=\"color: #008080; text-decoration-color: #008080; font-weight: bold\">CARETAKER</span> :  <span style=\"font-weight: bold\">[</span>nan <span style=\"color: #ff0000; text-decoration-color: #ff0000; font-style: italic\">False</span> <span style=\"color: #00ff00; text-decoration-color: #00ff00; font-style: italic\">True</span><span style=\"font-weight: bold\">]</span>\n",
       "</pre>\n"
      ],
      "text/plain": [
       "Unique Values for    \u001b[1;36mCARETAKER\u001b[0m :  \u001b[1m[\u001b[0mnan \u001b[3;91mFalse\u001b[0m \u001b[3;92mTrue\u001b[0m\u001b[1m]\u001b[0m\n"
      ]
     },
     "metadata": {},
     "output_type": "display_data"
    },
    {
     "data": {
      "text/html": [
       "<pre style=\"white-space:pre;overflow-x:auto;line-height:normal;font-family:Menlo,'DejaVu Sans Mono',consolas,'Courier New',monospace\">Number of offers with <span style=\"color: #008080; text-decoration-color: #008080; font-weight: bold\">CARETAKER</span> :  <span style=\"color: #008080; text-decoration-color: #008080; font-weight: bold\">147</span>\n",
       "</pre>\n"
      ],
      "text/plain": [
       "Number of offers with \u001b[1;36mCARETAKER\u001b[0m :  \u001b[1;36m147\u001b[0m\n"
      ]
     },
     "metadata": {},
     "output_type": "display_data"
    },
    {
     "data": {
      "text/html": [
       "<pre style=\"white-space:pre;overflow-x:auto;line-height:normal;font-family:Menlo,'DejaVu Sans Mono',consolas,'Courier New',monospace\">Unique Values for    <span style=\"color: #008080; text-decoration-color: #008080; font-weight: bold\">RENTAL_EXPENSES_INCLUDED</span> :  <span style=\"font-weight: bold\">[</span><span style=\"color: #00ff00; text-decoration-color: #00ff00; font-style: italic\">True</span> nan <span style=\"color: #ff0000; text-decoration-color: #ff0000; font-style: italic\">False</span><span style=\"font-weight: bold\">]</span>\n",
       "</pre>\n"
      ],
      "text/plain": [
       "Unique Values for    \u001b[1;36mRENTAL_EXPENSES_INCLUDED\u001b[0m :  \u001b[1m[\u001b[0m\u001b[3;92mTrue\u001b[0m nan \u001b[3;91mFalse\u001b[0m\u001b[1m]\u001b[0m\n"
      ]
     },
     "metadata": {},
     "output_type": "display_data"
    },
    {
     "data": {
      "text/html": [
       "<pre style=\"white-space:pre;overflow-x:auto;line-height:normal;font-family:Menlo,'DejaVu Sans Mono',consolas,'Courier New',monospace\">Number of offers with <span style=\"color: #008080; text-decoration-color: #008080; font-weight: bold\">RENTAL_EXPENSES_INCLUDED</span> :  <span style=\"color: #008080; text-decoration-color: #008080; font-weight: bold\">578</span>\n",
       "</pre>\n"
      ],
      "text/plain": [
       "Number of offers with \u001b[1;36mRENTAL_EXPENSES_INCLUDED\u001b[0m :  \u001b[1;36m578\u001b[0m\n"
      ]
     },
     "metadata": {},
     "output_type": "display_data"
    },
    {
     "data": {
      "text/html": [
       "<pre style=\"white-space:pre;overflow-x:auto;line-height:normal;font-family:Menlo,'DejaVu Sans Mono',consolas,'Courier New',monospace\">Unique Values for    <span style=\"color: #008080; text-decoration-color: #008080; font-weight: bold\">EXCLUSIVE_MANDATE</span> :  <span style=\"font-weight: bold\">[</span><span style=\"color: #ff0000; text-decoration-color: #ff0000; font-style: italic\">False</span>  <span style=\"color: #00ff00; text-decoration-color: #00ff00; font-style: italic\">True</span><span style=\"font-weight: bold\">]</span>\n",
       "</pre>\n"
      ],
      "text/plain": [
       "Unique Values for    \u001b[1;36mEXCLUSIVE_MANDATE\u001b[0m :  \u001b[1m[\u001b[0m\u001b[3;91mFalse\u001b[0m  \u001b[3;92mTrue\u001b[0m\u001b[1m]\u001b[0m\n"
      ]
     },
     "metadata": {},
     "output_type": "display_data"
    },
    {
     "data": {
      "text/html": [
       "<pre style=\"white-space:pre;overflow-x:auto;line-height:normal;font-family:Menlo,'DejaVu Sans Mono',consolas,'Courier New',monospace\">Number of offers with <span style=\"color: #008080; text-decoration-color: #008080; font-weight: bold\">EXCLUSIVE_MANDATE</span> :  <span style=\"color: #008080; text-decoration-color: #008080; font-weight: bold\">167</span>\n",
       "</pre>\n"
      ],
      "text/plain": [
       "Number of offers with \u001b[1;36mEXCLUSIVE_MANDATE\u001b[0m :  \u001b[1;36m167\u001b[0m\n"
      ]
     },
     "metadata": {},
     "output_type": "display_data"
    },
    {
     "data": {
      "text/html": [
       "<pre style=\"white-space:pre;overflow-x:auto;line-height:normal;font-family:Menlo,'DejaVu Sans Mono',consolas,'Courier New',monospace\">Unique Values for    <span style=\"color: #008080; text-decoration-color: #008080; font-weight: bold\">AGENCIES_UNWANTED</span> :  <span style=\"font-weight: bold\">[</span>nan <span style=\"color: #ff0000; text-decoration-color: #ff0000; font-style: italic\">False</span> <span style=\"color: #00ff00; text-decoration-color: #00ff00; font-style: italic\">True</span><span style=\"font-weight: bold\">]</span>\n",
       "</pre>\n"
      ],
      "text/plain": [
       "Unique Values for    \u001b[1;36mAGENCIES_UNWANTED\u001b[0m :  \u001b[1m[\u001b[0mnan \u001b[3;91mFalse\u001b[0m \u001b[3;92mTrue\u001b[0m\u001b[1m]\u001b[0m\n"
      ]
     },
     "metadata": {},
     "output_type": "display_data"
    },
    {
     "data": {
      "text/html": [
       "<pre style=\"white-space:pre;overflow-x:auto;line-height:normal;font-family:Menlo,'DejaVu Sans Mono',consolas,'Courier New',monospace\">Number of offers with <span style=\"color: #008080; text-decoration-color: #008080; font-weight: bold\">AGENCIES_UNWANTED</span> :  <span style=\"color: #008080; text-decoration-color: #008080; font-weight: bold\">12</span>\n",
       "</pre>\n"
      ],
      "text/plain": [
       "Number of offers with \u001b[1;36mAGENCIES_UNWANTED\u001b[0m :  \u001b[1;36m12\u001b[0m\n"
      ]
     },
     "metadata": {},
     "output_type": "display_data"
    },
    {
     "data": {
      "text/html": [
       "<pre style=\"white-space:pre;overflow-x:auto;line-height:normal;font-family:Menlo,'DejaVu Sans Mono',consolas,'Courier New',monospace\">Unique Values for    <span style=\"color: #008080; text-decoration-color: #008080; font-weight: bold\">OCCUPIED</span> :  <span style=\"font-weight: bold\">[</span>nan <span style=\"color: #ff0000; text-decoration-color: #ff0000; font-style: italic\">False</span> <span style=\"color: #00ff00; text-decoration-color: #00ff00; font-style: italic\">True</span><span style=\"font-weight: bold\">]</span>\n",
       "</pre>\n"
      ],
      "text/plain": [
       "Unique Values for    \u001b[1;36mOCCUPIED\u001b[0m :  \u001b[1m[\u001b[0mnan \u001b[3;91mFalse\u001b[0m \u001b[3;92mTrue\u001b[0m\u001b[1m]\u001b[0m\n"
      ]
     },
     "metadata": {},
     "output_type": "display_data"
    },
    {
     "data": {
      "text/html": [
       "<pre style=\"white-space:pre;overflow-x:auto;line-height:normal;font-family:Menlo,'DejaVu Sans Mono',consolas,'Courier New',monospace\">Number of offers with <span style=\"color: #008080; text-decoration-color: #008080; font-weight: bold\">OCCUPIED</span> :  <span style=\"color: #008080; text-decoration-color: #008080; font-weight: bold\">20</span>\n",
       "</pre>\n"
      ],
      "text/plain": [
       "Number of offers with \u001b[1;36mOCCUPIED\u001b[0m :  \u001b[1;36m20\u001b[0m\n"
      ]
     },
     "metadata": {},
     "output_type": "display_data"
    }
   ],
   "source": [
    "## Fixing bad datatypes\n",
    "def describe_features(df, features):\n",
    "    for feature in features :\n",
    "        console.print(f\"Unique Values for    [bold cyan]{feature}[/ bold cyan] : \", df[feature].unique())\n",
    "        console.print(f\"Number of offers with [bold cyan]{feature}[/ bold cyan] : \", df[feature].sum())\n",
    "bool_columns = [\"SWIMMING_POOL\", \"NEW_BUILD\", \"FURNISHED\", \"GARDEN\", \"PARKING\", \"TERRACE\", \"PARKING\", \"ELEVATOR\", \"CARETAKER\", \"RENTAL_EXPENSES_INCLUDED\", \"EXCLUSIVE_MANDATE\", \"AGENCIES_UNWANTED\", \"OCCUPIED\"]\n",
    "\n",
    "describe_features(df,bool_columns)\n",
    "# To note : TERRACE, SWIMMING_POOL & GARDEN only have nan, and 1 as unique values"
   ]
  },
  {
   "cell_type": "code",
   "execution_count": 69,
   "metadata": {},
   "outputs": [],
   "source": [
    "## Replacing NaN value with -1\n",
    "df = df.fillna(-1)"
   ]
  },
  {
   "cell_type": "code",
   "execution_count": 70,
   "metadata": {},
   "outputs": [],
   "source": [
    "# Casting bool columns to integer\n",
    "for col in bool_columns:\n",
    "    df[col]=df[col].astype(int)"
   ]
  },
  {
   "cell_type": "code",
   "execution_count": 71,
   "metadata": {},
   "outputs": [
    {
     "data": {
      "text/html": [
       "<pre style=\"white-space:pre;overflow-x:auto;line-height:normal;font-family:Menlo,'DejaVu Sans Mono',consolas,'Courier New',monospace\">Unique values for : LAST_PRICE_DECREASE_DATE <span style=\"font-weight: bold\">[</span><span style=\"color: #008080; text-decoration-color: #008080; font-weight: bold\">-1</span> <span style=\"color: #008000; text-decoration-color: #008000\">'2018-09-25'</span> <span style=\"color: #008000; text-decoration-color: #008000\">'2019-06-14'</span> <span style=\"color: #008000; text-decoration-color: #008000\">'2019-07-10'</span> <span style=\"color: #008000; text-decoration-color: #008000\">'2019-07-13'</span> <span style=\"color: #008000; text-decoration-color: #008000\">'2019-07-17'</span>\n",
       " <span style=\"color: #008000; text-decoration-color: #008000\">'2017-05-04'</span> <span style=\"color: #008000; text-decoration-color: #008000\">'2019-07-18'</span> <span style=\"color: #008000; text-decoration-color: #008000\">'2019-07-19'</span> <span style=\"color: #008000; text-decoration-color: #008000\">'2019-07-31'</span> <span style=\"color: #008000; text-decoration-color: #008000\">'2019-04-30'</span>\n",
       " <span style=\"color: #008000; text-decoration-color: #008000\">'2019-06-29'</span> <span style=\"color: #008000; text-decoration-color: #008000\">'2019-07-30'</span> <span style=\"color: #008000; text-decoration-color: #008000\">'2019-06-17'</span> <span style=\"color: #008000; text-decoration-color: #008000\">'2018-01-30'</span> <span style=\"color: #008000; text-decoration-color: #008000\">'2019-07-15'</span>\n",
       " <span style=\"color: #008000; text-decoration-color: #008000\">'2019-08-09'</span> <span style=\"color: #008000; text-decoration-color: #008000\">'2019-03-17'</span> <span style=\"color: #008000; text-decoration-color: #008000\">'2019-06-13'</span> <span style=\"color: #008000; text-decoration-color: #008000\">'2019-04-25'</span> <span style=\"color: #008000; text-decoration-color: #008000\">'2019-06-15'</span>\n",
       " <span style=\"color: #008000; text-decoration-color: #008000\">'2019-07-12'</span> <span style=\"color: #008000; text-decoration-color: #008000\">'2019-08-17'</span> <span style=\"color: #008000; text-decoration-color: #008000\">'2019-06-26'</span> <span style=\"color: #008000; text-decoration-color: #008000\">'2019-06-28'</span> <span style=\"color: #008000; text-decoration-color: #008000\">'2019-03-29'</span>\n",
       " <span style=\"color: #008000; text-decoration-color: #008000\">'2019-07-23'</span> <span style=\"color: #008000; text-decoration-color: #008000\">'2019-07-08'</span> <span style=\"color: #008000; text-decoration-color: #008000\">'2019-04-02'</span> <span style=\"color: #008000; text-decoration-color: #008000\">'2019-05-30'</span> <span style=\"color: #008000; text-decoration-color: #008000\">'2019-02-14'</span>\n",
       " <span style=\"color: #008000; text-decoration-color: #008000\">'2019-06-21'</span> <span style=\"color: #008000; text-decoration-color: #008000\">'2019-08-21'</span> <span style=\"color: #008000; text-decoration-color: #008000\">'2019-04-16'</span> <span style=\"color: #008000; text-decoration-color: #008000\">'2019-06-20'</span> <span style=\"color: #008000; text-decoration-color: #008000\">'2019-06-04'</span>\n",
       " <span style=\"color: #008000; text-decoration-color: #008000\">'2019-07-20'</span> <span style=\"color: #008000; text-decoration-color: #008000\">'2019-08-25'</span> <span style=\"color: #008000; text-decoration-color: #008000\">'2019-05-11'</span> <span style=\"color: #008000; text-decoration-color: #008000\">'2019-05-21'</span> <span style=\"color: #008000; text-decoration-color: #008000\">'2019-05-08'</span>\n",
       " <span style=\"color: #008000; text-decoration-color: #008000\">'2019-05-29'</span> <span style=\"color: #008000; text-decoration-color: #008000\">'2019-07-27'</span> <span style=\"color: #008000; text-decoration-color: #008000\">'2019-07-07'</span> <span style=\"color: #008000; text-decoration-color: #008000\">'2019-02-28'</span> <span style=\"color: #008000; text-decoration-color: #008000\">'2019-06-23'</span>\n",
       " <span style=\"color: #008000; text-decoration-color: #008000\">'2017-05-19'</span> <span style=\"color: #008000; text-decoration-color: #008000\">'2019-05-19'</span> <span style=\"color: #008000; text-decoration-color: #008000\">'2019-05-06'</span> <span style=\"color: #008000; text-decoration-color: #008000\">'2019-06-27'</span> <span style=\"color: #008000; text-decoration-color: #008000\">'2019-01-02'</span>\n",
       " <span style=\"color: #008000; text-decoration-color: #008000\">'2018-12-18'</span> <span style=\"color: #008000; text-decoration-color: #008000\">'2019-07-01'</span> <span style=\"color: #008000; text-decoration-color: #008000\">'2019-03-20'</span> <span style=\"color: #008000; text-decoration-color: #008000\">'2019-07-03'</span> <span style=\"color: #008000; text-decoration-color: #008000\">'2019-08-14'</span>\n",
       " <span style=\"color: #008000; text-decoration-color: #008000\">'2019-08-15'</span> <span style=\"color: #008000; text-decoration-color: #008000\">'2019-06-10'</span> <span style=\"color: #008000; text-decoration-color: #008000\">'2019-08-08'</span> <span style=\"color: #008000; text-decoration-color: #008000\">'2019-07-14'</span> <span style=\"color: #008000; text-decoration-color: #008000\">'2019-06-07'</span>\n",
       " <span style=\"color: #008000; text-decoration-color: #008000\">'2019-04-21'</span> <span style=\"color: #008000; text-decoration-color: #008000\">'2017-12-27'</span> <span style=\"color: #008000; text-decoration-color: #008000\">'2019-06-22'</span> <span style=\"color: #008000; text-decoration-color: #008000\">'2019-08-24'</span> <span style=\"color: #008000; text-decoration-color: #008000\">'2019-06-24'</span>\n",
       " <span style=\"color: #008000; text-decoration-color: #008000\">'2019-06-25'</span> <span style=\"color: #008000; text-decoration-color: #008000\">'2019-04-07'</span> <span style=\"color: #008000; text-decoration-color: #008000\">'2019-08-07'</span> <span style=\"color: #008000; text-decoration-color: #008000\">'2019-08-23'</span> <span style=\"color: #008000; text-decoration-color: #008000\">'2019-07-05'</span>\n",
       " <span style=\"color: #008000; text-decoration-color: #008000\">'2019-04-04'</span> <span style=\"color: #008000; text-decoration-color: #008000\">'2019-05-24'</span> <span style=\"color: #008000; text-decoration-color: #008000\">'2019-04-23'</span> <span style=\"color: #008000; text-decoration-color: #008000\">'2019-08-05'</span> <span style=\"color: #008000; text-decoration-color: #008000\">'2019-04-29'</span>\n",
       " <span style=\"color: #008000; text-decoration-color: #008000\">'2019-06-30'</span> <span style=\"color: #008000; text-decoration-color: #008000\">'2017-04-11'</span> <span style=\"color: #008000; text-decoration-color: #008000\">'2017-11-20'</span> <span style=\"color: #008000; text-decoration-color: #008000\">'2017-03-22'</span> <span style=\"color: #008000; text-decoration-color: #008000\">'2019-05-27'</span>\n",
       " <span style=\"color: #008000; text-decoration-color: #008000\">'2019-06-05'</span> <span style=\"color: #008000; text-decoration-color: #008000\">'2019-04-01'</span> <span style=\"color: #008000; text-decoration-color: #008000\">'2019-03-13'</span> <span style=\"color: #008000; text-decoration-color: #008000\">'2018-10-27'</span> <span style=\"color: #008000; text-decoration-color: #008000\">'2017-06-02'</span>\n",
       " <span style=\"color: #008000; text-decoration-color: #008000\">'2018-08-31'</span> <span style=\"color: #008000; text-decoration-color: #008000\">'2019-04-20'</span> <span style=\"color: #008000; text-decoration-color: #008000\">'2019-06-08'</span> <span style=\"color: #008000; text-decoration-color: #008000\">'2019-02-01'</span> <span style=\"color: #008000; text-decoration-color: #008000\">'2019-01-08'</span>\n",
       " <span style=\"color: #008000; text-decoration-color: #008000\">'2019-07-06'</span> <span style=\"color: #008000; text-decoration-color: #008000\">'2019-07-22'</span> <span style=\"color: #008000; text-decoration-color: #008000\">'2019-07-24'</span> <span style=\"color: #008000; text-decoration-color: #008000\">'2019-03-19'</span> <span style=\"color: #008000; text-decoration-color: #008000\">'2019-07-09'</span>\n",
       " <span style=\"color: #008000; text-decoration-color: #008000\">'2019-04-09'</span> <span style=\"color: #008000; text-decoration-color: #008000\">'2019-06-18'</span> <span style=\"color: #008000; text-decoration-color: #008000\">'2019-04-05'</span> <span style=\"color: #008000; text-decoration-color: #008000\">'2019-07-25'</span> <span style=\"color: #008000; text-decoration-color: #008000\">'2019-05-09'</span>\n",
       " <span style=\"color: #008000; text-decoration-color: #008000\">'2019-01-09'</span> <span style=\"color: #008000; text-decoration-color: #008000\">'2019-08-27'</span> <span style=\"color: #008000; text-decoration-color: #008000\">'2019-07-29'</span> <span style=\"color: #008000; text-decoration-color: #008000\">'2018-03-23'</span> <span style=\"color: #008000; text-decoration-color: #008000\">'2019-04-26'</span>\n",
       " <span style=\"color: #008000; text-decoration-color: #008000\">'2018-04-29'</span> <span style=\"color: #008000; text-decoration-color: #008000\">'2018-03-17'</span> <span style=\"color: #008000; text-decoration-color: #008000\">'2019-05-07'</span> <span style=\"color: #008000; text-decoration-color: #008000\">'2019-05-22'</span> <span style=\"color: #008000; text-decoration-color: #008000\">'2019-08-10'</span>\n",
       " <span style=\"color: #008000; text-decoration-color: #008000\">'2019-04-11'</span> <span style=\"color: #008000; text-decoration-color: #008000\">'2019-05-28'</span> <span style=\"color: #008000; text-decoration-color: #008000\">'2019-07-21'</span> <span style=\"color: #008000; text-decoration-color: #008000\">'2019-04-17'</span> <span style=\"color: #008000; text-decoration-color: #008000\">'2018-11-06'</span>\n",
       " <span style=\"color: #008000; text-decoration-color: #008000\">'2019-07-02'</span> <span style=\"color: #008000; text-decoration-color: #008000\">'2019-07-11'</span> <span style=\"color: #008000; text-decoration-color: #008000\">'2019-08-02'</span> <span style=\"color: #008000; text-decoration-color: #008000\">'2019-01-24'</span> <span style=\"color: #008000; text-decoration-color: #008000\">'2019-04-06'</span>\n",
       " <span style=\"color: #008000; text-decoration-color: #008000\">'2019-06-11'</span> <span style=\"color: #008000; text-decoration-color: #008000\">'2018-06-01'</span> <span style=\"color: #008000; text-decoration-color: #008000\">'2018-10-17'</span> <span style=\"color: #008000; text-decoration-color: #008000\">'2019-02-19'</span> <span style=\"color: #008000; text-decoration-color: #008000\">'2017-03-09'</span>\n",
       " <span style=\"color: #008000; text-decoration-color: #008000\">'2019-06-06'</span> <span style=\"color: #008000; text-decoration-color: #008000\">'2017-02-03'</span> <span style=\"color: #008000; text-decoration-color: #008000\">'2019-04-12'</span> <span style=\"color: #008000; text-decoration-color: #008000\">'2017-07-27'</span> <span style=\"color: #008000; text-decoration-color: #008000\">'2019-05-15'</span>\n",
       " <span style=\"color: #008000; text-decoration-color: #008000\">'2018-05-22'</span> <span style=\"color: #008000; text-decoration-color: #008000\">'2019-08-13'</span> <span style=\"color: #008000; text-decoration-color: #008000\">'2018-07-19'</span> <span style=\"color: #008000; text-decoration-color: #008000\">'2019-06-12'</span> <span style=\"color: #008000; text-decoration-color: #008000\">'2019-08-22'</span>\n",
       " <span style=\"color: #008000; text-decoration-color: #008000\">'2018-11-26'</span> <span style=\"color: #008000; text-decoration-color: #008000\">'2018-12-19'</span> <span style=\"color: #008000; text-decoration-color: #008000\">'2019-07-26'</span> <span style=\"color: #008000; text-decoration-color: #008000\">'2019-03-21'</span> <span style=\"color: #008000; text-decoration-color: #008000\">'2019-05-04'</span>\n",
       " <span style=\"color: #008000; text-decoration-color: #008000\">'2019-07-16'</span> <span style=\"color: #008000; text-decoration-color: #008000\">'2019-08-06'</span> <span style=\"color: #008000; text-decoration-color: #008000\">'2019-03-22'</span> <span style=\"color: #008000; text-decoration-color: #008000\">'2018-01-12'</span> <span style=\"color: #008000; text-decoration-color: #008000\">'2019-08-03'</span><span style=\"font-weight: bold\">]</span>\n",
       "</pre>\n"
      ],
      "text/plain": [
       "Unique values for : LAST_PRICE_DECREASE_DATE \u001b[1m[\u001b[0m\u001b[1;36m-1\u001b[0m \u001b[32m'2018-09-25'\u001b[0m \u001b[32m'2019-06-14'\u001b[0m \u001b[32m'2019-07-10'\u001b[0m \u001b[32m'2019-07-13'\u001b[0m \u001b[32m'2019-07-17'\u001b[0m\n",
       " \u001b[32m'2017-05-04'\u001b[0m \u001b[32m'2019-07-18'\u001b[0m \u001b[32m'2019-07-19'\u001b[0m \u001b[32m'2019-07-31'\u001b[0m \u001b[32m'2019-04-30'\u001b[0m\n",
       " \u001b[32m'2019-06-29'\u001b[0m \u001b[32m'2019-07-30'\u001b[0m \u001b[32m'2019-06-17'\u001b[0m \u001b[32m'2018-01-30'\u001b[0m \u001b[32m'2019-07-15'\u001b[0m\n",
       " \u001b[32m'2019-08-09'\u001b[0m \u001b[32m'2019-03-17'\u001b[0m \u001b[32m'2019-06-13'\u001b[0m \u001b[32m'2019-04-25'\u001b[0m \u001b[32m'2019-06-15'\u001b[0m\n",
       " \u001b[32m'2019-07-12'\u001b[0m \u001b[32m'2019-08-17'\u001b[0m \u001b[32m'2019-06-26'\u001b[0m \u001b[32m'2019-06-28'\u001b[0m \u001b[32m'2019-03-29'\u001b[0m\n",
       " \u001b[32m'2019-07-23'\u001b[0m \u001b[32m'2019-07-08'\u001b[0m \u001b[32m'2019-04-02'\u001b[0m \u001b[32m'2019-05-30'\u001b[0m \u001b[32m'2019-02-14'\u001b[0m\n",
       " \u001b[32m'2019-06-21'\u001b[0m \u001b[32m'2019-08-21'\u001b[0m \u001b[32m'2019-04-16'\u001b[0m \u001b[32m'2019-06-20'\u001b[0m \u001b[32m'2019-06-04'\u001b[0m\n",
       " \u001b[32m'2019-07-20'\u001b[0m \u001b[32m'2019-08-25'\u001b[0m \u001b[32m'2019-05-11'\u001b[0m \u001b[32m'2019-05-21'\u001b[0m \u001b[32m'2019-05-08'\u001b[0m\n",
       " \u001b[32m'2019-05-29'\u001b[0m \u001b[32m'2019-07-27'\u001b[0m \u001b[32m'2019-07-07'\u001b[0m \u001b[32m'2019-02-28'\u001b[0m \u001b[32m'2019-06-23'\u001b[0m\n",
       " \u001b[32m'2017-05-19'\u001b[0m \u001b[32m'2019-05-19'\u001b[0m \u001b[32m'2019-05-06'\u001b[0m \u001b[32m'2019-06-27'\u001b[0m \u001b[32m'2019-01-02'\u001b[0m\n",
       " \u001b[32m'2018-12-18'\u001b[0m \u001b[32m'2019-07-01'\u001b[0m \u001b[32m'2019-03-20'\u001b[0m \u001b[32m'2019-07-03'\u001b[0m \u001b[32m'2019-08-14'\u001b[0m\n",
       " \u001b[32m'2019-08-15'\u001b[0m \u001b[32m'2019-06-10'\u001b[0m \u001b[32m'2019-08-08'\u001b[0m \u001b[32m'2019-07-14'\u001b[0m \u001b[32m'2019-06-07'\u001b[0m\n",
       " \u001b[32m'2019-04-21'\u001b[0m \u001b[32m'2017-12-27'\u001b[0m \u001b[32m'2019-06-22'\u001b[0m \u001b[32m'2019-08-24'\u001b[0m \u001b[32m'2019-06-24'\u001b[0m\n",
       " \u001b[32m'2019-06-25'\u001b[0m \u001b[32m'2019-04-07'\u001b[0m \u001b[32m'2019-08-07'\u001b[0m \u001b[32m'2019-08-23'\u001b[0m \u001b[32m'2019-07-05'\u001b[0m\n",
       " \u001b[32m'2019-04-04'\u001b[0m \u001b[32m'2019-05-24'\u001b[0m \u001b[32m'2019-04-23'\u001b[0m \u001b[32m'2019-08-05'\u001b[0m \u001b[32m'2019-04-29'\u001b[0m\n",
       " \u001b[32m'2019-06-30'\u001b[0m \u001b[32m'2017-04-11'\u001b[0m \u001b[32m'2017-11-20'\u001b[0m \u001b[32m'2017-03-22'\u001b[0m \u001b[32m'2019-05-27'\u001b[0m\n",
       " \u001b[32m'2019-06-05'\u001b[0m \u001b[32m'2019-04-01'\u001b[0m \u001b[32m'2019-03-13'\u001b[0m \u001b[32m'2018-10-27'\u001b[0m \u001b[32m'2017-06-02'\u001b[0m\n",
       " \u001b[32m'2018-08-31'\u001b[0m \u001b[32m'2019-04-20'\u001b[0m \u001b[32m'2019-06-08'\u001b[0m \u001b[32m'2019-02-01'\u001b[0m \u001b[32m'2019-01-08'\u001b[0m\n",
       " \u001b[32m'2019-07-06'\u001b[0m \u001b[32m'2019-07-22'\u001b[0m \u001b[32m'2019-07-24'\u001b[0m \u001b[32m'2019-03-19'\u001b[0m \u001b[32m'2019-07-09'\u001b[0m\n",
       " \u001b[32m'2019-04-09'\u001b[0m \u001b[32m'2019-06-18'\u001b[0m \u001b[32m'2019-04-05'\u001b[0m \u001b[32m'2019-07-25'\u001b[0m \u001b[32m'2019-05-09'\u001b[0m\n",
       " \u001b[32m'2019-01-09'\u001b[0m \u001b[32m'2019-08-27'\u001b[0m \u001b[32m'2019-07-29'\u001b[0m \u001b[32m'2018-03-23'\u001b[0m \u001b[32m'2019-04-26'\u001b[0m\n",
       " \u001b[32m'2018-04-29'\u001b[0m \u001b[32m'2018-03-17'\u001b[0m \u001b[32m'2019-05-07'\u001b[0m \u001b[32m'2019-05-22'\u001b[0m \u001b[32m'2019-08-10'\u001b[0m\n",
       " \u001b[32m'2019-04-11'\u001b[0m \u001b[32m'2019-05-28'\u001b[0m \u001b[32m'2019-07-21'\u001b[0m \u001b[32m'2019-04-17'\u001b[0m \u001b[32m'2018-11-06'\u001b[0m\n",
       " \u001b[32m'2019-07-02'\u001b[0m \u001b[32m'2019-07-11'\u001b[0m \u001b[32m'2019-08-02'\u001b[0m \u001b[32m'2019-01-24'\u001b[0m \u001b[32m'2019-04-06'\u001b[0m\n",
       " \u001b[32m'2019-06-11'\u001b[0m \u001b[32m'2018-06-01'\u001b[0m \u001b[32m'2018-10-17'\u001b[0m \u001b[32m'2019-02-19'\u001b[0m \u001b[32m'2017-03-09'\u001b[0m\n",
       " \u001b[32m'2019-06-06'\u001b[0m \u001b[32m'2017-02-03'\u001b[0m \u001b[32m'2019-04-12'\u001b[0m \u001b[32m'2017-07-27'\u001b[0m \u001b[32m'2019-05-15'\u001b[0m\n",
       " \u001b[32m'2018-05-22'\u001b[0m \u001b[32m'2019-08-13'\u001b[0m \u001b[32m'2018-07-19'\u001b[0m \u001b[32m'2019-06-12'\u001b[0m \u001b[32m'2019-08-22'\u001b[0m\n",
       " \u001b[32m'2018-11-26'\u001b[0m \u001b[32m'2018-12-19'\u001b[0m \u001b[32m'2019-07-26'\u001b[0m \u001b[32m'2019-03-21'\u001b[0m \u001b[32m'2019-05-04'\u001b[0m\n",
       " \u001b[32m'2019-07-16'\u001b[0m \u001b[32m'2019-08-06'\u001b[0m \u001b[32m'2019-03-22'\u001b[0m \u001b[32m'2018-01-12'\u001b[0m \u001b[32m'2019-08-03'\u001b[0m\u001b[1m]\u001b[0m\n"
      ]
     },
     "metadata": {},
     "output_type": "display_data"
    },
    {
     "data": {
      "text/html": [
       "<pre style=\"white-space:pre;overflow-x:auto;line-height:normal;font-family:Menlo,'DejaVu Sans Mono',consolas,'Courier New',monospace\">Dtype is <span style=\"color: #000080; text-decoration-color: #000080\">object  </span>\n",
       "</pre>\n"
      ],
      "text/plain": [
       "Dtype is \u001b[34mobject  \u001b[0m\n"
      ]
     },
     "metadata": {},
     "output_type": "display_data"
    }
   ],
   "source": [
    "console.print(\"Unique values for : LAST_PRICE_DECREASE_DATE\", df['LAST_PRICE_DECREASE_DATE'].unique())\n",
    "console.print(f\"Dtype is [blue]{df['LAST_PRICE_DECREASE_DATE'].dtype}  [/blue]\")"
   ]
  },
  {
   "cell_type": "code",
   "execution_count": 72,
   "metadata": {},
   "outputs": [
    {
     "data": {
      "text/plain": [
       "0   1969-12-31 23:59:59.999999999\n",
       "1   2018-09-25 00:00:00.000000000\n",
       "Name: LAST_PRICE_DECREASE_DATE, dtype: datetime64[ns]"
      ]
     },
     "execution_count": 72,
     "metadata": {},
     "output_type": "execute_result"
    }
   ],
   "source": [
    "# Convert string to a date format\n",
    "df['LAST_PRICE_DECREASE_DATE'] = pd.to_datetime(df['LAST_PRICE_DECREASE_DATE'])\n",
    "df['LAST_CRAWL_DATE'] = pd.to_datetime(df['LAST_CRAWL_DATE'], format='mixed')\n",
    "df['PUBLICATION_START_DATE'] = pd.to_datetime(df['PUBLICATION_START_DATE'], format='mixed')\n",
    "\n",
    "df['LAST_PRICE_DECREASE_DATE'].head(2)\n",
    "# Note : 1969-12-31 23:59:59.999999999 Stands for NaN"
   ]
  },
  {
   "cell_type": "code",
   "execution_count": 73,
   "metadata": {},
   "outputs": [],
   "source": [
    "# replacing -1 with None for string columns\n",
    "string_columns = [\"CRAWL_SOURCE\", \"PROPERTY_TYPE\", \"DESCRIPTION\", \"HEATING_TYPES\", \"HEATING_MODE\", \"MARKETING_TYPE\", \"DEALER_NAME\", \"DEALER_TYPE\"]\n",
    "for col in string_columns:\n",
    "    df[col]=df[col].replace(-1, \"None\")"
   ]
  },
  {
   "cell_type": "code",
   "execution_count": 74,
   "metadata": {},
   "outputs": [
    {
     "data": {
      "text/plain": [
       "ID                                  object\n",
       "URL                                 object\n",
       "CRAWL_SOURCE                        object\n",
       "PROPERTY_TYPE                       object\n",
       "NEW_BUILD                            int64\n",
       "DESCRIPTION                         object\n",
       "IMAGES                              object\n",
       "SURFACE                            float64\n",
       "LAND_SURFACE                       float64\n",
       "TERRACE_SURFACE                    float64\n",
       "ROOM_COUNT                         float64\n",
       "BEDROOM_COUNT                      float64\n",
       "FURNISHED                            int64\n",
       "GARDEN                               int64\n",
       "SWIMMING_POOL                        int64\n",
       "TERRACE                              int64\n",
       "PARKING                              int64\n",
       "PARKING_COUNT                      float64\n",
       "HEATING_TYPES                       object\n",
       "HEATING_MODE                        object\n",
       "FLOOR                              float64\n",
       "FLOOR_COUNT                        float64\n",
       "CONSTRUCTION_YEAR                  float64\n",
       "ELEVATOR                             int64\n",
       "CARETAKER                            int64\n",
       "MARKETING_TYPE                      object\n",
       "PRICE                              float64\n",
       "PRICE_M2                           float64\n",
       "PRICE_EVENTS                        object\n",
       "RENTAL_EXPENSES                    float64\n",
       "RENTAL_EXPENSES_INCLUDED             int64\n",
       "DEPOSIT                            float64\n",
       "FEES                               float64\n",
       "FEES_INCLUDED                       object\n",
       "EXCLUSIVE_MANDATE                    int64\n",
       "AGENCIES_UNWANTED                    int64\n",
       "OCCUPIED                             int64\n",
       "DEALER_NAME                         object\n",
       "DEALER_TYPE                         object\n",
       "ZIP_CODE                           float64\n",
       "PUBLICATION_START_DATE      datetime64[ns]\n",
       "LAST_CRAWL_DATE             datetime64[ns]\n",
       "LAST_PRICE_DECREASE_DATE    datetime64[ns]\n",
       "ELECTRIC                             int64\n",
       "GAS                                  int64\n",
       "UNDERFLOOR                           int64\n",
       "FUEL                                 int64\n",
       "NUMBER_URL_IMAGES                    int64\n",
       "NUMBER_VALID_IMAGES                  int64\n",
       "dtype: object"
      ]
     },
     "execution_count": 74,
     "metadata": {},
     "output_type": "execute_result"
    }
   ],
   "source": [
    "df.dtypes"
   ]
  },
  {
   "attachments": {},
   "cell_type": "markdown",
   "metadata": {},
   "source": [
    "### iii. Dataset validation"
   ]
  },
  {
   "cell_type": "code",
   "execution_count": 75,
   "metadata": {},
   "outputs": [],
   "source": [
    "import pytest \n",
    "import ipytest \n",
    "ipytest.config.rewrite_asserts=True \n",
    "__file___='notebook.ipynb'"
   ]
  },
  {
   "cell_type": "code",
   "execution_count": 76,
   "metadata": {},
   "outputs": [],
   "source": [
    "df_test = df.copy()\n",
    "\n",
    "\n",
    "@pytest.mark.parametrize(\"df\", [df_test])\n",
    "def test_df_empty_rows(df):\n",
    "    value=df.isna().all(axis=1).sum()\n",
    "    console.print(f\"There are : {value} empty rows\",style=test_theme[value==0] )\n",
    "    assert value==0\n",
    "\n",
    "@pytest.mark.parametrize(\"df\", [df_test])\n",
    "def test_df_uniqueess(df):\n",
    "    df[\"IMAGES\"]=df[\"IMAGES\"].apply(lambda v:str(v))\n",
    "    value = df.duplicated().sum()\n",
    "    console.print(f\"There are : {value} duplicate rows\", style=test_theme[value==0] )\n",
    "    assert value==0\n",
    "\n",
    "@pytest.mark.parametrize(\"df\", [df_test])\n",
    "def test_url_uniqueness(df):\n",
    "    value = len(df[\"URL\"].unique())/len(df)\n",
    "    console.print(f\"There are : {len(df)-len(df['URL'].unique())} duplicate offer URLS\", style=test_theme[value==1] )\n",
    "    assert value ==1\n",
    "\n",
    "@pytest.mark.parametrize(\"df\", [df_test])\n",
    "def test_id_uniqueness(df):\n",
    "    value = len(df[\"ID\"].unique())/len(df)\n",
    "    console.print(f\"There are : {len(df)-len(df['ID'].unique())} duplicate IDS\",style=test_theme[value==1] )\n",
    "    assert value==1\n",
    "\n",
    "@pytest.mark.parametrize(\"df\", [df_test])\n",
    "def test_duplicate_descriptions(df):\n",
    "    value = df[\"DESCRIPTION\"].duplicated().sum()\n",
    "    console.print(f\"There are : {df['DESCRIPTION'].duplicated().sum()} duplicate Descriptions\", style=test_theme[value==0] )\n",
    "    assert value==0\n",
    "\n",
    "@pytest.mark.parametrize(\"df\", [df_test])\n",
    "def test_duplicate_price_events(df):\n",
    "    value = df[\"PRICE_EVENTS\"].duplicated().sum()\n",
    "    console.print(f\"There are : {df['PRICE_EVENTS'].duplicated().sum()} duplicate PRICE_EVENTS\",style=test_theme[value==0] )\n",
    "    assert value==0\n",
    "    \n",
    "@pytest.mark.parametrize(\"df\", [df_test])\n",
    "def test_duplicate_publication_start_date(df):\n",
    "    value = df['PUBLICATION_START_DATE'].duplicated().sum()\n",
    "    console.print(f\"There are : {value} duplicate PUBLICATION_START_DATE\" ,style=test_theme[value==0] )\n",
    "    assert value==0\n",
    "    \n",
    "@pytest.mark.parametrize(\"df\", [df_test])\n",
    "def test_duplicate_images_url_same_rows(df):\n",
    "    # Create an empty list to store duplicated URLs\n",
    "    duplicated_urls = []\n",
    "\n",
    "    # Iterate over each row in the dataframe\n",
    "    for index, row in df.iterrows():\n",
    "        # Extract the list of URLs from the row\n",
    "        url_list = json.loads(row['IMAGES'])\n",
    "\n",
    "        # Check for duplicate URLs within the list\n",
    "        if len(url_list) != len(set(url_list)):\n",
    "\n",
    "            # Append the row index to the duplicated_urls list\n",
    "            duplicated_urls.append(index)\n",
    "            \n",
    "    value = len(duplicated_urls)\n",
    "    console.print(f\"There are {value} with duplicate instances of images url\",style=test_theme[value==0] )\n",
    "    assert value==0\n",
    "\n",
    "@pytest.mark.parametrize(\"df\", [df_test])\n",
    "def test_url_validity(df):\n",
    "    invalid = df[\"NUMBER_URL_IMAGES\"].sum()-df[\"NUMBER_VALID_IMAGES\"].sum()\n",
    "    percent=100*invalid/df[\"NUMBER_URL_IMAGES\"].sum()\n",
    "    console.print(f\"There are : {invalid} invalid Image URLS ({percent:.2f}%)\" )\n",
    "    assert invalid==0\n"
   ]
  },
  {
   "cell_type": "code",
   "execution_count": null,
   "metadata": {},
   "outputs": [
    {
     "name": "stdout",
     "output_type": "stream",
     "text": [
      "\u001b[1m======================================= test session starts ========================================\u001b[0m\n",
      "platform linux -- Python 3.8.16, pytest-7.3.2, pluggy-1.0.0 -- /home/odeck/miniconda3/envs/duplicate/bin/python\n",
      "cachedir: .pytest_cache\n",
      "rootdir: /home/odeck/Desktop/duplicate-ads\n",
      "plugins: anyio-3.5.0\n",
      "\u001b[1mcollecting ... \u001b[0mcollected 9 items\n",
      "\n",
      "t_93ccc1307dc44ec79b9accb47c4f78e6.py::test_df_empty_rows[df0] "
     ]
    },
    {
     "data": {
      "text/html": [
       "<pre style=\"white-space:pre;overflow-x:auto;line-height:normal;font-family:Menlo,'DejaVu Sans Mono',consolas,'Courier New',monospace\"><span style=\"color: #008000; text-decoration-color: #008000; font-weight: bold\">There are : </span><span style=\"color: #008080; text-decoration-color: #008080; font-weight: bold\">0</span><span style=\"color: #008000; text-decoration-color: #008000; font-weight: bold\"> empty rows</span>\n",
       "</pre>\n"
      ],
      "text/plain": [
       "\u001b[1;52;32mThere are : \u001b[0m\u001b[1;52;36m0\u001b[0m\u001b[1;52;32m empty rows\u001b[0m\n"
      ]
     },
     "metadata": {},
     "output_type": "display_data"
    },
    {
     "name": "stdout",
     "output_type": "stream",
     "text": [
      "\u001b[32mPASSED\u001b[0m\n",
      "t_93ccc1307dc44ec79b9accb47c4f78e6.py::test_df_uniqueess[df0] "
     ]
    },
    {
     "data": {
      "text/html": [
       "<pre style=\"white-space:pre;overflow-x:auto;line-height:normal;font-family:Menlo,'DejaVu Sans Mono',consolas,'Courier New',monospace\"><span style=\"color: #008000; text-decoration-color: #008000; font-weight: bold\">There are : </span><span style=\"color: #008080; text-decoration-color: #008080; font-weight: bold\">0</span><span style=\"color: #008000; text-decoration-color: #008000; font-weight: bold\"> duplicate rows</span>\n",
       "</pre>\n"
      ],
      "text/plain": [
       "\u001b[1;52;32mThere are : \u001b[0m\u001b[1;52;36m0\u001b[0m\u001b[1;52;32m duplicate rows\u001b[0m\n"
      ]
     },
     "metadata": {},
     "output_type": "display_data"
    },
    {
     "name": "stdout",
     "output_type": "stream",
     "text": [
      "\u001b[32mPASSED\u001b[0m\n",
      "t_93ccc1307dc44ec79b9accb47c4f78e6.py::test_url_uniqueness[df0] "
     ]
    },
    {
     "data": {
      "text/html": [
       "<pre style=\"white-space:pre;overflow-x:auto;line-height:normal;font-family:Menlo,'DejaVu Sans Mono',consolas,'Courier New',monospace\"><span style=\"color: #008000; text-decoration-color: #008000; font-weight: bold\">There are : </span><span style=\"color: #008080; text-decoration-color: #008080; font-weight: bold\">0</span><span style=\"color: #008000; text-decoration-color: #008000; font-weight: bold\"> duplicate offer URLS</span>\n",
       "</pre>\n"
      ],
      "text/plain": [
       "\u001b[1;52;32mThere are : \u001b[0m\u001b[1;52;36m0\u001b[0m\u001b[1;52;32m duplicate offer URLS\u001b[0m\n"
      ]
     },
     "metadata": {},
     "output_type": "display_data"
    },
    {
     "name": "stdout",
     "output_type": "stream",
     "text": [
      "\u001b[32mPASSED\u001b[0m\n",
      "t_93ccc1307dc44ec79b9accb47c4f78e6.py::test_id_uniqueness[df0] "
     ]
    },
    {
     "data": {
      "text/html": [
       "<pre style=\"white-space:pre;overflow-x:auto;line-height:normal;font-family:Menlo,'DejaVu Sans Mono',consolas,'Courier New',monospace\"><span style=\"color: #008000; text-decoration-color: #008000; font-weight: bold\">There are : </span><span style=\"color: #008080; text-decoration-color: #008080; font-weight: bold\">0</span><span style=\"color: #008000; text-decoration-color: #008000; font-weight: bold\"> duplicate IDS</span>\n",
       "</pre>\n"
      ],
      "text/plain": [
       "\u001b[1;52;32mThere are : \u001b[0m\u001b[1;52;36m0\u001b[0m\u001b[1;52;32m duplicate IDS\u001b[0m\n"
      ]
     },
     "metadata": {},
     "output_type": "display_data"
    },
    {
     "name": "stdout",
     "output_type": "stream",
     "text": [
      "\u001b[32mPASSED\u001b[0m\n",
      "t_93ccc1307dc44ec79b9accb47c4f78e6.py::test_duplicate_descriptions[df0] "
     ]
    },
    {
     "data": {
      "text/html": [
       "<pre style=\"white-space:pre;overflow-x:auto;line-height:normal;font-family:Menlo,'DejaVu Sans Mono',consolas,'Courier New',monospace\"><span style=\"color: #800000; text-decoration-color: #800000; font-weight: bold\">There are : </span><span style=\"color: #008080; text-decoration-color: #008080; font-weight: bold\">249</span><span style=\"color: #800000; text-decoration-color: #800000; font-weight: bold\"> duplicate Descriptions</span>\n",
       "</pre>\n"
      ],
      "text/plain": [
       "\u001b[1;31mThere are : \u001b[0m\u001b[1;36m249\u001b[0m\u001b[1;31m duplicate Descriptions\u001b[0m\n"
      ]
     },
     "metadata": {},
     "output_type": "display_data"
    },
    {
     "name": "stdout",
     "output_type": "stream",
     "text": [
      "\u001b[31mFAILED\u001b[0m\n",
      "t_93ccc1307dc44ec79b9accb47c4f78e6.py::test_duplicate_price_events[df0] "
     ]
    },
    {
     "data": {
      "text/html": [
       "<pre style=\"white-space:pre;overflow-x:auto;line-height:normal;font-family:Menlo,'DejaVu Sans Mono',consolas,'Courier New',monospace\"><span style=\"color: #800000; text-decoration-color: #800000; font-weight: bold\">There are : </span><span style=\"color: #008080; text-decoration-color: #008080; font-weight: bold\">431</span><span style=\"color: #800000; text-decoration-color: #800000; font-weight: bold\"> duplicate PRICE_EVENTS</span>\n",
       "</pre>\n"
      ],
      "text/plain": [
       "\u001b[1;31mThere are : \u001b[0m\u001b[1;36m431\u001b[0m\u001b[1;31m duplicate PRICE_EVENTS\u001b[0m\n"
      ]
     },
     "metadata": {},
     "output_type": "display_data"
    },
    {
     "name": "stdout",
     "output_type": "stream",
     "text": [
      "\u001b[31mFAILED\u001b[0m\n",
      "t_93ccc1307dc44ec79b9accb47c4f78e6.py::test_duplicate_publication_start_date[df0] "
     ]
    },
    {
     "data": {
      "text/html": [
       "<pre style=\"white-space:pre;overflow-x:auto;line-height:normal;font-family:Menlo,'DejaVu Sans Mono',consolas,'Courier New',monospace\"><span style=\"color: #800000; text-decoration-color: #800000; font-weight: bold\">There are : </span><span style=\"color: #008080; text-decoration-color: #008080; font-weight: bold\">61</span><span style=\"color: #800000; text-decoration-color: #800000; font-weight: bold\"> duplicate PUBLICATION_START_DATE</span>\n",
       "</pre>\n"
      ],
      "text/plain": [
       "\u001b[1;31mThere are : \u001b[0m\u001b[1;36m61\u001b[0m\u001b[1;31m duplicate PUBLICATION_START_DATE\u001b[0m\n"
      ]
     },
     "metadata": {},
     "output_type": "display_data"
    },
    {
     "name": "stdout",
     "output_type": "stream",
     "text": [
      "\u001b[31mFAILED\u001b[0m\n",
      "t_93ccc1307dc44ec79b9accb47c4f78e6.py::test_duplicate_images_url_same_rows[df0] "
     ]
    },
    {
     "data": {
      "text/html": [
       "<pre style=\"white-space:pre;overflow-x:auto;line-height:normal;font-family:Menlo,'DejaVu Sans Mono',consolas,'Courier New',monospace\"><span style=\"color: #800000; text-decoration-color: #800000; font-weight: bold\">There are </span><span style=\"color: #008080; text-decoration-color: #008080; font-weight: bold\">16</span><span style=\"color: #800000; text-decoration-color: #800000; font-weight: bold\"> with duplicate instances of images url</span>\n",
       "</pre>\n"
      ],
      "text/plain": [
       "\u001b[1;31mThere are \u001b[0m\u001b[1;36m16\u001b[0m\u001b[1;31m with duplicate instances of images url\u001b[0m\n"
      ]
     },
     "metadata": {},
     "output_type": "display_data"
    },
    {
     "name": "stdout",
     "output_type": "stream",
     "text": [
      "\u001b[31mFAILED\u001b[0m\n",
      "t_93ccc1307dc44ec79b9accb47c4f78e6.py::test_url_validity[df0] "
     ]
    },
    {
     "data": {
      "text/html": [
       "<pre style=\"white-space:pre;overflow-x:auto;line-height:normal;font-family:Menlo,'DejaVu Sans Mono',consolas,'Courier New',monospace\">There are : <span style=\"color: #008080; text-decoration-color: #008080; font-weight: bold\">3902</span> invalid Image URLS <span style=\"font-weight: bold\">(</span><span style=\"color: #008080; text-decoration-color: #008080; font-weight: bold\">31.01</span>%<span style=\"font-weight: bold\">)</span>\n",
       "</pre>\n"
      ],
      "text/plain": [
       "There are : \u001b[1;36m3902\u001b[0m invalid Image URLS \u001b[1m(\u001b[0m\u001b[1;36m31.01\u001b[0m%\u001b[1m)\u001b[0m\n"
      ]
     },
     "metadata": {},
     "output_type": "display_data"
    },
    {
     "name": "stdout",
     "output_type": "stream",
     "text": [
      "\u001b[31mFAILED\u001b[0m\n",
      "\n",
      "\u001b[33m========================================= warnings summary =========================================\u001b[0m\n",
      "../../miniconda3/envs/duplicate/lib/python3.8/site-packages/_pytest/cacheprovider.py:433\n",
      "  /home/odeck/miniconda3/envs/duplicate/lib/python3.8/site-packages/_pytest/cacheprovider.py:433: PytestCacheWarning: cache could not write path /home/odeck/Desktop/duplicate-ads/.pytest_cache/v/cache/nodeids\n",
      "    config.cache.set(\"cache/nodeids\", sorted(self.cached_nodeids))\n",
      "\n",
      "../../miniconda3/envs/duplicate/lib/python3.8/site-packages/_pytest/cacheprovider.py:387\n",
      "  /home/odeck/miniconda3/envs/duplicate/lib/python3.8/site-packages/_pytest/cacheprovider.py:387: PytestCacheWarning: cache could not write path /home/odeck/Desktop/duplicate-ads/.pytest_cache/v/cache/lastfailed\n",
      "    config.cache.set(\"cache/lastfailed\", self.lastfailed)\n",
      "\n",
      "../../miniconda3/envs/duplicate/lib/python3.8/site-packages/_pytest/stepwise.py:56\n",
      "  /home/odeck/miniconda3/envs/duplicate/lib/python3.8/site-packages/_pytest/stepwise.py:56: PytestCacheWarning: cache could not write path /home/odeck/Desktop/duplicate-ads/.pytest_cache/v/cache/stepwise\n",
      "    session.config.cache.set(STEPWISE_CACHE_DIR, [])\n",
      "\n",
      "-- Docs: https://docs.pytest.org/en/stable/how-to/capture-warnings.html\n",
      "\u001b[36m\u001b[1m===================================== short test summary info ======================================\u001b[0m\n",
      "\u001b[31mFAILED\u001b[0m t_93ccc1307dc44ec79b9accb47c4f78e6.py::\u001b[1mtest_duplicate_descriptions[df0]\u001b[0m - AssertionError\n",
      "\u001b[31mFAILED\u001b[0m t_93ccc1307dc44ec79b9accb47c4f78e6.py::\u001b[1mtest_duplicate_price_events[df0]\u001b[0m - AssertionError\n",
      "\u001b[31mFAILED\u001b[0m t_93ccc1307dc44ec79b9accb47c4f78e6.py::\u001b[1mtest_duplicate_publication_start_date[df0]\u001b[0m - AssertionError\n",
      "\u001b[31mFAILED\u001b[0m t_93ccc1307dc44ec79b9accb47c4f78e6.py::\u001b[1mtest_duplicate_images_url_same_rows[df0]\u001b[0m - AssertionError\n",
      "\u001b[31mFAILED\u001b[0m t_93ccc1307dc44ec79b9accb47c4f78e6.py::\u001b[1mtest_url_validity[df0]\u001b[0m - AssertionError\n",
      "\u001b[31m============================= \u001b[31m\u001b[1m5 failed\u001b[0m, \u001b[32m4 passed\u001b[0m, \u001b[33m3 warnings\u001b[0m\u001b[31m in 0.16s\u001b[0m\u001b[31m ==============================\u001b[0m\n"
     ]
    },
    {
     "data": {
      "text/plain": [
       "<ExitCode.TESTS_FAILED: 1>"
      ]
     },
     "execution_count": 22,
     "metadata": {},
     "output_type": "execute_result"
    }
   ],
   "source": [
    "ipytest.run(\"-s\", \"--capture=no\", \"--tb=no\", \"-v\")"
   ]
  },
  {
   "cell_type": "code",
   "execution_count": null,
   "metadata": {},
   "outputs": [],
   "source": [
    "# Droping unused/non-useful columns "
   ]
  },
  {
   "cell_type": "code",
   "execution_count": 77,
   "metadata": {},
   "outputs": [],
   "source": [
    "drop_columns = [\"URL\", \"IMAGES\", \"HEATING_TYPES\", \"ZIP_CODE\"] # There is only one row with NaN ZIP Code\n",
    "df.drop(columns = drop_columns, inplace=True)"
   ]
  },
  {
   "attachments": {},
   "cell_type": "markdown",
   "metadata": {},
   "source": [
    "## 1. preparing the dataset :"
   ]
  },
  {
   "attachments": {},
   "cell_type": "markdown",
   "metadata": {},
   "source": [
    "A perfect solution to this problem would be to embed each offer into a an abstract space where each point or instance is a numerical representation of an offer. Then we can define a distance over such space. Duplicate offers or ads are the instances that have a `distance = 0` between each other. The main issue here is that two duplicate offers can have a `distance > 0`. For example, a user can post the same offer on two sites `bienici` and `leboncoin`. But post different number of pictures, or slightly change the description, add more info, etc between each site.\n",
    "\n",
    "To solve this issue we'll try to solve this problem by two methods :\n",
    "\n",
    "- Textual representation\n",
    "- Image embeddings\n",
    "\n",
    "\n",
    "####  Edge cases to look out for :\n",
    "\n",
    "- Duplicate images of logos / Empty images / Floor plans\n",
    "- Offer for rent and offer for sale at the same time can be counted as duplicates\n",
    "- Information mismatch between duplicate offers in two different sites or posts"
   ]
  },
  {
   "cell_type": "code",
   "execution_count": 78,
   "metadata": {},
   "outputs": [],
   "source": [
    "import fiftyone as fo\n",
    "from tqdm import tqdm\n",
    "import pandas as pd\n",
    "import glob\n",
    "import fiftyone.brain as fob\n",
    "import fiftyone.core.utils as fou\n",
    "from collections import Counter\n",
    "from fiftyone import ViewField as F"
   ]
  },
  {
   "cell_type": "code",
   "execution_count": 79,
   "metadata": {},
   "outputs": [],
   "source": [
    "def prepare_fiftyone_dataset(df):\n",
    "\n",
    "    # Create samples for our data\n",
    "    samples = []\n",
    "    for i, row in tqdm(df.iterrows(), total=len(df)):\n",
    "\n",
    "        id_annonce= row[\"ID\"]\n",
    "        filepaths = glob.glob(f\"data/images/{id_annonce}/*.png\")\n",
    "\n",
    "        # Instances that have images \n",
    "        if(len(filepaths)>0):\n",
    "            for j,filepath in enumerate(filepaths) :\n",
    "                sample = fo.Sample(filepath=filepath)\n",
    "\n",
    "                # computing hash for individual images\n",
    "                sample[\"file_hash\"] = fou.compute_filehash(sample.filepath)\n",
    "\n",
    "                for key in row.keys():\n",
    "                    sample[key]=row[key]\n",
    "\n",
    "                samples.append(sample)\n",
    "    return samples\n"
   ]
  },
  {
   "cell_type": "code",
   "execution_count": 80,
   "metadata": {},
   "outputs": [
    {
     "name": "stderr",
     "output_type": "stream",
     "text": [
      "100%|██████████| 2164/2164 [00:05<00:00, 412.46it/s]\n"
     ]
    }
   ],
   "source": [
    "samples = prepare_fiftyone_dataset(df)"
   ]
  },
  {
   "cell_type": "code",
   "execution_count": 81,
   "metadata": {},
   "outputs": [
    {
     "name": "stdout",
     "output_type": "stream",
     "text": [
      " 100% |███████████████| 8682/8682 [4.9s elapsed, 0s remaining, 2.1K samples/s]        \n",
      "Computing metadata...\n",
      "  52% |███████|-------| 4517/8682 [39.5s elapsed, 30.6s remaining, 165.5 samples/s]  "
     ]
    }
   ],
   "source": [
    "dataset = fo.Dataset(\"Dataset-sms\")\n",
    "dataset.add_samples(samples)\n",
    "dataset.compute_metadata()"
   ]
  },
  {
   "cell_type": "code",
   "execution_count": null,
   "metadata": {},
   "outputs": [
    {
     "data": {
      "text/plain": [
       "Name:        Dataset-ss\n",
       "Media type:  image\n",
       "Num samples: 64\n",
       "Persistent:  False\n",
       "Tags:        []\n",
       "Sample fields:\n",
       "    id:                       fiftyone.core.fields.ObjectIdField\n",
       "    filepath:                 fiftyone.core.fields.StringField\n",
       "    tags:                     fiftyone.core.fields.ListField(fiftyone.core.fields.StringField)\n",
       "    metadata:                 fiftyone.core.fields.EmbeddedDocumentField(fiftyone.core.metadata.ImageMetadata)\n",
       "    file_hash:                fiftyone.core.fields.IntField\n",
       "    ID:                       fiftyone.core.fields.StringField\n",
       "    URL:                      fiftyone.core.fields.StringField\n",
       "    CRAWL_SOURCE:             fiftyone.core.fields.StringField\n",
       "    PROPERTY_TYPE:            fiftyone.core.fields.StringField\n",
       "    NEW_BUILD:                fiftyone.core.fields.IntField\n",
       "    DESCRIPTION:              fiftyone.core.fields.StringField\n",
       "    IMAGES:                   fiftyone.core.fields.StringField\n",
       "    SURFACE:                  fiftyone.core.fields.FloatField\n",
       "    LAND_SURFACE:             fiftyone.core.fields.FloatField\n",
       "    TERRACE_SURFACE:          fiftyone.core.fields.FloatField\n",
       "    ROOM_COUNT:               fiftyone.core.fields.FloatField\n",
       "    BEDROOM_COUNT:            fiftyone.core.fields.FloatField\n",
       "    FURNISHED:                fiftyone.core.fields.IntField\n",
       "    GARDEN:                   fiftyone.core.fields.IntField\n",
       "    SWIMMING_POOL:            fiftyone.core.fields.IntField\n",
       "    TERRACE:                  fiftyone.core.fields.IntField\n",
       "    PARKING:                  fiftyone.core.fields.IntField\n",
       "    PARKING_COUNT:            fiftyone.core.fields.FloatField\n",
       "    HEATING_TYPES:            fiftyone.core.fields.StringField\n",
       "    HEATING_MODE:             fiftyone.core.fields.StringField\n",
       "    FLOOR:                    fiftyone.core.fields.FloatField\n",
       "    FLOOR_COUNT:              fiftyone.core.fields.FloatField\n",
       "    CONSTRUCTION_YEAR:        fiftyone.core.fields.FloatField\n",
       "    ELEVATOR:                 fiftyone.core.fields.IntField\n",
       "    CARETAKER:                fiftyone.core.fields.IntField\n",
       "    MARKETING_TYPE:           fiftyone.core.fields.StringField\n",
       "    PRICE:                    fiftyone.core.fields.FloatField\n",
       "    PRICE_M2:                 fiftyone.core.fields.FloatField\n",
       "    PRICE_EVENTS:             fiftyone.core.fields.StringField\n",
       "    RENTAL_EXPENSES:          fiftyone.core.fields.FloatField\n",
       "    RENTAL_EXPENSES_INCLUDED: fiftyone.core.fields.IntField\n",
       "    DEPOSIT:                  fiftyone.core.fields.FloatField\n",
       "    FEES:                     fiftyone.core.fields.FloatField\n",
       "    FEES_INCLUDED:            fiftyone.core.fields.IntField\n",
       "    EXCLUSIVE_MANDATE:        fiftyone.core.fields.IntField\n",
       "    AGENCIES_UNWANTED:        fiftyone.core.fields.IntField\n",
       "    OCCUPIED:                 fiftyone.core.fields.IntField\n",
       "    DEALER_NAME:              fiftyone.core.fields.StringField\n",
       "    DEALER_TYPE:              fiftyone.core.fields.StringField\n",
       "    ZIP_CODE:                 fiftyone.core.fields.FloatField\n",
       "    PUBLICATION_START_DATE:   fiftyone.core.fields.DateTimeField\n",
       "    LAST_CRAWL_DATE:          fiftyone.core.fields.DateTimeField\n",
       "    LAST_PRICE_DECREASE_DATE: fiftyone.core.fields.DateTimeField\n",
       "    ELECTRIC:                 fiftyone.core.fields.IntField\n",
       "    GAS:                      fiftyone.core.fields.IntField\n",
       "    UNDERFLOOR:               fiftyone.core.fields.IntField\n",
       "    FUEL:                     fiftyone.core.fields.IntField\n",
       "    NUMBER_URL_IMAGES:        fiftyone.core.fields.IntField\n",
       "    NUMBER_VALID_IMAGES:      fiftyone.core.fields.IntField"
      ]
     },
     "execution_count": 47,
     "metadata": {},
     "output_type": "execute_result"
    }
   ],
   "source": [
    "dataset"
   ]
  },
  {
   "cell_type": "code",
   "execution_count": null,
   "metadata": {},
   "outputs": [],
   "source": [
    "# Define some interesting plots\n",
    "plot1 = fo.NumericalHistogram(F(\"metadata.size_bytes\") / 1024, bins=50, xlabel=\"image size (KB)\")\n"
   ]
  },
  {
   "cell_type": "code",
   "execution_count": null,
   "metadata": {},
   "outputs": [],
   "source": [
    "plot2 = fo.NumericalHistogram(\"predictions.detections.confidence\", bins=50, range=[0, 1])\n",
    "plot3 = fo.CategoricalHistogram(\"ground_truth.detections.label\", order=\"frequency\")\n",
    "plot4 = fo.CategoricalHistogram(\"predictions.detections.label\", order=\"frequency\")"
   ]
  },
  {
   "cell_type": "code",
   "execution_count": null,
   "metadata": {},
   "outputs": [],
   "source": [
    "plots = [plot1, plot2, plot3, plot4]\n",
    "plot = fo.ViewGrid(plots)\n",
    "plot.show(height=720)\n",
    "# plot.save(\"./histogram.jpg\", scale=2.0)\n",
    "\n"
   ]
  },
  {
   "cell_type": "code",
   "execution_count": null,
   "metadata": {},
   "outputs": [
    {
     "data": {
      "text/html": [
       "\n",
       "        <iframe\n",
       "            width=\"100%\"\n",
       "            height=\"800\"\n",
       "            src=\"http://localhost:5151/?notebook=True&subscription=bfa3e6ab-0b4a-4f4b-8b73-71cf1e40db3f\"\n",
       "            frameborder=\"0\"\n",
       "            allowfullscreen\n",
       "            \n",
       "        ></iframe>\n",
       "        "
      ],
      "text/plain": [
       "<IPython.lib.display.IFrame at 0x7f4ef7f9b2e0>"
      ]
     },
     "metadata": {},
     "output_type": "display_data"
    }
   ],
   "source": [
    "session = fo.launch_app(dataset)"
   ]
  },
  {
   "cell_type": "code",
   "execution_count": null,
   "metadata": {},
   "outputs": [
    {
     "name": "stdout",
     "output_type": "stream",
     "text": [
      "Computing embeddings...\n"
     ]
    },
    {
     "name": "stderr",
     "output_type": "stream",
     "text": [
      "/home/odeck/miniconda3/envs/duplicate/lib/python3.8/site-packages/fiftyone/utils/torch.py:691: RuntimeWarning: overflow encountered in exp\n",
      "  odds = np.exp(logits)\n",
      "/home/odeck/miniconda3/envs/duplicate/lib/python3.8/site-packages/fiftyone/utils/torch.py:692: RuntimeWarning: invalid value encountered in divide\n",
      "  odds /= np.sum(odds, axis=1, keepdims=True)\n"
     ]
    },
    {
     "name": "stdout",
     "output_type": "stream",
     "text": [
      "Computing uniqueness...\n",
      "Uniqueness computation complete\n"
     ]
    }
   ],
   "source": [
    "results = fob.compute_uniqueness(dataset)\n",
    "plot = results.visualize(labels=\"uniqueness\", axis_equal=True)\n",
    "# plot.save(\"./embeddings.png\", height=300, width=800)\n",
    "# figure = results.plot_confusion_matrix(\n",
    "#     classes=classes, backend=\"matplotlib\", figsize=(10, 10)\n",
    "# )\n",
    "# plt.show(block=False)\n"
   ]
  },
  {
   "cell_type": "code",
   "execution_count": null,
   "metadata": {},
   "outputs": [
    {
     "name": "stderr",
     "output_type": "stream",
     "text": [
      "  0%|          | 0/100 [00:00<?, ?it/s]"
     ]
    },
    {
     "name": "stderr",
     "output_type": "stream",
     "text": [
      "100%|██████████| 100/100 [00:01<00:00, 72.78it/s]"
     ]
    },
    {
     "name": "stdout",
     "output_type": "stream",
     "text": [
      "(100, 120000)\n",
      "Generating visualization...\n"
     ]
    },
    {
     "name": "stderr",
     "output_type": "stream",
     "text": [
      "\n"
     ]
    },
    {
     "name": "stdout",
     "output_type": "stream",
     "text": [
      "UMAP(random_state=51, verbose=True)\n",
      "Sun Jun 11 20:07:12 2023 Construct fuzzy simplicial set\n",
      "Sun Jun 11 20:07:12 2023 Finding Nearest Neighbors\n",
      "Sun Jun 11 20:07:12 2023 Finished Nearest Neighbor Search\n",
      "Sun Jun 11 20:07:12 2023 Construct embedding\n"
     ]
    },
    {
     "data": {
      "application/vnd.jupyter.widget-view+json": {
       "model_id": "b47833ac37c44b8f80906f21b3b8fce4",
       "version_major": 2,
       "version_minor": 0
      },
      "text/plain": [
       "Epochs completed:   0%|            0/500 [00:00]"
      ]
     },
     "metadata": {},
     "output_type": "display_data"
    },
    {
     "name": "stdout",
     "output_type": "stream",
     "text": [
      "Sun Jun 11 20:07:13 2023 Finished embedding\n",
      "Generating visualization...\n",
      "UMAP(random_state=51, verbose=True)\n",
      "Sun Jun 11 20:07:13 2023 Construct fuzzy simplicial set\n",
      "Sun Jun 11 20:07:13 2023 Finding Nearest Neighbors\n",
      "Sun Jun 11 20:07:13 2023 Finished Nearest Neighbor Search\n",
      "Sun Jun 11 20:07:13 2023 Construct embedding\n"
     ]
    },
    {
     "data": {
      "application/vnd.jupyter.widget-view+json": {
       "model_id": "4ec9d9b9b5354f8dba3fd28e9d341487",
       "version_major": 2,
       "version_minor": 0
      },
      "text/plain": [
       "Epochs completed:   0%|            0/500 [00:00]"
      ]
     },
     "metadata": {},
     "output_type": "display_data"
    },
    {
     "name": "stdout",
     "output_type": "stream",
     "text": [
      "Sun Jun 11 20:07:14 2023 Finished embedding\n"
     ]
    },
    {
     "data": {},
     "metadata": {},
     "output_type": "display_data"
    },
    {
     "data": {
      "text/plain": []
     },
     "metadata": {},
     "output_type": "display_data"
    },
    {
     "data": {
      "application/vnd.jupyter.widget-view+json": {
       "model_id": "3248496573074d899acd031ff68e6e9d",
       "version_major": 2,
       "version_minor": 0
      },
      "text/plain": [
       "FigureWidget({\n",
       "    'data': [{'customdata': array(['64860c759ffa15e51f921e5f', '64860c759ffa15e51f921e60',\n",
       "                                   '64860c759ffa15e51f921e61', '64860c759ffa15e51f921e62',\n",
       "                                   '64860c759ffa15e51f921e63', '64860c759ffa15e51f921e64',\n",
       "                                   '64860c759ffa15e51f921e65', '64860c759ffa15e51f921e66',\n",
       "                                   '64860c759ffa15e51f921e67', '64860c759ffa15e51f921e68',\n",
       "                                   '64860c759ffa15e51f921e69', '64860c759ffa15e51f921e6a',\n",
       "                                   '64860c759ffa15e51f921e6b', '64860c759ffa15e51f921e6c',\n",
       "                                   '64860c759ffa15e51f921e6d', '64860c759ffa15e51f921e6e',\n",
       "                                   '64860c759ffa15e51f921e6f', '64860c759ffa15e51f921e70',\n",
       "                                   '64860c759ffa15e51f921e71', '64860c759ffa15e51f921e72',\n",
       "                                   '64860c759ffa15e51f921e73', '64860c759ffa15e51f921e74',\n",
       "                                   '64860c759ffa15e51f921e75', '64860c759ffa15e51f921e76',\n",
       "                                   '64860c759ffa15e51f921e77', '64860c759ffa15e51f921e78',\n",
       "                                   '64860c759ffa15e51f921e79', '64860c759ffa15e51f921e7a',\n",
       "                                   '64860c759ffa15e51f921e7b', '64860c759ffa15e51f921e7c',\n",
       "                                   '64860c759ffa15e51f921e7d', '64860c759ffa15e51f921e7e',\n",
       "                                   '64860c759ffa15e51f921e7f', '64860c759ffa15e51f921e80',\n",
       "                                   '64860c759ffa15e51f921e81', '64860c759ffa15e51f921e82',\n",
       "                                   '64860c759ffa15e51f921e83', '64860c759ffa15e51f921e84',\n",
       "                                   '64860c759ffa15e51f921e85', '64860c759ffa15e51f921e86',\n",
       "                                   '64860c759ffa15e51f921e87', '64860c759ffa15e51f921e88',\n",
       "                                   '64860c759ffa15e51f921e89', '64860c759ffa15e51f921e8a',\n",
       "                                   '64860c759ffa15e51f921e8b', '64860c759ffa15e51f921e8c',\n",
       "                                   '64860c759ffa15e51f921e8d', '64860c759ffa15e51f921e8e',\n",
       "                                   '64860c759ffa15e51f921e8f', '64860c759ffa15e51f921e90',\n",
       "                                   '64860c759ffa15e51f921e91', '64860c759ffa15e51f921e92',\n",
       "                                   '64860c759ffa15e51f921e93', '64860c759ffa15e51f921e94',\n",
       "                                   '64860c759ffa15e51f921e95', '64860c759ffa15e51f921e96',\n",
       "                                   '64860c759ffa15e51f921e97', '64860c759ffa15e51f921e98',\n",
       "                                   '64860c759ffa15e51f921e99', '64860c759ffa15e51f921e9a',\n",
       "                                   '64860c759ffa15e51f921e9b', '64860c759ffa15e51f921e9c',\n",
       "                                   '64860c759ffa15e51f921e9d', '64860c759ffa15e51f921e9e',\n",
       "                                   '64860c759ffa15e51f921e9f', '64860c759ffa15e51f921ea0',\n",
       "                                   '64860c759ffa15e51f921ea1', '64860c759ffa15e51f921ea2',\n",
       "                                   '64860c759ffa15e51f921ea3', '64860c759ffa15e51f921ea4',\n",
       "                                   '64860c759ffa15e51f921ea5', '64860c759ffa15e51f921ea6',\n",
       "                                   '64860c759ffa15e51f921ea7', '64860c759ffa15e51f921ea8',\n",
       "                                   '64860c759ffa15e51f921ea9', '64860c759ffa15e51f921eaa',\n",
       "                                   '64860c759ffa15e51f921eab', '64860c759ffa15e51f921eac',\n",
       "                                   '64860c759ffa15e51f921ead', '64860c759ffa15e51f921eae',\n",
       "                                   '64860c759ffa15e51f921eaf', '64860c759ffa15e51f921eb0',\n",
       "                                   '64860c759ffa15e51f921eb1', '64860c759ffa15e51f921eb2',\n",
       "                                   '64860c759ffa15e51f921eb3', '64860c759ffa15e51f921eb4',\n",
       "                                   '64860c759ffa15e51f921eb5', '64860c759ffa15e51f921eb6',\n",
       "                                   '64860c759ffa15e51f921eb7', '64860c759ffa15e51f921eb8',\n",
       "                                   '64860c759ffa15e51f921eb9', '64860c759ffa15e51f921eba',\n",
       "                                   '64860c759ffa15e51f921ebb', '64860c759ffa15e51f921ebc',\n",
       "                                   '64860c759ffa15e51f921ebd', '64860c759ffa15e51f921ebe',\n",
       "                                   '64860c759ffa15e51f921ebf', '64860c759ffa15e51f921ec0',\n",
       "                                   '64860c759ffa15e51f921ec1', '64860c759ffa15e51f921ec2'], dtype=object),\n",
       "              'hovertemplate': 'x, y = %{x:.3f}, %{y:.3f}<br>ID: %{customdata}<extra></extra>',\n",
       "              'mode': 'markers',\n",
       "              'type': 'scattergl',\n",
       "              'uid': '197834d9-0f02-4cbf-8b0e-a92ce29d3876',\n",
       "              'x': array([ 3.9627712 ,  3.7647967 ,  4.4290752 ,  3.821704  ,  5.9004607 ,\n",
       "                           4.271396  ,  4.9014263 ,  3.9566598 ,  5.5536838 ,  4.394529  ,\n",
       "                           5.5712976 ,  5.646272  ,  4.308392  ,  5.274159  ,  5.772304  ,\n",
       "                           4.4003506 ,  4.6892614 ,  2.7535734 ,  3.00549   ,  4.6860795 ,\n",
       "                           2.4616852 ,  1.5490929 ,  2.092477  ,  4.456162  ,  1.5248818 ,\n",
       "                           3.383968  ,  4.1833763 ,  2.7319224 ,  2.591265  ,  1.6296463 ,\n",
       "                           1.5551207 ,  2.3528304 ,  1.5609517 ,  1.7101809 ,  1.7146722 ,\n",
       "                           1.9511095 ,  4.4512987 ,  2.836216  ,  3.0055695 ,  3.4887793 ,\n",
       "                           2.78942   ,  2.7927244 ,  3.402501  ,  6.317987  ,  1.2006801 ,\n",
       "                           2.0758238 ,  3.190549  ,  1.0050125 ,  3.129966  ,  2.5772588 ,\n",
       "                           0.7835774 ,  1.6900817 ,  1.3466648 ,  2.6429992 ,  3.3073442 ,\n",
       "                           3.8224626 ,  2.3477383 ,  2.0326593 ,  2.0932226 , -0.766364  ,\n",
       "                           6.0580244 ,  4.9104843 ,  4.997516  ,  5.015727  ,  6.6087837 ,\n",
       "                           2.508222  ,  6.393132  ,  6.297339  ,  6.0913067 ,  6.513655  ,\n",
       "                           6.39243   ,  5.4689374 ,  5.91791   ,  0.5317005 ,  5.787381  ,\n",
       "                           2.529006  ,  5.1516857 ,  5.6673737 ,  5.769826  ,  5.6187015 ,\n",
       "                           5.5945024 ,  5.314134  ,  3.2479634 , -0.53437567,  1.2109841 ,\n",
       "                          -0.99925494,  4.0763564 , -0.7110157 ,  2.1932163 , -0.84461486,\n",
       "                          -0.86740977,  2.1144078 ,  3.8146935 ,  3.6719272 , -0.8758437 ,\n",
       "                          -0.8919329 ,  6.4461937 ,  2.4125783 ,  3.7968736 ,  2.7589986 ],\n",
       "                         dtype=float32),\n",
       "              'y': array([9.487498 , 9.720515 , 9.126308 , 9.647976 , 8.914603 , 9.080433 ,\n",
       "                          8.600242 , 8.1265955, 9.585062 , 8.702972 , 9.62342  , 9.242255 ,\n",
       "                          9.350257 , 8.964161 , 9.360703 , 8.678319 , 8.686273 , 7.1403494,\n",
       "                          9.561281 , 8.073626 , 7.0345016, 8.49834  , 8.517163 , 8.266849 ,\n",
       "                          7.763561 , 7.3281946, 9.590535 , 8.546647 , 7.500058 , 7.6352224,\n",
       "                          7.9971814, 7.6944447, 8.985107 , 7.7132306, 8.311882 , 8.3441515,\n",
       "                          9.567274 , 8.135914 , 7.232201 , 7.851541 , 7.7544465, 7.387343 ,\n",
       "                          7.923491 , 9.31901  , 8.302966 , 8.066061 , 8.61878  , 7.9692135,\n",
       "                          8.996916 , 8.448056 , 8.258337 , 9.162812 , 8.23873  , 8.935061 ,\n",
       "                          9.2024355, 9.059789 , 9.351281 , 8.658728 , 9.218817 , 7.7272677,\n",
       "                          8.267583 , 9.689126 , 7.6029954, 9.485196 , 8.825632 , 8.703875 ,\n",
       "                          9.174878 , 8.474648 , 8.011844 , 8.622019 , 8.183988 , 9.206277 ,\n",
       "                          8.888932 , 8.19511  , 7.8659596, 9.279536 , 8.274375 , 8.481027 ,\n",
       "                          8.603839 , 8.088624 , 8.399696 , 7.7139096, 8.302448 , 8.044522 ,\n",
       "                          8.462504 , 8.022464 , 8.248022 , 8.244822 , 7.4129343, 8.321904 ,\n",
       "                          8.152549 , 7.6033463, 8.256089 , 8.442198 , 7.9530573, 8.138257 ,\n",
       "                          9.038391 , 8.19854  , 8.520658 , 8.974601 ], dtype=float32)}],\n",
       "    'layout': {'height': 720, 'margin': {'b': 0, 'l': 0, 'r': 0, 't': 30}, 'template': '...'}\n",
       "})"
      ]
     },
     "metadata": {},
     "output_type": "display_data"
    },
    {
     "name": "stdout",
     "output_type": "stream",
     "text": [
      "\n",
      "Could not connect session, trying again in 10 seconds\n",
      "\n",
      "\n",
      "Could not connect session, trying again in 10 seconds\n",
      "\n",
      "\n",
      "Could not connect session, trying again in 10 seconds\n",
      "\n",
      "\n",
      "Could not connect session, trying again in 10 seconds\n",
      "\n",
      "\n",
      "Could not connect session, trying again in 10 seconds\n",
      "\n",
      "\n",
      "Could not connect session, trying again in 10 seconds\n",
      "\n",
      "\n",
      "Could not connect session, trying again in 10 seconds\n",
      "\n",
      "\n",
      "Could not connect session, trying again in 10 seconds\n",
      "\n",
      "\n",
      "Could not connect session, trying again in 10 seconds\n",
      "\n",
      "\n",
      "Could not connect session, trying again in 10 seconds\n",
      "\n",
      "\n",
      "Could not connect session, trying again in 10 seconds\n",
      "\n",
      "\n",
      "Could not connect session, trying again in 10 seconds\n",
      "\n",
      "\n",
      "Could not connect session, trying again in 10 seconds\n",
      "\n",
      "\n",
      "Could not connect session, trying again in 10 seconds\n",
      "\n",
      "\n",
      "Could not connect session, trying again in 10 seconds\n",
      "\n",
      "\n",
      "Could not connect session, trying again in 10 seconds\n",
      "\n",
      "\n",
      "Could not connect session, trying again in 10 seconds\n",
      "\n",
      "\n",
      "Could not connect session, trying again in 10 seconds\n",
      "\n",
      "\n",
      "Could not connect session, trying again in 10 seconds\n",
      "\n",
      "\n",
      "Could not connect session, trying again in 10 seconds\n",
      "\n",
      "\n",
      "Could not connect session, trying again in 10 seconds\n",
      "\n",
      "\n",
      "Could not connect session, trying again in 10 seconds\n",
      "\n",
      "\n",
      "Could not connect session, trying again in 10 seconds\n",
      "\n",
      "\n",
      "Could not connect session, trying again in 10 seconds\n",
      "\n",
      "\n",
      "Could not connect session, trying again in 10 seconds\n",
      "\n",
      "\n",
      "Could not connect session, trying again in 10 seconds\n",
      "\n",
      "\n",
      "Could not connect session, trying again in 10 seconds\n",
      "\n",
      "\n",
      "Could not connect session, trying again in 10 seconds\n",
      "\n",
      "\n",
      "Could not connect session, trying again in 10 seconds\n",
      "\n",
      "\n",
      "Could not connect session, trying again in 10 seconds\n",
      "\n",
      "\n",
      "Could not connect session, trying again in 10 seconds\n",
      "\n",
      "\n",
      "Could not connect session, trying again in 10 seconds\n",
      "\n",
      "\n",
      "Could not connect session, trying again in 10 seconds\n",
      "\n",
      "\n",
      "Could not connect session, trying again in 10 seconds\n",
      "\n",
      "\n",
      "Could not connect session, trying again in 10 seconds\n",
      "\n",
      "\n",
      "Could not connect session, trying again in 10 seconds\n",
      "\n",
      "\n",
      "Could not connect session, trying again in 10 seconds\n",
      "\n",
      "\n",
      "Could not connect session, trying again in 10 seconds\n",
      "\n",
      "\n",
      "Could not connect session, trying again in 10 seconds\n",
      "\n",
      "\n",
      "Could not connect session, trying again in 10 seconds\n",
      "\n"
     ]
    }
   ],
   "source": [
    "\n",
    "# loading the images\n",
    "subset = 100\n",
    "size = (200, 200)\n",
    "embeddings = []\n",
    "for f in tqdm(dataset.values(\"filepath\")[:subset]) : \n",
    "    emb =  Image.open(f).resize(size) # resizing the images \n",
    "    embeddings.append(np.array(emb).ravel())\n",
    "\n",
    "embeddings=np.array(embeddings)\n",
    "print(embeddings.shape)\n",
    "\n",
    "# Compute 2D representation\n",
    "results = fob.compute_visualization(\n",
    "    dataset[:subset],\n",
    "    embeddings=embeddings,\n",
    "    num_dims=2,\n",
    "    method=\"umap\", # Uniform Manifold Approximation and Projection for Dimension Reduction\n",
    "    brain_key=\"umap_embeds\",\n",
    "    verbose=True,\n",
    "    seed=51,\n",
    ")\n",
    "\n",
    "# Compute 2D embeddings\n",
    "results = fob.compute_visualization(dataset[:subset], embeddings=embeddings, seed=51)\n",
    "\n",
    "# Visualize embeddings, colored by ground truth label\n",
    "plot = results.visualize() # label = \"\"\n",
    "session.plots.attach(plot)\n",
    "plot.show(height=720)"
   ]
  },
  {
   "cell_type": "code",
   "execution_count": null,
   "metadata": {},
   "outputs": [],
   "source": []
  },
  {
   "cell_type": "code",
   "execution_count": null,
   "metadata": {},
   "outputs": [
    {
     "data": {
      "text/html": [
       "\n",
       "<style>\n",
       "@import url(\"https://fonts.googleapis.com/css2?family=Palanquin&display=swap\");\n",
       "\n",
       "body, html {\n",
       "  margin: 0;\n",
       "  padding: 0;\n",
       "  width: 100%;\n",
       "}\n",
       "\n",
       "#focontainer-39030409-8eca-4296-8963-89e44b885de4 {\n",
       "  position: relative;\n",
       "  height: 800px;\n",
       "  display: block !important;\n",
       "}\n",
       "#foactivate-39030409-8eca-4296-8963-89e44b885de4 {\n",
       "  font-weight: bold;\n",
       "  cursor: pointer;\n",
       "  font-size: 24px;\n",
       "  border-radius: 3px;\n",
       "  text-align: center;\n",
       "  padding: 0.5em;\n",
       "  color: rgb(255, 255, 255);\n",
       "  font-family: \"Palanquin\", sans-serif;\n",
       "  position: absolute;\n",
       "  left: 50%;\n",
       "  top: 50%;\n",
       "  width: 160px;\n",
       "  margin-left: -80px;\n",
       "  margin-top: -23px;\n",
       "  background: hsla(210,11%,15%, 0.8);\n",
       "  border: none;\n",
       "}\n",
       "#foactivate-39030409-8eca-4296-8963-89e44b885de4:focus {\n",
       "  outline: none;\n",
       "}\n",
       "#fooverlay-39030409-8eca-4296-8963-89e44b885de4 {\n",
       "  width: 100%;\n",
       "  height: 100%;\n",
       "  background: hsla(208, 7%, 46%, 0.7);\n",
       "  position: absolute;\n",
       "  top: 0;\n",
       "  left: 0;\n",
       "  display: none;\n",
       "  cursor: pointer;\n",
       "}\n",
       "</style>\n",
       "\n",
       "<div id=\"focontainer-39030409-8eca-4296-8963-89e44b885de4\">\n",
       "   <div id=\"fooverlay-39030409-8eca-4296-8963-89e44b885de4\" style=\"display: none;\">\n",
       "      <button id=\"foactivate-39030409-8eca-4296-8963-89e44b885de4\" >Activate</button>\n",
       "   </div>\n",
       "   <img src='data:image/jpeg;base64,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' style=\"width: 100%; max-width: 1767px;\"/>\n",
       "</div>\n",
       "\n",
       "<script type=\"text/javascript\">\n",
       "   (function() {\n",
       "     var container = document.getElementById(\"focontainer-39030409-8eca-4296-8963-89e44b885de4\");\n",
       "     var overlay = document.getElementById(\"fooverlay-39030409-8eca-4296-8963-89e44b885de4\");\n",
       "     fetch(`http://localhost:5151/fiftyone`)\n",
       "     .then(() => {\n",
       "        overlay.addEventListener(\"click\", () => {\n",
       "          fetch(`http://localhost:5151/event`, {\n",
       "            method: \"POST\",\n",
       "            body: JSON.stringify({\n",
       "              event: \"reactivate_notebook_cell\",\n",
       "              data: { subscription: \"39030409-8eca-4296-8963-89e44b885de4\" },\n",
       "              subscription: \"39030409-8eca-4296-8963-89e44b885de4\"\n",
       "            })\n",
       "          })\n",
       "        });\n",
       "        container.addEventListener(\"mouseenter\", () => overlay.style.display = \"block\");\n",
       "        container.addEventListener(\"mouseleave\", () => overlay.style.display = \"none\");\n",
       "     });\n",
       "   })();\n",
       "</script>"
      ],
      "text/plain": [
       "<IPython.core.display.HTML object>"
      ]
     },
     "metadata": {},
     "output_type": "display_data"
    },
    {
     "name": "stdout",
     "output_type": "stream",
     "text": [
      "\n",
      "Could not connect session, trying again in 10 seconds\n",
      "\n"
     ]
    }
   ],
   "source": [
    "session.view = dataset.sort_by(\"uniqueness\").limit(100)\n"
   ]
  },
  {
   "cell_type": "code",
   "execution_count": null,
   "metadata": {},
   "outputs": [
    {
     "data": {
      "text/plain": [
       "791"
      ]
     },
     "execution_count": 32,
     "metadata": {},
     "output_type": "execute_result"
    }
   ],
   "source": [
    "\n",
    "filehash_counts = Counter(sample.file_hash for sample in dataset)\n",
    "dup_filehashes = [k for k, v in filehash_counts.items() if v > 1]\n",
    "\n",
    "len(dup_filehashes)"
   ]
  },
  {
   "cell_type": "code",
   "execution_count": null,
   "metadata": {},
   "outputs": [
    {
     "data": {
      "text/plain": [
       "Name:        Dataset-2\n",
       "Media type:  image\n",
       "Num samples: 8682\n",
       "Persistent:  False\n",
       "Tags:        []\n",
       "Sample fields:\n",
       "    id:        fiftyone.core.fields.ObjectIdField\n",
       "    filepath:  fiftyone.core.fields.StringField\n",
       "    tags:      fiftyone.core.fields.ListField(fiftyone.core.fields.StringField)\n",
       "    metadata:  fiftyone.core.fields.EmbeddedDocumentField(fiftyone.core.metadata.ImageMetadata)\n",
       "    file_hash: fiftyone.core.fields.IntField\n",
       "    ID:        fiftyone.core.fields.StringField"
      ]
     },
     "execution_count": 33,
     "metadata": {},
     "output_type": "execute_result"
    }
   ],
   "source": [
    "dataset"
   ]
  },
  {
   "cell_type": "code",
   "execution_count": null,
   "metadata": {},
   "outputs": [
    {
     "ename": "TypeError",
     "evalue": "'int' object is not iterable",
     "output_type": "error",
     "traceback": [
      "\u001b[0;31m---------------------------------------------------------------------------\u001b[0m",
      "\u001b[0;31mTypeError\u001b[0m                                 Traceback (most recent call last)",
      "Cell \u001b[0;32mIn[40], line 1\u001b[0m\n\u001b[0;32m----> 1\u001b[0m dataset\u001b[39m.\u001b[39;49msort_by_similarity(\u001b[39m100\u001b[39;49m)\n",
      "File \u001b[0;32m~/miniconda3/envs/duplicate/lib/python3.8/site-packages/fiftyone/core/collections.py:6163\u001b[0m, in \u001b[0;36mSampleCollection.sort_by_similarity\u001b[0;34m(self, query, k, reverse, dist_field, brain_key)\u001b[0m\n\u001b[1;32m   6090\u001b[0m \u001b[39m@view_stage\u001b[39m\n\u001b[1;32m   6091\u001b[0m \u001b[39mdef\u001b[39;00m \u001b[39msort_by_similarity\u001b[39m(\n\u001b[1;32m   6092\u001b[0m     \u001b[39mself\u001b[39m, query, k\u001b[39m=\u001b[39m\u001b[39mNone\u001b[39;00m, reverse\u001b[39m=\u001b[39m\u001b[39mFalse\u001b[39;00m, dist_field\u001b[39m=\u001b[39m\u001b[39mNone\u001b[39;00m, brain_key\u001b[39m=\u001b[39m\u001b[39mNone\u001b[39;00m\n\u001b[1;32m   6093\u001b[0m ):\n\u001b[1;32m   6094\u001b[0m \u001b[39m    \u001b[39m\u001b[39m\"\"\"Sorts the collection by similiarity to a specified query.\u001b[39;00m\n\u001b[1;32m   6095\u001b[0m \n\u001b[1;32m   6096\u001b[0m \u001b[39m    In order to use this stage, you must first use\u001b[39;00m\n\u001b[0;32m   (...)\u001b[0m\n\u001b[1;32m   6160\u001b[0m \u001b[39m        a :class:`fiftyone.core.view.DatasetView`\u001b[39;00m\n\u001b[1;32m   6161\u001b[0m \u001b[39m    \"\"\"\u001b[39;00m\n\u001b[1;32m   6162\u001b[0m     \u001b[39mreturn\u001b[39;00m \u001b[39mself\u001b[39m\u001b[39m.\u001b[39m_add_view_stage(\n\u001b[0;32m-> 6163\u001b[0m         fos\u001b[39m.\u001b[39;49mSortBySimilarity(\n\u001b[1;32m   6164\u001b[0m             query,\n\u001b[1;32m   6165\u001b[0m             k\u001b[39m=\u001b[39;49mk,\n\u001b[1;32m   6166\u001b[0m             reverse\u001b[39m=\u001b[39;49mreverse,\n\u001b[1;32m   6167\u001b[0m             dist_field\u001b[39m=\u001b[39;49mdist_field,\n\u001b[1;32m   6168\u001b[0m             brain_key\u001b[39m=\u001b[39;49mbrain_key,\n\u001b[1;32m   6169\u001b[0m         )\n\u001b[1;32m   6170\u001b[0m     )\n",
      "File \u001b[0;32m~/miniconda3/envs/duplicate/lib/python3.8/site-packages/fiftyone/core/stages.py:6950\u001b[0m, in \u001b[0;36mSortBySimilarity.__init__\u001b[0;34m(self, query, k, reverse, dist_field, brain_key, _state)\u001b[0m\n\u001b[1;32m   6941\u001b[0m \u001b[39mdef\u001b[39;00m \u001b[39m__init__\u001b[39m(\n\u001b[1;32m   6942\u001b[0m     \u001b[39mself\u001b[39m,\n\u001b[1;32m   6943\u001b[0m     query,\n\u001b[0;32m   (...)\u001b[0m\n\u001b[1;32m   6948\u001b[0m     _state\u001b[39m=\u001b[39m\u001b[39mNone\u001b[39;00m,\n\u001b[1;32m   6949\u001b[0m ):\n\u001b[0;32m-> 6950\u001b[0m     query, query_kwarg, is_prompt \u001b[39m=\u001b[39m _parse_similarity_query(query)\n\u001b[1;32m   6952\u001b[0m     \u001b[39mself\u001b[39m\u001b[39m.\u001b[39m_query \u001b[39m=\u001b[39m query\n\u001b[1;32m   6953\u001b[0m     \u001b[39mself\u001b[39m\u001b[39m.\u001b[39m_query_kwarg \u001b[39m=\u001b[39m query_kwarg\n",
      "File \u001b[0;32m~/miniconda3/envs/duplicate/lib/python3.8/site-packages/fiftyone/core/stages.py:7098\u001b[0m, in \u001b[0;36m_parse_similarity_query\u001b[0;34m(query)\u001b[0m\n\u001b[1;32m   7094\u001b[0m     \u001b[39mreturn\u001b[39;00m query, query_kwarg, \u001b[39mFalse\u001b[39;00m\n\u001b[1;32m   7096\u001b[0m \u001b[39mif\u001b[39;00m \u001b[39mnot\u001b[39;00m etau\u001b[39m.\u001b[39mis_str(query):\n\u001b[1;32m   7097\u001b[0m     \u001b[39m# Query IDs or prompts\u001b[39;00m\n\u001b[0;32m-> 7098\u001b[0m     query \u001b[39m=\u001b[39m \u001b[39mlist\u001b[39;49m(query)\n\u001b[1;32m   7100\u001b[0m     \u001b[39mif\u001b[39;00m query:\n\u001b[1;32m   7101\u001b[0m         \u001b[39mtry\u001b[39;00m:\n\u001b[1;32m   7102\u001b[0m             \u001b[39m# Query IDs\u001b[39;00m\n",
      "\u001b[0;31mTypeError\u001b[0m: 'int' object is not iterable"
     ]
    }
   ],
   "source": [
    "dataset.sort_by_similarity(100)\n"
   ]
  },
  {
   "cell_type": "code",
   "execution_count": null,
   "metadata": {},
   "outputs": [],
   "source": [
    "def get_id_by_hash(dataset, file_hash):\n",
    "    ids=[]\n",
    "    for sample in dataset :\n",
    "        if sample.file_hash==file_hash:\n",
    "            ids.append(sample.ID)\n",
    "            dataset.remove(sample)\n",
    "    return ids"
   ]
  },
  {
   "cell_type": "code",
   "execution_count": null,
   "metadata": {},
   "outputs": [
    {
     "name": "stderr",
     "output_type": "stream",
     "text": [
      "  0%|          | 0/8682 [00:00<?, ?it/s]"
     ]
    },
    {
     "name": "stderr",
     "output_type": "stream",
     "text": [
      "  0%|          | 16/8682 [00:00<00:09, 885.24it/s]\n"
     ]
    },
    {
     "ename": "AttributeError",
     "evalue": "'Dataset' object has no attribute 'remove'",
     "output_type": "error",
     "traceback": [
      "\u001b[0;31m---------------------------------------------------------------------------\u001b[0m",
      "\u001b[0;31mAttributeError\u001b[0m                            Traceback (most recent call last)",
      "Cell \u001b[0;32mIn[35], line 5\u001b[0m\n\u001b[1;32m      3\u001b[0m file_hash \u001b[39m=\u001b[39m sample\u001b[39m.\u001b[39mfile_hash\n\u001b[1;32m      4\u001b[0m \u001b[39mif\u001b[39;00m file_hash \u001b[39min\u001b[39;00m dup_filehashes:\n\u001b[0;32m----> 5\u001b[0m     ids \u001b[39m=\u001b[39m get_id_by_hash(dataset, file_hash)\n\u001b[1;32m      6\u001b[0m     duplicates\u001b[39m.\u001b[39mappend(\n\u001b[1;32m      7\u001b[0m         {\n\u001b[1;32m      8\u001b[0m             \u001b[39m\"\u001b[39m\u001b[39mID\u001b[39m\u001b[39m\"\u001b[39m:sample\u001b[39m.\u001b[39mID,\n\u001b[0;32m   (...)\u001b[0m\n\u001b[1;32m     11\u001b[0m         }\n\u001b[1;32m     12\u001b[0m     )\n",
      "Cell \u001b[0;32mIn[34], line 6\u001b[0m, in \u001b[0;36mget_id_by_hash\u001b[0;34m(dataset, file_hash)\u001b[0m\n\u001b[1;32m      4\u001b[0m     \u001b[39mif\u001b[39;00m sample\u001b[39m.\u001b[39mfile_hash\u001b[39m==\u001b[39mfile_hash:\n\u001b[1;32m      5\u001b[0m         ids\u001b[39m.\u001b[39mappend(sample\u001b[39m.\u001b[39mID)\n\u001b[0;32m----> 6\u001b[0m         dataset\u001b[39m.\u001b[39;49mremove(sample)\n\u001b[1;32m      7\u001b[0m \u001b[39mreturn\u001b[39;00m ids\n",
      "File \u001b[0;32m~/miniconda3/envs/duplicate/lib/python3.8/site-packages/fiftyone/core/dataset.py:357\u001b[0m, in \u001b[0;36mDataset.__getattribute__\u001b[0;34m(self, name)\u001b[0m\n\u001b[1;32m    354\u001b[0m \u001b[39mif\u001b[39;00m \u001b[39mgetattr\u001b[39m(\u001b[39mself\u001b[39m, \u001b[39m\"\u001b[39m\u001b[39m_deleted\u001b[39m\u001b[39m\"\u001b[39m, \u001b[39mFalse\u001b[39;00m):\n\u001b[1;32m    355\u001b[0m     \u001b[39mraise\u001b[39;00m \u001b[39mValueError\u001b[39;00m(\u001b[39m\"\u001b[39m\u001b[39mDataset \u001b[39m\u001b[39m'\u001b[39m\u001b[39m%s\u001b[39;00m\u001b[39m'\u001b[39m\u001b[39m is deleted\u001b[39m\u001b[39m\"\u001b[39m \u001b[39m%\u001b[39m \u001b[39mself\u001b[39m\u001b[39m.\u001b[39mname)\n\u001b[0;32m--> 357\u001b[0m \u001b[39mreturn\u001b[39;00m \u001b[39msuper\u001b[39;49m()\u001b[39m.\u001b[39;49m\u001b[39m__getattribute__\u001b[39;49m(name)\n",
      "\u001b[0;31mAttributeError\u001b[0m: 'Dataset' object has no attribute 'remove'"
     ]
    }
   ],
   "source": [
    "duplicates=[]\n",
    "for sample in tqdm(dataset):\n",
    "    file_hash = sample.file_hash\n",
    "    if file_hash in dup_filehashes:\n",
    "        ids = get_id_by_hash(dataset, file_hash)\n",
    "        duplicates.append(\n",
    "            {\n",
    "                \"ID\":sample.ID,\n",
    "                \"DUPLICATE_IDS\":ids,\n",
    "                \"N_DUPLICATES\":len(ids)\n",
    "            }\n",
    "        )\n"
   ]
  },
  {
   "cell_type": "code",
   "execution_count": null,
   "metadata": {},
   "outputs": [
    {
     "name": "stdout",
     "output_type": "stream",
     "text": [
      "Number of duplicate file hashes: 791\n",
      "Number of images that have a duplicate: 2055\n",
      "Number of duplicates:  1264\n"
     ]
    },
    {
     "data": {
      "text/html": [
       "\n",
       "        <iframe\n",
       "            width=\"100%\"\n",
       "            height=\"800\"\n",
       "            src=\"http://localhost:5151/?notebook=True&subscription=f0d956a1-ba38-4c07-bcfb-dc55b42e4380\"\n",
       "            frameborder=\"0\"\n",
       "            allowfullscreen\n",
       "            \n",
       "        ></iframe>\n",
       "        "
      ],
      "text/plain": [
       "<IPython.lib.display.IFrame at 0x7f2c9036f1f0>"
      ]
     },
     "metadata": {},
     "output_type": "display_data"
    },
    {
     "ename": "RuntimeError",
     "evalue": "Failed to post event `state_update` to http://localhost:5151/event",
     "output_type": "error",
     "traceback": [
      "\u001b[0;31m---------------------------------------------------------------------------\u001b[0m",
      "\u001b[0;31mRuntimeError\u001b[0m                              Traceback (most recent call last)",
      "Cell \u001b[0;32mIn[34], line 15\u001b[0m\n\u001b[1;32m     13\u001b[0m \u001b[39mprint\u001b[39m(\u001b[39m\"\u001b[39m\u001b[39mNumber of images that have a duplicate:\u001b[39m\u001b[39m\"\u001b[39m, \u001b[39mlen\u001b[39m(dup_view))\n\u001b[1;32m     14\u001b[0m \u001b[39mprint\u001b[39m(\u001b[39m\"\u001b[39m\u001b[39mNumber of duplicates: \u001b[39m\u001b[39m\"\u001b[39m, (\u001b[39mlen\u001b[39m(dup_view) \u001b[39m-\u001b[39m \u001b[39mlen\u001b[39m(dup_filehashes)))\n\u001b[0;32m---> 15\u001b[0m session \u001b[39m=\u001b[39m fo\u001b[39m.\u001b[39;49mlaunch_app()\n\u001b[1;32m     16\u001b[0m session\u001b[39m.\u001b[39mview \u001b[39m=\u001b[39m dup_view\n\u001b[1;32m     18\u001b[0m session\u001b[39m.\u001b[39mwait()\n",
      "File \u001b[0;32m~/miniconda3/envs/duplicate/lib/python3.8/site-packages/fiftyone/core/session/session.py:198\u001b[0m, in \u001b[0;36mlaunch_app\u001b[0;34m(dataset, view, spaces, color_scheme, plots, port, address, remote, desktop, height, auto, config)\u001b[0m\n\u001b[1;32m    186\u001b[0m \u001b[39m#\u001b[39;00m\n\u001b[1;32m    187\u001b[0m \u001b[39m# Note, we always `close_app()` here rather than just calling\u001b[39;00m\n\u001b[1;32m    188\u001b[0m \u001b[39m# `session.open()` if a session already exists, because the app may have\u001b[39;00m\n\u001b[0;32m   (...)\u001b[0m\n\u001b[1;32m    194\u001b[0m \u001b[39m# @todo this can probably be improved\u001b[39;00m\n\u001b[1;32m    195\u001b[0m \u001b[39m#\u001b[39;00m\n\u001b[1;32m    196\u001b[0m close_app()\n\u001b[0;32m--> 198\u001b[0m _session \u001b[39m=\u001b[39m Session(\n\u001b[1;32m    199\u001b[0m     dataset\u001b[39m=\u001b[39;49mdataset,\n\u001b[1;32m    200\u001b[0m     view\u001b[39m=\u001b[39;49mview,\n\u001b[1;32m    201\u001b[0m     spaces\u001b[39m=\u001b[39;49mspaces,\n\u001b[1;32m    202\u001b[0m     color_scheme\u001b[39m=\u001b[39;49mcolor_scheme,\n\u001b[1;32m    203\u001b[0m     plots\u001b[39m=\u001b[39;49mplots,\n\u001b[1;32m    204\u001b[0m     port\u001b[39m=\u001b[39;49mport,\n\u001b[1;32m    205\u001b[0m     address\u001b[39m=\u001b[39;49maddress,\n\u001b[1;32m    206\u001b[0m     remote\u001b[39m=\u001b[39;49mremote,\n\u001b[1;32m    207\u001b[0m     desktop\u001b[39m=\u001b[39;49mdesktop,\n\u001b[1;32m    208\u001b[0m     height\u001b[39m=\u001b[39;49mheight,\n\u001b[1;32m    209\u001b[0m     auto\u001b[39m=\u001b[39;49mauto,\n\u001b[1;32m    210\u001b[0m     config\u001b[39m=\u001b[39;49mconfig,\n\u001b[1;32m    211\u001b[0m )\n\u001b[1;32m    213\u001b[0m \u001b[39mif\u001b[39;00m _session\u001b[39m.\u001b[39mremote:\n\u001b[1;32m    214\u001b[0m     logger\u001b[39m.\u001b[39minfo(_REMOTE_INSTRUCTIONS\u001b[39m.\u001b[39mstrip()\u001b[39m.\u001b[39mformat(_session\u001b[39m.\u001b[39mserver_port))\n",
      "File \u001b[0;32m~/miniconda3/envs/duplicate/lib/python3.8/site-packages/fiftyone/core/session/session.py:431\u001b[0m, in \u001b[0;36mSession.__init__\u001b[0;34m(self, dataset, view, view_name, spaces, color_scheme, plots, port, address, remote, desktop, height, auto, config)\u001b[0m\n\u001b[1;32m    428\u001b[0m _register_session(\u001b[39mself\u001b[39m)\n\u001b[1;32m    430\u001b[0m \u001b[39mif\u001b[39;00m \u001b[39mself\u001b[39m\u001b[39m.\u001b[39mauto \u001b[39mand\u001b[39;00m focx\u001b[39m.\u001b[39mis_notebook_context():\n\u001b[0;32m--> 431\u001b[0m     \u001b[39mself\u001b[39;49m\u001b[39m.\u001b[39;49mshow(height\u001b[39m=\u001b[39;49mconfig\u001b[39m.\u001b[39;49mnotebook_height)\n\u001b[1;32m    433\u001b[0m \u001b[39mif\u001b[39;00m \u001b[39mself\u001b[39m\u001b[39m.\u001b[39mremote:\n\u001b[1;32m    434\u001b[0m     \u001b[39mif\u001b[39;00m focx\u001b[39m.\u001b[39mis_notebook_context():\n",
      "File \u001b[0;32m~/miniconda3/envs/duplicate/lib/python3.8/site-packages/fiftyone/core/session/session.py:258\u001b[0m, in \u001b[0;36mupdate_state.<locals>.decorator.<locals>.wrapper\u001b[0;34m(session, *args, **kwargs)\u001b[0m\n\u001b[1;32m    256\u001b[0m     session\u001b[39m.\u001b[39mfreeze()\n\u001b[1;32m    257\u001b[0m result \u001b[39m=\u001b[39m func(session, \u001b[39m*\u001b[39margs, \u001b[39m*\u001b[39m\u001b[39m*\u001b[39mkwargs)\n\u001b[0;32m--> 258\u001b[0m session\u001b[39m.\u001b[39;49m_client\u001b[39m.\u001b[39;49msend_event(StateUpdate(state\u001b[39m=\u001b[39;49msession\u001b[39m.\u001b[39;49m_state))\n\u001b[1;32m    259\u001b[0m \u001b[39mif\u001b[39;00m auto_show \u001b[39mand\u001b[39;00m session\u001b[39m.\u001b[39mauto \u001b[39mand\u001b[39;00m focx\u001b[39m.\u001b[39mis_notebook_context():\n\u001b[1;32m    260\u001b[0m     session\u001b[39m.\u001b[39mshow()\n",
      "File \u001b[0;32m~/miniconda3/envs/duplicate/lib/python3.8/site-packages/fiftyone/core/session/client.py:126\u001b[0m, in \u001b[0;36mClient.send_event\u001b[0;34m(self, event)\u001b[0m\n\u001b[1;32m    124\u001b[0m \u001b[39mif\u001b[39;00m \u001b[39mnot\u001b[39;00m \u001b[39mself\u001b[39m\u001b[39m.\u001b[39m_connected:\n\u001b[1;32m    125\u001b[0m     \u001b[39mraise\u001b[39;00m \u001b[39mRuntimeError\u001b[39;00m(\u001b[39m\"\u001b[39m\u001b[39mClient is not connected\u001b[39m\u001b[39m\"\u001b[39m)\n\u001b[0;32m--> 126\u001b[0m \u001b[39mself\u001b[39;49m\u001b[39m.\u001b[39;49m_post_event(event)\n\u001b[1;32m    127\u001b[0m \u001b[39mself\u001b[39m\u001b[39m.\u001b[39m_dispatch_event(event)\n",
      "File \u001b[0;32m~/miniconda3/envs/duplicate/lib/python3.8/site-packages/fiftyone/core/session/client.py:172\u001b[0m, in \u001b[0;36mClient._post_event\u001b[0;34m(self, event)\u001b[0m\n\u001b[1;32m    159\u001b[0m response \u001b[39m=\u001b[39m requests\u001b[39m.\u001b[39mpost(\n\u001b[1;32m    160\u001b[0m     \u001b[39mf\u001b[39m\u001b[39m\"\u001b[39m\u001b[39m{\u001b[39;00m\u001b[39mself\u001b[39m\u001b[39m.\u001b[39morigin\u001b[39m}\u001b[39;00m\u001b[39m/event\u001b[39m\u001b[39m\"\u001b[39m,\n\u001b[1;32m    161\u001b[0m     headers\u001b[39m=\u001b[39m{\u001b[39m\"\u001b[39m\u001b[39mContent-type\u001b[39m\u001b[39m\"\u001b[39m: \u001b[39m\"\u001b[39m\u001b[39mapplication/json\u001b[39m\u001b[39m\"\u001b[39m},\n\u001b[0;32m   (...)\u001b[0m\n\u001b[1;32m    168\u001b[0m     ),\n\u001b[1;32m    169\u001b[0m )\n\u001b[1;32m    171\u001b[0m \u001b[39mif\u001b[39;00m response\u001b[39m.\u001b[39mstatus_code \u001b[39m!=\u001b[39m \u001b[39m200\u001b[39m:\n\u001b[0;32m--> 172\u001b[0m     \u001b[39mraise\u001b[39;00m \u001b[39mRuntimeError\u001b[39;00m(\n\u001b[1;32m    173\u001b[0m         \u001b[39mf\u001b[39m\u001b[39m\"\u001b[39m\u001b[39mFailed to post event `\u001b[39m\u001b[39m{\u001b[39;00mevent\u001b[39m.\u001b[39mget_event_name()\u001b[39m}\u001b[39;00m\u001b[39m` to \u001b[39m\u001b[39m{\u001b[39;00m\u001b[39mself\u001b[39m\u001b[39m.\u001b[39morigin\u001b[39m}\u001b[39;00m\u001b[39m/event\u001b[39m\u001b[39m\"\u001b[39m\n\u001b[1;32m    174\u001b[0m     )\n",
      "\u001b[0;31mRuntimeError\u001b[0m: Failed to post event `state_update` to http://localhost:5151/event"
     ]
    }
   ],
   "source": [
    "\n",
    "\n",
    "print(\"Number of duplicate file hashes: %d\" % len(dup_filehashes))\n",
    "\n",
    "dup_view = (dataset\n",
    "    # Extract samples with duplicate file hashes\n",
    "    .match(F(\"file_hash\").is_in(dup_filehashes))\n",
    "    # Sort by file hash so duplicates will be adjacent\n",
    "    .sort_by(\"file_hash\")\n",
    ")\n",
    "\n",
    "print(\"Number of images that have a duplicate:\", len(dup_view))\n",
    "print(\"Number of duplicates: \", (len(dup_view) - len(dup_filehashes)))\n",
    "session = fo.launch_app()\n",
    "session.view = dup_view\n",
    "\n",
    "session.wait()"
   ]
  }
 ],
 "metadata": {
  "kernelspec": {
   "display_name": "Python 3 (ipykernel)",
   "language": "python",
   "name": "python3"
  },
  "language_info": {
   "codemirror_mode": {
    "name": "ipython",
    "version": 3
   },
   "file_extension": ".py",
   "mimetype": "text/x-python",
   "name": "python",
   "nbconvert_exporter": "python",
   "pygments_lexer": "ipython3",
   "version": "3.8.16"
  }
 },
 "nbformat": 4,
 "nbformat_minor": 2
}
