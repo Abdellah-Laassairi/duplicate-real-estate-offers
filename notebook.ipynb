{
 "cells": [
  {
   "attachments": {},
   "cell_type": "markdown",
   "metadata": {},
   "source": [
    "# Duplicate Real Estate Listings "
   ]
  },
  {
   "cell_type": "code",
   "execution_count": 1,
   "metadata": {},
   "outputs": [],
   "source": [
    "import pandas as pd\n",
    "import numpy as np\n",
    "import seaborn as sns\n",
    "import json\n",
    "from tqdm import tqdm\n",
    "import os\n",
    "import uuid\n",
    "import matplotlib.pyplot as plt\n",
    "import hashlib\n",
    "from PIL import Image\n",
    "import requests\n",
    "from io import BytesIO\n",
    "import glob\n",
    "from rich.console import Console\n",
    "from rich.theme import Theme\n",
    "\n",
    "custom_theme = Theme({\n",
    "    \"valid\": \"bold green encircle\",\n",
    "    \"info\": \"dim cyan\",\n",
    "    \"warning\": \"magenta\",\n",
    "    \"danger\": \"bold red\"\n",
    "})\n",
    "test_theme={\n",
    "    True:\"valid\",\n",
    "    False:\"danger\",\n",
    "}\n",
    "console = Console(theme=custom_theme)\n",
    "\n",
    "\n",
    "pd.options.display.max_rows=50\n",
    "pd.options.display.max_columns=90\n",
    "df = pd.read_csv(\"data/Dataset - Ads _ Levallois-Perret - 2019-08 - export-ads-levallois-perret-2019-08-27.csv\")"
   ]
  },
  {
   "attachments": {},
   "cell_type": "markdown",
   "metadata": {},
   "source": [
    "## EDA : Explaratory Data Analysis\n",
    "\n",
    "### i. Data exploration"
   ]
  },
  {
   "cell_type": "code",
   "execution_count": 2,
   "metadata": {},
   "outputs": [
    {
     "data": {
      "text/html": [
       "<pre style=\"white-space:pre;overflow-x:auto;line-height:normal;font-family:Menlo,'DejaVu Sans Mono',consolas,'Courier New',monospace\">\n",
       "<span style=\"font-weight: bold\">Data type</span> : object \n",
       "<span style=\"font-weight: bold\">Columns</span> : <span style=\"font-weight: bold\">[</span><span style=\"color: #008000; text-decoration-color: #008000\">'ID'</span>, <span style=\"color: #008000; text-decoration-color: #008000\">'URL'</span>, <span style=\"color: #008000; text-decoration-color: #008000\">'CRAWL_SOURCE'</span>, <span style=\"color: #008000; text-decoration-color: #008000\">'PROPERTY_TYPE'</span>, <span style=\"color: #008000; text-decoration-color: #008000\">'NEW_BUILD'</span>, <span style=\"color: #008000; text-decoration-color: #008000\">'DESCRIPTION'</span>, <span style=\"color: #008000; text-decoration-color: #008000\">'IMAGES'</span>, <span style=\"color: #008000; text-decoration-color: #008000\">'FURNISHED'</span>, \n",
       "<span style=\"color: #008000; text-decoration-color: #008000\">'HEATING_TYPES'</span>, <span style=\"color: #008000; text-decoration-color: #008000\">'HEATING_MODE'</span>, <span style=\"color: #008000; text-decoration-color: #008000\">'ELEVATOR'</span>, <span style=\"color: #008000; text-decoration-color: #008000\">'CARETAKER'</span>, <span style=\"color: #008000; text-decoration-color: #008000\">'MARKETING_TYPE'</span>, <span style=\"color: #008000; text-decoration-color: #008000\">'PRICE_EVENTS'</span>, \n",
       "<span style=\"color: #008000; text-decoration-color: #008000\">'RENTAL_EXPENSES_INCLUDED'</span>, <span style=\"color: #008000; text-decoration-color: #008000\">'FEES_INCLUDED'</span>, <span style=\"color: #008000; text-decoration-color: #008000\">'AGENCIES_UNWANTED'</span>, <span style=\"color: #008000; text-decoration-color: #008000\">'OCCUPIED'</span>, <span style=\"color: #008000; text-decoration-color: #008000\">'DEALER_NAME'</span>, <span style=\"color: #008000; text-decoration-color: #008000\">'DEALER_TYPE'</span>, <span style=\"color: #008000; text-decoration-color: #008000\">'CITY'</span>,\n",
       "<span style=\"color: #008000; text-decoration-color: #008000\">'PUBLICATION_START_DATE'</span>, <span style=\"color: #008000; text-decoration-color: #008000\">'LAST_CRAWL_DATE'</span>, <span style=\"color: #008000; text-decoration-color: #008000\">'LAST_PRICE_DECREASE_DATE'</span><span style=\"font-weight: bold\">]</span> \n",
       "\n",
       "</pre>\n"
      ],
      "text/plain": [
       "\n",
       "\u001b[1mData type\u001b[0m : object \n",
       "\u001b[1mColumns\u001b[0m : \u001b[1m[\u001b[0m\u001b[32m'ID'\u001b[0m, \u001b[32m'URL'\u001b[0m, \u001b[32m'CRAWL_SOURCE'\u001b[0m, \u001b[32m'PROPERTY_TYPE'\u001b[0m, \u001b[32m'NEW_BUILD'\u001b[0m, \u001b[32m'DESCRIPTION'\u001b[0m, \u001b[32m'IMAGES'\u001b[0m, \u001b[32m'FURNISHED'\u001b[0m, \n",
       "\u001b[32m'HEATING_TYPES'\u001b[0m, \u001b[32m'HEATING_MODE'\u001b[0m, \u001b[32m'ELEVATOR'\u001b[0m, \u001b[32m'CARETAKER'\u001b[0m, \u001b[32m'MARKETING_TYPE'\u001b[0m, \u001b[32m'PRICE_EVENTS'\u001b[0m, \n",
       "\u001b[32m'RENTAL_EXPENSES_INCLUDED'\u001b[0m, \u001b[32m'FEES_INCLUDED'\u001b[0m, \u001b[32m'AGENCIES_UNWANTED'\u001b[0m, \u001b[32m'OCCUPIED'\u001b[0m, \u001b[32m'DEALER_NAME'\u001b[0m, \u001b[32m'DEALER_TYPE'\u001b[0m, \u001b[32m'CITY'\u001b[0m,\n",
       "\u001b[32m'PUBLICATION_START_DATE'\u001b[0m, \u001b[32m'LAST_CRAWL_DATE'\u001b[0m, \u001b[32m'LAST_PRICE_DECREASE_DATE'\u001b[0m\u001b[1m]\u001b[0m \n",
       "\n"
      ]
     },
     "metadata": {},
     "output_type": "display_data"
    },
    {
     "data": {
      "text/html": [
       "<pre style=\"white-space:pre;overflow-x:auto;line-height:normal;font-family:Menlo,'DejaVu Sans Mono',consolas,'Courier New',monospace\">\n",
       "<span style=\"font-weight: bold\">Data type</span> : float64 \n",
       "<span style=\"font-weight: bold\">Columns</span> : <span style=\"font-weight: bold\">[</span><span style=\"color: #008000; text-decoration-color: #008000\">'SURFACE'</span>, <span style=\"color: #008000; text-decoration-color: #008000\">'LAND_SURFACE'</span>, <span style=\"color: #008000; text-decoration-color: #008000\">'BALCONY_SURFACE'</span>, <span style=\"color: #008000; text-decoration-color: #008000\">'TERRACE_SURFACE'</span>, <span style=\"color: #008000; text-decoration-color: #008000\">'ROOM_COUNT'</span>, <span style=\"color: #008000; text-decoration-color: #008000\">'BEDROOM_COUNT'</span>, \n",
       "<span style=\"color: #008000; text-decoration-color: #008000\">'BATHROOM_COUNT'</span>, <span style=\"color: #008000; text-decoration-color: #008000\">'LUNCHROOM_COUNT'</span>, <span style=\"color: #008000; text-decoration-color: #008000\">'TOILET_COUNT'</span>, <span style=\"color: #008000; text-decoration-color: #008000\">'FIREPLACE'</span>, <span style=\"color: #008000; text-decoration-color: #008000\">'AIR_CONDITIONING'</span>, <span style=\"color: #008000; text-decoration-color: #008000\">'GARDEN'</span>, <span style=\"color: #008000; text-decoration-color: #008000\">'SWIMMING_POOL'</span>, \n",
       "<span style=\"color: #008000; text-decoration-color: #008000\">'BALCONY'</span>, <span style=\"color: #008000; text-decoration-color: #008000\">'TERRACE'</span>, <span style=\"color: #008000; text-decoration-color: #008000\">'CELLAR'</span>, <span style=\"color: #008000; text-decoration-color: #008000\">'PARKING_COUNT'</span>, <span style=\"color: #008000; text-decoration-color: #008000\">'FLOOR'</span>, <span style=\"color: #008000; text-decoration-color: #008000\">'FLOOR_COUNT'</span>, <span style=\"color: #008000; text-decoration-color: #008000\">'CONSTRUCTION_YEAR'</span>, <span style=\"color: #008000; text-decoration-color: #008000\">'ENERGY_CONSUMPTION'</span>,\n",
       "<span style=\"color: #008000; text-decoration-color: #008000\">'GREENHOUSE_GAS_CONSUMPTION'</span>, <span style=\"color: #008000; text-decoration-color: #008000\">'PRICE'</span>, <span style=\"color: #008000; text-decoration-color: #008000\">'PRICE_M2'</span>, <span style=\"color: #008000; text-decoration-color: #008000\">'RENTAL_EXPENSES'</span>, <span style=\"color: #008000; text-decoration-color: #008000\">'DEPOSIT'</span>, <span style=\"color: #008000; text-decoration-color: #008000\">'FEES'</span>, <span style=\"color: #008000; text-decoration-color: #008000\">'ZIP_CODE'</span>, \n",
       "<span style=\"color: #008000; text-decoration-color: #008000\">'PUBLICATION_END_DATE'</span><span style=\"font-weight: bold\">]</span> \n",
       "\n",
       "</pre>\n"
      ],
      "text/plain": [
       "\n",
       "\u001b[1mData type\u001b[0m : float64 \n",
       "\u001b[1mColumns\u001b[0m : \u001b[1m[\u001b[0m\u001b[32m'SURFACE'\u001b[0m, \u001b[32m'LAND_SURFACE'\u001b[0m, \u001b[32m'BALCONY_SURFACE'\u001b[0m, \u001b[32m'TERRACE_SURFACE'\u001b[0m, \u001b[32m'ROOM_COUNT'\u001b[0m, \u001b[32m'BEDROOM_COUNT'\u001b[0m, \n",
       "\u001b[32m'BATHROOM_COUNT'\u001b[0m, \u001b[32m'LUNCHROOM_COUNT'\u001b[0m, \u001b[32m'TOILET_COUNT'\u001b[0m, \u001b[32m'FIREPLACE'\u001b[0m, \u001b[32m'AIR_CONDITIONING'\u001b[0m, \u001b[32m'GARDEN'\u001b[0m, \u001b[32m'SWIMMING_POOL'\u001b[0m, \n",
       "\u001b[32m'BALCONY'\u001b[0m, \u001b[32m'TERRACE'\u001b[0m, \u001b[32m'CELLAR'\u001b[0m, \u001b[32m'PARKING_COUNT'\u001b[0m, \u001b[32m'FLOOR'\u001b[0m, \u001b[32m'FLOOR_COUNT'\u001b[0m, \u001b[32m'CONSTRUCTION_YEAR'\u001b[0m, \u001b[32m'ENERGY_CONSUMPTION'\u001b[0m,\n",
       "\u001b[32m'GREENHOUSE_GAS_CONSUMPTION'\u001b[0m, \u001b[32m'PRICE'\u001b[0m, \u001b[32m'PRICE_M2'\u001b[0m, \u001b[32m'RENTAL_EXPENSES'\u001b[0m, \u001b[32m'DEPOSIT'\u001b[0m, \u001b[32m'FEES'\u001b[0m, \u001b[32m'ZIP_CODE'\u001b[0m, \n",
       "\u001b[32m'PUBLICATION_END_DATE'\u001b[0m\u001b[1m]\u001b[0m \n",
       "\n"
      ]
     },
     "metadata": {},
     "output_type": "display_data"
    },
    {
     "data": {
      "text/html": [
       "<pre style=\"white-space:pre;overflow-x:auto;line-height:normal;font-family:Menlo,'DejaVu Sans Mono',consolas,'Courier New',monospace\">\n",
       "<span style=\"font-weight: bold\">Data type</span> : bool \n",
       "<span style=\"font-weight: bold\">Columns</span> : <span style=\"font-weight: bold\">[</span><span style=\"color: #008000; text-decoration-color: #008000\">'PARKING'</span>, <span style=\"color: #008000; text-decoration-color: #008000\">'EXCLUSIVE_MANDATE'</span><span style=\"font-weight: bold\">]</span> \n",
       "\n",
       "</pre>\n"
      ],
      "text/plain": [
       "\n",
       "\u001b[1mData type\u001b[0m : bool \n",
       "\u001b[1mColumns\u001b[0m : \u001b[1m[\u001b[0m\u001b[32m'PARKING'\u001b[0m, \u001b[32m'EXCLUSIVE_MANDATE'\u001b[0m\u001b[1m]\u001b[0m \n",
       "\n"
      ]
     },
     "metadata": {},
     "output_type": "display_data"
    },
    {
     "data": {
      "text/html": [
       "<pre style=\"white-space:pre;overflow-x:auto;line-height:normal;font-family:Menlo,'DejaVu Sans Mono',consolas,'Courier New',monospace\">\n",
       "<span style=\"font-weight: bold\">Data type</span> : int64 \n",
       "<span style=\"font-weight: bold\">Columns</span> : <span style=\"font-weight: bold\">[</span><span style=\"color: #008000; text-decoration-color: #008000\">'CITY_ID'</span>, <span style=\"color: #008000; text-decoration-color: #008000\">'DEPT_CODE'</span><span style=\"font-weight: bold\">]</span> \n",
       "\n",
       "</pre>\n"
      ],
      "text/plain": [
       "\n",
       "\u001b[1mData type\u001b[0m : int64 \n",
       "\u001b[1mColumns\u001b[0m : \u001b[1m[\u001b[0m\u001b[32m'CITY_ID'\u001b[0m, \u001b[32m'DEPT_CODE'\u001b[0m\u001b[1m]\u001b[0m \n",
       "\n"
      ]
     },
     "metadata": {},
     "output_type": "display_data"
    }
   ],
   "source": [
    "for type in df.dtypes.unique():\n",
    "    same_dtype_columns = df.select_dtypes(include=type).columns\n",
    "    console.print(f\"\\n[bold]Data type[/bold] : {type} \\n[bold]Columns[/bold] : {list(same_dtype_columns)} \\n\")"
   ]
  },
  {
   "cell_type": "code",
   "execution_count": 3,
   "metadata": {},
   "outputs": [
    {
     "data": {
      "text/html": [
       "<style type=\"text/css\">\n",
       "#T_7f5e3_row0_col0, #T_7f5e3_row1_col0, #T_7f5e3_row2_col0, #T_7f5e3_row3_col0, #T_7f5e3_row4_col0, #T_7f5e3_row5_col0, #T_7f5e3_row6_col0, #T_7f5e3_row7_col0, #T_7f5e3_row8_col0, #T_7f5e3_row9_col0, #T_7f5e3_row10_col0 {\n",
       "  background-color: #ff0000;\n",
       "  color: #f1f1f1;\n",
       "  color: black;\n",
       "}\n",
       "#T_7f5e3_row11_col0, #T_7f5e3_row12_col0 {\n",
       "  background-color: #ff0000;\n",
       "  color: #f1f1f1;\n",
       "}\n",
       "#T_7f5e3_row13_col0 {\n",
       "  background-color: #ff0101;\n",
       "  color: #f1f1f1;\n",
       "}\n",
       "#T_7f5e3_row14_col0 {\n",
       "  background-color: #ff0202;\n",
       "  color: #f1f1f1;\n",
       "}\n",
       "#T_7f5e3_row15_col0 {\n",
       "  background-color: #ff0606;\n",
       "  color: #f1f1f1;\n",
       "}\n",
       "#T_7f5e3_row16_col0 {\n",
       "  background-color: #ff0909;\n",
       "  color: #f1f1f1;\n",
       "}\n",
       "#T_7f5e3_row17_col0 {\n",
       "  background-color: #fe0a0a;\n",
       "  color: #f1f1f1;\n",
       "}\n",
       "#T_7f5e3_row18_col0 {\n",
       "  background-color: #fe1111;\n",
       "  color: #f1f1f1;\n",
       "}\n",
       "#T_7f5e3_row19_col0 {\n",
       "  background-color: #fe1616;\n",
       "  color: #f1f1f1;\n",
       "}\n",
       "#T_7f5e3_row20_col0 {\n",
       "  background-color: #fe1b1b;\n",
       "  color: #f1f1f1;\n",
       "}\n",
       "#T_7f5e3_row21_col0 {\n",
       "  background-color: #fd2626;\n",
       "  color: #f1f1f1;\n",
       "}\n",
       "#T_7f5e3_row22_col0 {\n",
       "  background-color: #fd3131;\n",
       "  color: #f1f1f1;\n",
       "}\n",
       "#T_7f5e3_row23_col0, #T_7f5e3_row24_col0 {\n",
       "  background-color: #fc3434;\n",
       "  color: #f1f1f1;\n",
       "}\n",
       "#T_7f5e3_row25_col0, #T_7f5e3_row26_col0 {\n",
       "  background-color: #fc3838;\n",
       "  color: #f1f1f1;\n",
       "}\n",
       "#T_7f5e3_row27_col0 {\n",
       "  background-color: #fc3d3d;\n",
       "  color: #f1f1f1;\n",
       "}\n",
       "#T_7f5e3_row28_col0 {\n",
       "  background-color: #fc4343;\n",
       "  color: #f1f1f1;\n",
       "}\n",
       "#T_7f5e3_row29_col0 {\n",
       "  background-color: #fb4848;\n",
       "  color: #f1f1f1;\n",
       "}\n",
       "#T_7f5e3_row30_col0 {\n",
       "  background-color: #fb4949;\n",
       "  color: #f1f1f1;\n",
       "}\n",
       "#T_7f5e3_row31_col0 {\n",
       "  background-color: #fb4d4d;\n",
       "  color: #f1f1f1;\n",
       "}\n",
       "#T_7f5e3_row32_col0 {\n",
       "  background-color: #f88787;\n",
       "  color: #f1f1f1;\n",
       "}\n",
       "#T_7f5e3_row33_col0 {\n",
       "  background-color: #f5cccc;\n",
       "  color: #000000;\n",
       "}\n",
       "#T_7f5e3_row34_col0 {\n",
       "  background-color: #f4dbdb;\n",
       "  color: #000000;\n",
       "}\n",
       "#T_7f5e3_row35_col0 {\n",
       "  background-color: #f4dddd;\n",
       "  color: #000000;\n",
       "}\n",
       "#T_7f5e3_row36_col0 {\n",
       "  background-color: #f3e4e4;\n",
       "  color: #000000;\n",
       "}\n",
       "#T_7f5e3_row37_col0 {\n",
       "  background-color: #f3e7e7;\n",
       "  color: #000000;\n",
       "}\n",
       "#T_7f5e3_row38_col0 {\n",
       "  background-color: #f3eaea;\n",
       "  color: #000000;\n",
       "}\n",
       "#T_7f5e3_row39_col0, #T_7f5e3_row40_col0 {\n",
       "  background-color: #f3f0f0;\n",
       "  color: #000000;\n",
       "}\n",
       "</style>\n",
       "<table id=\"T_7f5e3\">\n",
       "  <caption>Pourcentage of missing values for each Feauture in the dataset</caption>\n",
       "  <thead>\n",
       "    <tr>\n",
       "      <th class=\"blank level0\" >&nbsp;</th>\n",
       "      <th id=\"T_7f5e3_level0_col0\" class=\"col_heading level0 col0\" >Missing_Values</th>\n",
       "    </tr>\n",
       "    <tr>\n",
       "      <th class=\"index_name level0\" >Feature</th>\n",
       "      <th class=\"blank col0\" >&nbsp;</th>\n",
       "    </tr>\n",
       "  </thead>\n",
       "  <tbody>\n",
       "    <tr>\n",
       "      <th id=\"T_7f5e3_level0_row0\" class=\"row_heading level0 row0\" >TOILET_COUNT</th>\n",
       "      <td id=\"T_7f5e3_row0_col0\" class=\"data row0 col0\" >100.000000</td>\n",
       "    </tr>\n",
       "    <tr>\n",
       "      <th id=\"T_7f5e3_level0_row1\" class=\"row_heading level0 row1\" >GREENHOUSE_GAS_CONSUMPTION</th>\n",
       "      <td id=\"T_7f5e3_row1_col0\" class=\"data row1 col0\" >100.000000</td>\n",
       "    </tr>\n",
       "    <tr>\n",
       "      <th id=\"T_7f5e3_level0_row2\" class=\"row_heading level0 row2\" >PUBLICATION_END_DATE</th>\n",
       "      <td id=\"T_7f5e3_row2_col0\" class=\"data row2 col0\" >100.000000</td>\n",
       "    </tr>\n",
       "    <tr>\n",
       "      <th id=\"T_7f5e3_level0_row3\" class=\"row_heading level0 row3\" >AIR_CONDITIONING</th>\n",
       "      <td id=\"T_7f5e3_row3_col0\" class=\"data row3 col0\" >100.000000</td>\n",
       "    </tr>\n",
       "    <tr>\n",
       "      <th id=\"T_7f5e3_level0_row4\" class=\"row_heading level0 row4\" >FIREPLACE</th>\n",
       "      <td id=\"T_7f5e3_row4_col0\" class=\"data row4 col0\" >100.000000</td>\n",
       "    </tr>\n",
       "    <tr>\n",
       "      <th id=\"T_7f5e3_level0_row5\" class=\"row_heading level0 row5\" >CELLAR</th>\n",
       "      <td id=\"T_7f5e3_row5_col0\" class=\"data row5 col0\" >100.000000</td>\n",
       "    </tr>\n",
       "    <tr>\n",
       "      <th id=\"T_7f5e3_level0_row6\" class=\"row_heading level0 row6\" >LUNCHROOM_COUNT</th>\n",
       "      <td id=\"T_7f5e3_row6_col0\" class=\"data row6 col0\" >100.000000</td>\n",
       "    </tr>\n",
       "    <tr>\n",
       "      <th id=\"T_7f5e3_level0_row7\" class=\"row_heading level0 row7\" >BATHROOM_COUNT</th>\n",
       "      <td id=\"T_7f5e3_row7_col0\" class=\"data row7 col0\" >100.000000</td>\n",
       "    </tr>\n",
       "    <tr>\n",
       "      <th id=\"T_7f5e3_level0_row8\" class=\"row_heading level0 row8\" >BALCONY_SURFACE</th>\n",
       "      <td id=\"T_7f5e3_row8_col0\" class=\"data row8 col0\" >100.000000</td>\n",
       "    </tr>\n",
       "    <tr>\n",
       "      <th id=\"T_7f5e3_level0_row9\" class=\"row_heading level0 row9\" >BALCONY</th>\n",
       "      <td id=\"T_7f5e3_row9_col0\" class=\"data row9 col0\" >100.000000</td>\n",
       "    </tr>\n",
       "    <tr>\n",
       "      <th id=\"T_7f5e3_level0_row10\" class=\"row_heading level0 row10\" >ENERGY_CONSUMPTION</th>\n",
       "      <td id=\"T_7f5e3_row10_col0\" class=\"data row10 col0\" >100.000000</td>\n",
       "    </tr>\n",
       "    <tr>\n",
       "      <th id=\"T_7f5e3_level0_row11\" class=\"row_heading level0 row11\" >LAND_SURFACE</th>\n",
       "      <td id=\"T_7f5e3_row11_col0\" class=\"data row11 col0\" >99.860000</td>\n",
       "    </tr>\n",
       "    <tr>\n",
       "      <th id=\"T_7f5e3_level0_row12\" class=\"row_heading level0 row12\" >SWIMMING_POOL</th>\n",
       "      <td id=\"T_7f5e3_row12_col0\" class=\"data row12 col0\" >99.720000</td>\n",
       "    </tr>\n",
       "    <tr>\n",
       "      <th id=\"T_7f5e3_level0_row13\" class=\"row_heading level0 row13\" >GARDEN</th>\n",
       "      <td id=\"T_7f5e3_row13_col0\" class=\"data row13 col0\" >99.350000</td>\n",
       "    </tr>\n",
       "    <tr>\n",
       "      <th id=\"T_7f5e3_level0_row14\" class=\"row_heading level0 row14\" >TERRACE_SURFACE</th>\n",
       "      <td id=\"T_7f5e3_row14_col0\" class=\"data row14 col0\" >98.840000</td>\n",
       "    </tr>\n",
       "    <tr>\n",
       "      <th id=\"T_7f5e3_level0_row15\" class=\"row_heading level0 row15\" >DEPOSIT</th>\n",
       "      <td id=\"T_7f5e3_row15_col0\" class=\"data row15 col0\" >97.460000</td>\n",
       "    </tr>\n",
       "    <tr>\n",
       "      <th id=\"T_7f5e3_level0_row16\" class=\"row_heading level0 row16\" >TERRACE</th>\n",
       "      <td id=\"T_7f5e3_row16_col0\" class=\"data row16 col0\" >96.030000</td>\n",
       "    </tr>\n",
       "    <tr>\n",
       "      <th id=\"T_7f5e3_level0_row17\" class=\"row_heading level0 row17\" >FEES</th>\n",
       "      <td id=\"T_7f5e3_row17_col0\" class=\"data row17 col0\" >95.660000</td>\n",
       "    </tr>\n",
       "    <tr>\n",
       "      <th id=\"T_7f5e3_level0_row18\" class=\"row_heading level0 row18\" >PARKING_COUNT</th>\n",
       "      <td id=\"T_7f5e3_row18_col0\" class=\"data row18 col0\" >92.740000</td>\n",
       "    </tr>\n",
       "    <tr>\n",
       "      <th id=\"T_7f5e3_level0_row19\" class=\"row_heading level0 row19\" >AGENCIES_UNWANTED</th>\n",
       "      <td id=\"T_7f5e3_row19_col0\" class=\"data row19 col0\" >90.710000</td>\n",
       "    </tr>\n",
       "    <tr>\n",
       "      <th id=\"T_7f5e3_level0_row20\" class=\"row_heading level0 row20\" >CARETAKER</th>\n",
       "      <td id=\"T_7f5e3_row20_col0\" class=\"data row20 col0\" >88.590000</td>\n",
       "    </tr>\n",
       "    <tr>\n",
       "      <th id=\"T_7f5e3_level0_row21\" class=\"row_heading level0 row21\" >LAST_PRICE_DECREASE_DATE</th>\n",
       "      <td id=\"T_7f5e3_row21_col0\" class=\"data row21 col0\" >84.290000</td>\n",
       "    </tr>\n",
       "    <tr>\n",
       "      <th id=\"T_7f5e3_level0_row22\" class=\"row_heading level0 row22\" >RENTAL_EXPENSES</th>\n",
       "      <td id=\"T_7f5e3_row22_col0\" class=\"data row22 col0\" >79.620000</td>\n",
       "    </tr>\n",
       "    <tr>\n",
       "      <th id=\"T_7f5e3_level0_row23\" class=\"row_heading level0 row23\" >FLOOR_COUNT</th>\n",
       "      <td id=\"T_7f5e3_row23_col0\" class=\"data row23 col0\" >78.510000</td>\n",
       "    </tr>\n",
       "    <tr>\n",
       "      <th id=\"T_7f5e3_level0_row24\" class=\"row_heading level0 row24\" >FURNISHED</th>\n",
       "      <td id=\"T_7f5e3_row24_col0\" class=\"data row24 col0\" >78.420000</td>\n",
       "    </tr>\n",
       "    <tr>\n",
       "      <th id=\"T_7f5e3_level0_row25\" class=\"row_heading level0 row25\" >CONSTRUCTION_YEAR</th>\n",
       "      <td id=\"T_7f5e3_row25_col0\" class=\"data row25 col0\" >76.760000</td>\n",
       "    </tr>\n",
       "    <tr>\n",
       "      <th id=\"T_7f5e3_level0_row26\" class=\"row_heading level0 row26\" >FEES_INCLUDED</th>\n",
       "      <td id=\"T_7f5e3_row26_col0\" class=\"data row26 col0\" >76.390000</td>\n",
       "    </tr>\n",
       "    <tr>\n",
       "      <th id=\"T_7f5e3_level0_row27\" class=\"row_heading level0 row27\" >ELEVATOR</th>\n",
       "      <td id=\"T_7f5e3_row27_col0\" class=\"data row27 col0\" >74.490000</td>\n",
       "    </tr>\n",
       "    <tr>\n",
       "      <th id=\"T_7f5e3_level0_row28\" class=\"row_heading level0 row28\" >RENTAL_EXPENSES_INCLUDED</th>\n",
       "      <td id=\"T_7f5e3_row28_col0\" class=\"data row28 col0\" >72.270000</td>\n",
       "    </tr>\n",
       "    <tr>\n",
       "      <th id=\"T_7f5e3_level0_row29\" class=\"row_heading level0 row29\" >HEATING_MODE</th>\n",
       "      <td id=\"T_7f5e3_row29_col0\" class=\"data row29 col0\" >69.820000</td>\n",
       "    </tr>\n",
       "    <tr>\n",
       "      <th id=\"T_7f5e3_level0_row30\" class=\"row_heading level0 row30\" >FLOOR</th>\n",
       "      <td id=\"T_7f5e3_row30_col0\" class=\"data row30 col0\" >69.500000</td>\n",
       "    </tr>\n",
       "    <tr>\n",
       "      <th id=\"T_7f5e3_level0_row31\" class=\"row_heading level0 row31\" >BEDROOM_COUNT</th>\n",
       "      <td id=\"T_7f5e3_row31_col0\" class=\"data row31 col0\" >67.840000</td>\n",
       "    </tr>\n",
       "    <tr>\n",
       "      <th id=\"T_7f5e3_level0_row32\" class=\"row_heading level0 row32\" >OCCUPIED</th>\n",
       "      <td id=\"T_7f5e3_row32_col0\" class=\"data row32 col0\" >44.130000</td>\n",
       "    </tr>\n",
       "    <tr>\n",
       "      <th id=\"T_7f5e3_level0_row33\" class=\"row_heading level0 row33\" >ROOM_COUNT</th>\n",
       "      <td id=\"T_7f5e3_row33_col0\" class=\"data row33 col0\" >15.200000</td>\n",
       "    </tr>\n",
       "    <tr>\n",
       "      <th id=\"T_7f5e3_level0_row34\" class=\"row_heading level0 row34\" >NEW_BUILD</th>\n",
       "      <td id=\"T_7f5e3_row34_col0\" class=\"data row34 col0\" >8.830000</td>\n",
       "    </tr>\n",
       "    <tr>\n",
       "      <th id=\"T_7f5e3_level0_row35\" class=\"row_heading level0 row35\" >PRICE_M2</th>\n",
       "      <td id=\"T_7f5e3_row35_col0\" class=\"data row35 col0\" >7.990000</td>\n",
       "    </tr>\n",
       "    <tr>\n",
       "      <th id=\"T_7f5e3_level0_row36\" class=\"row_heading level0 row36\" >SURFACE</th>\n",
       "      <td id=\"T_7f5e3_row36_col0\" class=\"data row36 col0\" >5.270000</td>\n",
       "    </tr>\n",
       "    <tr>\n",
       "      <th id=\"T_7f5e3_level0_row37\" class=\"row_heading level0 row37\" >DEALER_NAME</th>\n",
       "      <td id=\"T_7f5e3_row37_col0\" class=\"data row37 col0\" >4.020000</td>\n",
       "    </tr>\n",
       "    <tr>\n",
       "      <th id=\"T_7f5e3_level0_row38\" class=\"row_heading level0 row38\" >PRICE</th>\n",
       "      <td id=\"T_7f5e3_row38_col0\" class=\"data row38 col0\" >2.770000</td>\n",
       "    </tr>\n",
       "    <tr>\n",
       "      <th id=\"T_7f5e3_level0_row39\" class=\"row_heading level0 row39\" >DESCRIPTION</th>\n",
       "      <td id=\"T_7f5e3_row39_col0\" class=\"data row39 col0\" >0.180000</td>\n",
       "    </tr>\n",
       "    <tr>\n",
       "      <th id=\"T_7f5e3_level0_row40\" class=\"row_heading level0 row40\" >ZIP_CODE</th>\n",
       "      <td id=\"T_7f5e3_row40_col0\" class=\"data row40 col0\" >0.050000</td>\n",
       "    </tr>\n",
       "  </tbody>\n",
       "</table>\n"
      ],
      "text/plain": [
       "<pandas.io.formats.style.Styler at 0x7f466c0e36d0>"
      ]
     },
     "execution_count": 3,
     "metadata": {},
     "output_type": "execute_result"
    }
   ],
   "source": [
    "def style_max(v, props=''):\n",
    "    return props if v==100 else None\n",
    "\n",
    "def show_na(df):\n",
    "    na_cols = (pd.Series(df.isna().sum()/len(df.index)*100).reset_index().\n",
    "        rename(columns={'index':'Feature',0:'Missing_Values'}).\n",
    "        sort_values(by=['Missing_Values'], ascending=[False]))\n",
    "    na_cols[\"Missing_Values\"] = na_cols.apply(lambda row: round(row[\"Missing_Values\"],2), axis=1)\n",
    "    na_cols=na_cols[na_cols[\"Missing_Values\"]>0]\n",
    "    na_cols = na_cols.set_index('Feature')\n",
    "\n",
    "    return na_cols\n",
    "\n",
    "cm = sns.light_palette(\"red\", as_cmap=True)\n",
    "\n",
    "nas_stat = show_na(df)\n",
    "nas_stat.style.set_caption(\"Pourcentage of missing values for each Feauture in the dataset\")\\\n",
    "              .background_gradient(cmap=cm).applymap(style_max, props='color:black;')\n"
   ]
  },
  {
   "cell_type": "code",
   "execution_count": 4,
   "metadata": {},
   "outputs": [],
   "source": [
    "empty_columns = nas_stat[nas_stat[\"Missing_Values\"]==100].index\n",
    "df.drop(columns=empty_columns, inplace=True)"
   ]
  },
  {
   "cell_type": "code",
   "execution_count": 5,
   "metadata": {
    "scrolled": true
   },
   "outputs": [
    {
     "data": {
      "text/html": [
       "<style type=\"text/css\">\n",
       "#T_de0a4_row0_col0, #T_de0a4_row1_col0, #T_de0a4_row2_col0 {\n",
       "  background-color: green;\n",
       "  color: white;\n",
       "}\n",
       "#T_de0a4_row43_col0, #T_de0a4_row44_col0, #T_de0a4_row45_col0 {\n",
       "  background-color: red;\n",
       "  color: white;\n",
       "}\n",
       "</style>\n",
       "<table id=\"T_de0a4\">\n",
       "  <caption>Cardinality of each feature in the dataset</caption>\n",
       "  <thead>\n",
       "    <tr>\n",
       "      <th class=\"blank level0\" >&nbsp;</th>\n",
       "      <th id=\"T_de0a4_level0_col0\" class=\"col_heading level0 col0\" >Cardinality</th>\n",
       "    </tr>\n",
       "    <tr>\n",
       "      <th class=\"index_name level0\" >Feature</th>\n",
       "      <th class=\"blank col0\" >&nbsp;</th>\n",
       "    </tr>\n",
       "  </thead>\n",
       "  <tbody>\n",
       "    <tr>\n",
       "      <th id=\"T_de0a4_level0_row0\" class=\"row_heading level0 row0\" >ID</th>\n",
       "      <td id=\"T_de0a4_row0_col0\" class=\"data row0 col0\" >2164</td>\n",
       "    </tr>\n",
       "    <tr>\n",
       "      <th id=\"T_de0a4_level0_row1\" class=\"row_heading level0 row1\" >URL</th>\n",
       "      <td id=\"T_de0a4_row1_col0\" class=\"data row1 col0\" >2164</td>\n",
       "    </tr>\n",
       "    <tr>\n",
       "      <th id=\"T_de0a4_level0_row2\" class=\"row_heading level0 row2\" >LAST_CRAWL_DATE</th>\n",
       "      <td id=\"T_de0a4_row2_col0\" class=\"data row2 col0\" >2164</td>\n",
       "    </tr>\n",
       "    <tr>\n",
       "      <th id=\"T_de0a4_level0_row3\" class=\"row_heading level0 row3\" >PUBLICATION_START_DATE</th>\n",
       "      <td id=\"T_de0a4_row3_col0\" class=\"data row3 col0\" >2103</td>\n",
       "    </tr>\n",
       "    <tr>\n",
       "      <th id=\"T_de0a4_level0_row4\" class=\"row_heading level0 row4\" >IMAGES</th>\n",
       "      <td id=\"T_de0a4_row4_col0\" class=\"data row4 col0\" >1947</td>\n",
       "    </tr>\n",
       "    <tr>\n",
       "      <th id=\"T_de0a4_level0_row5\" class=\"row_heading level0 row5\" >DESCRIPTION</th>\n",
       "      <td id=\"T_de0a4_row5_col0\" class=\"data row5 col0\" >1915</td>\n",
       "    </tr>\n",
       "    <tr>\n",
       "      <th id=\"T_de0a4_level0_row6\" class=\"row_heading level0 row6\" >PRICE_EVENTS</th>\n",
       "      <td id=\"T_de0a4_row6_col0\" class=\"data row6 col0\" >1733</td>\n",
       "    </tr>\n",
       "    <tr>\n",
       "      <th id=\"T_de0a4_level0_row7\" class=\"row_heading level0 row7\" >PRICE_M2</th>\n",
       "      <td id=\"T_de0a4_row7_col0\" class=\"data row7 col0\" >998</td>\n",
       "    </tr>\n",
       "    <tr>\n",
       "      <th id=\"T_de0a4_level0_row8\" class=\"row_heading level0 row8\" >PRICE</th>\n",
       "      <td id=\"T_de0a4_row8_col0\" class=\"data row8 col0\" >765</td>\n",
       "    </tr>\n",
       "    <tr>\n",
       "      <th id=\"T_de0a4_level0_row9\" class=\"row_heading level0 row9\" >DEALER_NAME</th>\n",
       "      <td id=\"T_de0a4_row9_col0\" class=\"data row9 col0\" >554</td>\n",
       "    </tr>\n",
       "    <tr>\n",
       "      <th id=\"T_de0a4_level0_row10\" class=\"row_heading level0 row10\" >SURFACE</th>\n",
       "      <td id=\"T_de0a4_row10_col0\" class=\"data row10 col0\" >455</td>\n",
       "    </tr>\n",
       "    <tr>\n",
       "      <th id=\"T_de0a4_level0_row11\" class=\"row_heading level0 row11\" >LAST_PRICE_DECREASE_DATE</th>\n",
       "      <td id=\"T_de0a4_row11_col0\" class=\"data row11 col0\" >146</td>\n",
       "    </tr>\n",
       "    <tr>\n",
       "      <th id=\"T_de0a4_level0_row12\" class=\"row_heading level0 row12\" >RENTAL_EXPENSES</th>\n",
       "      <td id=\"T_de0a4_row12_col0\" class=\"data row12 col0\" >130</td>\n",
       "    </tr>\n",
       "    <tr>\n",
       "      <th id=\"T_de0a4_level0_row13\" class=\"row_heading level0 row13\" >FEES</th>\n",
       "      <td id=\"T_de0a4_row13_col0\" class=\"data row13 col0\" >72</td>\n",
       "    </tr>\n",
       "    <tr>\n",
       "      <th id=\"T_de0a4_level0_row14\" class=\"row_heading level0 row14\" >CONSTRUCTION_YEAR</th>\n",
       "      <td id=\"T_de0a4_row14_col0\" class=\"data row14 col0\" >49</td>\n",
       "    </tr>\n",
       "    <tr>\n",
       "      <th id=\"T_de0a4_level0_row15\" class=\"row_heading level0 row15\" >DEPOSIT</th>\n",
       "      <td id=\"T_de0a4_row15_col0\" class=\"data row15 col0\" >45</td>\n",
       "    </tr>\n",
       "    <tr>\n",
       "      <th id=\"T_de0a4_level0_row16\" class=\"row_heading level0 row16\" >TERRACE_SURFACE</th>\n",
       "      <td id=\"T_de0a4_row16_col0\" class=\"data row16 col0\" >19</td>\n",
       "    </tr>\n",
       "    <tr>\n",
       "      <th id=\"T_de0a4_level0_row17\" class=\"row_heading level0 row17\" >FLOOR_COUNT</th>\n",
       "      <td id=\"T_de0a4_row17_col0\" class=\"data row17 col0\" >17</td>\n",
       "    </tr>\n",
       "    <tr>\n",
       "      <th id=\"T_de0a4_level0_row18\" class=\"row_heading level0 row18\" >FLOOR</th>\n",
       "      <td id=\"T_de0a4_row18_col0\" class=\"data row18 col0\" >13</td>\n",
       "    </tr>\n",
       "    <tr>\n",
       "      <th id=\"T_de0a4_level0_row19\" class=\"row_heading level0 row19\" >CRAWL_SOURCE</th>\n",
       "      <td id=\"T_de0a4_row19_col0\" class=\"data row19 col0\" >13</td>\n",
       "    </tr>\n",
       "    <tr>\n",
       "      <th id=\"T_de0a4_level0_row20\" class=\"row_heading level0 row20\" >ROOM_COUNT</th>\n",
       "      <td id=\"T_de0a4_row20_col0\" class=\"data row20 col0\" >12</td>\n",
       "    </tr>\n",
       "    <tr>\n",
       "      <th id=\"T_de0a4_level0_row21\" class=\"row_heading level0 row21\" >PARKING_COUNT</th>\n",
       "      <td id=\"T_de0a4_row21_col0\" class=\"data row21 col0\" >9</td>\n",
       "    </tr>\n",
       "    <tr>\n",
       "      <th id=\"T_de0a4_level0_row22\" class=\"row_heading level0 row22\" >BEDROOM_COUNT</th>\n",
       "      <td id=\"T_de0a4_row22_col0\" class=\"data row22 col0\" >8</td>\n",
       "    </tr>\n",
       "    <tr>\n",
       "      <th id=\"T_de0a4_level0_row23\" class=\"row_heading level0 row23\" >HEATING_TYPES</th>\n",
       "      <td id=\"T_de0a4_row23_col0\" class=\"data row23 col0\" >5</td>\n",
       "    </tr>\n",
       "    <tr>\n",
       "      <th id=\"T_de0a4_level0_row24\" class=\"row_heading level0 row24\" >PROPERTY_TYPE</th>\n",
       "      <td id=\"T_de0a4_row24_col0\" class=\"data row24 col0\" >5</td>\n",
       "    </tr>\n",
       "    <tr>\n",
       "      <th id=\"T_de0a4_level0_row25\" class=\"row_heading level0 row25\" >HEATING_MODE</th>\n",
       "      <td id=\"T_de0a4_row25_col0\" class=\"data row25 col0\" >4</td>\n",
       "    </tr>\n",
       "    <tr>\n",
       "      <th id=\"T_de0a4_level0_row26\" class=\"row_heading level0 row26\" >NEW_BUILD</th>\n",
       "      <td id=\"T_de0a4_row26_col0\" class=\"data row26 col0\" >3</td>\n",
       "    </tr>\n",
       "    <tr>\n",
       "      <th id=\"T_de0a4_level0_row27\" class=\"row_heading level0 row27\" >OCCUPIED</th>\n",
       "      <td id=\"T_de0a4_row27_col0\" class=\"data row27 col0\" >3</td>\n",
       "    </tr>\n",
       "    <tr>\n",
       "      <th id=\"T_de0a4_level0_row28\" class=\"row_heading level0 row28\" >DEALER_TYPE</th>\n",
       "      <td id=\"T_de0a4_row28_col0\" class=\"data row28 col0\" >3</td>\n",
       "    </tr>\n",
       "    <tr>\n",
       "      <th id=\"T_de0a4_level0_row29\" class=\"row_heading level0 row29\" >AGENCIES_UNWANTED</th>\n",
       "      <td id=\"T_de0a4_row29_col0\" class=\"data row29 col0\" >3</td>\n",
       "    </tr>\n",
       "    <tr>\n",
       "      <th id=\"T_de0a4_level0_row30\" class=\"row_heading level0 row30\" >FEES_INCLUDED</th>\n",
       "      <td id=\"T_de0a4_row30_col0\" class=\"data row30 col0\" >3</td>\n",
       "    </tr>\n",
       "    <tr>\n",
       "      <th id=\"T_de0a4_level0_row31\" class=\"row_heading level0 row31\" >FURNISHED</th>\n",
       "      <td id=\"T_de0a4_row31_col0\" class=\"data row31 col0\" >3</td>\n",
       "    </tr>\n",
       "    <tr>\n",
       "      <th id=\"T_de0a4_level0_row32\" class=\"row_heading level0 row32\" >RENTAL_EXPENSES_INCLUDED</th>\n",
       "      <td id=\"T_de0a4_row32_col0\" class=\"data row32 col0\" >3</td>\n",
       "    </tr>\n",
       "    <tr>\n",
       "      <th id=\"T_de0a4_level0_row33\" class=\"row_heading level0 row33\" >LAND_SURFACE</th>\n",
       "      <td id=\"T_de0a4_row33_col0\" class=\"data row33 col0\" >3</td>\n",
       "    </tr>\n",
       "    <tr>\n",
       "      <th id=\"T_de0a4_level0_row34\" class=\"row_heading level0 row34\" >CARETAKER</th>\n",
       "      <td id=\"T_de0a4_row34_col0\" class=\"data row34 col0\" >3</td>\n",
       "    </tr>\n",
       "    <tr>\n",
       "      <th id=\"T_de0a4_level0_row35\" class=\"row_heading level0 row35\" >ELEVATOR</th>\n",
       "      <td id=\"T_de0a4_row35_col0\" class=\"data row35 col0\" >3</td>\n",
       "    </tr>\n",
       "    <tr>\n",
       "      <th id=\"T_de0a4_level0_row36\" class=\"row_heading level0 row36\" >GARDEN</th>\n",
       "      <td id=\"T_de0a4_row36_col0\" class=\"data row36 col0\" >2</td>\n",
       "    </tr>\n",
       "    <tr>\n",
       "      <th id=\"T_de0a4_level0_row37\" class=\"row_heading level0 row37\" >EXCLUSIVE_MANDATE</th>\n",
       "      <td id=\"T_de0a4_row37_col0\" class=\"data row37 col0\" >2</td>\n",
       "    </tr>\n",
       "    <tr>\n",
       "      <th id=\"T_de0a4_level0_row38\" class=\"row_heading level0 row38\" >MARKETING_TYPE</th>\n",
       "      <td id=\"T_de0a4_row38_col0\" class=\"data row38 col0\" >2</td>\n",
       "    </tr>\n",
       "    <tr>\n",
       "      <th id=\"T_de0a4_level0_row39\" class=\"row_heading level0 row39\" >PARKING</th>\n",
       "      <td id=\"T_de0a4_row39_col0\" class=\"data row39 col0\" >2</td>\n",
       "    </tr>\n",
       "    <tr>\n",
       "      <th id=\"T_de0a4_level0_row40\" class=\"row_heading level0 row40\" >ZIP_CODE</th>\n",
       "      <td id=\"T_de0a4_row40_col0\" class=\"data row40 col0\" >2</td>\n",
       "    </tr>\n",
       "    <tr>\n",
       "      <th id=\"T_de0a4_level0_row41\" class=\"row_heading level0 row41\" >TERRACE</th>\n",
       "      <td id=\"T_de0a4_row41_col0\" class=\"data row41 col0\" >2</td>\n",
       "    </tr>\n",
       "    <tr>\n",
       "      <th id=\"T_de0a4_level0_row42\" class=\"row_heading level0 row42\" >SWIMMING_POOL</th>\n",
       "      <td id=\"T_de0a4_row42_col0\" class=\"data row42 col0\" >2</td>\n",
       "    </tr>\n",
       "    <tr>\n",
       "      <th id=\"T_de0a4_level0_row43\" class=\"row_heading level0 row43\" >CITY_ID</th>\n",
       "      <td id=\"T_de0a4_row43_col0\" class=\"data row43 col0\" >1</td>\n",
       "    </tr>\n",
       "    <tr>\n",
       "      <th id=\"T_de0a4_level0_row44\" class=\"row_heading level0 row44\" >CITY</th>\n",
       "      <td id=\"T_de0a4_row44_col0\" class=\"data row44 col0\" >1</td>\n",
       "    </tr>\n",
       "    <tr>\n",
       "      <th id=\"T_de0a4_level0_row45\" class=\"row_heading level0 row45\" >DEPT_CODE</th>\n",
       "      <td id=\"T_de0a4_row45_col0\" class=\"data row45 col0\" >1</td>\n",
       "    </tr>\n",
       "  </tbody>\n",
       "</table>\n"
      ],
      "text/plain": [
       "<pandas.io.formats.style.Styler at 0x7f4606870fa0>"
      ]
     },
     "execution_count": 5,
     "metadata": {},
     "output_type": "execute_result"
    }
   ],
   "source": [
    "\n",
    "def style_unique(v, props='', n=2164):\n",
    "    return props if v==n else None\n",
    "\n",
    "def style_constant(v, props=''):\n",
    "    return props if v==1 else None\n",
    "\n",
    "def show_card(df):\n",
    "    df = (pd.Series({feature: len(df[feature].unique()) for feature in df.columns})\n",
    "                        .reset_index().rename(columns={'index':'Feature',0:'Cardinality'}))\n",
    "    df =df.set_index('Feature')\n",
    "    return df.sort_values(by ='Cardinality', ascending=False )\n",
    "\n",
    "card_stat = show_card(df)\n",
    "card_stat.style.set_caption(\"Cardinality of each feature in the dataset\").applymap(style_constant, props='background-color:red;color:white')\\\n",
    "    .applymap(style_unique, props='background-color:green;color:white', n=len(df))"
   ]
  },
  {
   "cell_type": "code",
   "execution_count": 6,
   "metadata": {},
   "outputs": [],
   "source": [
    "def download_image(url):\n",
    "    response = requests.get(url)\n",
    "    img = Image.open(BytesIO(response.content))\n",
    "    return img"
   ]
  },
  {
   "cell_type": "code",
   "execution_count": 7,
   "metadata": {},
   "outputs": [],
   "source": [
    "def generate_unique_identifier(input_string):\n",
    "    # Using SHA256 as the hashing algorithm\n",
    "    hash_object = hashlib.sha256(input_string.encode())\n",
    "    unique_identifier = hash_object.hexdigest()\n",
    "    return unique_identifier\n",
    "\n",
    "def download_df_images_locally(df, images_column_name = \"IMAGES\", id_column_name = \"ID\", export_path =\"data/images/\" ):\n",
    "\n",
    "    for i, row in tqdm(df.iterrows(), total=df.shape[0]):\n",
    "\n",
    "        # parsing the array\n",
    "        array_urls = json.loads(row[images_column_name])\n",
    "\n",
    "\n",
    "        directory = f\"{export_path}{row[id_column_name]}\"\n",
    "\n",
    "        if not os.path.exists(directory):\n",
    "            os.makedirs(directory)\n",
    "\n",
    "        # downloading the images\n",
    "        for j, url in enumerate(array_urls):\n",
    "            try : \n",
    "                img_name = generate_unique_identifier(url)\n",
    "                save_image_path = f\"{directory}/{img_name}.png\"\n",
    "                if os.path.exists(save_image_path):\n",
    "                    continue\n",
    "                else:\n",
    "                    img = download_image(url)\n",
    "                    img.save(save_image_path)                \n",
    "            except Exception as e :\n",
    "                continue\n",
    "    \n",
    "\n"
   ]
  },
  {
   "cell_type": "code",
   "execution_count": 8,
   "metadata": {},
   "outputs": [],
   "source": [
    "# download_df_images_locally(df)"
   ]
  },
  {
   "attachments": {},
   "cell_type": "markdown",
   "metadata": {},
   "source": [
    "### ii. dataset cleaning"
   ]
  },
  {
   "cell_type": "code",
   "execution_count": 9,
   "metadata": {},
   "outputs": [],
   "source": [
    "## Droping constant columns : "
   ]
  },
  {
   "cell_type": "code",
   "execution_count": 10,
   "metadata": {},
   "outputs": [],
   "source": [
    "df.drop(columns = [\"CITY_ID\", \"CITY\", \"DEPT_CODE\"], axis=1, inplace=True)"
   ]
  },
  {
   "cell_type": "code",
   "execution_count": 11,
   "metadata": {},
   "outputs": [],
   "source": [
    "## Parsing Heating Types"
   ]
  },
  {
   "cell_type": "code",
   "execution_count": 12,
   "metadata": {},
   "outputs": [
    {
     "name": "stdout",
     "output_type": "stream",
     "text": [
      "Unique Heating Types are :  ['ELECTRIC', 'GAS', 'ELECTRIC', 'UNDERFLOOR', 'FUEL']\n"
     ]
    }
   ],
   "source": [
    "heating_types = []\n",
    "for value in df[\"HEATING_TYPES\"].unique():\n",
    "    heating_array = json.loads(value)\n",
    "    heating_types.extend(heating_array)\n",
    "print(\"Unique Heating Types are : \", heating_types)\n",
    "def parse_heating_type(row, heating_types):\n",
    "    for heating_type in heating_types:\n",
    "        if heating_type in row[\"HEATING_TYPES\"]:\n",
    "            row[heating_type]=1\n",
    "        else:\n",
    "            row[heating_type]=0\n",
    "    return row\n",
    "df = df.apply(lambda row : parse_heating_type(row, heating_types=heating_types), axis=1)"
   ]
  },
  {
   "cell_type": "code",
   "execution_count": 13,
   "metadata": {},
   "outputs": [],
   "source": [
    "## Adding the number of listed images and number of downloaded images"
   ]
  },
  {
   "cell_type": "code",
   "execution_count": 14,
   "metadata": {},
   "outputs": [],
   "source": [
    "def count_urls(urls):\n",
    "    array_urls = json.loads(urls)\n",
    "    return len(array_urls)\n",
    "\n",
    "def count_images(id, data_path = \"data/images/\"):\n",
    "    \n",
    "    list_images = glob.glob( f\"{data_path}{id}/*png\")\n",
    "    return len(list_images)\n",
    "\n",
    "df[\"NUMBER_URL_IMAGES\"]=df.apply(lambda row : count_urls(row[\"IMAGES\"]), axis = 1)\n",
    "df[\"NUMBER_VALID_IMAGES\"]=df.apply(lambda row : count_images(row[\"ID\"]), axis = 1)"
   ]
  },
  {
   "cell_type": "code",
   "execution_count": 15,
   "metadata": {},
   "outputs": [
    {
     "data": {
      "text/html": [
       "<pre style=\"white-space:pre;overflow-x:auto;line-height:normal;font-family:Menlo,'DejaVu Sans Mono',consolas,'Courier New',monospace\">Unique Values for    <span style=\"color: #008080; text-decoration-color: #008080; font-weight: bold\">SWIMMING_POOL</span> :  <span style=\"font-weight: bold\">[</span>nan  <span style=\"color: #008080; text-decoration-color: #008080; font-weight: bold\">1</span>.<span style=\"font-weight: bold\">]</span>\n",
       "</pre>\n"
      ],
      "text/plain": [
       "Unique Values for    \u001b[1;36mSWIMMING_POOL\u001b[0m :  \u001b[1m[\u001b[0mnan  \u001b[1;36m1\u001b[0m.\u001b[1m]\u001b[0m\n"
      ]
     },
     "metadata": {},
     "output_type": "display_data"
    },
    {
     "data": {
      "text/html": [
       "<pre style=\"white-space:pre;overflow-x:auto;line-height:normal;font-family:Menlo,'DejaVu Sans Mono',consolas,'Courier New',monospace\">Number of offers with <span style=\"color: #008080; text-decoration-color: #008080; font-weight: bold\">SWIMMING_POOL</span> :  <span style=\"color: #008080; text-decoration-color: #008080; font-weight: bold\">6.0</span>\n",
       "</pre>\n"
      ],
      "text/plain": [
       "Number of offers with \u001b[1;36mSWIMMING_POOL\u001b[0m :  \u001b[1;36m6.0\u001b[0m\n"
      ]
     },
     "metadata": {},
     "output_type": "display_data"
    },
    {
     "data": {
      "text/html": [
       "<pre style=\"white-space:pre;overflow-x:auto;line-height:normal;font-family:Menlo,'DejaVu Sans Mono',consolas,'Courier New',monospace\">Unique Values for    <span style=\"color: #008080; text-decoration-color: #008080; font-weight: bold\">NEW_BUILD</span> :  <span style=\"font-weight: bold\">[</span><span style=\"color: #ff0000; text-decoration-color: #ff0000; font-style: italic\">False</span> nan <span style=\"color: #00ff00; text-decoration-color: #00ff00; font-style: italic\">True</span><span style=\"font-weight: bold\">]</span>\n",
       "</pre>\n"
      ],
      "text/plain": [
       "Unique Values for    \u001b[1;36mNEW_BUILD\u001b[0m :  \u001b[1m[\u001b[0m\u001b[3;91mFalse\u001b[0m nan \u001b[3;92mTrue\u001b[0m\u001b[1m]\u001b[0m\n"
      ]
     },
     "metadata": {},
     "output_type": "display_data"
    },
    {
     "data": {
      "text/html": [
       "<pre style=\"white-space:pre;overflow-x:auto;line-height:normal;font-family:Menlo,'DejaVu Sans Mono',consolas,'Courier New',monospace\">Number of offers with <span style=\"color: #008080; text-decoration-color: #008080; font-weight: bold\">NEW_BUILD</span> :  <span style=\"color: #008080; text-decoration-color: #008080; font-weight: bold\">103</span>\n",
       "</pre>\n"
      ],
      "text/plain": [
       "Number of offers with \u001b[1;36mNEW_BUILD\u001b[0m :  \u001b[1;36m103\u001b[0m\n"
      ]
     },
     "metadata": {},
     "output_type": "display_data"
    },
    {
     "data": {
      "text/html": [
       "<pre style=\"white-space:pre;overflow-x:auto;line-height:normal;font-family:Menlo,'DejaVu Sans Mono',consolas,'Courier New',monospace\">Unique Values for    <span style=\"color: #008080; text-decoration-color: #008080; font-weight: bold\">FURNISHED</span> :  <span style=\"font-weight: bold\">[</span><span style=\"color: #ff0000; text-decoration-color: #ff0000; font-style: italic\">False</span> nan <span style=\"color: #00ff00; text-decoration-color: #00ff00; font-style: italic\">True</span><span style=\"font-weight: bold\">]</span>\n",
       "</pre>\n"
      ],
      "text/plain": [
       "Unique Values for    \u001b[1;36mFURNISHED\u001b[0m :  \u001b[1m[\u001b[0m\u001b[3;91mFalse\u001b[0m nan \u001b[3;92mTrue\u001b[0m\u001b[1m]\u001b[0m\n"
      ]
     },
     "metadata": {},
     "output_type": "display_data"
    },
    {
     "data": {
      "text/html": [
       "<pre style=\"white-space:pre;overflow-x:auto;line-height:normal;font-family:Menlo,'DejaVu Sans Mono',consolas,'Courier New',monospace\">Number of offers with <span style=\"color: #008080; text-decoration-color: #008080; font-weight: bold\">FURNISHED</span> :  <span style=\"color: #008080; text-decoration-color: #008080; font-weight: bold\">213</span>\n",
       "</pre>\n"
      ],
      "text/plain": [
       "Number of offers with \u001b[1;36mFURNISHED\u001b[0m :  \u001b[1;36m213\u001b[0m\n"
      ]
     },
     "metadata": {},
     "output_type": "display_data"
    },
    {
     "data": {
      "text/html": [
       "<pre style=\"white-space:pre;overflow-x:auto;line-height:normal;font-family:Menlo,'DejaVu Sans Mono',consolas,'Courier New',monospace\">Unique Values for    <span style=\"color: #008080; text-decoration-color: #008080; font-weight: bold\">GARDEN</span> :  <span style=\"font-weight: bold\">[</span>nan  <span style=\"color: #008080; text-decoration-color: #008080; font-weight: bold\">1</span>.<span style=\"font-weight: bold\">]</span>\n",
       "</pre>\n"
      ],
      "text/plain": [
       "Unique Values for    \u001b[1;36mGARDEN\u001b[0m :  \u001b[1m[\u001b[0mnan  \u001b[1;36m1\u001b[0m.\u001b[1m]\u001b[0m\n"
      ]
     },
     "metadata": {},
     "output_type": "display_data"
    },
    {
     "data": {
      "text/html": [
       "<pre style=\"white-space:pre;overflow-x:auto;line-height:normal;font-family:Menlo,'DejaVu Sans Mono',consolas,'Courier New',monospace\">Number of offers with <span style=\"color: #008080; text-decoration-color: #008080; font-weight: bold\">GARDEN</span> :  <span style=\"color: #008080; text-decoration-color: #008080; font-weight: bold\">14.0</span>\n",
       "</pre>\n"
      ],
      "text/plain": [
       "Number of offers with \u001b[1;36mGARDEN\u001b[0m :  \u001b[1;36m14.0\u001b[0m\n"
      ]
     },
     "metadata": {},
     "output_type": "display_data"
    },
    {
     "data": {
      "text/html": [
       "<pre style=\"white-space:pre;overflow-x:auto;line-height:normal;font-family:Menlo,'DejaVu Sans Mono',consolas,'Courier New',monospace\">Unique Values for    <span style=\"color: #008080; text-decoration-color: #008080; font-weight: bold\">PARKING</span> :  <span style=\"font-weight: bold\">[</span> <span style=\"color: #00ff00; text-decoration-color: #00ff00; font-style: italic\">True</span> <span style=\"color: #ff0000; text-decoration-color: #ff0000; font-style: italic\">False</span><span style=\"font-weight: bold\">]</span>\n",
       "</pre>\n"
      ],
      "text/plain": [
       "Unique Values for    \u001b[1;36mPARKING\u001b[0m :  \u001b[1m[\u001b[0m \u001b[3;92mTrue\u001b[0m \u001b[3;91mFalse\u001b[0m\u001b[1m]\u001b[0m\n"
      ]
     },
     "metadata": {},
     "output_type": "display_data"
    },
    {
     "data": {
      "text/html": [
       "<pre style=\"white-space:pre;overflow-x:auto;line-height:normal;font-family:Menlo,'DejaVu Sans Mono',consolas,'Courier New',monospace\">Number of offers with <span style=\"color: #008080; text-decoration-color: #008080; font-weight: bold\">PARKING</span> :  <span style=\"color: #008080; text-decoration-color: #008080; font-weight: bold\">157</span>\n",
       "</pre>\n"
      ],
      "text/plain": [
       "Number of offers with \u001b[1;36mPARKING\u001b[0m :  \u001b[1;36m157\u001b[0m\n"
      ]
     },
     "metadata": {},
     "output_type": "display_data"
    },
    {
     "data": {
      "text/html": [
       "<pre style=\"white-space:pre;overflow-x:auto;line-height:normal;font-family:Menlo,'DejaVu Sans Mono',consolas,'Courier New',monospace\">Unique Values for    <span style=\"color: #008080; text-decoration-color: #008080; font-weight: bold\">TERRACE</span> :  <span style=\"font-weight: bold\">[</span>nan  <span style=\"color: #008080; text-decoration-color: #008080; font-weight: bold\">1</span>.<span style=\"font-weight: bold\">]</span>\n",
       "</pre>\n"
      ],
      "text/plain": [
       "Unique Values for    \u001b[1;36mTERRACE\u001b[0m :  \u001b[1m[\u001b[0mnan  \u001b[1;36m1\u001b[0m.\u001b[1m]\u001b[0m\n"
      ]
     },
     "metadata": {},
     "output_type": "display_data"
    },
    {
     "data": {
      "text/html": [
       "<pre style=\"white-space:pre;overflow-x:auto;line-height:normal;font-family:Menlo,'DejaVu Sans Mono',consolas,'Courier New',monospace\">Number of offers with <span style=\"color: #008080; text-decoration-color: #008080; font-weight: bold\">TERRACE</span> :  <span style=\"color: #008080; text-decoration-color: #008080; font-weight: bold\">86.0</span>\n",
       "</pre>\n"
      ],
      "text/plain": [
       "Number of offers with \u001b[1;36mTERRACE\u001b[0m :  \u001b[1;36m86.0\u001b[0m\n"
      ]
     },
     "metadata": {},
     "output_type": "display_data"
    },
    {
     "data": {
      "text/html": [
       "<pre style=\"white-space:pre;overflow-x:auto;line-height:normal;font-family:Menlo,'DejaVu Sans Mono',consolas,'Courier New',monospace\">Unique Values for    <span style=\"color: #008080; text-decoration-color: #008080; font-weight: bold\">PARKING</span> :  <span style=\"font-weight: bold\">[</span> <span style=\"color: #00ff00; text-decoration-color: #00ff00; font-style: italic\">True</span> <span style=\"color: #ff0000; text-decoration-color: #ff0000; font-style: italic\">False</span><span style=\"font-weight: bold\">]</span>\n",
       "</pre>\n"
      ],
      "text/plain": [
       "Unique Values for    \u001b[1;36mPARKING\u001b[0m :  \u001b[1m[\u001b[0m \u001b[3;92mTrue\u001b[0m \u001b[3;91mFalse\u001b[0m\u001b[1m]\u001b[0m\n"
      ]
     },
     "metadata": {},
     "output_type": "display_data"
    },
    {
     "data": {
      "text/html": [
       "<pre style=\"white-space:pre;overflow-x:auto;line-height:normal;font-family:Menlo,'DejaVu Sans Mono',consolas,'Courier New',monospace\">Number of offers with <span style=\"color: #008080; text-decoration-color: #008080; font-weight: bold\">PARKING</span> :  <span style=\"color: #008080; text-decoration-color: #008080; font-weight: bold\">157</span>\n",
       "</pre>\n"
      ],
      "text/plain": [
       "Number of offers with \u001b[1;36mPARKING\u001b[0m :  \u001b[1;36m157\u001b[0m\n"
      ]
     },
     "metadata": {},
     "output_type": "display_data"
    },
    {
     "data": {
      "text/html": [
       "<pre style=\"white-space:pre;overflow-x:auto;line-height:normal;font-family:Menlo,'DejaVu Sans Mono',consolas,'Courier New',monospace\">Unique Values for    <span style=\"color: #008080; text-decoration-color: #008080; font-weight: bold\">ELEVATOR</span> :  <span style=\"font-weight: bold\">[</span><span style=\"color: #00ff00; text-decoration-color: #00ff00; font-style: italic\">True</span> nan <span style=\"color: #ff0000; text-decoration-color: #ff0000; font-style: italic\">False</span><span style=\"font-weight: bold\">]</span>\n",
       "</pre>\n"
      ],
      "text/plain": [
       "Unique Values for    \u001b[1;36mELEVATOR\u001b[0m :  \u001b[1m[\u001b[0m\u001b[3;92mTrue\u001b[0m nan \u001b[3;91mFalse\u001b[0m\u001b[1m]\u001b[0m\n"
      ]
     },
     "metadata": {},
     "output_type": "display_data"
    },
    {
     "data": {
      "text/html": [
       "<pre style=\"white-space:pre;overflow-x:auto;line-height:normal;font-family:Menlo,'DejaVu Sans Mono',consolas,'Courier New',monospace\">Number of offers with <span style=\"color: #008080; text-decoration-color: #008080; font-weight: bold\">ELEVATOR</span> :  <span style=\"color: #008080; text-decoration-color: #008080; font-weight: bold\">507</span>\n",
       "</pre>\n"
      ],
      "text/plain": [
       "Number of offers with \u001b[1;36mELEVATOR\u001b[0m :  \u001b[1;36m507\u001b[0m\n"
      ]
     },
     "metadata": {},
     "output_type": "display_data"
    },
    {
     "data": {
      "text/html": [
       "<pre style=\"white-space:pre;overflow-x:auto;line-height:normal;font-family:Menlo,'DejaVu Sans Mono',consolas,'Courier New',monospace\">Unique Values for    <span style=\"color: #008080; text-decoration-color: #008080; font-weight: bold\">CARETAKER</span> :  <span style=\"font-weight: bold\">[</span>nan <span style=\"color: #ff0000; text-decoration-color: #ff0000; font-style: italic\">False</span> <span style=\"color: #00ff00; text-decoration-color: #00ff00; font-style: italic\">True</span><span style=\"font-weight: bold\">]</span>\n",
       "</pre>\n"
      ],
      "text/plain": [
       "Unique Values for    \u001b[1;36mCARETAKER\u001b[0m :  \u001b[1m[\u001b[0mnan \u001b[3;91mFalse\u001b[0m \u001b[3;92mTrue\u001b[0m\u001b[1m]\u001b[0m\n"
      ]
     },
     "metadata": {},
     "output_type": "display_data"
    },
    {
     "data": {
      "text/html": [
       "<pre style=\"white-space:pre;overflow-x:auto;line-height:normal;font-family:Menlo,'DejaVu Sans Mono',consolas,'Courier New',monospace\">Number of offers with <span style=\"color: #008080; text-decoration-color: #008080; font-weight: bold\">CARETAKER</span> :  <span style=\"color: #008080; text-decoration-color: #008080; font-weight: bold\">147</span>\n",
       "</pre>\n"
      ],
      "text/plain": [
       "Number of offers with \u001b[1;36mCARETAKER\u001b[0m :  \u001b[1;36m147\u001b[0m\n"
      ]
     },
     "metadata": {},
     "output_type": "display_data"
    },
    {
     "data": {
      "text/html": [
       "<pre style=\"white-space:pre;overflow-x:auto;line-height:normal;font-family:Menlo,'DejaVu Sans Mono',consolas,'Courier New',monospace\">Unique Values for    <span style=\"color: #008080; text-decoration-color: #008080; font-weight: bold\">RENTAL_EXPENSES_INCLUDED</span> :  <span style=\"font-weight: bold\">[</span><span style=\"color: #00ff00; text-decoration-color: #00ff00; font-style: italic\">True</span> nan <span style=\"color: #ff0000; text-decoration-color: #ff0000; font-style: italic\">False</span><span style=\"font-weight: bold\">]</span>\n",
       "</pre>\n"
      ],
      "text/plain": [
       "Unique Values for    \u001b[1;36mRENTAL_EXPENSES_INCLUDED\u001b[0m :  \u001b[1m[\u001b[0m\u001b[3;92mTrue\u001b[0m nan \u001b[3;91mFalse\u001b[0m\u001b[1m]\u001b[0m\n"
      ]
     },
     "metadata": {},
     "output_type": "display_data"
    },
    {
     "data": {
      "text/html": [
       "<pre style=\"white-space:pre;overflow-x:auto;line-height:normal;font-family:Menlo,'DejaVu Sans Mono',consolas,'Courier New',monospace\">Number of offers with <span style=\"color: #008080; text-decoration-color: #008080; font-weight: bold\">RENTAL_EXPENSES_INCLUDED</span> :  <span style=\"color: #008080; text-decoration-color: #008080; font-weight: bold\">578</span>\n",
       "</pre>\n"
      ],
      "text/plain": [
       "Number of offers with \u001b[1;36mRENTAL_EXPENSES_INCLUDED\u001b[0m :  \u001b[1;36m578\u001b[0m\n"
      ]
     },
     "metadata": {},
     "output_type": "display_data"
    },
    {
     "data": {
      "text/html": [
       "<pre style=\"white-space:pre;overflow-x:auto;line-height:normal;font-family:Menlo,'DejaVu Sans Mono',consolas,'Courier New',monospace\">Unique Values for    <span style=\"color: #008080; text-decoration-color: #008080; font-weight: bold\">EXCLUSIVE_MANDATE</span> :  <span style=\"font-weight: bold\">[</span><span style=\"color: #ff0000; text-decoration-color: #ff0000; font-style: italic\">False</span>  <span style=\"color: #00ff00; text-decoration-color: #00ff00; font-style: italic\">True</span><span style=\"font-weight: bold\">]</span>\n",
       "</pre>\n"
      ],
      "text/plain": [
       "Unique Values for    \u001b[1;36mEXCLUSIVE_MANDATE\u001b[0m :  \u001b[1m[\u001b[0m\u001b[3;91mFalse\u001b[0m  \u001b[3;92mTrue\u001b[0m\u001b[1m]\u001b[0m\n"
      ]
     },
     "metadata": {},
     "output_type": "display_data"
    },
    {
     "data": {
      "text/html": [
       "<pre style=\"white-space:pre;overflow-x:auto;line-height:normal;font-family:Menlo,'DejaVu Sans Mono',consolas,'Courier New',monospace\">Number of offers with <span style=\"color: #008080; text-decoration-color: #008080; font-weight: bold\">EXCLUSIVE_MANDATE</span> :  <span style=\"color: #008080; text-decoration-color: #008080; font-weight: bold\">167</span>\n",
       "</pre>\n"
      ],
      "text/plain": [
       "Number of offers with \u001b[1;36mEXCLUSIVE_MANDATE\u001b[0m :  \u001b[1;36m167\u001b[0m\n"
      ]
     },
     "metadata": {},
     "output_type": "display_data"
    },
    {
     "data": {
      "text/html": [
       "<pre style=\"white-space:pre;overflow-x:auto;line-height:normal;font-family:Menlo,'DejaVu Sans Mono',consolas,'Courier New',monospace\">Unique Values for    <span style=\"color: #008080; text-decoration-color: #008080; font-weight: bold\">AGENCIES_UNWANTED</span> :  <span style=\"font-weight: bold\">[</span>nan <span style=\"color: #ff0000; text-decoration-color: #ff0000; font-style: italic\">False</span> <span style=\"color: #00ff00; text-decoration-color: #00ff00; font-style: italic\">True</span><span style=\"font-weight: bold\">]</span>\n",
       "</pre>\n"
      ],
      "text/plain": [
       "Unique Values for    \u001b[1;36mAGENCIES_UNWANTED\u001b[0m :  \u001b[1m[\u001b[0mnan \u001b[3;91mFalse\u001b[0m \u001b[3;92mTrue\u001b[0m\u001b[1m]\u001b[0m\n"
      ]
     },
     "metadata": {},
     "output_type": "display_data"
    },
    {
     "data": {
      "text/html": [
       "<pre style=\"white-space:pre;overflow-x:auto;line-height:normal;font-family:Menlo,'DejaVu Sans Mono',consolas,'Courier New',monospace\">Number of offers with <span style=\"color: #008080; text-decoration-color: #008080; font-weight: bold\">AGENCIES_UNWANTED</span> :  <span style=\"color: #008080; text-decoration-color: #008080; font-weight: bold\">12</span>\n",
       "</pre>\n"
      ],
      "text/plain": [
       "Number of offers with \u001b[1;36mAGENCIES_UNWANTED\u001b[0m :  \u001b[1;36m12\u001b[0m\n"
      ]
     },
     "metadata": {},
     "output_type": "display_data"
    },
    {
     "data": {
      "text/html": [
       "<pre style=\"white-space:pre;overflow-x:auto;line-height:normal;font-family:Menlo,'DejaVu Sans Mono',consolas,'Courier New',monospace\">Unique Values for    <span style=\"color: #008080; text-decoration-color: #008080; font-weight: bold\">OCCUPIED</span> :  <span style=\"font-weight: bold\">[</span>nan <span style=\"color: #ff0000; text-decoration-color: #ff0000; font-style: italic\">False</span> <span style=\"color: #00ff00; text-decoration-color: #00ff00; font-style: italic\">True</span><span style=\"font-weight: bold\">]</span>\n",
       "</pre>\n"
      ],
      "text/plain": [
       "Unique Values for    \u001b[1;36mOCCUPIED\u001b[0m :  \u001b[1m[\u001b[0mnan \u001b[3;91mFalse\u001b[0m \u001b[3;92mTrue\u001b[0m\u001b[1m]\u001b[0m\n"
      ]
     },
     "metadata": {},
     "output_type": "display_data"
    },
    {
     "data": {
      "text/html": [
       "<pre style=\"white-space:pre;overflow-x:auto;line-height:normal;font-family:Menlo,'DejaVu Sans Mono',consolas,'Courier New',monospace\">Number of offers with <span style=\"color: #008080; text-decoration-color: #008080; font-weight: bold\">OCCUPIED</span> :  <span style=\"color: #008080; text-decoration-color: #008080; font-weight: bold\">20</span>\n",
       "</pre>\n"
      ],
      "text/plain": [
       "Number of offers with \u001b[1;36mOCCUPIED\u001b[0m :  \u001b[1;36m20\u001b[0m\n"
      ]
     },
     "metadata": {},
     "output_type": "display_data"
    }
   ],
   "source": [
    "## Fixing bad datatypes\n",
    "def describe_features(df, features):\n",
    "    for feature in features :\n",
    "        console.print(f\"Unique Values for    [bold cyan]{feature}[/ bold cyan] : \", df[feature].unique())\n",
    "        console.print(f\"Number of offers with [bold cyan]{feature}[/ bold cyan] : \", df[feature].sum())\n",
    "bool_columns = [\"SWIMMING_POOL\", \"NEW_BUILD\", \"FURNISHED\", \"GARDEN\", \"PARKING\", \"TERRACE\", \"PARKING\", \"ELEVATOR\", \"CARETAKER\", \"RENTAL_EXPENSES_INCLUDED\", \"EXCLUSIVE_MANDATE\", \"AGENCIES_UNWANTED\", \"OCCUPIED\"]\n",
    "\n",
    "describe_features(df,bool_columns)\n",
    "# To note : TERRACE, SWIMMING_POOL & GARDEN only have nan, and 1 as unique values"
   ]
  },
  {
   "cell_type": "code",
   "execution_count": 16,
   "metadata": {},
   "outputs": [],
   "source": [
    "## Replacing NaN value with -1\n",
    "df = df.fillna(-1)"
   ]
  },
  {
   "cell_type": "code",
   "execution_count": 17,
   "metadata": {},
   "outputs": [],
   "source": [
    "# Casting bool columns to integer\n",
    "for col in bool_columns:\n",
    "    df[col]=df[col].astype(int)"
   ]
  },
  {
   "cell_type": "code",
   "execution_count": 18,
   "metadata": {},
   "outputs": [
    {
     "data": {
      "text/html": [
       "<pre style=\"white-space:pre;overflow-x:auto;line-height:normal;font-family:Menlo,'DejaVu Sans Mono',consolas,'Courier New',monospace\">Unique values for : LAST_PRICE_DECREASE_DATE <span style=\"font-weight: bold\">[</span><span style=\"color: #008080; text-decoration-color: #008080; font-weight: bold\">-1</span> <span style=\"color: #008000; text-decoration-color: #008000\">'2018-09-25'</span> <span style=\"color: #008000; text-decoration-color: #008000\">'2019-06-14'</span> <span style=\"color: #008000; text-decoration-color: #008000\">'2019-07-10'</span> <span style=\"color: #008000; text-decoration-color: #008000\">'2019-07-13'</span> <span style=\"color: #008000; text-decoration-color: #008000\">'2019-07-17'</span>\n",
       " <span style=\"color: #008000; text-decoration-color: #008000\">'2017-05-04'</span> <span style=\"color: #008000; text-decoration-color: #008000\">'2019-07-18'</span> <span style=\"color: #008000; text-decoration-color: #008000\">'2019-07-19'</span> <span style=\"color: #008000; text-decoration-color: #008000\">'2019-07-31'</span> <span style=\"color: #008000; text-decoration-color: #008000\">'2019-04-30'</span>\n",
       " <span style=\"color: #008000; text-decoration-color: #008000\">'2019-06-29'</span> <span style=\"color: #008000; text-decoration-color: #008000\">'2019-07-30'</span> <span style=\"color: #008000; text-decoration-color: #008000\">'2019-06-17'</span> <span style=\"color: #008000; text-decoration-color: #008000\">'2018-01-30'</span> <span style=\"color: #008000; text-decoration-color: #008000\">'2019-07-15'</span>\n",
       " <span style=\"color: #008000; text-decoration-color: #008000\">'2019-08-09'</span> <span style=\"color: #008000; text-decoration-color: #008000\">'2019-03-17'</span> <span style=\"color: #008000; text-decoration-color: #008000\">'2019-06-13'</span> <span style=\"color: #008000; text-decoration-color: #008000\">'2019-04-25'</span> <span style=\"color: #008000; text-decoration-color: #008000\">'2019-06-15'</span>\n",
       " <span style=\"color: #008000; text-decoration-color: #008000\">'2019-07-12'</span> <span style=\"color: #008000; text-decoration-color: #008000\">'2019-08-17'</span> <span style=\"color: #008000; text-decoration-color: #008000\">'2019-06-26'</span> <span style=\"color: #008000; text-decoration-color: #008000\">'2019-06-28'</span> <span style=\"color: #008000; text-decoration-color: #008000\">'2019-03-29'</span>\n",
       " <span style=\"color: #008000; text-decoration-color: #008000\">'2019-07-23'</span> <span style=\"color: #008000; text-decoration-color: #008000\">'2019-07-08'</span> <span style=\"color: #008000; text-decoration-color: #008000\">'2019-04-02'</span> <span style=\"color: #008000; text-decoration-color: #008000\">'2019-05-30'</span> <span style=\"color: #008000; text-decoration-color: #008000\">'2019-02-14'</span>\n",
       " <span style=\"color: #008000; text-decoration-color: #008000\">'2019-06-21'</span> <span style=\"color: #008000; text-decoration-color: #008000\">'2019-08-21'</span> <span style=\"color: #008000; text-decoration-color: #008000\">'2019-04-16'</span> <span style=\"color: #008000; text-decoration-color: #008000\">'2019-06-20'</span> <span style=\"color: #008000; text-decoration-color: #008000\">'2019-06-04'</span>\n",
       " <span style=\"color: #008000; text-decoration-color: #008000\">'2019-07-20'</span> <span style=\"color: #008000; text-decoration-color: #008000\">'2019-08-25'</span> <span style=\"color: #008000; text-decoration-color: #008000\">'2019-05-11'</span> <span style=\"color: #008000; text-decoration-color: #008000\">'2019-05-21'</span> <span style=\"color: #008000; text-decoration-color: #008000\">'2019-05-08'</span>\n",
       " <span style=\"color: #008000; text-decoration-color: #008000\">'2019-05-29'</span> <span style=\"color: #008000; text-decoration-color: #008000\">'2019-07-27'</span> <span style=\"color: #008000; text-decoration-color: #008000\">'2019-07-07'</span> <span style=\"color: #008000; text-decoration-color: #008000\">'2019-02-28'</span> <span style=\"color: #008000; text-decoration-color: #008000\">'2019-06-23'</span>\n",
       " <span style=\"color: #008000; text-decoration-color: #008000\">'2017-05-19'</span> <span style=\"color: #008000; text-decoration-color: #008000\">'2019-05-19'</span> <span style=\"color: #008000; text-decoration-color: #008000\">'2019-05-06'</span> <span style=\"color: #008000; text-decoration-color: #008000\">'2019-06-27'</span> <span style=\"color: #008000; text-decoration-color: #008000\">'2019-01-02'</span>\n",
       " <span style=\"color: #008000; text-decoration-color: #008000\">'2018-12-18'</span> <span style=\"color: #008000; text-decoration-color: #008000\">'2019-07-01'</span> <span style=\"color: #008000; text-decoration-color: #008000\">'2019-03-20'</span> <span style=\"color: #008000; text-decoration-color: #008000\">'2019-07-03'</span> <span style=\"color: #008000; text-decoration-color: #008000\">'2019-08-14'</span>\n",
       " <span style=\"color: #008000; text-decoration-color: #008000\">'2019-08-15'</span> <span style=\"color: #008000; text-decoration-color: #008000\">'2019-06-10'</span> <span style=\"color: #008000; text-decoration-color: #008000\">'2019-08-08'</span> <span style=\"color: #008000; text-decoration-color: #008000\">'2019-07-14'</span> <span style=\"color: #008000; text-decoration-color: #008000\">'2019-06-07'</span>\n",
       " <span style=\"color: #008000; text-decoration-color: #008000\">'2019-04-21'</span> <span style=\"color: #008000; text-decoration-color: #008000\">'2017-12-27'</span> <span style=\"color: #008000; text-decoration-color: #008000\">'2019-06-22'</span> <span style=\"color: #008000; text-decoration-color: #008000\">'2019-08-24'</span> <span style=\"color: #008000; text-decoration-color: #008000\">'2019-06-24'</span>\n",
       " <span style=\"color: #008000; text-decoration-color: #008000\">'2019-06-25'</span> <span style=\"color: #008000; text-decoration-color: #008000\">'2019-04-07'</span> <span style=\"color: #008000; text-decoration-color: #008000\">'2019-08-07'</span> <span style=\"color: #008000; text-decoration-color: #008000\">'2019-08-23'</span> <span style=\"color: #008000; text-decoration-color: #008000\">'2019-07-05'</span>\n",
       " <span style=\"color: #008000; text-decoration-color: #008000\">'2019-04-04'</span> <span style=\"color: #008000; text-decoration-color: #008000\">'2019-05-24'</span> <span style=\"color: #008000; text-decoration-color: #008000\">'2019-04-23'</span> <span style=\"color: #008000; text-decoration-color: #008000\">'2019-08-05'</span> <span style=\"color: #008000; text-decoration-color: #008000\">'2019-04-29'</span>\n",
       " <span style=\"color: #008000; text-decoration-color: #008000\">'2019-06-30'</span> <span style=\"color: #008000; text-decoration-color: #008000\">'2017-04-11'</span> <span style=\"color: #008000; text-decoration-color: #008000\">'2017-11-20'</span> <span style=\"color: #008000; text-decoration-color: #008000\">'2017-03-22'</span> <span style=\"color: #008000; text-decoration-color: #008000\">'2019-05-27'</span>\n",
       " <span style=\"color: #008000; text-decoration-color: #008000\">'2019-06-05'</span> <span style=\"color: #008000; text-decoration-color: #008000\">'2019-04-01'</span> <span style=\"color: #008000; text-decoration-color: #008000\">'2019-03-13'</span> <span style=\"color: #008000; text-decoration-color: #008000\">'2018-10-27'</span> <span style=\"color: #008000; text-decoration-color: #008000\">'2017-06-02'</span>\n",
       " <span style=\"color: #008000; text-decoration-color: #008000\">'2018-08-31'</span> <span style=\"color: #008000; text-decoration-color: #008000\">'2019-04-20'</span> <span style=\"color: #008000; text-decoration-color: #008000\">'2019-06-08'</span> <span style=\"color: #008000; text-decoration-color: #008000\">'2019-02-01'</span> <span style=\"color: #008000; text-decoration-color: #008000\">'2019-01-08'</span>\n",
       " <span style=\"color: #008000; text-decoration-color: #008000\">'2019-07-06'</span> <span style=\"color: #008000; text-decoration-color: #008000\">'2019-07-22'</span> <span style=\"color: #008000; text-decoration-color: #008000\">'2019-07-24'</span> <span style=\"color: #008000; text-decoration-color: #008000\">'2019-03-19'</span> <span style=\"color: #008000; text-decoration-color: #008000\">'2019-07-09'</span>\n",
       " <span style=\"color: #008000; text-decoration-color: #008000\">'2019-04-09'</span> <span style=\"color: #008000; text-decoration-color: #008000\">'2019-06-18'</span> <span style=\"color: #008000; text-decoration-color: #008000\">'2019-04-05'</span> <span style=\"color: #008000; text-decoration-color: #008000\">'2019-07-25'</span> <span style=\"color: #008000; text-decoration-color: #008000\">'2019-05-09'</span>\n",
       " <span style=\"color: #008000; text-decoration-color: #008000\">'2019-01-09'</span> <span style=\"color: #008000; text-decoration-color: #008000\">'2019-08-27'</span> <span style=\"color: #008000; text-decoration-color: #008000\">'2019-07-29'</span> <span style=\"color: #008000; text-decoration-color: #008000\">'2018-03-23'</span> <span style=\"color: #008000; text-decoration-color: #008000\">'2019-04-26'</span>\n",
       " <span style=\"color: #008000; text-decoration-color: #008000\">'2018-04-29'</span> <span style=\"color: #008000; text-decoration-color: #008000\">'2018-03-17'</span> <span style=\"color: #008000; text-decoration-color: #008000\">'2019-05-07'</span> <span style=\"color: #008000; text-decoration-color: #008000\">'2019-05-22'</span> <span style=\"color: #008000; text-decoration-color: #008000\">'2019-08-10'</span>\n",
       " <span style=\"color: #008000; text-decoration-color: #008000\">'2019-04-11'</span> <span style=\"color: #008000; text-decoration-color: #008000\">'2019-05-28'</span> <span style=\"color: #008000; text-decoration-color: #008000\">'2019-07-21'</span> <span style=\"color: #008000; text-decoration-color: #008000\">'2019-04-17'</span> <span style=\"color: #008000; text-decoration-color: #008000\">'2018-11-06'</span>\n",
       " <span style=\"color: #008000; text-decoration-color: #008000\">'2019-07-02'</span> <span style=\"color: #008000; text-decoration-color: #008000\">'2019-07-11'</span> <span style=\"color: #008000; text-decoration-color: #008000\">'2019-08-02'</span> <span style=\"color: #008000; text-decoration-color: #008000\">'2019-01-24'</span> <span style=\"color: #008000; text-decoration-color: #008000\">'2019-04-06'</span>\n",
       " <span style=\"color: #008000; text-decoration-color: #008000\">'2019-06-11'</span> <span style=\"color: #008000; text-decoration-color: #008000\">'2018-06-01'</span> <span style=\"color: #008000; text-decoration-color: #008000\">'2018-10-17'</span> <span style=\"color: #008000; text-decoration-color: #008000\">'2019-02-19'</span> <span style=\"color: #008000; text-decoration-color: #008000\">'2017-03-09'</span>\n",
       " <span style=\"color: #008000; text-decoration-color: #008000\">'2019-06-06'</span> <span style=\"color: #008000; text-decoration-color: #008000\">'2017-02-03'</span> <span style=\"color: #008000; text-decoration-color: #008000\">'2019-04-12'</span> <span style=\"color: #008000; text-decoration-color: #008000\">'2017-07-27'</span> <span style=\"color: #008000; text-decoration-color: #008000\">'2019-05-15'</span>\n",
       " <span style=\"color: #008000; text-decoration-color: #008000\">'2018-05-22'</span> <span style=\"color: #008000; text-decoration-color: #008000\">'2019-08-13'</span> <span style=\"color: #008000; text-decoration-color: #008000\">'2018-07-19'</span> <span style=\"color: #008000; text-decoration-color: #008000\">'2019-06-12'</span> <span style=\"color: #008000; text-decoration-color: #008000\">'2019-08-22'</span>\n",
       " <span style=\"color: #008000; text-decoration-color: #008000\">'2018-11-26'</span> <span style=\"color: #008000; text-decoration-color: #008000\">'2018-12-19'</span> <span style=\"color: #008000; text-decoration-color: #008000\">'2019-07-26'</span> <span style=\"color: #008000; text-decoration-color: #008000\">'2019-03-21'</span> <span style=\"color: #008000; text-decoration-color: #008000\">'2019-05-04'</span>\n",
       " <span style=\"color: #008000; text-decoration-color: #008000\">'2019-07-16'</span> <span style=\"color: #008000; text-decoration-color: #008000\">'2019-08-06'</span> <span style=\"color: #008000; text-decoration-color: #008000\">'2019-03-22'</span> <span style=\"color: #008000; text-decoration-color: #008000\">'2018-01-12'</span> <span style=\"color: #008000; text-decoration-color: #008000\">'2019-08-03'</span><span style=\"font-weight: bold\">]</span>\n",
       "</pre>\n"
      ],
      "text/plain": [
       "Unique values for : LAST_PRICE_DECREASE_DATE \u001b[1m[\u001b[0m\u001b[1;36m-1\u001b[0m \u001b[32m'2018-09-25'\u001b[0m \u001b[32m'2019-06-14'\u001b[0m \u001b[32m'2019-07-10'\u001b[0m \u001b[32m'2019-07-13'\u001b[0m \u001b[32m'2019-07-17'\u001b[0m\n",
       " \u001b[32m'2017-05-04'\u001b[0m \u001b[32m'2019-07-18'\u001b[0m \u001b[32m'2019-07-19'\u001b[0m \u001b[32m'2019-07-31'\u001b[0m \u001b[32m'2019-04-30'\u001b[0m\n",
       " \u001b[32m'2019-06-29'\u001b[0m \u001b[32m'2019-07-30'\u001b[0m \u001b[32m'2019-06-17'\u001b[0m \u001b[32m'2018-01-30'\u001b[0m \u001b[32m'2019-07-15'\u001b[0m\n",
       " \u001b[32m'2019-08-09'\u001b[0m \u001b[32m'2019-03-17'\u001b[0m \u001b[32m'2019-06-13'\u001b[0m \u001b[32m'2019-04-25'\u001b[0m \u001b[32m'2019-06-15'\u001b[0m\n",
       " \u001b[32m'2019-07-12'\u001b[0m \u001b[32m'2019-08-17'\u001b[0m \u001b[32m'2019-06-26'\u001b[0m \u001b[32m'2019-06-28'\u001b[0m \u001b[32m'2019-03-29'\u001b[0m\n",
       " \u001b[32m'2019-07-23'\u001b[0m \u001b[32m'2019-07-08'\u001b[0m \u001b[32m'2019-04-02'\u001b[0m \u001b[32m'2019-05-30'\u001b[0m \u001b[32m'2019-02-14'\u001b[0m\n",
       " \u001b[32m'2019-06-21'\u001b[0m \u001b[32m'2019-08-21'\u001b[0m \u001b[32m'2019-04-16'\u001b[0m \u001b[32m'2019-06-20'\u001b[0m \u001b[32m'2019-06-04'\u001b[0m\n",
       " \u001b[32m'2019-07-20'\u001b[0m \u001b[32m'2019-08-25'\u001b[0m \u001b[32m'2019-05-11'\u001b[0m \u001b[32m'2019-05-21'\u001b[0m \u001b[32m'2019-05-08'\u001b[0m\n",
       " \u001b[32m'2019-05-29'\u001b[0m \u001b[32m'2019-07-27'\u001b[0m \u001b[32m'2019-07-07'\u001b[0m \u001b[32m'2019-02-28'\u001b[0m \u001b[32m'2019-06-23'\u001b[0m\n",
       " \u001b[32m'2017-05-19'\u001b[0m \u001b[32m'2019-05-19'\u001b[0m \u001b[32m'2019-05-06'\u001b[0m \u001b[32m'2019-06-27'\u001b[0m \u001b[32m'2019-01-02'\u001b[0m\n",
       " \u001b[32m'2018-12-18'\u001b[0m \u001b[32m'2019-07-01'\u001b[0m \u001b[32m'2019-03-20'\u001b[0m \u001b[32m'2019-07-03'\u001b[0m \u001b[32m'2019-08-14'\u001b[0m\n",
       " \u001b[32m'2019-08-15'\u001b[0m \u001b[32m'2019-06-10'\u001b[0m \u001b[32m'2019-08-08'\u001b[0m \u001b[32m'2019-07-14'\u001b[0m \u001b[32m'2019-06-07'\u001b[0m\n",
       " \u001b[32m'2019-04-21'\u001b[0m \u001b[32m'2017-12-27'\u001b[0m \u001b[32m'2019-06-22'\u001b[0m \u001b[32m'2019-08-24'\u001b[0m \u001b[32m'2019-06-24'\u001b[0m\n",
       " \u001b[32m'2019-06-25'\u001b[0m \u001b[32m'2019-04-07'\u001b[0m \u001b[32m'2019-08-07'\u001b[0m \u001b[32m'2019-08-23'\u001b[0m \u001b[32m'2019-07-05'\u001b[0m\n",
       " \u001b[32m'2019-04-04'\u001b[0m \u001b[32m'2019-05-24'\u001b[0m \u001b[32m'2019-04-23'\u001b[0m \u001b[32m'2019-08-05'\u001b[0m \u001b[32m'2019-04-29'\u001b[0m\n",
       " \u001b[32m'2019-06-30'\u001b[0m \u001b[32m'2017-04-11'\u001b[0m \u001b[32m'2017-11-20'\u001b[0m \u001b[32m'2017-03-22'\u001b[0m \u001b[32m'2019-05-27'\u001b[0m\n",
       " \u001b[32m'2019-06-05'\u001b[0m \u001b[32m'2019-04-01'\u001b[0m \u001b[32m'2019-03-13'\u001b[0m \u001b[32m'2018-10-27'\u001b[0m \u001b[32m'2017-06-02'\u001b[0m\n",
       " \u001b[32m'2018-08-31'\u001b[0m \u001b[32m'2019-04-20'\u001b[0m \u001b[32m'2019-06-08'\u001b[0m \u001b[32m'2019-02-01'\u001b[0m \u001b[32m'2019-01-08'\u001b[0m\n",
       " \u001b[32m'2019-07-06'\u001b[0m \u001b[32m'2019-07-22'\u001b[0m \u001b[32m'2019-07-24'\u001b[0m \u001b[32m'2019-03-19'\u001b[0m \u001b[32m'2019-07-09'\u001b[0m\n",
       " \u001b[32m'2019-04-09'\u001b[0m \u001b[32m'2019-06-18'\u001b[0m \u001b[32m'2019-04-05'\u001b[0m \u001b[32m'2019-07-25'\u001b[0m \u001b[32m'2019-05-09'\u001b[0m\n",
       " \u001b[32m'2019-01-09'\u001b[0m \u001b[32m'2019-08-27'\u001b[0m \u001b[32m'2019-07-29'\u001b[0m \u001b[32m'2018-03-23'\u001b[0m \u001b[32m'2019-04-26'\u001b[0m\n",
       " \u001b[32m'2018-04-29'\u001b[0m \u001b[32m'2018-03-17'\u001b[0m \u001b[32m'2019-05-07'\u001b[0m \u001b[32m'2019-05-22'\u001b[0m \u001b[32m'2019-08-10'\u001b[0m\n",
       " \u001b[32m'2019-04-11'\u001b[0m \u001b[32m'2019-05-28'\u001b[0m \u001b[32m'2019-07-21'\u001b[0m \u001b[32m'2019-04-17'\u001b[0m \u001b[32m'2018-11-06'\u001b[0m\n",
       " \u001b[32m'2019-07-02'\u001b[0m \u001b[32m'2019-07-11'\u001b[0m \u001b[32m'2019-08-02'\u001b[0m \u001b[32m'2019-01-24'\u001b[0m \u001b[32m'2019-04-06'\u001b[0m\n",
       " \u001b[32m'2019-06-11'\u001b[0m \u001b[32m'2018-06-01'\u001b[0m \u001b[32m'2018-10-17'\u001b[0m \u001b[32m'2019-02-19'\u001b[0m \u001b[32m'2017-03-09'\u001b[0m\n",
       " \u001b[32m'2019-06-06'\u001b[0m \u001b[32m'2017-02-03'\u001b[0m \u001b[32m'2019-04-12'\u001b[0m \u001b[32m'2017-07-27'\u001b[0m \u001b[32m'2019-05-15'\u001b[0m\n",
       " \u001b[32m'2018-05-22'\u001b[0m \u001b[32m'2019-08-13'\u001b[0m \u001b[32m'2018-07-19'\u001b[0m \u001b[32m'2019-06-12'\u001b[0m \u001b[32m'2019-08-22'\u001b[0m\n",
       " \u001b[32m'2018-11-26'\u001b[0m \u001b[32m'2018-12-19'\u001b[0m \u001b[32m'2019-07-26'\u001b[0m \u001b[32m'2019-03-21'\u001b[0m \u001b[32m'2019-05-04'\u001b[0m\n",
       " \u001b[32m'2019-07-16'\u001b[0m \u001b[32m'2019-08-06'\u001b[0m \u001b[32m'2019-03-22'\u001b[0m \u001b[32m'2018-01-12'\u001b[0m \u001b[32m'2019-08-03'\u001b[0m\u001b[1m]\u001b[0m\n"
      ]
     },
     "metadata": {},
     "output_type": "display_data"
    },
    {
     "data": {
      "text/html": [
       "<pre style=\"white-space:pre;overflow-x:auto;line-height:normal;font-family:Menlo,'DejaVu Sans Mono',consolas,'Courier New',monospace\">Dtype is <span style=\"color: #000080; text-decoration-color: #000080\">object  </span>\n",
       "</pre>\n"
      ],
      "text/plain": [
       "Dtype is \u001b[34mobject  \u001b[0m\n"
      ]
     },
     "metadata": {},
     "output_type": "display_data"
    }
   ],
   "source": [
    "console.print(\"Unique values for : LAST_PRICE_DECREASE_DATE\", df['LAST_PRICE_DECREASE_DATE'].unique())\n",
    "console.print(f\"Dtype is [blue]{df['LAST_PRICE_DECREASE_DATE'].dtype}  [/blue]\")"
   ]
  },
  {
   "cell_type": "code",
   "execution_count": 19,
   "metadata": {},
   "outputs": [
    {
     "data": {
      "text/plain": [
       "0   1969-12-31 23:59:59.999999999\n",
       "1   2018-09-25 00:00:00.000000000\n",
       "Name: LAST_PRICE_DECREASE_DATE, dtype: datetime64[ns]"
      ]
     },
     "execution_count": 19,
     "metadata": {},
     "output_type": "execute_result"
    }
   ],
   "source": [
    "# Convert string to a date format\n",
    "df['LAST_PRICE_DECREASE_DATE'] = pd.to_datetime(df['LAST_PRICE_DECREASE_DATE'])\n",
    "df['LAST_CRAWL_DATE'] = pd.to_datetime(df['LAST_CRAWL_DATE'], format='mixed')\n",
    "df['PUBLICATION_START_DATE'] = pd.to_datetime(df['PUBLICATION_START_DATE'], format='mixed')\n",
    "\n",
    "df['LAST_PRICE_DECREASE_DATE'].head(2)\n",
    "# Note : 1969-12-31 23:59:59.999999999 Stands for NaN"
   ]
  },
  {
   "cell_type": "code",
   "execution_count": 20,
   "metadata": {},
   "outputs": [],
   "source": [
    "# replacing -1 with None for string columns\n",
    "string_columns = [\"CRAWL_SOURCE\", \"PROPERTY_TYPE\", \"DESCRIPTION\", \"HEATING_TYPES\", \"HEATING_MODE\", \"MARKETING_TYPE\", \"DEALER_NAME\", \"DEALER_TYPE\"]\n",
    "for col in string_columns:\n",
    "    df[col]=df[col].replace(-1, \"None\")"
   ]
  },
  {
   "cell_type": "code",
   "execution_count": 21,
   "metadata": {},
   "outputs": [
    {
     "data": {
      "text/plain": [
       "ID                                  object\n",
       "URL                                 object\n",
       "CRAWL_SOURCE                        object\n",
       "PROPERTY_TYPE                       object\n",
       "NEW_BUILD                            int64\n",
       "DESCRIPTION                         object\n",
       "IMAGES                              object\n",
       "SURFACE                            float64\n",
       "LAND_SURFACE                       float64\n",
       "TERRACE_SURFACE                    float64\n",
       "ROOM_COUNT                         float64\n",
       "BEDROOM_COUNT                      float64\n",
       "FURNISHED                            int64\n",
       "GARDEN                               int64\n",
       "SWIMMING_POOL                        int64\n",
       "TERRACE                              int64\n",
       "PARKING                              int64\n",
       "PARKING_COUNT                      float64\n",
       "HEATING_TYPES                       object\n",
       "HEATING_MODE                        object\n",
       "FLOOR                              float64\n",
       "FLOOR_COUNT                        float64\n",
       "CONSTRUCTION_YEAR                  float64\n",
       "ELEVATOR                             int64\n",
       "CARETAKER                            int64\n",
       "MARKETING_TYPE                      object\n",
       "PRICE                              float64\n",
       "PRICE_M2                           float64\n",
       "PRICE_EVENTS                        object\n",
       "RENTAL_EXPENSES                    float64\n",
       "RENTAL_EXPENSES_INCLUDED             int64\n",
       "DEPOSIT                            float64\n",
       "FEES                               float64\n",
       "FEES_INCLUDED                       object\n",
       "EXCLUSIVE_MANDATE                    int64\n",
       "AGENCIES_UNWANTED                    int64\n",
       "OCCUPIED                             int64\n",
       "DEALER_NAME                         object\n",
       "DEALER_TYPE                         object\n",
       "ZIP_CODE                           float64\n",
       "PUBLICATION_START_DATE      datetime64[ns]\n",
       "LAST_CRAWL_DATE             datetime64[ns]\n",
       "LAST_PRICE_DECREASE_DATE    datetime64[ns]\n",
       "ELECTRIC                             int64\n",
       "GAS                                  int64\n",
       "UNDERFLOOR                           int64\n",
       "FUEL                                 int64\n",
       "NUMBER_URL_IMAGES                    int64\n",
       "NUMBER_VALID_IMAGES                  int64\n",
       "dtype: object"
      ]
     },
     "execution_count": 21,
     "metadata": {},
     "output_type": "execute_result"
    }
   ],
   "source": [
    "df.dtypes"
   ]
  },
  {
   "attachments": {},
   "cell_type": "markdown",
   "metadata": {},
   "source": [
    "### iii. Dataset validation"
   ]
  },
  {
   "cell_type": "code",
   "execution_count": 22,
   "metadata": {},
   "outputs": [],
   "source": [
    "import pytest \n",
    "import ipytest \n",
    "ipytest.config.rewrite_asserts=True \n",
    "__file___='notebook.ipynb'"
   ]
  },
  {
   "cell_type": "code",
   "execution_count": 23,
   "metadata": {},
   "outputs": [],
   "source": [
    "df_test = df.copy()\n",
    "\n",
    "\n",
    "@pytest.mark.parametrize(\"df\", [df_test])\n",
    "def test_df_empty_rows(df):\n",
    "    value=df.isna().all(axis=1).sum()\n",
    "    console.print(f\"There are : {value} empty rows\",style=test_theme[value==0] )\n",
    "    assert value==0\n",
    "\n",
    "@pytest.mark.parametrize(\"df\", [df_test])\n",
    "def test_df_uniqueess(df):\n",
    "    df[\"IMAGES\"]=df[\"IMAGES\"].apply(lambda v:str(v))\n",
    "    value = df.duplicated().sum()\n",
    "    console.print(f\"There are : {value} duplicate rows\", style=test_theme[value==0] )\n",
    "    assert value==0\n",
    "\n",
    "@pytest.mark.parametrize(\"df\", [df_test])\n",
    "def test_url_uniqueness(df):\n",
    "    value = len(df[\"URL\"].unique())/len(df)\n",
    "    console.print(f\"There are : {len(df)-len(df['URL'].unique())} duplicate offer URLS\", style=test_theme[value==1] )\n",
    "    assert value ==1\n",
    "\n",
    "@pytest.mark.parametrize(\"df\", [df_test])\n",
    "def test_id_uniqueness(df):\n",
    "    value = len(df[\"ID\"].unique())/len(df)\n",
    "    console.print(f\"There are : {len(df)-len(df['ID'].unique())} duplicate IDS\",style=test_theme[value==1] )\n",
    "    assert value==1\n",
    "\n",
    "@pytest.mark.parametrize(\"df\", [df_test])\n",
    "def test_duplicate_descriptions(df):\n",
    "    value = df[\"DESCRIPTION\"].duplicated().sum()\n",
    "    console.print(f\"There are : {df['DESCRIPTION'].duplicated().sum()} duplicate Descriptions\", style=test_theme[value==0] )\n",
    "    assert value==0\n",
    "\n",
    "@pytest.mark.parametrize(\"df\", [df_test])\n",
    "def test_duplicate_price_events(df):\n",
    "    value = df[\"PRICE_EVENTS\"].duplicated().sum()\n",
    "    console.print(f\"There are : {df['PRICE_EVENTS'].duplicated().sum()} duplicate PRICE_EVENTS\",style=test_theme[value==0] )\n",
    "    assert value==0\n",
    "    \n",
    "@pytest.mark.parametrize(\"df\", [df_test])\n",
    "def test_duplicate_publication_start_date(df):\n",
    "    value = df['PUBLICATION_START_DATE'].duplicated().sum()\n",
    "    console.print(f\"There are : {value} duplicate PUBLICATION_START_DATE\" ,style=test_theme[value==0] )\n",
    "    assert value==0\n",
    "    \n",
    "@pytest.mark.parametrize(\"df\", [df_test])\n",
    "def test_duplicate_images_url_same_rows(df):\n",
    "    # Create an empty list to store duplicated URLs\n",
    "    duplicated_urls = []\n",
    "\n",
    "    # Iterate over each row in the dataframe\n",
    "    for index, row in df.iterrows():\n",
    "        # Extract the list of URLs from the row\n",
    "        url_list = json.loads(row['IMAGES'])\n",
    "\n",
    "        # Check for duplicate URLs within the list\n",
    "        if len(url_list) != len(set(url_list)):\n",
    "\n",
    "            # Append the row index to the duplicated_urls list\n",
    "            duplicated_urls.append(index)\n",
    "            \n",
    "    value = len(duplicated_urls)\n",
    "    console.print(f\"There are {value} with duplicate instances of images url\",style=test_theme[value==0] )\n",
    "    assert value==0\n",
    "\n",
    "@pytest.mark.parametrize(\"df\", [df_test])\n",
    "def test_url_validity(df):\n",
    "    invalid = df[\"NUMBER_URL_IMAGES\"].sum()-df[\"NUMBER_VALID_IMAGES\"].sum()\n",
    "    percent=100*invalid/df[\"NUMBER_URL_IMAGES\"].sum()\n",
    "    console.print(f\"There are : {invalid} invalid Image URLS ({percent:.2f}%)\" )\n",
    "    assert invalid==0\n"
   ]
  },
  {
   "cell_type": "code",
   "execution_count": 24,
   "metadata": {},
   "outputs": [
    {
     "name": "stdout",
     "output_type": "stream",
     "text": [
      "\u001b[1m======================================= test session starts ========================================\u001b[0m\n",
      "platform linux -- Python 3.8.16, pytest-7.3.2, pluggy-1.0.0 -- /home/odeck/miniconda3/envs/duplicate/bin/python\n",
      "cachedir: .pytest_cache\n",
      "rootdir: /home/odeck/Desktop/duplicate-ads\n",
      "plugins: anyio-3.5.0\n",
      "\u001b[1mcollecting ... \u001b[0mcollected 9 items\n",
      "\n",
      "t_568656081eb448be9d8e900c2019e6f1.py::test_df_empty_rows[df0] "
     ]
    },
    {
     "data": {
      "text/html": [
       "<pre style=\"white-space:pre;overflow-x:auto;line-height:normal;font-family:Menlo,'DejaVu Sans Mono',consolas,'Courier New',monospace\"><span style=\"color: #008000; text-decoration-color: #008000; font-weight: bold\">There are : </span><span style=\"color: #008080; text-decoration-color: #008080; font-weight: bold\">0</span><span style=\"color: #008000; text-decoration-color: #008000; font-weight: bold\"> empty rows</span>\n",
       "</pre>\n"
      ],
      "text/plain": [
       "\u001b[1;52;32mThere are : \u001b[0m\u001b[1;52;36m0\u001b[0m\u001b[1;52;32m empty rows\u001b[0m\n"
      ]
     },
     "metadata": {},
     "output_type": "display_data"
    },
    {
     "name": "stdout",
     "output_type": "stream",
     "text": [
      "\u001b[32mPASSED\u001b[0m\n",
      "t_568656081eb448be9d8e900c2019e6f1.py::test_df_uniqueess[df0] "
     ]
    },
    {
     "data": {
      "text/html": [
       "<pre style=\"white-space:pre;overflow-x:auto;line-height:normal;font-family:Menlo,'DejaVu Sans Mono',consolas,'Courier New',monospace\"><span style=\"color: #008000; text-decoration-color: #008000; font-weight: bold\">There are : </span><span style=\"color: #008080; text-decoration-color: #008080; font-weight: bold\">0</span><span style=\"color: #008000; text-decoration-color: #008000; font-weight: bold\"> duplicate rows</span>\n",
       "</pre>\n"
      ],
      "text/plain": [
       "\u001b[1;52;32mThere are : \u001b[0m\u001b[1;52;36m0\u001b[0m\u001b[1;52;32m duplicate rows\u001b[0m\n"
      ]
     },
     "metadata": {},
     "output_type": "display_data"
    },
    {
     "name": "stdout",
     "output_type": "stream",
     "text": [
      "\u001b[32mPASSED\u001b[0m\n",
      "t_568656081eb448be9d8e900c2019e6f1.py::test_url_uniqueness[df0] "
     ]
    },
    {
     "data": {
      "text/html": [
       "<pre style=\"white-space:pre;overflow-x:auto;line-height:normal;font-family:Menlo,'DejaVu Sans Mono',consolas,'Courier New',monospace\"><span style=\"color: #008000; text-decoration-color: #008000; font-weight: bold\">There are : </span><span style=\"color: #008080; text-decoration-color: #008080; font-weight: bold\">0</span><span style=\"color: #008000; text-decoration-color: #008000; font-weight: bold\"> duplicate offer URLS</span>\n",
       "</pre>\n"
      ],
      "text/plain": [
       "\u001b[1;52;32mThere are : \u001b[0m\u001b[1;52;36m0\u001b[0m\u001b[1;52;32m duplicate offer URLS\u001b[0m\n"
      ]
     },
     "metadata": {},
     "output_type": "display_data"
    },
    {
     "name": "stdout",
     "output_type": "stream",
     "text": [
      "\u001b[32mPASSED\u001b[0m\n",
      "t_568656081eb448be9d8e900c2019e6f1.py::test_id_uniqueness[df0] "
     ]
    },
    {
     "data": {
      "text/html": [
       "<pre style=\"white-space:pre;overflow-x:auto;line-height:normal;font-family:Menlo,'DejaVu Sans Mono',consolas,'Courier New',monospace\"><span style=\"color: #008000; text-decoration-color: #008000; font-weight: bold\">There are : </span><span style=\"color: #008080; text-decoration-color: #008080; font-weight: bold\">0</span><span style=\"color: #008000; text-decoration-color: #008000; font-weight: bold\"> duplicate IDS</span>\n",
       "</pre>\n"
      ],
      "text/plain": [
       "\u001b[1;52;32mThere are : \u001b[0m\u001b[1;52;36m0\u001b[0m\u001b[1;52;32m duplicate IDS\u001b[0m\n"
      ]
     },
     "metadata": {},
     "output_type": "display_data"
    },
    {
     "name": "stdout",
     "output_type": "stream",
     "text": [
      "\u001b[32mPASSED\u001b[0m\n",
      "t_568656081eb448be9d8e900c2019e6f1.py::test_duplicate_descriptions[df0] "
     ]
    },
    {
     "data": {
      "text/html": [
       "<pre style=\"white-space:pre;overflow-x:auto;line-height:normal;font-family:Menlo,'DejaVu Sans Mono',consolas,'Courier New',monospace\"><span style=\"color: #800000; text-decoration-color: #800000; font-weight: bold\">There are : </span><span style=\"color: #008080; text-decoration-color: #008080; font-weight: bold\">249</span><span style=\"color: #800000; text-decoration-color: #800000; font-weight: bold\"> duplicate Descriptions</span>\n",
       "</pre>\n"
      ],
      "text/plain": [
       "\u001b[1;31mThere are : \u001b[0m\u001b[1;36m249\u001b[0m\u001b[1;31m duplicate Descriptions\u001b[0m\n"
      ]
     },
     "metadata": {},
     "output_type": "display_data"
    },
    {
     "name": "stdout",
     "output_type": "stream",
     "text": [
      "\u001b[31mFAILED\u001b[0m\n",
      "t_568656081eb448be9d8e900c2019e6f1.py::test_duplicate_price_events[df0] "
     ]
    },
    {
     "data": {
      "text/html": [
       "<pre style=\"white-space:pre;overflow-x:auto;line-height:normal;font-family:Menlo,'DejaVu Sans Mono',consolas,'Courier New',monospace\"><span style=\"color: #800000; text-decoration-color: #800000; font-weight: bold\">There are : </span><span style=\"color: #008080; text-decoration-color: #008080; font-weight: bold\">431</span><span style=\"color: #800000; text-decoration-color: #800000; font-weight: bold\"> duplicate PRICE_EVENTS</span>\n",
       "</pre>\n"
      ],
      "text/plain": [
       "\u001b[1;31mThere are : \u001b[0m\u001b[1;36m431\u001b[0m\u001b[1;31m duplicate PRICE_EVENTS\u001b[0m\n"
      ]
     },
     "metadata": {},
     "output_type": "display_data"
    },
    {
     "name": "stdout",
     "output_type": "stream",
     "text": [
      "\u001b[31mFAILED\u001b[0m\n",
      "t_568656081eb448be9d8e900c2019e6f1.py::test_duplicate_publication_start_date[df0] "
     ]
    },
    {
     "data": {
      "text/html": [
       "<pre style=\"white-space:pre;overflow-x:auto;line-height:normal;font-family:Menlo,'DejaVu Sans Mono',consolas,'Courier New',monospace\"><span style=\"color: #800000; text-decoration-color: #800000; font-weight: bold\">There are : </span><span style=\"color: #008080; text-decoration-color: #008080; font-weight: bold\">61</span><span style=\"color: #800000; text-decoration-color: #800000; font-weight: bold\"> duplicate PUBLICATION_START_DATE</span>\n",
       "</pre>\n"
      ],
      "text/plain": [
       "\u001b[1;31mThere are : \u001b[0m\u001b[1;36m61\u001b[0m\u001b[1;31m duplicate PUBLICATION_START_DATE\u001b[0m\n"
      ]
     },
     "metadata": {},
     "output_type": "display_data"
    },
    {
     "name": "stdout",
     "output_type": "stream",
     "text": [
      "\u001b[31mFAILED\u001b[0m\n",
      "t_568656081eb448be9d8e900c2019e6f1.py::test_duplicate_images_url_same_rows[df0] "
     ]
    },
    {
     "data": {
      "text/html": [
       "<pre style=\"white-space:pre;overflow-x:auto;line-height:normal;font-family:Menlo,'DejaVu Sans Mono',consolas,'Courier New',monospace\"><span style=\"color: #800000; text-decoration-color: #800000; font-weight: bold\">There are </span><span style=\"color: #008080; text-decoration-color: #008080; font-weight: bold\">16</span><span style=\"color: #800000; text-decoration-color: #800000; font-weight: bold\"> with duplicate instances of images url</span>\n",
       "</pre>\n"
      ],
      "text/plain": [
       "\u001b[1;31mThere are \u001b[0m\u001b[1;36m16\u001b[0m\u001b[1;31m with duplicate instances of images url\u001b[0m\n"
      ]
     },
     "metadata": {},
     "output_type": "display_data"
    },
    {
     "name": "stdout",
     "output_type": "stream",
     "text": [
      "\u001b[31mFAILED\u001b[0m\n",
      "t_568656081eb448be9d8e900c2019e6f1.py::test_url_validity[df0] "
     ]
    },
    {
     "data": {
      "text/html": [
       "<pre style=\"white-space:pre;overflow-x:auto;line-height:normal;font-family:Menlo,'DejaVu Sans Mono',consolas,'Courier New',monospace\">There are : <span style=\"color: #008080; text-decoration-color: #008080; font-weight: bold\">3902</span> invalid Image URLS <span style=\"font-weight: bold\">(</span><span style=\"color: #008080; text-decoration-color: #008080; font-weight: bold\">31.01</span>%<span style=\"font-weight: bold\">)</span>\n",
       "</pre>\n"
      ],
      "text/plain": [
       "There are : \u001b[1;36m3902\u001b[0m invalid Image URLS \u001b[1m(\u001b[0m\u001b[1;36m31.01\u001b[0m%\u001b[1m)\u001b[0m\n"
      ]
     },
     "metadata": {},
     "output_type": "display_data"
    },
    {
     "name": "stdout",
     "output_type": "stream",
     "text": [
      "\u001b[31mFAILED\u001b[0m\n",
      "\n",
      "\u001b[33m========================================= warnings summary =========================================\u001b[0m\n",
      "../../miniconda3/envs/duplicate/lib/python3.8/site-packages/_pytest/cacheprovider.py:433\n",
      "  /home/odeck/miniconda3/envs/duplicate/lib/python3.8/site-packages/_pytest/cacheprovider.py:433: PytestCacheWarning: cache could not write path /home/odeck/Desktop/duplicate-ads/.pytest_cache/v/cache/nodeids\n",
      "    config.cache.set(\"cache/nodeids\", sorted(self.cached_nodeids))\n",
      "\n",
      "../../miniconda3/envs/duplicate/lib/python3.8/site-packages/_pytest/cacheprovider.py:387\n",
      "  /home/odeck/miniconda3/envs/duplicate/lib/python3.8/site-packages/_pytest/cacheprovider.py:387: PytestCacheWarning: cache could not write path /home/odeck/Desktop/duplicate-ads/.pytest_cache/v/cache/lastfailed\n",
      "    config.cache.set(\"cache/lastfailed\", self.lastfailed)\n",
      "\n",
      "../../miniconda3/envs/duplicate/lib/python3.8/site-packages/_pytest/stepwise.py:56\n",
      "  /home/odeck/miniconda3/envs/duplicate/lib/python3.8/site-packages/_pytest/stepwise.py:56: PytestCacheWarning: cache could not write path /home/odeck/Desktop/duplicate-ads/.pytest_cache/v/cache/stepwise\n",
      "    session.config.cache.set(STEPWISE_CACHE_DIR, [])\n",
      "\n",
      "-- Docs: https://docs.pytest.org/en/stable/how-to/capture-warnings.html\n",
      "\u001b[36m\u001b[1m===================================== short test summary info ======================================\u001b[0m\n",
      "\u001b[31mFAILED\u001b[0m t_568656081eb448be9d8e900c2019e6f1.py::\u001b[1mtest_duplicate_descriptions[df0]\u001b[0m - AssertionError\n",
      "\u001b[31mFAILED\u001b[0m t_568656081eb448be9d8e900c2019e6f1.py::\u001b[1mtest_duplicate_price_events[df0]\u001b[0m - AssertionError\n",
      "\u001b[31mFAILED\u001b[0m t_568656081eb448be9d8e900c2019e6f1.py::\u001b[1mtest_duplicate_publication_start_date[df0]\u001b[0m - AssertionError\n",
      "\u001b[31mFAILED\u001b[0m t_568656081eb448be9d8e900c2019e6f1.py::\u001b[1mtest_duplicate_images_url_same_rows[df0]\u001b[0m - AssertionError\n",
      "\u001b[31mFAILED\u001b[0m t_568656081eb448be9d8e900c2019e6f1.py::\u001b[1mtest_url_validity[df0]\u001b[0m - AssertionError\n",
      "\u001b[31m============================= \u001b[31m\u001b[1m5 failed\u001b[0m, \u001b[32m4 passed\u001b[0m, \u001b[33m3 warnings\u001b[0m\u001b[31m in 0.25s\u001b[0m\u001b[31m ==============================\u001b[0m\n"
     ]
    },
    {
     "data": {
      "text/plain": [
       "<ExitCode.TESTS_FAILED: 1>"
      ]
     },
     "execution_count": 24,
     "metadata": {},
     "output_type": "execute_result"
    }
   ],
   "source": [
    "ipytest.run(\"-s\", \"--capture=no\", \"--tb=no\", \"-v\")"
   ]
  },
  {
   "cell_type": "code",
   "execution_count": 25,
   "metadata": {},
   "outputs": [],
   "source": [
    "# Droping unused/non-useful columns "
   ]
  },
  {
   "cell_type": "code",
   "execution_count": 26,
   "metadata": {},
   "outputs": [],
   "source": [
    "drop_columns = [\"URL\", \"IMAGES\", \"HEATING_TYPES\", \"ZIP_CODE\"] # There is only one row with NaN ZIP Code\n",
    "df.drop(columns = drop_columns, inplace=True)"
   ]
  },
  {
   "attachments": {},
   "cell_type": "markdown",
   "metadata": {},
   "source": [
    "## 2. Finding the duplicates"
   ]
  },
  {
   "attachments": {},
   "cell_type": "markdown",
   "metadata": {},
   "source": [
    "A perfect solution to this problem would be to embed each offer into a an abstract space where each point or instance is a numerical representation of an offer. Then we can define a distance over such space. Duplicate offers or ads are the instances that have a `distance = 0` between each other. The main issue here is that two duplicate offers can have a `distance > 0`. For example, a user can post the same offer on two sites `bienici` and `leboncoin`. But post different number of pictures, or slightly change the description, add more info, etc between each site.\n",
    "\n",
    "The main 3 axes we can follow to extract duplicates are :\n",
    "\n",
    "- Image embeddings\n",
    "- Textual representation\n",
    "- Geolocation\n",
    "\n",
    "The other features can be helpful to either reduce the search space or to give a more accurate metric, eg it's highly likely that we'll find 2 offers with similar images (default or logo images) but they belong to different property types. \n",
    "\n",
    "Since we don't have geolocation data, we'll start by using image embeddings, I'll use the fiftyone library for this usecase.\n",
    "\n",
    "\n",
    "#### Edge cases to look out for :\n",
    "\n",
    "- Duplicate images of logos / Empty images / Floor plans\n",
    "- Offer for rent and offer for sale at the same time can be counted as duplicates\n",
    "- Information mismatch between duplicate offers in two different sites or posts\n",
    "- Feature scale variance for distance metric"
   ]
  },
  {
   "cell_type": "code",
   "execution_count": 27,
   "metadata": {},
   "outputs": [],
   "source": [
    "import fiftyone as fo\n",
    "from tqdm import tqdm\n",
    "import pandas as pd\n",
    "import glob\n",
    "import fiftyone.brain as fob\n",
    "import fiftyone.core.utils as fou\n",
    "from collections import Counter\n",
    "from fiftyone import ViewField as F\n",
    "from fiftyone.core.plots.views import * "
   ]
  },
  {
   "attachments": {},
   "cell_type": "markdown",
   "metadata": {},
   "source": [
    "### i. preparing the dataset"
   ]
  },
  {
   "cell_type": "code",
   "execution_count": 28,
   "metadata": {},
   "outputs": [],
   "source": [
    "def prepare_fiftyone_dataset(df):\n",
    "\n",
    "    # Create samples for our data\n",
    "    samples = []\n",
    "    for i, row in tqdm(df.iterrows(), total=len(df)):\n",
    "\n",
    "        id_annonce= row[\"ID\"]\n",
    "        filepaths = glob.glob(f\"data/images/{id_annonce}/*.png\")\n",
    "\n",
    "        # Instances that have images \n",
    "        if(len(filepaths)>0):\n",
    "            for j,filepath in enumerate(filepaths) :\n",
    "                sample = fo.Sample(filepath=filepath)\n",
    "\n",
    "                # computing hash for individual images\n",
    "                sample[\"file_hash\"] = fou.compute_filehash(sample.filepath)\n",
    "\n",
    "                for key in row.keys():\n",
    "                    sample[key]=row[key]\n",
    "\n",
    "                samples.append(sample)\n",
    "    return samples\n"
   ]
  },
  {
   "cell_type": "code",
   "execution_count": 29,
   "metadata": {},
   "outputs": [
    {
     "name": "stderr",
     "output_type": "stream",
     "text": [
      "100%|██████████| 2164/2164 [00:05<00:00, 406.83it/s]\n"
     ]
    }
   ],
   "source": [
    "# preparing the dataset for fiftyone\n",
    "samples = prepare_fiftyone_dataset(df)"
   ]
  },
  {
   "cell_type": "code",
   "execution_count": 30,
   "metadata": {},
   "outputs": [
    {
     "name": "stdout",
     "output_type": "stream",
     "text": [
      " 100% |███████████████| 8682/8682 [4.7s elapsed, 0s remaining, 1.7K samples/s]        \n",
      "Computing metadata...\n",
      " 100% |███████████████| 8682/8682 [57.5s elapsed, 0s remaining, 133.0 samples/s]      \n"
     ]
    }
   ],
   "source": [
    "# Adding samples and computing metadata\n",
    "dataset = fo.Dataset(\"Dataset-duplics\")\n",
    "dataset.add_samples(samples)\n",
    "dataset.compute_metadata()"
   ]
  },
  {
   "cell_type": "code",
   "execution_count": 31,
   "metadata": {},
   "outputs": [
    {
     "data": {
      "text/plain": [
       "Name:        Dataset-duplics\n",
       "Media type:  image\n",
       "Num samples: 8682\n",
       "Persistent:  False\n",
       "Tags:        []\n",
       "Sample fields:\n",
       "    id:                       fiftyone.core.fields.ObjectIdField\n",
       "    filepath:                 fiftyone.core.fields.StringField\n",
       "    tags:                     fiftyone.core.fields.ListField(fiftyone.core.fields.StringField)\n",
       "    metadata:                 fiftyone.core.fields.EmbeddedDocumentField(fiftyone.core.metadata.ImageMetadata)\n",
       "    file_hash:                fiftyone.core.fields.IntField\n",
       "    ID:                       fiftyone.core.fields.StringField\n",
       "    CRAWL_SOURCE:             fiftyone.core.fields.StringField\n",
       "    PROPERTY_TYPE:            fiftyone.core.fields.StringField\n",
       "    NEW_BUILD:                fiftyone.core.fields.IntField\n",
       "    DESCRIPTION:              fiftyone.core.fields.StringField\n",
       "    SURFACE:                  fiftyone.core.fields.FloatField\n",
       "    LAND_SURFACE:             fiftyone.core.fields.FloatField\n",
       "    TERRACE_SURFACE:          fiftyone.core.fields.FloatField\n",
       "    ROOM_COUNT:               fiftyone.core.fields.FloatField\n",
       "    BEDROOM_COUNT:            fiftyone.core.fields.FloatField\n",
       "    FURNISHED:                fiftyone.core.fields.IntField\n",
       "    GARDEN:                   fiftyone.core.fields.IntField\n",
       "    SWIMMING_POOL:            fiftyone.core.fields.IntField\n",
       "    TERRACE:                  fiftyone.core.fields.IntField\n",
       "    PARKING:                  fiftyone.core.fields.IntField\n",
       "    PARKING_COUNT:            fiftyone.core.fields.FloatField\n",
       "    HEATING_MODE:             fiftyone.core.fields.StringField\n",
       "    FLOOR:                    fiftyone.core.fields.FloatField\n",
       "    FLOOR_COUNT:              fiftyone.core.fields.FloatField\n",
       "    CONSTRUCTION_YEAR:        fiftyone.core.fields.FloatField\n",
       "    ELEVATOR:                 fiftyone.core.fields.IntField\n",
       "    CARETAKER:                fiftyone.core.fields.IntField\n",
       "    MARKETING_TYPE:           fiftyone.core.fields.StringField\n",
       "    PRICE:                    fiftyone.core.fields.FloatField\n",
       "    PRICE_M2:                 fiftyone.core.fields.FloatField\n",
       "    PRICE_EVENTS:             fiftyone.core.fields.StringField\n",
       "    RENTAL_EXPENSES:          fiftyone.core.fields.FloatField\n",
       "    RENTAL_EXPENSES_INCLUDED: fiftyone.core.fields.IntField\n",
       "    DEPOSIT:                  fiftyone.core.fields.FloatField\n",
       "    FEES:                     fiftyone.core.fields.FloatField\n",
       "    FEES_INCLUDED:            fiftyone.core.fields.IntField\n",
       "    EXCLUSIVE_MANDATE:        fiftyone.core.fields.IntField\n",
       "    AGENCIES_UNWANTED:        fiftyone.core.fields.IntField\n",
       "    OCCUPIED:                 fiftyone.core.fields.IntField\n",
       "    DEALER_NAME:              fiftyone.core.fields.StringField\n",
       "    DEALER_TYPE:              fiftyone.core.fields.StringField\n",
       "    PUBLICATION_START_DATE:   fiftyone.core.fields.DateTimeField\n",
       "    LAST_CRAWL_DATE:          fiftyone.core.fields.DateTimeField\n",
       "    LAST_PRICE_DECREASE_DATE: fiftyone.core.fields.DateTimeField\n",
       "    ELECTRIC:                 fiftyone.core.fields.IntField\n",
       "    GAS:                      fiftyone.core.fields.IntField\n",
       "    UNDERFLOOR:               fiftyone.core.fields.IntField\n",
       "    FUEL:                     fiftyone.core.fields.IntField\n",
       "    NUMBER_URL_IMAGES:        fiftyone.core.fields.IntField\n",
       "    NUMBER_VALID_IMAGES:      fiftyone.core.fields.IntField"
      ]
     },
     "execution_count": 31,
     "metadata": {},
     "output_type": "execute_result"
    }
   ],
   "source": [
    "# Dataset info\n",
    "dataset"
   ]
  },
  {
   "cell_type": "code",
   "execution_count": 32,
   "metadata": {},
   "outputs": [
    {
     "data": {
      "text/html": [
       "\n",
       "        <iframe\n",
       "            width=\"100%\"\n",
       "            height=\"800\"\n",
       "            src=\"http://localhost:5151/?notebook=True&subscription=ac9c07e3-924e-470f-bc18-3515a615ae41\"\n",
       "            frameborder=\"0\"\n",
       "            allowfullscreen\n",
       "            \n",
       "        ></iframe>\n",
       "        "
      ],
      "text/plain": [
       "<IPython.lib.display.IFrame at 0x7f46226fa5e0>"
      ]
     },
     "metadata": {},
     "output_type": "display_data"
    }
   ],
   "source": [
    "session = fo.launch_app(dataset)"
   ]
  },
  {
   "cell_type": "code",
   "execution_count": 36,
   "metadata": {},
   "outputs": [
    {
     "data": {},
     "metadata": {},
     "output_type": "display_data"
    },
    {
     "data": {
      "text/plain": []
     },
     "metadata": {},
     "output_type": "display_data"
    },
    {
     "data": {
      "application/vnd.jupyter.widget-view+json": {
       "model_id": "0c5d7b15f2954e71b41a4e848dc4d0c5",
       "version_major": 2,
       "version_minor": 0
      },
      "text/plain": [
       "FigureWidget({\n",
       "    'data': [{'hovertemplate': ('<b>count: %{y}</b><br>value: [' ... 'omdata[1]:.2f}]<extra></extra>'),\n",
       "              'marker': {'color': '#FF6D04'},\n",
       "              'offset': 0,\n",
       "              'type': 'bar',\n",
       "              'uid': 'b897fe05-268c-498c-bbd6-57f92ac28302',\n",
       "              'xaxis': 'x',\n",
       "              'yaxis': 'y'},\n",
       "             {'hovertemplate': '<b>PROPERTY_TYPE: %{x}</b><br>count: %{y}<extra></extra>',\n",
       "              'marker': {'color': '#FF6D04'},\n",
       "              'type': 'bar',\n",
       "              'uid': '46f83cb9-f4e0-4d8a-bef1-30f606cdf7e7',\n",
       "              'xaxis': 'x2',\n",
       "              'yaxis': 'y2'},\n",
       "             {'hovertemplate': '<b>DEALER_TYPE: %{x}</b><br>count: %{y}<extra></extra>',\n",
       "              'marker': {'color': '#FF6D04'},\n",
       "              'type': 'bar',\n",
       "              'uid': '73221f8d-888b-433d-9a97-4aac4dbed92b',\n",
       "              'xaxis': 'x3',\n",
       "              'yaxis': 'y3'},\n",
       "             {'hovertemplate': '<b>HEATING_MODE: %{x}</b><br>count: %{y}<extra></extra>',\n",
       "              'marker': {'color': '#FF6D04'},\n",
       "              'type': 'bar',\n",
       "              'uid': '639a29d1-4d07-4255-8005-5142e1c726af',\n",
       "              'xaxis': 'x4',\n",
       "              'yaxis': 'y4'},\n",
       "             {'hovertemplate': ('<b>count: %{y}</b><br>PRICE: [' ... 'omdata[1]:.2f}]<extra></extra>'),\n",
       "              'marker': {'color': '#FF6D04'},\n",
       "              'offset': 0,\n",
       "              'type': 'bar',\n",
       "              'uid': 'd0b90fe6-eeac-4726-8db6-1966e744a146',\n",
       "              'xaxis': 'x5',\n",
       "              'yaxis': 'y5'},\n",
       "             {'hovertemplate': '<b>CRAWL_SOURCE: %{x}</b><br>count: %{y}<extra></extra>',\n",
       "              'marker': {'color': '#FF6D04'},\n",
       "              'type': 'bar',\n",
       "              'uid': 'b5b4768c-52cb-4016-bd7b-b689f6532282',\n",
       "              'xaxis': 'x6',\n",
       "              'yaxis': 'y6'}],\n",
       "    'layout': {'height': 800,\n",
       "               'margin': {'b': 0, 'l': 0, 'r': 0, 't': 30},\n",
       "               'showlegend': False,\n",
       "               'template': '...',\n",
       "               'xaxis': {'anchor': 'y', 'domain': [0.0, 0.2888888888888889], 'title': {'text': 'image size (KB)'}},\n",
       "               'xaxis2': {'anchor': 'y2',\n",
       "                          'domain': [0.35555555555555557, 0.6444444444444445],\n",
       "                          'title': {'text': 'PROPERTY_TYPE'}},\n",
       "               'xaxis3': {'anchor': 'y3', 'domain': [0.7111111111111111, 1.0], 'title': {'text': 'DEALER_TYPE'}},\n",
       "               'xaxis4': {'anchor': 'y4', 'domain': [0.0, 0.2888888888888889], 'title': {'text': 'HEATING_MODE'}},\n",
       "               'xaxis5': {'anchor': 'y5', 'domain': [0.35555555555555557, 0.6444444444444445], 'title': {'text': 'PRICE'}},\n",
       "               'xaxis6': {'anchor': 'y6', 'domain': [0.7111111111111111, 1.0], 'title': {'text': 'CRAWL_SOURCE'}},\n",
       "               'yaxis': {'anchor': 'x', 'domain': [0.575, 1.0], 'title': {'text': 'count'}},\n",
       "               'yaxis2': {'anchor': 'x2', 'domain': [0.575, 1.0], 'title': {'text': 'count'}},\n",
       "               'yaxis3': {'anchor': 'x3', 'domain': [0.575, 1.0], 'title': {'text': 'count'}},\n",
       "               'yaxis4': {'anchor': 'x4', 'domain': [0.0, 0.425], 'title': {'text': 'count'}},\n",
       "               'yaxis5': {'anchor': 'x5', 'domain': [0.0, 0.425], 'title': {'text': 'count'}},\n",
       "               'yaxis6': {'anchor': 'x6', 'domain': [0.0, 0.425], 'title': {'text': 'count'}}}\n",
       "})"
      ]
     },
     "metadata": {},
     "output_type": "display_data"
    },
    {
     "name": "stdout",
     "output_type": "stream",
     "text": [
      "\n",
      "Could not connect session, trying again in 10 seconds\n",
      "\n",
      "\n",
      "Could not connect session, trying again in 10 seconds\n",
      "\n",
      "\n",
      "Could not connect session, trying again in 10 seconds\n",
      "\n",
      "\n",
      "Could not connect session, trying again in 10 seconds\n",
      "\n",
      "\n",
      "Could not connect session, trying again in 10 seconds\n",
      "\n",
      "\n",
      "Could not connect session, trying again in 10 seconds\n",
      "\n",
      "\n",
      "Could not connect session, trying again in 10 seconds\n",
      "\n",
      "\n",
      "Could not connect session, trying again in 10 seconds\n",
      "\n",
      "\n",
      "Could not connect session, trying again in 10 seconds\n",
      "\n",
      "\n",
      "Could not connect session, trying again in 10 seconds\n",
      "\n",
      "\n",
      "Could not connect session, trying again in 10 seconds\n",
      "\n",
      "\n",
      "Could not connect session, trying again in 10 seconds\n",
      "\n",
      "\n",
      "Could not connect session, trying again in 10 seconds\n",
      "\n",
      "\n",
      "Could not connect session, trying again in 10 seconds\n",
      "\n",
      "\n",
      "Could not connect session, trying again in 10 seconds\n",
      "\n",
      "\n",
      "Could not connect session, trying again in 10 seconds\n",
      "\n",
      "\n",
      "Could not connect session, trying again in 10 seconds\n",
      "\n",
      "\n",
      "Could not connect session, trying again in 10 seconds\n",
      "\n",
      "\n",
      "Could not connect session, trying again in 10 seconds\n",
      "\n",
      "\n",
      "Could not connect session, trying again in 10 seconds\n",
      "\n",
      "\n",
      "Could not connect session, trying again in 10 seconds\n",
      "\n",
      "\n",
      "Could not connect session, trying again in 10 seconds\n",
      "\n",
      "\n",
      "Could not connect session, trying again in 10 seconds\n",
      "\n",
      "\n",
      "Could not connect session, trying again in 10 seconds\n",
      "\n",
      "\n",
      "Could not connect session, trying again in 10 seconds\n",
      "\n",
      "\n",
      "Could not connect session, trying again in 10 seconds\n",
      "\n",
      "\n",
      "Could not connect session, trying again in 10 seconds\n",
      "\n",
      "\n",
      "Could not connect session, trying again in 10 seconds\n",
      "\n",
      "\n",
      "Could not connect session, trying again in 10 seconds\n",
      "\n",
      "\n",
      "Could not connect session, trying again in 10 seconds\n",
      "\n",
      "\n",
      "Could not connect session, trying again in 10 seconds\n",
      "\n",
      "\n",
      "Could not connect session, trying again in 10 seconds\n",
      "\n",
      "\n",
      "Could not connect session, trying again in 10 seconds\n",
      "\n",
      "\n",
      "Could not connect session, trying again in 10 seconds\n",
      "\n",
      "\n",
      "Could not connect session, trying again in 10 seconds\n",
      "\n",
      "\n",
      "Could not connect session, trying again in 10 seconds\n",
      "\n",
      "\n",
      "Could not connect session, trying again in 10 seconds\n",
      "\n",
      "\n",
      "Could not connect session, trying again in 10 seconds\n",
      "\n"
     ]
    }
   ],
   "source": [
    "# Defining some interesting plots\n",
    "plot1 = NumericalHistogram(F(\"metadata.size_bytes\"), bins=50, xlabel=\"image size (KB)\")\n",
    "plot2 = fo.CategoricalHistogram(\"PROPERTY_TYPE\", order=\"frequency\")\n",
    "plot3 = fo.CategoricalHistogram(\"DEALER_TYPE\", order=\"frequency\")\n",
    "plot4 = fo.CategoricalHistogram(\"HEATING_MODE\", order=\"frequency\")\n",
    "plot5 = fo.NumericalHistogram(\"PRICE\")\n",
    "plot6 = fo.CategoricalHistogram(\"CRAWL_SOURCE\")\n",
    "\n",
    "plots = [plot1, plot2, plot3, plot4, plot5, plot6]\n",
    "plot = fo.ViewGrid(plots)\n",
    "# plot.update_view(dataset.view()) # Updating the view for entire dataset\n",
    "plot.show(height=800)\n",
    "session.plots.attach(plot)\n",
    "# plot.save(\"./plots.jpg\", scale=2.0)\n",
    "\n"
   ]
  },
  {
   "attachments": {},
   "cell_type": "markdown",
   "metadata": {},
   "source": [
    "### ii. computing uniqueness"
   ]
  },
  {
   "cell_type": "code",
   "execution_count": 37,
   "metadata": {},
   "outputs": [
    {
     "name": "stdout",
     "output_type": "stream",
     "text": [
      "Computing embeddings...\n",
      "   3% |/--------------|  224/8682 [2.1s elapsed, 1.3m remaining, 159.7 samples/s]   "
     ]
    },
    {
     "name": "stderr",
     "output_type": "stream",
     "text": [
      "/home/odeck/miniconda3/envs/duplicate/lib/python3.8/site-packages/fiftyone/utils/torch.py:691: RuntimeWarning:\n",
      "\n",
      "overflow encountered in exp\n",
      "\n",
      "/home/odeck/miniconda3/envs/duplicate/lib/python3.8/site-packages/fiftyone/utils/torch.py:692: RuntimeWarning:\n",
      "\n",
      "invalid value encountered in divide\n",
      "\n"
     ]
    },
    {
     "name": "stdout",
     "output_type": "stream",
     "text": [
      " 100% |███████████████| 8682/8682 [36.4s elapsed, 0s remaining, 157.2 samples/s]      \n",
      "Computing uniqueness...\n",
      "Uniqueness computation complete\n"
     ]
    }
   ],
   "source": [
    "fob.compute_uniqueness(dataset)\n"
   ]
  },
  {
   "cell_type": "code",
   "execution_count": 35,
   "metadata": {},
   "outputs": [
    {
     "data": {
      "text/html": [
       "\n",
       "        <iframe\n",
       "            width=\"100%\"\n",
       "            height=\"800\"\n",
       "            src=\"http://localhost:5151/?notebook=True&subscription=ab9ce4dc-8648-4b93-88f4-58c439b0613c\"\n",
       "            frameborder=\"0\"\n",
       "            allowfullscreen\n",
       "            \n",
       "        ></iframe>\n",
       "        "
      ],
      "text/plain": [
       "<IPython.lib.display.IFrame at 0x7f44fe1d5850>"
      ]
     },
     "metadata": {},
     "output_type": "display_data"
    }
   ],
   "source": [
    "session.view = dataset.sort_by(\"uniqueness\").limit(500)"
   ]
  },
  {
   "cell_type": "code",
   "execution_count": 49,
   "metadata": {},
   "outputs": [
    {
     "name": "stdout",
     "output_type": "stream",
     "text": [
      "(1000, 120000)\n"
     ]
    },
    {
     "name": "stderr",
     "output_type": "stream",
     "text": [
      " 60%|█████▉    | 598/1000 [00:07<00:04, 81.09it/s]"
     ]
    },
    {
     "name": "stdout",
     "output_type": "stream",
     "text": [
      "\n",
      "Could not connect session, trying again in 10 seconds\n",
      "\n"
     ]
    },
    {
     "name": "stderr",
     "output_type": "stream",
     "text": [
      "100%|██████████| 1000/1000 [00:12<00:00, 77.66it/s]\n"
     ]
    },
    {
     "data": {
      "text/html": [
       "<pre style=\"white-space:pre;overflow-x:auto;line-height:normal;font-family:Menlo,'DejaVu Sans Mono',consolas,'Courier New',monospace\"><span style=\"font-weight: bold\">(</span><span style=\"color: #008080; text-decoration-color: #008080; font-weight: bold\">1000</span>, <span style=\"color: #008080; text-decoration-color: #008080; font-weight: bold\">120000</span><span style=\"font-weight: bold\">)</span>\n",
       "</pre>\n"
      ],
      "text/plain": [
       "\u001b[1m(\u001b[0m\u001b[1;36m1000\u001b[0m, \u001b[1;36m120000\u001b[0m\u001b[1m)\u001b[0m\n"
      ]
     },
     "metadata": {},
     "output_type": "display_data"
    },
    {
     "name": "stdout",
     "output_type": "stream",
     "text": [
      "Generating visualization...\n"
     ]
    },
    {
     "name": "stderr",
     "output_type": "stream",
     "text": [
      "/home/odeck/miniconda3/envs/duplicate/lib/python3.8/site-packages/umap/distances.py:1063: NumbaDeprecationWarning:\n",
      "\n",
      "The 'nopython' keyword argument was not supplied to the 'numba.jit' decorator. The implicit default value for this argument is currently False, but it will be changed to True in Numba 0.59.0. See https://numba.readthedocs.io/en/stable/reference/deprecation.html#deprecation-of-object-mode-fall-back-behaviour-when-using-jit for details.\n",
      "\n",
      "/home/odeck/miniconda3/envs/duplicate/lib/python3.8/site-packages/umap/distances.py:1071: NumbaDeprecationWarning:\n",
      "\n",
      "The 'nopython' keyword argument was not supplied to the 'numba.jit' decorator. The implicit default value for this argument is currently False, but it will be changed to True in Numba 0.59.0. See https://numba.readthedocs.io/en/stable/reference/deprecation.html#deprecation-of-object-mode-fall-back-behaviour-when-using-jit for details.\n",
      "\n",
      "/home/odeck/miniconda3/envs/duplicate/lib/python3.8/site-packages/umap/distances.py:1086: NumbaDeprecationWarning:\n",
      "\n",
      "The 'nopython' keyword argument was not supplied to the 'numba.jit' decorator. The implicit default value for this argument is currently False, but it will be changed to True in Numba 0.59.0. See https://numba.readthedocs.io/en/stable/reference/deprecation.html#deprecation-of-object-mode-fall-back-behaviour-when-using-jit for details.\n",
      "\n",
      "/home/odeck/miniconda3/envs/duplicate/lib/python3.8/site-packages/umap/umap_.py:660: NumbaDeprecationWarning:\n",
      "\n",
      "The 'nopython' keyword argument was not supplied to the 'numba.jit' decorator. The implicit default value for this argument is currently False, but it will be changed to True in Numba 0.59.0. See https://numba.readthedocs.io/en/stable/reference/deprecation.html#deprecation-of-object-mode-fall-back-behaviour-when-using-jit for details.\n",
      "\n"
     ]
    },
    {
     "name": "stdout",
     "output_type": "stream",
     "text": [
      "UMAP(random_state=51, verbose=True)\n",
      "Mon Jun 12 00:45:24 2023 Construct fuzzy simplicial set\n",
      "\n",
      "Could not connect session, trying again in 10 seconds\n",
      "\n",
      "Mon Jun 12 00:45:42 2023 Finding Nearest Neighbors\n",
      "Mon Jun 12 00:45:44 2023 Finished Nearest Neighbor Search\n",
      "Mon Jun 12 00:45:46 2023 Construct embedding\n"
     ]
    },
    {
     "data": {
      "application/vnd.jupyter.widget-view+json": {
       "model_id": "f22aed3097f84fc4b21c7fe39b30aa2e",
       "version_major": 2,
       "version_minor": 0
      },
      "text/plain": [
       "Epochs completed:   0%|            0/500 [00:00]"
      ]
     },
     "metadata": {},
     "output_type": "display_data"
    },
    {
     "name": "stdout",
     "output_type": "stream",
     "text": [
      "Mon Jun 12 00:45:48 2023 Finished embedding\n"
     ]
    }
   ],
   "source": [
    "\n",
    "# loading the images\n",
    "subset = 1000\n",
    "size = (200, 200)\n",
    "embeddings = np.zeros(shape=(subset, size[0]*size[1]*3))\n",
    "i=0\n",
    "print(embeddings.shape)\n",
    "for f in tqdm(dataset.values(\"filepath\")[:subset]) : \n",
    "    emb =  Image.open(f).resize(size) # resizing the images\n",
    "    emb = np.array(emb) \n",
    "    emb = emb.flatten()\n",
    "    try : \n",
    "        embeddings[i]=emb\n",
    "    except Exception as e:\n",
    "        embeddings[i][:emb.size]=emb # padding with zeroes for smaller images\n",
    "    i+=1\n",
    "console.print(embeddings.shape)\n",
    "\n",
    "# Compute 2D representation\n",
    "results = fob.compute_visualization(\n",
    "    dataset[:subset],\n",
    "    embeddings=embeddings,\n",
    "    num_dims=2,\n",
    "    method=\"umap\", # Uniform Manifold Approximation and Projection for Dimension Reduction\n",
    "    brain_key=\"umap_embeds\",\n",
    "    verbose=True,\n",
    "    seed=51,\n",
    ")\n",
    "\n"
   ]
  },
  {
   "cell_type": "code",
   "execution_count": 50,
   "metadata": {},
   "outputs": [
    {
     "name": "stdout",
     "output_type": "stream",
     "text": [
      "Generating visualization...\n"
     ]
    },
    {
     "name": "stdout",
     "output_type": "stream",
     "text": [
      "UMAP(random_state=51, verbose=True)\n",
      "Mon Jun 12 00:45:49 2023 Construct fuzzy simplicial set\n",
      "Mon Jun 12 00:46:07 2023 Finding Nearest Neighbors\n",
      "Mon Jun 12 00:46:07 2023 Finished Nearest Neighbor Search\n",
      "Mon Jun 12 00:46:07 2023 Construct embedding\n"
     ]
    },
    {
     "data": {
      "application/vnd.jupyter.widget-view+json": {
       "model_id": "5625a0e668b841b7a5a573b769bf8a33",
       "version_major": 2,
       "version_minor": 0
      },
      "text/plain": [
       "Epochs completed:   0%|            0/500 [00:00]"
      ]
     },
     "metadata": {},
     "output_type": "display_data"
    },
    {
     "name": "stdout",
     "output_type": "stream",
     "text": [
      "Mon Jun 12 00:46:09 2023 Finished embedding\n"
     ]
    },
    {
     "data": {},
     "metadata": {},
     "output_type": "display_data"
    },
    {
     "data": {
      "text/plain": []
     },
     "metadata": {},
     "output_type": "display_data"
    },
    {
     "data": {
      "application/vnd.jupyter.widget-view+json": {
       "model_id": "9e88236ed15743438253d2b50ee55f6d",
       "version_major": 2,
       "version_minor": 0
      },
      "text/plain": [
       "FigureWidget({\n",
       "    'data': [{'customdata': array(['64864ce080b48e437332e89e', '64864ce080b48e437332e89f',\n",
       "                                   '64864ce080b48e437332e8a0', ..., '64864ce180b48e437332ec83',\n",
       "                                   '64864ce180b48e437332ec84', '64864ce180b48e437332ec85'], dtype=object),\n",
       "              'hovertemplate': ('<b>PROPERTY_TYPE: %{text}</b><' ... ': %{customdata}<extra></extra>'),\n",
       "              'line': {'color': '#3366CC'},\n",
       "              'mode': 'markers',\n",
       "              'name': 'APARTMENT',\n",
       "              'selectedpoints': [41, 53, 55, 60, 81, 212, 242, 323, 427, 490, 529,\n",
       "                                 530, 532, 533, 534, 551, 559, 560, 562, 563, 564],\n",
       "              'showlegend': True,\n",
       "              'text': array(['APARTMENT', 'APARTMENT', 'APARTMENT', ..., 'APARTMENT', 'APARTMENT',\n",
       "                             'APARTMENT'], dtype='<U9'),\n",
       "              'type': 'scattergl',\n",
       "              'uid': '33df83ef-17bf-4cca-88d7-b83f4abf1bc9',\n",
       "              'x': array([5.4895744, 5.0975866, 4.8066006, ..., 6.295016 , 3.1212964, 4.9003572],\n",
       "                         dtype=float32),\n",
       "              'y': array([-2.4783287, -2.1146812, -2.0221279, ..., -1.9397473, -0.5079988,\n",
       "                          -1.0664138], dtype=float32)},\n",
       "             {'customdata': array(['64864ce080b48e437332eb93'], dtype=object),\n",
       "              'hovertemplate': ('<b>PROPERTY_TYPE: %{text}</b><' ... ': %{customdata}<extra></extra>'),\n",
       "              'line': {'color': '#DC3912'},\n",
       "              'mode': 'markers',\n",
       "              'name': 'BUILDING',\n",
       "              'selectedpoints': [],\n",
       "              'showlegend': True,\n",
       "              'text': array(['BUILDING'], dtype='<U8'),\n",
       "              'type': 'scattergl',\n",
       "              'uid': '00a62512-7950-4e7c-97ab-f829e0745c57',\n",
       "              'x': array([6.314334], dtype=float32),\n",
       "              'y': array([0.01490935], dtype=float32)},\n",
       "             {'customdata': array(['64864ce080b48e437332e8b4', '64864ce080b48e437332e8b5',\n",
       "                                   '64864ce080b48e437332e8b6', '64864ce080b48e437332e8b7',\n",
       "                                   '64864ce080b48e437332e8b8', '64864ce080b48e437332e8b9',\n",
       "                                   '64864ce080b48e437332e8ba', '64864ce080b48e437332e8bb',\n",
       "                                   '64864ce080b48e437332e8bc', '64864ce080b48e437332e8bd',\n",
       "                                   '64864ce080b48e437332e8be', '64864ce080b48e437332e8bf',\n",
       "                                   '64864ce080b48e437332e8c0', '64864ce080b48e437332e8c1',\n",
       "                                   '64864ce080b48e437332e8c2', '64864ce080b48e437332e8c3',\n",
       "                                   '64864ce080b48e437332e8c4', '64864ce080b48e437332e8c5',\n",
       "                                   '64864ce080b48e437332e8c6', '64864ce080b48e437332e8c7',\n",
       "                                   '64864ce080b48e437332e8c8', '64864ce080b48e437332e8c9',\n",
       "                                   '64864ce080b48e437332e8ca', '64864ce080b48e437332e8cb',\n",
       "                                   '64864ce080b48e437332e8cc', '64864ce080b48e437332e8cd',\n",
       "                                   '64864ce080b48e437332e974', '64864ce080b48e437332ec49',\n",
       "                                   '64864ce080b48e437332ec4a', '64864ce080b48e437332ec4b',\n",
       "                                   '64864ce080b48e437332ec4c', '64864ce080b48e437332ec4d',\n",
       "                                   '64864ce080b48e437332ec4e', '64864ce080b48e437332ec4f',\n",
       "                                   '64864ce080b48e437332ec50', '64864ce080b48e437332ec51',\n",
       "                                   '64864ce080b48e437332ec52', '64864ce080b48e437332ec53',\n",
       "                                   '64864ce080b48e437332ec54', '64864ce080b48e437332ec55',\n",
       "                                   '64864ce080b48e437332ec56', '64864ce080b48e437332ec57'], dtype=object),\n",
       "              'hovertemplate': ('<b>PROPERTY_TYPE: %{text}</b><' ... ': %{customdata}<extra></extra>'),\n",
       "              'line': {'color': '#FF9900'},\n",
       "              'mode': 'markers',\n",
       "              'name': 'HOUSE',\n",
       "              'selectedpoints': [],\n",
       "              'showlegend': True,\n",
       "              'text': array(['HOUSE', 'HOUSE', 'HOUSE', 'HOUSE', 'HOUSE', 'HOUSE', 'HOUSE', 'HOUSE',\n",
       "                             'HOUSE', 'HOUSE', 'HOUSE', 'HOUSE', 'HOUSE', 'HOUSE', 'HOUSE', 'HOUSE',\n",
       "                             'HOUSE', 'HOUSE', 'HOUSE', 'HOUSE', 'HOUSE', 'HOUSE', 'HOUSE', 'HOUSE',\n",
       "                             'HOUSE', 'HOUSE', 'HOUSE', 'HOUSE', 'HOUSE', 'HOUSE', 'HOUSE', 'HOUSE',\n",
       "                             'HOUSE', 'HOUSE', 'HOUSE', 'HOUSE', 'HOUSE', 'HOUSE', 'HOUSE', 'HOUSE',\n",
       "                             'HOUSE', 'HOUSE'], dtype='<U5'),\n",
       "              'type': 'scattergl',\n",
       "              'uid': '8847992f-441d-47e9-8eea-176e45ed21f6',\n",
       "              'x': array([7.3337007, 3.8517046, 7.793639 , 4.1346846, 4.5256224, 6.5714936,\n",
       "                          5.494264 , 7.0186114, 6.9849043, 6.8535347, 6.7062664, 6.6071353,\n",
       "                          7.2499895, 6.7289214, 4.4313145, 5.8450904, 5.2973685, 5.5116863,\n",
       "                          6.2857466, 6.573736 , 5.931822 , 1.478031 , 8.354059 , 6.7980886,\n",
       "                          5.2759523, 7.229998 , 2.621805 , 7.5539184, 5.300033 , 8.151658 ,\n",
       "                          6.841193 , 6.6258307, 6.83675  , 6.9961786, 7.6365943, 6.0900497,\n",
       "                          6.965496 , 7.9898725, 7.5688267, 6.9669943, 4.3750277, 6.3231406],\n",
       "                         dtype=float32),\n",
       "              'y': array([-0.9720991 , -0.5950982 , -0.8280288 ,  0.07998607, -2.6332207 ,\n",
       "                          -1.0078226 , -1.3176239 , -1.383749  , -2.2020135 , -0.3423554 ,\n",
       "                          -0.9280365 , -1.3194658 , -0.04272871, -2.5483167 , -1.2275811 ,\n",
       "                          -1.016797  , -0.3448648 , -2.2054725 , -0.5553789 , -0.7385861 ,\n",
       "                          -2.2988029 , -2.0023735 , -1.1857691 , -1.0692887 , -1.3482668 ,\n",
       "                          -1.6304772 , -0.45166677, -0.5166599 , -2.1003048 , -1.5263723 ,\n",
       "                          -2.0535994 , -1.7462683 , -2.2151537 , -2.0747468 , -2.0294578 ,\n",
       "                          -1.9151058 , -2.159694  , -0.1801309 , -1.3267549 , -0.51624054,\n",
       "                          -2.0884163 , -1.8912665 ], dtype=float32)},\n",
       "             {'customdata': array(['64864ce080b48e437332e8de', '64864ce080b48e437332e8fe',\n",
       "                                   '64864ce080b48e437332e913', '64864ce080b48e437332e930',\n",
       "                                   '64864ce080b48e437332e9cd', '64864ce080b48e437332e9ff',\n",
       "                                   '64864ce080b48e437332ea48', '64864ce080b48e437332ea49',\n",
       "                                   '64864ce080b48e437332ea6f', '64864ce080b48e437332ea9d',\n",
       "                                   '64864ce080b48e437332eaea', '64864ce080b48e437332eaeb',\n",
       "                                   '64864ce080b48e437332eaec', '64864ce080b48e437332eaed',\n",
       "                                   '64864ce080b48e437332eb08', '64864ce080b48e437332eb09',\n",
       "                                   '64864ce080b48e437332eb0a', '64864ce080b48e437332eb0b',\n",
       "                                   '64864ce080b48e437332eb0c', '64864ce080b48e437332eb24',\n",
       "                                   '64864ce080b48e437332eb25', '64864ce080b48e437332eb26',\n",
       "                                   '64864ce080b48e437332eb29', '64864ce080b48e437332eba1',\n",
       "                                   '64864ce080b48e437332eba2', '64864ce080b48e437332ebfc'], dtype=object),\n",
       "              'hovertemplate': ('<b>PROPERTY_TYPE: %{text}</b><' ... ': %{customdata}<extra></extra>'),\n",
       "              'line': {'color': '#109618'},\n",
       "              'mode': 'markers',\n",
       "              'name': 'PARKING',\n",
       "              'selectedpoints': [],\n",
       "              'showlegend': True,\n",
       "              'text': array(['PARKING', 'PARKING', 'PARKING', 'PARKING', 'PARKING', 'PARKING',\n",
       "                             'PARKING', 'PARKING', 'PARKING', 'PARKING', 'PARKING', 'PARKING',\n",
       "                             'PARKING', 'PARKING', 'PARKING', 'PARKING', 'PARKING', 'PARKING',\n",
       "                             'PARKING', 'PARKING', 'PARKING', 'PARKING', 'PARKING', 'PARKING',\n",
       "                             'PARKING', 'PARKING'], dtype='<U7'),\n",
       "              'type': 'scattergl',\n",
       "              'uid': 'a5723b4c-f439-4a3c-b4c8-ee3c54f76548',\n",
       "              'x': array([ 0.8015406 ,  1.1529862 ,  1.1981472 ,  1.5085148 ,  5.0168533 ,\n",
       "                           8.501583  , -4.6114354 , -4.5023193 ,  4.1651735 ,  3.718843  ,\n",
       "                           2.0052202 ,  0.6947229 ,  2.0996213 ,  0.74607456,  6.439292  ,\n",
       "                           9.5031    ,  2.2387993 ,  8.518892  ,  0.78166133,  1.533014  ,\n",
       "                           1.9543364 ,  1.7768204 ,  1.0167686 ,  5.9432735 ,  1.9766097 ,\n",
       "                           2.6808276 ], dtype=float32),\n",
       "              'y': array([-1.5199019 , -1.6149513 , -1.6721795 , -1.4866277 , -2.6263163 ,\n",
       "                          -1.2510184 , 15.670875  , 15.710023  , -1.972168  , -1.6480494 ,\n",
       "                          -1.0968268 ,  0.64043456, -1.1036869 ,  0.6002728 , -2.4618165 ,\n",
       "                          -0.8447532 ,  0.77154964, -1.2808188 , -1.042876  , -1.8657895 ,\n",
       "                          -2.0768151 ,  0.7306747 , -0.02510863, -0.93246555, -0.97613764,\n",
       "                          -0.6903965 ], dtype=float32)},\n",
       "             {'customdata': array(['64864ce080b48e437332e8ae', '64864ce080b48e437332e8af',\n",
       "                                   '64864ce080b48e437332e8b0', ..., '64864ce180b48e437332ec76',\n",
       "                                   '64864ce180b48e437332ec80', '64864ce180b48e437332ec81'], dtype=object),\n",
       "              'hovertemplate': ('<b>PROPERTY_TYPE: %{text}</b><' ... ': %{customdata}<extra></extra>'),\n",
       "              'line': {'color': '#990099'},\n",
       "              'mode': 'markers',\n",
       "              'name': 'PREMISES',\n",
       "              'selectedpoints': [0, 1, 2, 3, 4, 5, 30, 113, 114, 115, 116, 117,\n",
       "                                 118, 189, 191, 192],\n",
       "              'showlegend': True,\n",
       "              'text': array(['PREMISES', 'PREMISES', 'PREMISES', ..., 'PREMISES', 'PREMISES',\n",
       "                             'PREMISES'], dtype='<U8'),\n",
       "              'type': 'scattergl',\n",
       "              'uid': '6853ad26-74cc-4a2d-b299-83c7d4a5e485',\n",
       "              'x': array([3.3631868, 7.0187716, 5.740161 , ..., 3.5846512, 3.3149178, 5.3280683],\n",
       "                         dtype=float32),\n",
       "              'y': array([-1.1154346 , -0.06604363, -2.4563117 , ..., -0.13438997, -1.7749078 ,\n",
       "                          -3.0409682 ], dtype=float32)}],\n",
       "    'layout': {'height': 720,\n",
       "               'legend': {'itemsizing': 'constant', 'title': {'text': 'PROPERTY_TYPE'}},\n",
       "               'margin': {'b': 0, 'l': 0, 'r': 0, 't': 30},\n",
       "               'template': '...'}\n",
       "})"
      ]
     },
     "metadata": {},
     "output_type": "display_data"
    }
   ],
   "source": [
    "# Compute 2D embeddings\n",
    "results = fob.compute_visualization(dataset[:subset], embeddings=embeddings, seed=51)\n",
    "\n",
    "# Visualize embeddings\n",
    "plot = results.visualize(labels=\"PROPERTY_TYPE\")\n",
    "session.plots.attach(plot)\n",
    "plot.show(height=720)"
   ]
  },
  {
   "attachments": {},
   "cell_type": "markdown",
   "metadata": {},
   "source": [
    "### ii. computing uniqueness"
   ]
  },
  {
   "cell_type": "code",
   "execution_count": 38,
   "metadata": {},
   "outputs": [],
   "source": [
    "def get_id_by_hash(dataset, file_hash):\n",
    "    ids=[]\n",
    "    for sample in dataset :\n",
    "        if sample.file_hash==file_hash:\n",
    "            ids.append(sample.ID)\n",
    "    return ids"
   ]
  },
  {
   "cell_type": "code",
   "execution_count": 39,
   "metadata": {},
   "outputs": [
    {
     "name": "stdout",
     "output_type": "stream",
     "text": [
      "Number of duplicate file hashes: 791\n"
     ]
    }
   ],
   "source": [
    "\n",
    "filehash_counts = Counter(sample.file_hash for sample in dataset)\n",
    "dup_filehashes = [k for k, v in filehash_counts.items() if v > 1]"
   ]
  },
  {
   "cell_type": "code",
   "execution_count": 40,
   "metadata": {},
   "outputs": [
    {
     "name": "stderr",
     "output_type": "stream",
     "text": [
      "100%|██████████| 100/100 [00:49<00:00,  2.04it/s]\n"
     ]
    }
   ],
   "source": [
    "duplicates=[]\n",
    "for sample in tqdm(dataset[:100]):\n",
    "    file_hash = sample.file_hash\n",
    "    if file_hash in dup_filehashes:\n",
    "        ids = get_id_by_hash(dataset, file_hash)\n",
    "        duplicates.append(\n",
    "            {\n",
    "                \"ID\":sample.ID,\n",
    "                \"DUPLICATE_IDS\":ids,\n",
    "                \"N_DUPLICATES\":len(ids)\n",
    "            }\n",
    "        )\n"
   ]
  },
  {
   "cell_type": "code",
   "execution_count": 41,
   "metadata": {},
   "outputs": [
    {
     "data": {
      "text/plain": [
       "[{'ID': 'e9e07ed0-812f-11e8-82aa-61eacebe4584',\n",
       "  'DUPLICATE_IDS': ['e9e07ed0-812f-11e8-82aa-61eacebe4584',\n",
       "   'ac3439f0-812f-11e8-82aa-61eacebe4584',\n",
       "   'edaa3100-812f-11e8-82aa-61eacebe4584',\n",
       "   '60e69880-a489-11e8-96a3-b14e4af48faf',\n",
       "   '815f9ad0-c03b-11e8-96a3-b14e4af48faf',\n",
       "   'b7407da0-4f38-11e8-a767-273beef72554',\n",
       "   'e139c8a0-5207-11e9-9f4b-030cd1888664'],\n",
       "  'N_DUPLICATES': 7},\n",
       " {'ID': 'e9e07ed0-812f-11e8-82aa-61eacebe4584',\n",
       "  'DUPLICATE_IDS': ['e9e07ed0-812f-11e8-82aa-61eacebe4584',\n",
       "   'ac3439f0-812f-11e8-82aa-61eacebe4584',\n",
       "   'edaa3100-812f-11e8-82aa-61eacebe4584',\n",
       "   '60e69880-a489-11e8-96a3-b14e4af48faf',\n",
       "   '815f9ad0-c03b-11e8-96a3-b14e4af48faf',\n",
       "   'b7407da0-4f38-11e8-a767-273beef72554',\n",
       "   'e139c8a0-5207-11e9-9f4b-030cd1888664'],\n",
       "  'N_DUPLICATES': 7},\n",
       " {'ID': 'e9e07ed0-812f-11e8-82aa-61eacebe4584',\n",
       "  'DUPLICATE_IDS': ['e9e07ed0-812f-11e8-82aa-61eacebe4584',\n",
       "   'ac3439f0-812f-11e8-82aa-61eacebe4584',\n",
       "   'edaa3100-812f-11e8-82aa-61eacebe4584',\n",
       "   '60e69880-a489-11e8-96a3-b14e4af48faf',\n",
       "   '815f9ad0-c03b-11e8-96a3-b14e4af48faf'],\n",
       "  'N_DUPLICATES': 5},\n",
       " {'ID': 'e9e07ed0-812f-11e8-82aa-61eacebe4584',\n",
       "  'DUPLICATE_IDS': ['e9e07ed0-812f-11e8-82aa-61eacebe4584',\n",
       "   'ac3439f0-812f-11e8-82aa-61eacebe4584',\n",
       "   'edaa3100-812f-11e8-82aa-61eacebe4584',\n",
       "   '60e69880-a489-11e8-96a3-b14e4af48faf',\n",
       "   '815f9ad0-c03b-11e8-96a3-b14e4af48faf'],\n",
       "  'N_DUPLICATES': 5},\n",
       " {'ID': 'e9e07ed0-812f-11e8-82aa-61eacebe4584',\n",
       "  'DUPLICATE_IDS': ['e9e07ed0-812f-11e8-82aa-61eacebe4584',\n",
       "   'ac3439f0-812f-11e8-82aa-61eacebe4584',\n",
       "   'edaa3100-812f-11e8-82aa-61eacebe4584',\n",
       "   '60e69880-a489-11e8-96a3-b14e4af48faf',\n",
       "   '815f9ad0-c03b-11e8-96a3-b14e4af48faf',\n",
       "   'b7407da0-4f38-11e8-a767-273beef72554'],\n",
       "  'N_DUPLICATES': 6},\n",
       " {'ID': 'e9e07ed0-812f-11e8-82aa-61eacebe4584',\n",
       "  'DUPLICATE_IDS': ['e9e07ed0-812f-11e8-82aa-61eacebe4584',\n",
       "   'ac3439f0-812f-11e8-82aa-61eacebe4584',\n",
       "   'edaa3100-812f-11e8-82aa-61eacebe4584',\n",
       "   '60e69880-a489-11e8-96a3-b14e4af48faf',\n",
       "   '815f9ad0-c03b-11e8-96a3-b14e4af48faf',\n",
       "   'b7407da0-4f38-11e8-a767-273beef72554',\n",
       "   'e139c8a0-5207-11e9-9f4b-030cd1888664'],\n",
       "  'N_DUPLICATES': 7},\n",
       " {'ID': 'de04afa0-2e5f-11e8-bda5-3334b193df7f',\n",
       "  'DUPLICATE_IDS': ['de04afa0-2e5f-11e8-bda5-3334b193df7f',\n",
       "   '4ef62ab0-e084-11e7-9bac-8d3efe267076'],\n",
       "  'N_DUPLICATES': 2},\n",
       " {'ID': 'de04afa0-2e5f-11e8-bda5-3334b193df7f',\n",
       "  'DUPLICATE_IDS': ['de04afa0-2e5f-11e8-bda5-3334b193df7f',\n",
       "   '4ef62ab0-e084-11e7-9bac-8d3efe267076'],\n",
       "  'N_DUPLICATES': 2},\n",
       " {'ID': 'de04afa0-2e5f-11e8-bda5-3334b193df7f',\n",
       "  'DUPLICATE_IDS': ['de04afa0-2e5f-11e8-bda5-3334b193df7f',\n",
       "   '4ef62ab0-e084-11e7-9bac-8d3efe267076'],\n",
       "  'N_DUPLICATES': 2},\n",
       " {'ID': 'de04afa0-2e5f-11e8-bda5-3334b193df7f',\n",
       "  'DUPLICATE_IDS': ['de04afa0-2e5f-11e8-bda5-3334b193df7f',\n",
       "   '4ef62ab0-e084-11e7-9bac-8d3efe267076'],\n",
       "  'N_DUPLICATES': 2},\n",
       " {'ID': 'de04afa0-2e5f-11e8-bda5-3334b193df7f',\n",
       "  'DUPLICATE_IDS': ['de04afa0-2e5f-11e8-bda5-3334b193df7f',\n",
       "   '4ef62ab0-e084-11e7-9bac-8d3efe267076'],\n",
       "  'N_DUPLICATES': 2},\n",
       " {'ID': 'de04afa0-2e5f-11e8-bda5-3334b193df7f',\n",
       "  'DUPLICATE_IDS': ['de04afa0-2e5f-11e8-bda5-3334b193df7f',\n",
       "   '4ef62ab0-e084-11e7-9bac-8d3efe267076'],\n",
       "  'N_DUPLICATES': 2},\n",
       " {'ID': 'de04afa0-2e5f-11e8-bda5-3334b193df7f',\n",
       "  'DUPLICATE_IDS': ['de04afa0-2e5f-11e8-bda5-3334b193df7f',\n",
       "   '4ef62ab0-e084-11e7-9bac-8d3efe267076'],\n",
       "  'N_DUPLICATES': 2},\n",
       " {'ID': 'de04afa0-2e5f-11e8-bda5-3334b193df7f',\n",
       "  'DUPLICATE_IDS': ['de04afa0-2e5f-11e8-bda5-3334b193df7f',\n",
       "   '4ef62ab0-e084-11e7-9bac-8d3efe267076'],\n",
       "  'N_DUPLICATES': 2},\n",
       " {'ID': 'de04afa0-2e5f-11e8-bda5-3334b193df7f',\n",
       "  'DUPLICATE_IDS': ['de04afa0-2e5f-11e8-bda5-3334b193df7f',\n",
       "   '4ef62ab0-e084-11e7-9bac-8d3efe267076'],\n",
       "  'N_DUPLICATES': 2},\n",
       " {'ID': 'de04afa0-2e5f-11e8-bda5-3334b193df7f',\n",
       "  'DUPLICATE_IDS': ['de04afa0-2e5f-11e8-bda5-3334b193df7f',\n",
       "   '4ef62ab0-e084-11e7-9bac-8d3efe267076'],\n",
       "  'N_DUPLICATES': 2},\n",
       " {'ID': 'de04afa0-2e5f-11e8-bda5-3334b193df7f',\n",
       "  'DUPLICATE_IDS': ['de04afa0-2e5f-11e8-bda5-3334b193df7f',\n",
       "   '4ef62ab0-e084-11e7-9bac-8d3efe267076'],\n",
       "  'N_DUPLICATES': 2},\n",
       " {'ID': '8529c9b0-b4ec-11e8-96a3-b14e4af48faf',\n",
       "  'DUPLICATE_IDS': ['8529c9b0-b4ec-11e8-96a3-b14e4af48faf',\n",
       "   'e1b7a680-b22a-11e8-96a3-b14e4af48faf'],\n",
       "  'N_DUPLICATES': 2},\n",
       " {'ID': 'abdf5bc0-7d6d-11e9-82ca-0dbaebd10a32',\n",
       "  'DUPLICATE_IDS': ['abdf5bc0-7d6d-11e9-82ca-0dbaebd10a32',\n",
       "   '015bb4a0-9bf9-11e9-af77-a17d8c291169',\n",
       "   'f9bb7780-8c6c-11e9-a7f2-f5443208fc78',\n",
       "   'db084380-973a-11e9-ae15-9941b8f5de63',\n",
       "   '6fc4cb10-8c6e-11e9-a7f2-f5443208fc78',\n",
       "   '20cd9a20-a7e7-11e9-aa5e-8b8909b4f047',\n",
       "   'b87a2360-c282-11e9-81e9-5f24299f2ef3',\n",
       "   '89fdee30-b78e-11e9-81e9-5f24299f2ef3',\n",
       "   '843dbb10-c5a3-11e9-a6b2-651beb16710e',\n",
       "   '80866ad0-a4a6-11e9-aa5e-8b8909b4f047',\n",
       "   '06409230-9f17-11e9-ab3e-47ec2b68d334'],\n",
       "  'N_DUPLICATES': 11},\n",
       " {'ID': '95f7f860-f38b-11e8-9c01-a577da129fbb',\n",
       "  'DUPLICATE_IDS': ['95f7f860-f38b-11e8-9c01-a577da129fbb',\n",
       "   '84e0bd10-f295-11e8-a3af-63513dd74e5b'],\n",
       "  'N_DUPLICATES': 2}]"
      ]
     },
     "execution_count": 41,
     "metadata": {},
     "output_type": "execute_result"
    }
   ],
   "source": [
    "duplicates"
   ]
  },
  {
   "cell_type": "code",
   "execution_count": 43,
   "metadata": {},
   "outputs": [
    {
     "name": "stdout",
     "output_type": "stream",
     "text": [
      "Number of images that have a duplicate: 2055\n",
      "Number of duplicates:  1264\n"
     ]
    },
    {
     "data": {
      "text/html": [
       "\n",
       "        <iframe\n",
       "            width=\"100%\"\n",
       "            height=\"800\"\n",
       "            src=\"http://localhost:5151/?notebook=True&subscription=ff52e43c-af84-4210-8df7-60996ffcdc10\"\n",
       "            frameborder=\"0\"\n",
       "            allowfullscreen\n",
       "            \n",
       "        ></iframe>\n",
       "        "
      ],
      "text/plain": [
       "<IPython.lib.display.IFrame at 0x7f44fe21baf0>"
      ]
     },
     "metadata": {},
     "output_type": "display_data"
    },
    {
     "data": {
      "text/html": [
       "\n",
       "        <iframe\n",
       "            width=\"100%\"\n",
       "            height=\"800\"\n",
       "            src=\"http://localhost:5151/?notebook=True&subscription=64135343-7175-46d1-bb54-f6c8edf37376\"\n",
       "            frameborder=\"0\"\n",
       "            allowfullscreen\n",
       "            \n",
       "        ></iframe>\n",
       "        "
      ],
      "text/plain": [
       "<IPython.lib.display.IFrame at 0x7f44fe1f8430>"
      ]
     },
     "metadata": {},
     "output_type": "display_data"
    },
    {
     "name": "stdout",
     "output_type": "stream",
     "text": [
      "\n",
      "Could not connect session, trying again in 10 seconds\n",
      "\n",
      "Notebook sessions cannot wait\n"
     ]
    }
   ],
   "source": [
    "\n",
    "dup_view = (dataset\n",
    "    # Extract samples with duplicate file hashes\n",
    "    .match(F(\"file_hash\").is_in(dup_filehashes))\n",
    "    # Sort by file hash so duplicates will be adjacent\n",
    "    .sort_by(\"file_hash\")\n",
    ")\n",
    "\n",
    "\n",
    "session = fo.launch_app()\n",
    "session.view = dup_view\n",
    "\n",
    "session.wait()"
   ]
  },
  {
   "cell_type": "code",
   "execution_count": 58,
   "metadata": {},
   "outputs": [
    {
     "name": "stdout",
     "output_type": "stream",
     "text": [
      "\n",
      "Could not connect session, trying again in 10 seconds\n",
      "\n"
     ]
    },
    {
     "data": {
      "text/html": [
       "<pre style=\"white-space:pre;overflow-x:auto;line-height:normal;font-family:Menlo,'DejaVu Sans Mono',consolas,'Courier New',monospace\">Number of duplicate file hashes:  <span style=\"color: #008080; text-decoration-color: #008080; font-weight: bold\">791</span>\n",
       "</pre>\n"
      ],
      "text/plain": [
       "Number of duplicate file hashes:  \u001b[1;36m791\u001b[0m\n"
      ]
     },
     "metadata": {},
     "output_type": "display_data"
    },
    {
     "data": {
      "text/html": [
       "<pre style=\"white-space:pre;overflow-x:auto;line-height:normal;font-family:Menlo,'DejaVu Sans Mono',consolas,'Courier New',monospace\">Number of images that have a duplicate: <span style=\"color: #008080; text-decoration-color: #008080; font-weight: bold\">2055</span>\n",
       "</pre>\n"
      ],
      "text/plain": [
       "Number of images that have a duplicate: \u001b[1;36m2055\u001b[0m\n"
      ]
     },
     "metadata": {},
     "output_type": "display_data"
    },
    {
     "data": {
      "text/html": [
       "<pre style=\"white-space:pre;overflow-x:auto;line-height:normal;font-family:Menlo,'DejaVu Sans Mono',consolas,'Courier New',monospace\">Number of duplicates:  <span style=\"color: #008080; text-decoration-color: #008080; font-weight: bold\">1264</span>\n",
       "</pre>\n"
      ],
      "text/plain": [
       "Number of duplicates:  \u001b[1;36m1264\u001b[0m\n"
      ]
     },
     "metadata": {},
     "output_type": "display_data"
    },
    {
     "data": {
      "text/html": [
       "<pre style=\"white-space:pre;overflow-x:auto;line-height:normal;font-family:Menlo,'DejaVu Sans Mono',consolas,'Courier New',monospace\">Number of duplicate offers:  <span style=\"color: #008080; text-decoration-color: #008080; font-weight: bold\">466</span>\n",
       "</pre>\n"
      ],
      "text/plain": [
       "Number of duplicate offers:  \u001b[1;36m466\u001b[0m\n"
      ]
     },
     "metadata": {},
     "output_type": "display_data"
    }
   ],
   "source": [
    "dup_ids=[]\n",
    "for sample in dup_view:\n",
    "    dup_ids.append(sample.ID)\n",
    "\n",
    "console.print(\"Number of duplicate file hashes: \", len(dup_filehashes))\n",
    "console.print(\"Number of images that have a duplicate:\", len(dup_view))\n",
    "console.print(\"Number of duplicates: \", (len(dup_view) - len(dup_filehashes)))\n",
    "\n",
    "console.print(\"Number of duplicate offers: \", len(set(dup_ids)))\n"
   ]
  },
  {
   "attachments": {},
   "cell_type": "markdown",
   "metadata": {},
   "source": [
    "There are still a lot of improvements, and more ways to tackle the problem. mainly by implementing textual embedding From the DESCRIPTION column we can then implement the same approach we've showcased. We can also extract more meaningful information from the images by applying an image-to-text model, this might be helpful for edge cases where the images are logos / floor plans, and a small distance doesn't translate to duplication. "
   ]
  }
 ],
 "metadata": {
  "kernelspec": {
   "display_name": "Python 3 (ipykernel)",
   "language": "python",
   "name": "python3"
  },
  "language_info": {
   "codemirror_mode": {
    "name": "ipython",
    "version": 3
   },
   "file_extension": ".py",
   "mimetype": "text/x-python",
   "name": "python",
   "nbconvert_exporter": "python",
   "pygments_lexer": "ipython3",
   "version": "3.8.16"
  }
 },
 "nbformat": 4,
 "nbformat_minor": 2
}
